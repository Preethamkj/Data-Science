{
 "cells": [
  {
   "cell_type": "code",
   "execution_count": 58,
   "id": "182dc705",
   "metadata": {},
   "outputs": [
    {
     "name": "stdout",
     "output_type": "stream",
     "text": [
      "1\n"
     ]
    }
   ],
   "source": [
    "# INVERT DICTIONARY CONDITION\n",
    "\n",
    "inv_map = {}\n",
    "for k, v in my_map.items():\n",
    "    inv_map[v] = inv_map.get(v, []) + [k]"
   ]
  },
  {
   "cell_type": "code",
   "execution_count": 65,
   "id": "79e79a3f",
   "metadata": {},
   "outputs": [
    {
     "name": "stdout",
     "output_type": "stream",
     "text": [
      "2\n"
     ]
    }
   ],
   "source": [
    "# CONDITION FOR COUNTING SUBSTRING IN A STRING\n",
    "\n",
    "string = 'ABCDCDC'\n",
    "sub_string = 'CDC'\n",
    "count = 0\n",
    "for i in range(len(string)):\n",
    "    for j in range(len(sub_string)):\n",
    "        if string[i+j]==sub_string[j] and j==(len(sub_string)-1):\n",
    "            count=count+1  \n",
    "        if string[i+j]!=sub_string[j]:\n",
    "            break  \n",
    "    if i==len(string)-len(sub_string):\n",
    "        break\n",
    "print(count)"
   ]
  },
  {
   "cell_type": "code",
   "execution_count": null,
   "id": "a4434ce1",
   "metadata": {},
   "outputs": [],
   "source": []
  }
 ],
 "metadata": {
  "kernelspec": {
   "display_name": "Python 3 (ipykernel)",
   "language": "python",
   "name": "python3"
  },
  "language_info": {
   "codemirror_mode": {
    "name": "ipython",
    "version": 3
   },
   "file_extension": ".py",
   "mimetype": "text/x-python",
   "name": "python",
   "nbconvert_exporter": "python",
   "pygments_lexer": "ipython3",
   "version": "3.9.12"
  }
 },
 "nbformat": 4,
 "nbformat_minor": 5
}
