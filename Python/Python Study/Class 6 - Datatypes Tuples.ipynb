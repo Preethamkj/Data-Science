{
 "cells": [
  {
   "cell_type": "markdown",
   "id": "aecf108c",
   "metadata": {},
   "source": [
    "# Datatypes - Tuples"
   ]
  },
  {
   "cell_type": "code",
   "execution_count": null,
   "id": "7ec05bbb",
   "metadata": {},
   "outputs": [],
   "source": [
    "#Tuples are another derived datatype in Python. They retain some of the versatility of lists except that they are immutable\n",
    "# unlike Lists. Since they are immutable, a lot of functions like append, extend, remove, pop and clear which can be used\n",
    "# on lists cannot be used on Tuples. \n",
    "\n",
    "# Tuples come in handy when we need a datatype that can store different types of elements but cannot be mutated. \n",
    "\n",
    "# Special Note - if the elements in the Tuple are mutable objects - since the tuple is only saving the memory location of \n",
    "# the object AND tuples support indexing - one CAN access the mutable object inside the tuple and mutate that particular\n",
    "# element - indirectly mutating the tuple. More on that - with examples - later. \n",
    "\n",
    "# Tuples have the following properties : \n",
    "#a. Derived datatype\n",
    "#b. Sequential and Ordered\n",
    "#c. Immutable\n",
    "#d. Can hold different kinds of datatypes - including mutable objects. \n",
    "#e. Indexing and Slicing is supported\n",
    "#f. Iterable\n",
    "#g. Nesting is possible.\n"
   ]
  },
  {
   "cell_type": "code",
   "execution_count": 1,
   "id": "e3a6e3ed",
   "metadata": {},
   "outputs": [
    {
     "name": "stdout",
     "output_type": "stream",
     "text": [
      "(1, 2, 3, 4)\n",
      "<class 'tuple'>\n"
     ]
    }
   ],
   "source": [
    "#To initiate a tuple, just use round brackets around the elements, separated by a comma. \n",
    "\n",
    "tup1 = (1,2,3,4)\n",
    "\n",
    "print(tup1)\n",
    "print(type(tup1))"
   ]
  },
  {
   "cell_type": "code",
   "execution_count": 2,
   "id": "6502550b",
   "metadata": {},
   "outputs": [
    {
     "name": "stdout",
     "output_type": "stream",
     "text": [
      "('a', 'b', 'c', 'd', 'e')\n",
      "<class 'tuple'>\n"
     ]
    }
   ],
   "source": [
    "# Alternately use the tuple constructor with an iterable as a parameter. Just like lists. \n",
    "\n",
    "tup2 = tuple('abcde')\n",
    "\n",
    "print(tup2)\n",
    "print(type(tup2))"
   ]
  },
  {
   "cell_type": "code",
   "execution_count": 12,
   "id": "82043394",
   "metadata": {},
   "outputs": [
    {
     "name": "stdout",
     "output_type": "stream",
     "text": [
      "(102.0,)\n",
      "<class 'tuple'>\n",
      "1\n",
      "102.0\n"
     ]
    }
   ],
   "source": [
    "#If you wish to save the iterable(sequential) object as just one object - use the parenthesis.\n",
    "\n",
    "tup3 = (10.2*10,)\n",
    "\n",
    "print(tup3)\n",
    "print(type(tup3))\n",
    "\n",
    "print(len(tup3))\n",
    "\n",
    "for x in tup3:\n",
    "    print(x)"
   ]
  },
  {
   "cell_type": "code",
   "execution_count": 13,
   "id": "a4ce7f98",
   "metadata": {},
   "outputs": [
    {
     "name": "stdout",
     "output_type": "stream",
     "text": [
      "abcde\n",
      "<class 'str'>\n"
     ]
    }
   ],
   "source": [
    "#Note the comma after the element in the above syntax. This tells Python that we did not mean to just put a single element\n",
    "# inside the variable but to create a tuple which contains one element. \n",
    "\n",
    "tup4 = ('abcde')\n",
    "\n",
    "print(tup4)\n",
    "print(type(tup4))"
   ]
  },
  {
   "cell_type": "code",
   "execution_count": null,
   "id": "1ffe132e",
   "metadata": {},
   "outputs": [],
   "source": [
    "#Note, how in the above case (since it was without a comma after the element), Python understood it as a single element\n",
    "# and not a tuple. "
   ]
  },
  {
   "cell_type": "code",
   "execution_count": 18,
   "id": "a1a830ef",
   "metadata": {},
   "outputs": [
    {
     "name": "stdout",
     "output_type": "stream",
     "text": [
      "(1,)\n",
      "<class 'tuple'>\n"
     ]
    }
   ],
   "source": [
    "# A tuple can even be initialised without the round brackets. \n",
    "\n",
    "tup5 = (1,)\n",
    "\n",
    "print(tup5)\n",
    "print(type(tup5))"
   ]
  },
  {
   "cell_type": "code",
   "execution_count": 19,
   "id": "d8b576e4",
   "metadata": {},
   "outputs": [
    {
     "name": "stdout",
     "output_type": "stream",
     "text": [
      "('abcde',)\n",
      "<class 'tuple'>\n"
     ]
    }
   ],
   "source": [
    "tup6 = 'abcde',\n",
    "\n",
    "print(tup6)\n",
    "print(type(tup6))"
   ]
  },
  {
   "cell_type": "code",
   "execution_count": null,
   "id": "b0df6237",
   "metadata": {},
   "outputs": [],
   "source": [
    "#As with the syntax of element without comma - while using brackets - the same holds true if you do not use brackets. \n",
    "\n",
    "tup7 = 'abcde'\n",
    "\n",
    "print(tup7)\n",
    "print(type(tup7))"
   ]
  },
  {
   "cell_type": "code",
   "execution_count": 20,
   "id": "54dfcad9",
   "metadata": {},
   "outputs": [
    {
     "name": "stdout",
     "output_type": "stream",
     "text": [
      "(1, 'abcde', 2001, 10.2, [1, 2, 3, 4], {'a': 1001, 200: ['Rock', 'Paper', 'Scissors']}, ('BMW', 'Audi', 'Merc', 'Rolls', 'Maybach'))\n",
      "<class 'tuple'>\n"
     ]
    }
   ],
   "source": [
    "#Tuples can hold different datatypes. \n",
    "\n",
    "tup1 = (1,'abcde', 2001, 10.2, [1,2,3,4], {'a':1001, 200 : ['Rock', 'Paper', 'Scissors']}, \n",
    "        ('BMW', 'Audi', 'Merc', 'Rolls', 'Maybach'))\n",
    "\n",
    "print(tup1)\n",
    "print(type(tup1))"
   ]
  },
  {
   "cell_type": "code",
   "execution_count": 21,
   "id": "8bde1877",
   "metadata": {},
   "outputs": [
    {
     "name": "stdout",
     "output_type": "stream",
     "text": [
      "Paper\n"
     ]
    }
   ],
   "source": [
    "#As with other sequential objects we have learnt - they support indexing and slicing. \n",
    "\n",
    "print(tup1[5][200][1])"
   ]
  },
  {
   "cell_type": "code",
   "execution_count": 22,
   "id": "e86d9475",
   "metadata": {},
   "outputs": [
    {
     "name": "stdout",
     "output_type": "stream",
     "text": [
      "(1, 'abcde', 2001, 10.2, [1, 2, 3, 4], {'a': 1001, 200: ['Rock', 'Paper', 'Scissors']})\n",
      "<class 'tuple'>\n"
     ]
    }
   ],
   "source": [
    "tup2 = tup1[:6]\n",
    "\n",
    "print(tup2)\n",
    "print(type(tup2))"
   ]
  },
  {
   "cell_type": "code",
   "execution_count": 23,
   "id": "ca3913ac",
   "metadata": {},
   "outputs": [
    {
     "ename": "TypeError",
     "evalue": "'tuple' object does not support item assignment",
     "output_type": "error",
     "traceback": [
      "\u001b[1;31m---------------------------------------------------------------------------\u001b[0m",
      "\u001b[1;31mTypeError\u001b[0m                                 Traceback (most recent call last)",
      "\u001b[1;32m<ipython-input-23-87852ffe40ff>\u001b[0m in \u001b[0;36m<module>\u001b[1;34m\u001b[0m\n\u001b[0;32m      1\u001b[0m \u001b[1;31m#However, they do not support assignment on the immutable objects in them i.e. the tuples themselves are immutable.\u001b[0m\u001b[1;33m\u001b[0m\u001b[1;33m\u001b[0m\u001b[1;33m\u001b[0m\u001b[0m\n\u001b[0;32m      2\u001b[0m \u001b[1;33m\u001b[0m\u001b[0m\n\u001b[1;32m----> 3\u001b[1;33m \u001b[0mtup2\u001b[0m\u001b[1;33m[\u001b[0m\u001b[1;36m0\u001b[0m\u001b[1;33m]\u001b[0m \u001b[1;33m=\u001b[0m \u001b[1;36m2\u001b[0m\u001b[1;33m\u001b[0m\u001b[1;33m\u001b[0m\u001b[0m\n\u001b[0m\u001b[0;32m      4\u001b[0m \u001b[1;33m\u001b[0m\u001b[0m\n\u001b[0;32m      5\u001b[0m \u001b[0mprint\u001b[0m\u001b[1;33m(\u001b[0m\u001b[0mtup2\u001b[0m\u001b[1;33m)\u001b[0m\u001b[1;33m\u001b[0m\u001b[1;33m\u001b[0m\u001b[0m\n",
      "\u001b[1;31mTypeError\u001b[0m: 'tuple' object does not support item assignment"
     ]
    }
   ],
   "source": [
    "#However, they do not support assignment on the immutable objects in them i.e. the tuples themselves are immutable. \n",
    "\n",
    "tup2[0] = 2\n",
    "\n",
    "print(tup2)"
   ]
  },
  {
   "cell_type": "code",
   "execution_count": 24,
   "id": "a82db892",
   "metadata": {},
   "outputs": [
    {
     "name": "stdout",
     "output_type": "stream",
     "text": [
      "[1, 'abcde', 2001, 10.2, [1, 2, 3, 4], {'a': 1001, 200: ['Rock', 'Paper', 'Scissors']}]\n"
     ]
    }
   ],
   "source": [
    "lst1 = list(tup2)\n",
    "\n",
    "print(lst1)"
   ]
  },
  {
   "cell_type": "code",
   "execution_count": 25,
   "id": "faca9fb5",
   "metadata": {},
   "outputs": [
    {
     "name": "stdout",
     "output_type": "stream",
     "text": [
      "[2, 'abcde', 2001, 10.2, [1, 2, 3, 4], {'a': 1001, 200: ['Rock', 'Paper', 'Scissors']}]\n"
     ]
    }
   ],
   "source": [
    "#In lists we could have reassigned the item at index 0. \n",
    "\n",
    "lst1[0] = 2\n",
    "\n",
    "print(lst1)"
   ]
  },
  {
   "cell_type": "code",
   "execution_count": 26,
   "id": "2f780ed8",
   "metadata": {},
   "outputs": [
    {
     "name": "stdout",
     "output_type": "stream",
     "text": [
      "(1, 'abcde', 2001, 10.2, [1, 2, 3, 4], {'a': 1001, 200: ['Rock', 'Paper', 'Scissors']})\n"
     ]
    }
   ],
   "source": [
    "print(tup2)"
   ]
  },
  {
   "cell_type": "code",
   "execution_count": 27,
   "id": "a7f55911",
   "metadata": {},
   "outputs": [
    {
     "name": "stdout",
     "output_type": "stream",
     "text": [
      "(1, 'abcde', 2001, 10.2, [1, 2, 3, 4], {'a': 1001, 200: ['Rock', 'Paper', 'Scissors']})\n"
     ]
    }
   ],
   "source": [
    "#However, in a tuple, the mutable elements can be altered. The idea is - since the tuple is holding the memory ids of the\n",
    "# objects inside it, we cannot change the objects that it is holding. However, if we were to alter the mutable object that\n",
    "# is inside the tuple, the id of that object does not change and the immutability idea of tuples is not violated. \n",
    "print(tup2)"
   ]
  },
  {
   "cell_type": "code",
   "execution_count": 28,
   "id": "b2fceabe",
   "metadata": {},
   "outputs": [
    {
     "name": "stdout",
     "output_type": "stream",
     "text": [
      "(1, 'abcde', 2001, 10.2, [101, 2, 3, 4], {'a': 1001, 200: ['Rock', 'Paper', 'Scissors']})\n"
     ]
    }
   ],
   "source": [
    "tup2[4][0] = 101\n",
    "\n",
    "print(tup2)"
   ]
  },
  {
   "cell_type": "code",
   "execution_count": 29,
   "id": "3644c979",
   "metadata": {},
   "outputs": [
    {
     "name": "stdout",
     "output_type": "stream",
     "text": [
      "(1, 'abcde', 2001, 10.2, [101, 2, 3, 4], {'a': 1001, 200: ['Rock', 'Fire', 'Scissors']})\n"
     ]
    }
   ],
   "source": [
    "tup2[5][200][1] = 'Fire'\n",
    "\n",
    "print(tup2)"
   ]
  },
  {
   "cell_type": "code",
   "execution_count": 30,
   "id": "829aefa8",
   "metadata": {},
   "outputs": [
    {
     "name": "stdout",
     "output_type": "stream",
     "text": [
      "1\n",
      "abcde\n",
      "2001\n",
      "10.2\n",
      "[101, 2, 3, 4]\n",
      "{'a': 1001, 200: ['Rock', 'Fire', 'Scissors']}\n"
     ]
    }
   ],
   "source": [
    "# We can perform iteration on tuples. \n",
    "\n",
    "for a in tup2:\n",
    "    print(a)"
   ]
  },
  {
   "cell_type": "code",
   "execution_count": 31,
   "id": "313053eb",
   "metadata": {},
   "outputs": [
    {
     "name": "stdout",
     "output_type": "stream",
     "text": [
      "6\n"
     ]
    }
   ],
   "source": [
    "#All basic operations such as len(), concatenation, repetition and membership can be performed.\n",
    "\n",
    "print(len(tup2))"
   ]
  },
  {
   "cell_type": "code",
   "execution_count": 32,
   "id": "62ccaf9f",
   "metadata": {},
   "outputs": [
    {
     "name": "stdout",
     "output_type": "stream",
     "text": [
      "('a', 'b', 'c', 'd', 'e')\n",
      "(1, 2, 3, 4)\n"
     ]
    }
   ],
   "source": [
    "#Concatenation in tuples \n",
    "\n",
    "tup1 = tuple('abcde')\n",
    "\n",
    "tup2 = 1,2,3,4\n",
    "\n",
    "print(tup1)\n",
    "print(tup2)"
   ]
  },
  {
   "cell_type": "code",
   "execution_count": 33,
   "id": "2c109f4e",
   "metadata": {},
   "outputs": [
    {
     "name": "stdout",
     "output_type": "stream",
     "text": [
      "('a', 'b', 'c', 'd', 'e', 1, 2, 3, 4)\n"
     ]
    }
   ],
   "source": [
    "tup3 = tup1 + tup2\n",
    "\n",
    "print(tup3)"
   ]
  },
  {
   "cell_type": "code",
   "execution_count": 34,
   "id": "593057d5",
   "metadata": {},
   "outputs": [
    {
     "name": "stdout",
     "output_type": "stream",
     "text": [
      "('a', 'b', 'c', 'd', 'e')\n",
      "(1, 2, 3, 4)\n"
     ]
    }
   ],
   "source": [
    "#Note how tup1 and tup2 have not changed. \n",
    "\n",
    "print(tup1)\n",
    "print(tup2)"
   ]
  },
  {
   "cell_type": "code",
   "execution_count": 35,
   "id": "0b45f654",
   "metadata": {},
   "outputs": [
    {
     "name": "stdout",
     "output_type": "stream",
     "text": [
      "('a', 'b', 'c', 'd', 'e', 1, 2, 3, 4)\n"
     ]
    }
   ],
   "source": [
    "#Even if we were to assign the same variable name to tup1, the ids of both objects would be different since a new object\n",
    "# has been created. \n",
    "\n",
    "id_1 = id(tup1)\n",
    "\n",
    "tup1 = tup1 + tup2\n",
    "\n",
    "print(tup1)\n",
    "\n",
    "id_2 = id(tup1)"
   ]
  },
  {
   "cell_type": "code",
   "execution_count": 36,
   "id": "86eebe67",
   "metadata": {},
   "outputs": [
    {
     "name": "stdout",
     "output_type": "stream",
     "text": [
      "2780905534784 2780904736352\n",
      "False\n"
     ]
    }
   ],
   "source": [
    "print(id_1, id_2)\n",
    "print(id_1 is id_2)"
   ]
  },
  {
   "cell_type": "code",
   "execution_count": null,
   "id": "d29d1105",
   "metadata": {},
   "outputs": [],
   "source": [
    "#Repetition in Tuples"
   ]
  },
  {
   "cell_type": "code",
   "execution_count": 37,
   "id": "b55a071a",
   "metadata": {},
   "outputs": [
    {
     "name": "stdout",
     "output_type": "stream",
     "text": [
      "(1, 2, 3, 4)\n"
     ]
    }
   ],
   "source": [
    "print(tup2)"
   ]
  },
  {
   "cell_type": "code",
   "execution_count": 38,
   "id": "bfcc3a0c",
   "metadata": {},
   "outputs": [
    {
     "name": "stdout",
     "output_type": "stream",
     "text": [
      "(1, 2, 3, 4, 1, 2, 3, 4, 1, 2, 3, 4, 1, 2, 3, 4)\n"
     ]
    }
   ],
   "source": [
    "print(tup2*4)"
   ]
  },
  {
   "cell_type": "code",
   "execution_count": 39,
   "id": "a55caba5",
   "metadata": {},
   "outputs": [
    {
     "name": "stdout",
     "output_type": "stream",
     "text": [
      "(1, 2, 3, 4, 1, 2, 3, 4, 1, 2, 3, 4, 1, 2, 3, 4)\n"
     ]
    }
   ],
   "source": [
    "tup3 = tup2*4\n",
    "\n",
    "print(tup3)"
   ]
  },
  {
   "cell_type": "code",
   "execution_count": null,
   "id": "42883377",
   "metadata": {},
   "outputs": [],
   "source": [
    "#Note again, that tuples are immutable themselves, repetition returns a new tuple object."
   ]
  },
  {
   "cell_type": "code",
   "execution_count": 40,
   "id": "8eeac6ae",
   "metadata": {},
   "outputs": [
    {
     "name": "stdout",
     "output_type": "stream",
     "text": [
      "(1, 'abc', [100, 200, 2012, 10.2], 'xyz')\n",
      "<class 'tuple'>\n"
     ]
    }
   ],
   "source": [
    "#Membership in tuples\n",
    "\n",
    "tup1 = (1,'abc', [100, 200, 2012, 10.2], 'xyz')\n",
    "\n",
    "print(tup1)\n",
    "print(type(tup1))"
   ]
  },
  {
   "cell_type": "code",
   "execution_count": 41,
   "id": "613d45d9",
   "metadata": {},
   "outputs": [
    {
     "name": "stdout",
     "output_type": "stream",
     "text": [
      "True\n"
     ]
    }
   ],
   "source": [
    "print('abc' in tup1)"
   ]
  },
  {
   "cell_type": "code",
   "execution_count": 42,
   "id": "b6389fb5",
   "metadata": {},
   "outputs": [
    {
     "name": "stdout",
     "output_type": "stream",
     "text": [
      "False\n"
     ]
    }
   ],
   "source": [
    "print(100 in tup1)"
   ]
  },
  {
   "cell_type": "code",
   "execution_count": 43,
   "id": "c2cc9284",
   "metadata": {},
   "outputs": [
    {
     "name": "stdout",
     "output_type": "stream",
     "text": [
      "True\n"
     ]
    }
   ],
   "source": [
    "print(100 in tup1[2])"
   ]
  },
  {
   "cell_type": "code",
   "execution_count": 44,
   "id": "f18a8c82",
   "metadata": {},
   "outputs": [
    {
     "name": "stdout",
     "output_type": "stream",
     "text": [
      "True\n"
     ]
    }
   ],
   "source": [
    "print(100 not in tup1)"
   ]
  },
  {
   "cell_type": "code",
   "execution_count": 45,
   "id": "e1815d95",
   "metadata": {},
   "outputs": [
    {
     "name": "stdout",
     "output_type": "stream",
     "text": [
      "False\n"
     ]
    }
   ],
   "source": [
    "print(100 not in tup1[2])"
   ]
  },
  {
   "cell_type": "code",
   "execution_count": 46,
   "id": "9ef29a4b",
   "metadata": {},
   "outputs": [
    {
     "name": "stdout",
     "output_type": "stream",
     "text": [
      "3\n"
     ]
    }
   ],
   "source": [
    "#index() method returns the index no. of the first occurrence of the element being searched.\n",
    "\n",
    "tup1 = (1,'abc', [100, 200, 2012, 10.2], 'xyz')\n",
    "\n",
    "print(tup1.index('xyz'))"
   ]
  },
  {
   "cell_type": "code",
   "execution_count": 47,
   "id": "f0a02617",
   "metadata": {},
   "outputs": [
    {
     "ename": "ValueError",
     "evalue": "tuple.index(x): x not in tuple",
     "output_type": "error",
     "traceback": [
      "\u001b[1;31m---------------------------------------------------------------------------\u001b[0m",
      "\u001b[1;31mValueError\u001b[0m                                Traceback (most recent call last)",
      "\u001b[1;32m<ipython-input-47-66029e00b85c>\u001b[0m in \u001b[0;36m<module>\u001b[1;34m\u001b[0m\n\u001b[0;32m      1\u001b[0m \u001b[1;31m#It returns a value error if the item is not found in the tuple.\u001b[0m\u001b[1;33m\u001b[0m\u001b[1;33m\u001b[0m\u001b[1;33m\u001b[0m\u001b[0m\n\u001b[0;32m      2\u001b[0m \u001b[1;33m\u001b[0m\u001b[0m\n\u001b[1;32m----> 3\u001b[1;33m \u001b[0mprint\u001b[0m\u001b[1;33m(\u001b[0m\u001b[0mtup1\u001b[0m\u001b[1;33m.\u001b[0m\u001b[0mindex\u001b[0m\u001b[1;33m(\u001b[0m\u001b[1;34m'Python'\u001b[0m\u001b[1;33m)\u001b[0m\u001b[1;33m)\u001b[0m\u001b[1;33m\u001b[0m\u001b[1;33m\u001b[0m\u001b[0m\n\u001b[0m",
      "\u001b[1;31mValueError\u001b[0m: tuple.index(x): x not in tuple"
     ]
    }
   ],
   "source": [
    "#It returns a value error if the item is not found in the tuple. \n",
    "\n",
    "print(tup1.index('Python'))"
   ]
  },
  {
   "cell_type": "code",
   "execution_count": 48,
   "id": "dd5cb182",
   "metadata": {},
   "outputs": [
    {
     "ename": "ValueError",
     "evalue": "tuple.index(x): x not in tuple",
     "output_type": "error",
     "traceback": [
      "\u001b[1;31m---------------------------------------------------------------------------\u001b[0m",
      "\u001b[1;31mValueError\u001b[0m                                Traceback (most recent call last)",
      "\u001b[1;32m<ipython-input-48-4b4163dc4f2d>\u001b[0m in \u001b[0;36m<module>\u001b[1;34m\u001b[0m\n\u001b[0;32m      7\u001b[0m \u001b[0mtup1\u001b[0m \u001b[1;33m=\u001b[0m \u001b[1;33m(\u001b[0m\u001b[1;36m1\u001b[0m\u001b[1;33m,\u001b[0m\u001b[1;34m'abc'\u001b[0m\u001b[1;33m,\u001b[0m \u001b[1;33m[\u001b[0m\u001b[1;36m100\u001b[0m\u001b[1;33m,\u001b[0m \u001b[1;36m200\u001b[0m\u001b[1;33m,\u001b[0m \u001b[1;36m2012\u001b[0m\u001b[1;33m,\u001b[0m \u001b[1;36m10.2\u001b[0m\u001b[1;33m]\u001b[0m\u001b[1;33m,\u001b[0m \u001b[1;34m'xyz'\u001b[0m\u001b[1;33m)\u001b[0m\u001b[1;33m\u001b[0m\u001b[1;33m\u001b[0m\u001b[0m\n\u001b[0;32m      8\u001b[0m \u001b[1;33m\u001b[0m\u001b[0m\n\u001b[1;32m----> 9\u001b[1;33m \u001b[0mprint\u001b[0m\u001b[1;33m(\u001b[0m\u001b[0mtup1\u001b[0m\u001b[1;33m.\u001b[0m\u001b[0mindex\u001b[0m\u001b[1;33m(\u001b[0m\u001b[1;34m'xyz'\u001b[0m\u001b[1;33m,\u001b[0m\u001b[1;36m0\u001b[0m\u001b[1;33m,\u001b[0m\u001b[1;33m-\u001b[0m\u001b[1;36m2\u001b[0m\u001b[1;33m)\u001b[0m\u001b[1;33m)\u001b[0m\u001b[1;33m\u001b[0m\u001b[1;33m\u001b[0m\u001b[0m\n\u001b[0m",
      "\u001b[1;31mValueError\u001b[0m: tuple.index(x): x not in tuple"
     ]
    }
   ],
   "source": [
    "#It takes 3 parameters\n",
    "\n",
    "#1. The element to be found  Mandatory\n",
    "#2. The start index. Optional - Defaults to 0\n",
    "#3. The stop index. Optional - Defaults to length of tuple. \n",
    "\n",
    "tup1 = (1,'abc', [100, 200, 2012, 10.2], 'xyz')\n",
    "\n",
    "print(tup1.index('xyz',0,-2))"
   ]
  },
  {
   "cell_type": "code",
   "execution_count": 49,
   "id": "1ab1038e",
   "metadata": {},
   "outputs": [
    {
     "name": "stdout",
     "output_type": "stream",
     "text": [
      "3\n"
     ]
    }
   ],
   "source": [
    "print(tup1.index('xyz',1))"
   ]
  },
  {
   "cell_type": "code",
   "execution_count": 50,
   "id": "cf6f39a0",
   "metadata": {},
   "outputs": [
    {
     "name": "stdout",
     "output_type": "stream",
     "text": [
      "(1, 'abc', [100, 200, 2012, 10.2], 'xyz')\n"
     ]
    }
   ],
   "source": [
    "print(tup1)"
   ]
  },
  {
   "cell_type": "code",
   "execution_count": 51,
   "id": "dbf01c5a",
   "metadata": {},
   "outputs": [
    {
     "ename": "ValueError",
     "evalue": "tuple.index(x): x not in tuple",
     "output_type": "error",
     "traceback": [
      "\u001b[1;31m---------------------------------------------------------------------------\u001b[0m",
      "\u001b[1;31mValueError\u001b[0m                                Traceback (most recent call last)",
      "\u001b[1;32m<ipython-input-51-0d04076fed2e>\u001b[0m in \u001b[0;36m<module>\u001b[1;34m\u001b[0m\n\u001b[1;32m----> 1\u001b[1;33m \u001b[0mprint\u001b[0m\u001b[1;33m(\u001b[0m\u001b[0mtup1\u001b[0m\u001b[1;33m.\u001b[0m\u001b[0mindex\u001b[0m\u001b[1;33m(\u001b[0m\u001b[1;36m1\u001b[0m\u001b[1;33m,\u001b[0m\u001b[1;36m1\u001b[0m\u001b[1;33m,\u001b[0m\u001b[1;33m-\u001b[0m\u001b[1;36m1\u001b[0m\u001b[1;33m)\u001b[0m\u001b[1;33m)\u001b[0m\u001b[1;33m\u001b[0m\u001b[1;33m\u001b[0m\u001b[0m\n\u001b[0m",
      "\u001b[1;31mValueError\u001b[0m: tuple.index(x): x not in tuple"
     ]
    }
   ],
   "source": [
    "print(tup1.index(1,1,-1))"
   ]
  },
  {
   "cell_type": "code",
   "execution_count": 52,
   "id": "5a8d1d5f",
   "metadata": {},
   "outputs": [
    {
     "name": "stdout",
     "output_type": "stream",
     "text": [
      "0\n"
     ]
    }
   ],
   "source": [
    "print(tup1.index(1,0,-1))"
   ]
  },
  {
   "cell_type": "code",
   "execution_count": 53,
   "id": "98d6eb7b",
   "metadata": {},
   "outputs": [
    {
     "name": "stdout",
     "output_type": "stream",
     "text": [
      "<class 'tuple'>\n",
      "1\n"
     ]
    }
   ],
   "source": [
    "# min() Pyton built-in method on Tuples returns the minimum value of the elements of the tuple. Can not be performed with\n",
    "# different datatypes inside the tuple. \n",
    "\n",
    "tup1 = 1,2,3,4\n",
    "\n",
    "print(type(tup1))\n",
    "print(min(tup1))"
   ]
  },
  {
   "cell_type": "code",
   "execution_count": 54,
   "id": "41abeaa1",
   "metadata": {},
   "outputs": [
    {
     "name": "stdout",
     "output_type": "stream",
     "text": [
      "4\n"
     ]
    }
   ],
   "source": [
    "#max() Python built-in method on tuples returns the maximum value of the elements of the tuple. Can not be performed with\n",
    "# different datatypes(unless between float and integer) inside the tuple. \n",
    "\n",
    "print(max(tup1))"
   ]
  },
  {
   "cell_type": "code",
   "execution_count": 55,
   "id": "3ff8113c",
   "metadata": {},
   "outputs": [
    {
     "ename": "TypeError",
     "evalue": "'>' not supported between instances of 'str' and 'int'",
     "output_type": "error",
     "traceback": [
      "\u001b[1;31m---------------------------------------------------------------------------\u001b[0m",
      "\u001b[1;31mTypeError\u001b[0m                                 Traceback (most recent call last)",
      "\u001b[1;32m<ipython-input-55-aa4d8805a911>\u001b[0m in \u001b[0;36m<module>\u001b[1;34m\u001b[0m\n\u001b[0;32m      1\u001b[0m \u001b[0mtup2\u001b[0m \u001b[1;33m=\u001b[0m \u001b[1;36m1\u001b[0m\u001b[1;33m,\u001b[0m\u001b[1;36m2\u001b[0m\u001b[1;33m,\u001b[0m\u001b[1;34m'abc'\u001b[0m\u001b[1;33m,\u001b[0m\u001b[1;34m'Python'\u001b[0m\u001b[1;33m,\u001b[0m\u001b[1;36m10.2\u001b[0m\u001b[1;33m\u001b[0m\u001b[1;33m\u001b[0m\u001b[0m\n\u001b[0;32m      2\u001b[0m \u001b[1;33m\u001b[0m\u001b[0m\n\u001b[1;32m----> 3\u001b[1;33m \u001b[0mprint\u001b[0m\u001b[1;33m(\u001b[0m\u001b[0mmax\u001b[0m\u001b[1;33m(\u001b[0m\u001b[0mtup2\u001b[0m\u001b[1;33m)\u001b[0m\u001b[1;33m)\u001b[0m\u001b[1;33m\u001b[0m\u001b[1;33m\u001b[0m\u001b[0m\n\u001b[0m",
      "\u001b[1;31mTypeError\u001b[0m: '>' not supported between instances of 'str' and 'int'"
     ]
    }
   ],
   "source": [
    "tup2 = 1,2,'abc','Python',10.2\n",
    "\n",
    "print(max(tup2))"
   ]
  },
  {
   "cell_type": "code",
   "execution_count": 56,
   "id": "d5908372",
   "metadata": {},
   "outputs": [
    {
     "name": "stdout",
     "output_type": "stream",
     "text": [
      "1001\n"
     ]
    }
   ],
   "source": [
    "tup3 = 1,2,10.2,4,1001\n",
    "\n",
    "print(max(tup3))\n",
    "\n",
    "#Note how even though the element at 2nd index is a float, Python can compare the values and decide the max and min values. "
   ]
  },
  {
   "cell_type": "code",
   "execution_count": 57,
   "id": "869c3d6c",
   "metadata": {},
   "outputs": [
    {
     "name": "stdout",
     "output_type": "stream",
     "text": [
      "<class 'tuple'>\n"
     ]
    }
   ],
   "source": [
    "tup4 = 1,2,4,[100,200,1000]\n",
    "\n",
    "print(type(tup4))"
   ]
  },
  {
   "cell_type": "code",
   "execution_count": 58,
   "id": "123a7eae",
   "metadata": {},
   "outputs": [
    {
     "ename": "TypeError",
     "evalue": "'<' not supported between instances of 'list' and 'int'",
     "output_type": "error",
     "traceback": [
      "\u001b[1;31m---------------------------------------------------------------------------\u001b[0m",
      "\u001b[1;31mTypeError\u001b[0m                                 Traceback (most recent call last)",
      "\u001b[1;32m<ipython-input-58-e6c3d92f0773>\u001b[0m in \u001b[0;36m<module>\u001b[1;34m\u001b[0m\n\u001b[1;32m----> 1\u001b[1;33m \u001b[0mprint\u001b[0m\u001b[1;33m(\u001b[0m\u001b[0mmin\u001b[0m\u001b[1;33m(\u001b[0m\u001b[0mtup4\u001b[0m\u001b[1;33m)\u001b[0m\u001b[1;33m)\u001b[0m\u001b[1;33m\u001b[0m\u001b[1;33m\u001b[0m\u001b[0m\n\u001b[0m",
      "\u001b[1;31mTypeError\u001b[0m: '<' not supported between instances of 'list' and 'int'"
     ]
    }
   ],
   "source": [
    "print(min(tup4))"
   ]
  },
  {
   "cell_type": "code",
   "execution_count": null,
   "id": "11284eda",
   "metadata": {},
   "outputs": [],
   "source": [
    "#Note how even though the elements in the list are all numbers, Python has no way of comparing an integer to a list. "
   ]
  },
  {
   "cell_type": "code",
   "execution_count": 63,
   "id": "13415052",
   "metadata": {},
   "outputs": [
    {
     "name": "stdout",
     "output_type": "stream",
     "text": [
      "(101, 11, 79, 23, 2, 82)\n",
      "(2, 11, 23, 79, 82, 101)\n"
     ]
    }
   ],
   "source": [
    "#Unlike lists, tuples do not have a sort method. But we can use the Python built-in sorted function to sort tuples. \n",
    "\n",
    "tup1 = 101,11, 79, 23, 2, 82\n",
    "\n",
    "\n",
    "\n",
    "tup2 = tuple(sorted(tup1))\n",
    "print(tup1)\n",
    "print(tup2)"
   ]
  },
  {
   "cell_type": "code",
   "execution_count": 60,
   "id": "a23f0aab",
   "metadata": {},
   "outputs": [
    {
     "ename": "TypeError",
     "evalue": "'<' not supported between instances of 'str' and 'int'",
     "output_type": "error",
     "traceback": [
      "\u001b[1;31m---------------------------------------------------------------------------\u001b[0m",
      "\u001b[1;31mTypeError\u001b[0m                                 Traceback (most recent call last)",
      "\u001b[1;32m<ipython-input-60-c7ca7aaebac1>\u001b[0m in \u001b[0;36m<module>\u001b[1;34m\u001b[0m\n\u001b[0;32m      1\u001b[0m \u001b[0mtup2\u001b[0m \u001b[1;33m=\u001b[0m \u001b[1;36m101\u001b[0m\u001b[1;33m,\u001b[0m\u001b[1;34m'abc'\u001b[0m\u001b[1;33m,\u001b[0m \u001b[1;36m79\u001b[0m\u001b[1;33m,\u001b[0m \u001b[1;36m23\u001b[0m\u001b[1;33m,\u001b[0m \u001b[1;36m2\u001b[0m\u001b[1;33m,\u001b[0m\u001b[1;36m82\u001b[0m\u001b[1;33m\u001b[0m\u001b[1;33m\u001b[0m\u001b[0m\n\u001b[0;32m      2\u001b[0m \u001b[1;33m\u001b[0m\u001b[0m\n\u001b[1;32m----> 3\u001b[1;33m \u001b[0mprint\u001b[0m\u001b[1;33m(\u001b[0m\u001b[0msorted\u001b[0m\u001b[1;33m(\u001b[0m\u001b[0mtup2\u001b[0m\u001b[1;33m)\u001b[0m\u001b[1;33m)\u001b[0m\u001b[1;33m\u001b[0m\u001b[1;33m\u001b[0m\u001b[0m\n\u001b[0m",
      "\u001b[1;31mTypeError\u001b[0m: '<' not supported between instances of 'str' and 'int'"
     ]
    }
   ],
   "source": [
    "tup2 = 101,'abc', 79, 23, 2,82\n",
    "\n",
    "print(sorted(tup2))"
   ]
  },
  {
   "cell_type": "code",
   "execution_count": null,
   "id": "2899e2d6",
   "metadata": {},
   "outputs": [],
   "source": [
    "#Note again how sorted does not work with different datatypes in the tuple. "
   ]
  },
  {
   "cell_type": "code",
   "execution_count": 64,
   "id": "c1069479",
   "metadata": {},
   "outputs": [
    {
     "name": "stdout",
     "output_type": "stream",
     "text": [
      "['Abracadabra', 'National Basketball Association', 'Python', 'RRR', 'X']\n"
     ]
    }
   ],
   "source": [
    "#Sorted function takes 3 parameters\n",
    "\n",
    "#1. Iterable to be sorted - Mandatory\n",
    "#2. reverse key = False by default. And returns the tuple sorted in ascending order. To get a tuple in descending order \n",
    "# change this parameter to True. \n",
    "#3. Key - Optional. Sorts by value by default. However, if provided can use any function to evaluate the elements and sort\n",
    "# them based on the output. \n",
    "\n",
    "tup3 = 'Abracadabra', 'Python', 'X', 'National Basketball Association', 'RRR'\n",
    "\n",
    "print(sorted(tup3))"
   ]
  },
  {
   "cell_type": "code",
   "execution_count": 65,
   "id": "0680c609",
   "metadata": {},
   "outputs": [
    {
     "name": "stdout",
     "output_type": "stream",
     "text": [
      "['X', 'RRR', 'Python', 'National Basketball Association', 'Abracadabra']\n"
     ]
    }
   ],
   "source": [
    "print(sorted(tup3, reverse=True))"
   ]
  },
  {
   "cell_type": "code",
   "execution_count": 66,
   "id": "fdf4eba6",
   "metadata": {},
   "outputs": [
    {
     "name": "stdout",
     "output_type": "stream",
     "text": [
      "['X', 'RRR', 'Python', 'Abracadabra', 'National Basketball Association']\n"
     ]
    }
   ],
   "source": [
    "print(sorted(tup3, key = len))"
   ]
  },
  {
   "cell_type": "code",
   "execution_count": 67,
   "id": "cc766c59",
   "metadata": {},
   "outputs": [
    {
     "name": "stdout",
     "output_type": "stream",
     "text": [
      "('Abracadabra', 'Python', 'X', 'National Basketball Association', 'RRR')\n"
     ]
    }
   ],
   "source": [
    "print(tup3)"
   ]
  },
  {
   "cell_type": "code",
   "execution_count": 68,
   "id": "12089046",
   "metadata": {},
   "outputs": [
    {
     "name": "stdout",
     "output_type": "stream",
     "text": [
      "['National Basketball Association', 'Abracadabra', 'Python', 'RRR', 'X']\n"
     ]
    }
   ],
   "source": [
    "#Note how the original tup3 has not been changed. Sorted returns a new tuple object which needs to be assigned to a variable\n",
    "# in case we need to use the output tuple further. \n",
    "\n",
    "tup4 = sorted(tup3, reverse = True, key = len)\n",
    "\n",
    "print(tup4)"
   ]
  },
  {
   "cell_type": "code",
   "execution_count": 75,
   "id": "0ebe8407",
   "metadata": {},
   "outputs": [
    {
     "name": "stdout",
     "output_type": "stream",
     "text": [
      "((1, 'jkl', [62, 70, 82], 21), (2, 'ghi', [91, 100, 63], 22), (3, 'abc', [51, 42, 51], 24), (4, 'def', [62, 81, 71], 20), (5, 'xyz', [55, 75, 86], 19), (3, 'pqr', [91, 99, 92], 24))\n"
     ]
    }
   ],
   "source": [
    "#Nested Tuples - We can create tuples nested inside each other. \n",
    "\n",
    "tup_nest = ((1, 'jkl', [62,70,82], 21),(2, 'ghi', [91,100,63], 22),(3, 'abc', [51,42,51], 24),\n",
    "           (4, 'def', [62,81,71], 20),(5, 'xyz', [55,75,86], 19),(3, 'pqr', [91,99,92], 24))\n",
    "\n",
    "print(tup_nest)"
   ]
  },
  {
   "cell_type": "code",
   "execution_count": 74,
   "id": "539d7adb",
   "metadata": {},
   "outputs": [
    {
     "ename": "TypeError",
     "evalue": "'<' not supported between instances of 'int' and 'str'",
     "output_type": "error",
     "traceback": [
      "\u001b[1;31m---------------------------------------------------------------------------\u001b[0m",
      "\u001b[1;31mTypeError\u001b[0m                                 Traceback (most recent call last)",
      "\u001b[1;32m<ipython-input-74-bdb7fbd32eb5>\u001b[0m in \u001b[0;36m<module>\u001b[1;34m\u001b[0m\n\u001b[1;32m----> 1\u001b[1;33m \u001b[0mprint\u001b[0m\u001b[1;33m(\u001b[0m\u001b[0msorted\u001b[0m\u001b[1;33m(\u001b[0m\u001b[0mtup_nest\u001b[0m\u001b[1;33m)\u001b[0m\u001b[1;33m)\u001b[0m\u001b[1;33m\u001b[0m\u001b[1;33m\u001b[0m\u001b[0m\n\u001b[0m",
      "\u001b[1;31mTypeError\u001b[0m: '<' not supported between instances of 'int' and 'str'"
     ]
    }
   ],
   "source": [
    "print(sorted(tup_nest))"
   ]
  },
  {
   "cell_type": "code",
   "execution_count": 71,
   "id": "17dd4231",
   "metadata": {},
   "outputs": [
    {
     "name": "stdout",
     "output_type": "stream",
     "text": [
      "[(3, 'abc', [51, 42, 51], 24), (4, 'def', [62, 81, 71], 20), (2, 'ghi', [91, 100, 63], 22), (1, 'jkl', [62, 70, 82], 21), (3, 'pqr', [91, 99, 92], 24), (5, 'xyz', [55, 75, 86], 19)]\n"
     ]
    }
   ],
   "source": [
    "#Note how the sorting has been performed on the first element of each nested tuple i.e. tuple - (3,'pqr', (100,100,100))\n",
    "# has changed from last position to 4th. \n",
    "\n",
    "#However, by using functions in the key parameter of the sort function we can sort based on some other value. \n",
    "\n",
    "tup_sortK = sorted(tup_nest, key = lambda x : x[1])\n",
    "\n",
    "print(tup_sortK)"
   ]
  },
  {
   "cell_type": "code",
   "execution_count": 72,
   "id": "97e9ee18",
   "metadata": {},
   "outputs": [
    {
     "name": "stdout",
     "output_type": "stream",
     "text": [
      "[(2, 'ghi', [91, 100, 63], 22), (3, 'pqr', [91, 99, 92], 24), (5, 'xyz', [55, 75, 86], 19), (1, 'jkl', [62, 70, 82], 21), (4, 'def', [62, 81, 71], 20), (3, 'abc', [51, 42, 51], 24)]\n"
     ]
    }
   ],
   "source": [
    "tup_sortK = sorted(tup_nest, key = lambda x : max(x[2]), reverse=True)\n",
    "\n",
    "print(tup_sortK)"
   ]
  },
  {
   "cell_type": "code",
   "execution_count": null,
   "id": "5ebe2bf5",
   "metadata": {},
   "outputs": [],
   "source": [
    "#Tuples are immutable(though as shown the elements inside tuples if are mutable, those can be mutated) so they are very\n",
    "# useful in storing data like the above example where you can imagine the first item in each tuple is the roll no, the 2nd\n",
    "# is the name, the third is the marks received put inside a list (which is mutable) in exam for 3 subjects and 4th is\n",
    "# the age. \n",
    "\n",
    "#If while creating the tuple, we have kept mutable objects inside the tuple, it stands to reason that we likely wish the\n",
    "# flexibility of changing the items inside that mutable object. For example - the above tuple set may be for the first\n",
    "# exam of the year but we wish to be able to change the marks when we use our program for the 2nd and 3rd exam of the year\n",
    "# and so forth. However, we do not expect the other elements of the tuple (such as roll no, name and age to change).\n",
    "\n",
    "#NOTE - THIS IS NOT A RULE BUT A GENERAL GUIDELINE FOR UNDERSTANDING THE USE OF TUPLES. \n",
    "\n"
   ]
  },
  {
   "cell_type": "code",
   "execution_count": 76,
   "id": "8f11618c",
   "metadata": {},
   "outputs": [
    {
     "name": "stdout",
     "output_type": "stream",
     "text": [
      "((1, 'jkl', [62, 70, 82], 21), (2, 'ghi', [91, 100, 63], 22), (3, 'abc', [51, 42, 51], 24), (4, 'def', [62, 81, 71], 20), (5, 'xyz', [55, 75, 86], 19), (3, 'pqr', [91, 99, 92], 24))\n",
      "(1, 'kkk', [62, 70, 82], 21)\n"
     ]
    }
   ],
   "source": [
    "#Mutating a tuple - is not possible. But we can - with a lot of manipulation change the items in the tuple object and create\n",
    "# a new one - if our application demands it. E.g\n",
    "\n",
    "#I wish to change the name of the student with roll call no. 1 to 'kkk'.\n",
    "\n",
    "tup_nest = ((1, 'jkl', [62,70,82], 21),(2, 'ghi', [91,100,63], 22),(3, 'abc', [51,42,51], 24),\n",
    "           (4, 'def', [62,81,71], 20),(5, 'xyz', [55,75,86], 19),(3, 'pqr', [91,99,92], 24))\n",
    "print(tup_nest)\n",
    "\n",
    "name_c = tup_nest[0][:1]+ ('kkk',) +tup_nest[0][2:]\n",
    "\n",
    "print(name_c)\n"
   ]
  },
  {
   "cell_type": "code",
   "execution_count": 82,
   "id": "1aeddeda",
   "metadata": {},
   "outputs": [
    {
     "name": "stdout",
     "output_type": "stream",
     "text": [
      "((1, 'kkk', [62, 70, 82], 21), (2, 'ghi', [91, 100, 63], 22), (3, 'abc', [51, 42, 51], 24), (4, 'def', [62, 81, 71], 20), (5, 'xyz', [55, 75, 86], 19), (3, 'pqr', [91, 99, 92], 24))\n"
     ]
    }
   ],
   "source": [
    "tup3x = tup_nest[1:]\n",
    "\n",
    "tup_nest_rev = (name_c,) + tup3x\n",
    "\n",
    "print(tup_nest_rev)"
   ]
  },
  {
   "cell_type": "code",
   "execution_count": 83,
   "id": "16adbf95",
   "metadata": {},
   "outputs": [
    {
     "name": "stdout",
     "output_type": "stream",
     "text": [
      "((1, 'kkk', [62, 70, 82], 21), (2, 'ghi', [91, 100, 63], 22), (3, 'abc', [51, 42, 51], 24), (4, 'def', [62, 81, 71], 20), (5, 'xyz', [55, 75, 86], 19), (3, 'pqr', [91, 99, 92], 24))\n"
     ]
    }
   ],
   "source": [
    "#Of course, as one gets more proficient, we could do away with the intermediate variable and object and save space. \n",
    "\n",
    "name_c1 = (tup_nest[0][:1]+ ('kkk',) + tup_nest[0][2:],) + tup_nest[1:]\n",
    "\n",
    "print(name_c1)"
   ]
  },
  {
   "cell_type": "code",
   "execution_count": null,
   "id": "861c901d",
   "metadata": {},
   "outputs": [],
   "source": [
    "#Aliasing Tuples"
   ]
  },
  {
   "cell_type": "code",
   "execution_count": 84,
   "id": "cf6ba3aa",
   "metadata": {},
   "outputs": [
    {
     "name": "stdout",
     "output_type": "stream",
     "text": [
      "(1, 2, 3, [10, 20, 30])\n",
      "<class 'tuple'>\n"
     ]
    }
   ],
   "source": [
    "tup1 = 1,2,3,[10,20,30]\n",
    "print(tup1)\n",
    "print(type(tup1))"
   ]
  },
  {
   "cell_type": "code",
   "execution_count": 85,
   "id": "f15637e7",
   "metadata": {},
   "outputs": [
    {
     "name": "stdout",
     "output_type": "stream",
     "text": [
      "(1, 2, 3, [10, 20, 30])\n",
      "(1, 2, 3, [10, 20, 30])\n"
     ]
    }
   ],
   "source": [
    "tup2 = tup1\n",
    "\n",
    "print(tup1)\n",
    "print(tup2)"
   ]
  },
  {
   "cell_type": "code",
   "execution_count": null,
   "id": "7adb9042",
   "metadata": {},
   "outputs": [],
   "source": [
    "#Since tuples are immutable only the mutable objects inside them can be mutated, there really is no point in making a \n",
    "# shallow copy of a tuple and does not have a copy method"
   ]
  },
  {
   "cell_type": "code",
   "execution_count": 87,
   "id": "d6bb4253",
   "metadata": {},
   "outputs": [
    {
     "name": "stdout",
     "output_type": "stream",
     "text": [
      "(1, 2, 3, [10, 20, 30])\n",
      "(1, 2, 3, [10, 20, 30])\n"
     ]
    }
   ],
   "source": [
    "\n",
    "\n",
    "tup3 = tup1[:]\n",
    "print(tup1)\n",
    "print(tup3)\n",
    "\n"
   ]
  },
  {
   "cell_type": "code",
   "execution_count": null,
   "id": "926397e9",
   "metadata": {},
   "outputs": [],
   "source": [
    "print(id(tup1), id(tup3))#Nor did the slicing work. "
   ]
  },
  {
   "cell_type": "code",
   "execution_count": null,
   "id": "b4eb1233",
   "metadata": {},
   "outputs": [],
   "source": [
    "tup4 = tup1[1:]\n",
    "\n",
    "print(tup4)\n",
    "\n",
    "print(id(tup1), id(tup4))"
   ]
  },
  {
   "cell_type": "code",
   "execution_count": null,
   "id": "2d8dacdc",
   "metadata": {},
   "outputs": [],
   "source": [
    "#Note however, that even though tup4 and tup1 are different objects they still contain only a memory reference to the last\n",
    "# list object in them. So, a change in that list object will reflect in both of them. They exact same problem we had with\n",
    "# shallow copy in lists. \n",
    "\n",
    "tup1[3][1] = '2x2x'\n",
    "\n",
    "print(tup1)\n",
    "print(tup4)"
   ]
  },
  {
   "cell_type": "code",
   "execution_count": 90,
   "id": "44b53b12",
   "metadata": {},
   "outputs": [
    {
     "name": "stdout",
     "output_type": "stream",
     "text": [
      "(1, 2, 3, [10, 2020, 30])\n",
      "(1, 2, 3, [10, 2020, 30])\n"
     ]
    }
   ],
   "source": [
    "#So, just like lists (and dictionaries and sets), if we need copies of the original object where even the compound objects\n",
    "# should be recursively copied with the elements contained in them - use the deepcopy function from the copy module. \n",
    "\n",
    "import copy\n",
    "tup1 = (1,2,3,[10,2020,30])\n",
    "\n",
    "tup2 = copy.deepcopy(tup1)\n",
    "\n",
    "print(tup1)\n",
    "print(tup2)"
   ]
  },
  {
   "cell_type": "code",
   "execution_count": 91,
   "id": "07b92a52",
   "metadata": {},
   "outputs": [
    {
     "name": "stdout",
     "output_type": "stream",
     "text": [
      "(1, 2, 3, [10, 20201, 30])\n",
      "(1, 2, 3, [10, 2020, 30])\n"
     ]
    }
   ],
   "source": [
    "tup1[3][1] = 20201\n",
    "\n",
    "print(tup1)\n",
    "print(tup2)"
   ]
  },
  {
   "cell_type": "code",
   "execution_count": 95,
   "id": "27640a23",
   "metadata": {},
   "outputs": [
    {
     "name": "stdout",
     "output_type": "stream",
     "text": [
      "<class 'tuple'>\n",
      "<class 'tuple'>\n",
      "<class 'tuple'>\n"
     ]
    }
   ],
   "source": [
    "#Tuple packing and unpacking. In tuples there is a very power tuple assignment feature called unpacking. \n",
    "\n",
    "#Packing a tuple is nothing but putting elements in a tuple. We have already seen the ways to 'pack' a tuple. \n",
    "\n",
    "tup1 = 1,2,3,4\n",
    "print(type(tup1))\n",
    "\n",
    "tup2 = (10,20,30,40)\n",
    "print(type(tup2))\n",
    "\n",
    "tup3 = tuple('abcde')\n",
    "print(type(tup3))"
   ]
  },
  {
   "cell_type": "code",
   "execution_count": 96,
   "id": "31b82ced",
   "metadata": {},
   "outputs": [
    {
     "name": "stdout",
     "output_type": "stream",
     "text": [
      "1\n",
      "2\n",
      "3\n",
      "4\n"
     ]
    }
   ],
   "source": [
    "#Unpacking is assigning tuple values to variables i.e. multiple variables on the left corresponding to the the values to\n",
    "# be assigned on the right. \n",
    "\n",
    "p,q,r,s = tup1\n",
    "\n",
    "print(p,q,r,s, sep= '\\n')"
   ]
  },
  {
   "cell_type": "code",
   "execution_count": 97,
   "id": "3dd9c35b",
   "metadata": {},
   "outputs": [
    {
     "name": "stdout",
     "output_type": "stream",
     "text": [
      "(10, 20, 30, 40)\n",
      "10\n",
      "20\n",
      "30\n",
      "40\n"
     ]
    }
   ],
   "source": [
    "print(tup2)\n",
    "\n",
    "p,q,r,s = tup2\n",
    "\n",
    "print(p,q,r,s, sep= '\\n')"
   ]
  },
  {
   "cell_type": "code",
   "execution_count": 98,
   "id": "b1ba2bbe",
   "metadata": {},
   "outputs": [
    {
     "name": "stdout",
     "output_type": "stream",
     "text": [
      "('a', 'b', 'c', 'd', 'e')\n",
      "a\n",
      "b\n",
      "c\n",
      "d\n",
      "e\n"
     ]
    }
   ],
   "source": [
    "print(tup3)\n",
    "p,q,r,s,t= tup3\n",
    "\n",
    "print(p,q,r,s,t, sep= '\\n')"
   ]
  },
  {
   "cell_type": "code",
   "execution_count": 99,
   "id": "fe529341",
   "metadata": {},
   "outputs": [
    {
     "name": "stdout",
     "output_type": "stream",
     "text": [
      "('a', 'b', 'c', 'd', 'e')\n"
     ]
    }
   ],
   "source": [
    "#In case we want only a couple of values assigned and the rest to be assigned to a single variabel(list by default) we\n",
    "# can use the * symbol in front of the variable to show multiple arguments passed (*args)\n",
    "\n",
    "print(tup3)"
   ]
  },
  {
   "cell_type": "code",
   "execution_count": null,
   "id": "9a5507ab",
   "metadata": {},
   "outputs": [],
   "source": [
    "p,q, *s = tup3\n",
    "\n",
    "print(p,q,s, sep= '\\n')"
   ]
  },
  {
   "cell_type": "code",
   "execution_count": 102,
   "id": "a40261ae",
   "metadata": {},
   "outputs": [
    {
     "name": "stdout",
     "output_type": "stream",
     "text": [
      "a\n",
      "b\n",
      "('c', 'd', 'e')\n"
     ]
    }
   ],
   "source": [
    "p,q,*s = tup3\n",
    "\n",
    "s = tuple(s)\n",
    "print(p,q,s, sep = '\\n')"
   ]
  },
  {
   "cell_type": "code",
   "execution_count": 100,
   "id": "1d496966",
   "metadata": {},
   "outputs": [
    {
     "name": "stdout",
     "output_type": "stream",
     "text": [
      "a\n",
      "['b', 'c']\n",
      "d\n",
      "e\n"
     ]
    }
   ],
   "source": [
    "#Note, the order of the assignment of the regular variables and the *variable doesnt matter. First the n number of elements\n",
    "# in tuple (n being equal to the number of regular variables passed) are passed to the regular variables and all the rest\n",
    "# of the values are assigned to a single * prefixed variable. \n",
    "\n",
    "p,*s,q,r = tup3\n",
    "\n",
    "print(p,s,q,r, sep = '\\n')"
   ]
  },
  {
   "cell_type": "code",
   "execution_count": 101,
   "id": "711e645b",
   "metadata": {},
   "outputs": [
    {
     "ename": "SyntaxError",
     "evalue": "two starred expressions in assignment (<ipython-input-101-28e8311adcd5>, line 1)",
     "output_type": "error",
     "traceback": [
      "\u001b[1;36m  File \u001b[1;32m\"<ipython-input-101-28e8311adcd5>\"\u001b[1;36m, line \u001b[1;32m1\u001b[0m\n\u001b[1;33m    p,*s,*t = tup3\u001b[0m\n\u001b[1;37m    ^\u001b[0m\n\u001b[1;31mSyntaxError\u001b[0m\u001b[1;31m:\u001b[0m two starred expressions in assignment\n"
     ]
    }
   ],
   "source": [
    "p,*s,*t = tup3\n",
    "\n",
    "print(p,s,t, sep = '\\n')"
   ]
  },
  {
   "cell_type": "code",
   "execution_count": null,
   "id": "81c64c8c",
   "metadata": {},
   "outputs": [],
   "source": [
    "#using this logic of tuple unpacking we can assign a single tuple with all the parameters to be used in a function into\n",
    "# the function prefixed with a star and Python will automatically unpack the tuple and assign values to the parameters. \n",
    "\n",
    "def just_a_func(x,y,z,p,q):\n",
    "    return p+q*(x+y*z)\n",
    "\n",
    "func_tup = (2,2,3,'Rikki ', 'Rocks ')\n",
    "\n",
    "just_a_func(*func_tup)\n",
    "\n",
    "#Do not forget the star in front of the tuple before passing into the function"
   ]
  },
  {
   "cell_type": "code",
   "execution_count": null,
   "id": "0b79aa99",
   "metadata": {},
   "outputs": [],
   "source": [
    "# We can also use the * in front of a parameter in a function definition when the number of elements (parameters) for the\n",
    "# function are not known or defined. We will discuss this in deep in Functions. But for now, this is a simple idea. "
   ]
  },
  {
   "cell_type": "code",
   "execution_count": null,
   "id": "449de959",
   "metadata": {},
   "outputs": [],
   "source": [
    "# def func_lst_r(*param):\n",
    "#     for i in param:\n",
    "#         print(i*20)\n",
    "        \n",
    "# lst_r = list(range(10))\n",
    "\n",
    "# func_lst_r(*lst_r)\n",
    "\n",
    "# #Note how the * in front of both the function parameter and the argument to the function call both have * prefixed - in the\n",
    "# # first case - * in front of parameter - we are telling the program - we do not know how many elements will be passed to \n",
    "# # the function. In the second case - * in front of the argument - we are asking Python to unpack the elements in the list\n",
    "# # into the variables defined in the function parameters. Since we already prefixed the parameters with a star signifying\n",
    "# # unpack how many ever elements show up - everything works fine. "
   ]
  },
  {
   "cell_type": "code",
   "execution_count": null,
   "id": "ad71acc9",
   "metadata": {},
   "outputs": [],
   "source": [
    "#Note what happens when either of the * is missing. \n",
    "\n",
    "# def func_lst_r(param):\n",
    "#     for i in param:\n",
    "#         print(i*20)\n",
    "        \n",
    "# lst_r = list(range(10))\n",
    "\n",
    "# func_lst_r(*lst_r)\n"
   ]
  },
  {
   "cell_type": "code",
   "execution_count": null,
   "id": "94aa4db4",
   "metadata": {},
   "outputs": [],
   "source": [
    "#Here we see the program throwing us an error saying only one argument was expected but there were 10 elements unpacked from\n",
    "# the list. "
   ]
  },
  {
   "cell_type": "code",
   "execution_count": null,
   "id": "12310122",
   "metadata": {},
   "outputs": [],
   "source": [
    "# def func_lst_r(*param):\n",
    "#     for i in param:\n",
    "#         print(i*20)\n",
    "        \n",
    "# lst_r = list(range(10))\n",
    "\n",
    "# func_lst_r(lst_r)\n"
   ]
  },
  {
   "cell_type": "code",
   "execution_count": null,
   "id": "7c4d57de",
   "metadata": {},
   "outputs": [],
   "source": [
    "# # Of course, in this simple program we could have just not any *s and it would work but this was just an example of packing\n",
    "# # and unpacking. \n",
    "\n",
    "# def func_lst_r(param):\n",
    "#     for i in param:\n",
    "#         print(i*20)\n",
    "        \n",
    "# lst_r = list(range(10))\n",
    "\n",
    "# func_lst_r(lst_r)\n"
   ]
  },
  {
   "cell_type": "code",
   "execution_count": null,
   "id": "f0e6a62a",
   "metadata": {},
   "outputs": [],
   "source": [
    "# #or the range object directly\n",
    "\n",
    "# def func_lst_r(param):\n",
    "#     for i in param:\n",
    "#         print(i*20)\n",
    "        \n",
    "# lst_r = range(10)\n",
    "\n",
    "# func_lst_r(lst_r)\n"
   ]
  },
  {
   "cell_type": "code",
   "execution_count": null,
   "id": "074305c0",
   "metadata": {},
   "outputs": [],
   "source": [
    "#Aliasing and cloning/copying in Tuples\n",
    "\n",
    "#Since a tuple is immutable, but only its elements can be mutable - the effects of Aliasing and copying are the same on\n",
    "# a Tuple. However, if a different object which does not get affected by change to mutable objects in a tuple is required,\n",
    "# then a deepcopy of the original object would be required. \n",
    "\n",
    "p = 1,2,[10,20,30],4\n",
    "\n",
    "q = p\n",
    "\n",
    "r = p[:]\n",
    "\n",
    "import copy\n",
    "s = copy.copy(p) #Note tuples do not have a copy method.\n",
    "\n",
    "t = copy.deepcopy(p)\n",
    "\n",
    "print(p,q,r,s, sep = '\\n')"
   ]
  },
  {
   "cell_type": "code",
   "execution_count": null,
   "id": "cad4a9b1",
   "metadata": {},
   "outputs": [],
   "source": [
    "p[2][1] = 2020\n",
    "\n",
    "print(f'Original object p : {p}.', '\\n')\n",
    "print(f'Aliased variable q : {q}.', '\\n')\n",
    "print(f'Sliced copy r : {r}.', '\\n')\n",
    "print(f'Copy of p : {s}.', '\\n')\n",
    "print(f'Deepcopy of p : {t}.', '\\n')\n"
   ]
  },
  {
   "cell_type": "code",
   "execution_count": null,
   "id": "174c3608",
   "metadata": {},
   "outputs": [],
   "source": [
    "#So as we can see - Aliasing and copying a tuple has the same effect. Only Deepcopy"
   ]
  }
 ],
 "metadata": {
  "kernelspec": {
   "display_name": "Python 3 (ipykernel)",
   "language": "python",
   "name": "python3"
  },
  "language_info": {
   "codemirror_mode": {
    "name": "ipython",
    "version": 3
   },
   "file_extension": ".py",
   "mimetype": "text/x-python",
   "name": "python",
   "nbconvert_exporter": "python",
   "pygments_lexer": "ipython3",
   "version": "3.9.12"
  }
 },
 "nbformat": 4,
 "nbformat_minor": 5
}
