{
 "cells": [
  {
   "cell_type": "markdown",
   "id": "ee19369e",
   "metadata": {},
   "source": [
    "# Operators in Python"
   ]
  },
  {
   "cell_type": "code",
   "execution_count": 1,
   "id": "747b9ab3",
   "metadata": {},
   "outputs": [],
   "source": [
    "#Operators in Python are symbols that perform operations. They perform operations on values or variables. The values or\n",
    "# values are called operands. For e.g. - \n",
    "\n",
    "# 10 + 20\n",
    "\n",
    "#Here - 10 & 20 are the operands. + is the operator (an arithmetic operator).\n",
    "\n",
    "# a <= b\n",
    "\n",
    "#Here - a & b are the operands. <= is the operator(a comparison operator) "
   ]
  },
  {
   "cell_type": "code",
   "execution_count": 2,
   "id": "4556d1cc",
   "metadata": {},
   "outputs": [],
   "source": [
    "# An operator working on one operand is called a unary operator. \n",
    "# An operator working on two operands is called a binary operator.\n",
    "\n",
    "\n",
    "# A ternary operator also called a conditional operator - returns a value based on a binary condition. It takes a binary\n",
    "# condition as an input and returns a value. So, it is similar to an if else condition block but can be executed in one\n",
    "# line and returns an output like a function. More on this later.  "
   ]
  },
  {
   "cell_type": "code",
   "execution_count": 3,
   "id": "a76e0c4b",
   "metadata": {},
   "outputs": [],
   "source": [
    "#Operators are also classified by the type of operations they perform: \n",
    "\n",
    "#1. Arithmetic Operators\n",
    "#2. Bitwise Operators\n",
    "#3. Assignment Operators\n",
    "#4. Unary minus Operator\n",
    "#5. Relational Operators\n",
    "#6. Logical / Boolean Operators + Ternary Operators\n",
    "#7. Membership Operators\n",
    "#8. Identity Operators"
   ]
  },
  {
   "cell_type": "markdown",
   "id": "53567f93",
   "metadata": {},
   "source": [
    "### Arithmetic Operators"
   ]
  },
  {
   "cell_type": "code",
   "execution_count": 4,
   "id": "42e96dd8",
   "metadata": {},
   "outputs": [
    {
     "name": "stdout",
     "output_type": "stream",
     "text": [
      "30\n"
     ]
    }
   ],
   "source": [
    "# The plus + operator - Adds two values on either side of the operator. \n",
    "\n",
    "print(10+20)"
   ]
  },
  {
   "cell_type": "code",
   "execution_count": 5,
   "id": "e327ac60",
   "metadata": {},
   "outputs": [
    {
     "name": "stdout",
     "output_type": "stream",
     "text": [
      "30\n"
     ]
    }
   ],
   "source": [
    "x = 10 ; y = 20\n",
    "\n",
    "print(x+y)"
   ]
  },
  {
   "cell_type": "code",
   "execution_count": 6,
   "id": "492d6ee3",
   "metadata": {},
   "outputs": [
    {
     "name": "stdout",
     "output_type": "stream",
     "text": [
      "-10\n"
     ]
    }
   ],
   "source": [
    "#The minus - operator - Subtracts the value on the right side from the value on the left. \n",
    "\n",
    "print(10-20)"
   ]
  },
  {
   "cell_type": "code",
   "execution_count": 7,
   "id": "8f874d6f",
   "metadata": {},
   "outputs": [
    {
     "name": "stdout",
     "output_type": "stream",
     "text": [
      "-10\n"
     ]
    }
   ],
   "source": [
    "print(x-y)"
   ]
  },
  {
   "cell_type": "code",
   "execution_count": 8,
   "id": "9aa81108",
   "metadata": {},
   "outputs": [
    {
     "name": "stdout",
     "output_type": "stream",
     "text": [
      "200\n"
     ]
    }
   ],
   "source": [
    "#The multiplication * operator - Multiplies the two values on either side of the operator\n",
    "\n",
    "print(10*20)"
   ]
  },
  {
   "cell_type": "code",
   "execution_count": null,
   "id": "e3dfe1ae",
   "metadata": {},
   "outputs": [],
   "source": [
    "print(x*y)"
   ]
  },
  {
   "cell_type": "code",
   "execution_count": 9,
   "id": "448fc01d",
   "metadata": {},
   "outputs": [
    {
     "name": "stdout",
     "output_type": "stream",
     "text": [
      "0.5\n"
     ]
    }
   ],
   "source": [
    "# The division / operator - divides the left side value (numerator) by the value on the right (divisor or denominator).\n",
    "\n",
    "print(10/20)"
   ]
  },
  {
   "cell_type": "code",
   "execution_count": 10,
   "id": "57966e5f",
   "metadata": {},
   "outputs": [
    {
     "name": "stdout",
     "output_type": "stream",
     "text": [
      "0.5\n"
     ]
    }
   ],
   "source": [
    "print(x/y)"
   ]
  },
  {
   "cell_type": "code",
   "execution_count": 11,
   "id": "6032fa0a",
   "metadata": {},
   "outputs": [
    {
     "name": "stdout",
     "output_type": "stream",
     "text": [
      "3\n"
     ]
    }
   ],
   "source": [
    "#The floor division // operator - divides the left side value (numerator) by the value on the right (division or denominator)\n",
    "# but returns ONLY the whole number of the result. The remainder is discarded. \n",
    "\n",
    "print(10//3)"
   ]
  },
  {
   "cell_type": "code",
   "execution_count": 12,
   "id": "e7c144cf",
   "metadata": {},
   "outputs": [
    {
     "name": "stdout",
     "output_type": "stream",
     "text": [
      "3\n"
     ]
    }
   ],
   "source": [
    "z = 3\n",
    "\n",
    "print(x//z)"
   ]
  },
  {
   "cell_type": "code",
   "execution_count": 13,
   "id": "b0b448ca",
   "metadata": {},
   "outputs": [
    {
     "name": "stdout",
     "output_type": "stream",
     "text": [
      "1\n"
     ]
    }
   ],
   "source": [
    "# The modulo or modulus operator (shortened to mod in practical use) % - divides the left side value (numerator) by the\n",
    "# value on the right(divisor or denominator) but returns ONLY the remainder. The whole number before the remainder is \n",
    "# ignored. Returns 0 if no remainder from the division operation. \n",
    "\n",
    "print(10%3)\n"
   ]
  },
  {
   "cell_type": "code",
   "execution_count": 14,
   "id": "3833ec27",
   "metadata": {},
   "outputs": [
    {
     "name": "stdout",
     "output_type": "stream",
     "text": [
      "1\n"
     ]
    }
   ],
   "source": [
    "print(x%z)"
   ]
  },
  {
   "cell_type": "code",
   "execution_count": 15,
   "id": "ef46e42a",
   "metadata": {},
   "outputs": [
    {
     "name": "stdout",
     "output_type": "stream",
     "text": [
      "1000\n"
     ]
    }
   ],
   "source": [
    "# The exponent ** operators - Raises the value on the left to the power of the value on the right. \n",
    "\n",
    "print(10**3)"
   ]
  },
  {
   "cell_type": "code",
   "execution_count": 16,
   "id": "118ac989",
   "metadata": {},
   "outputs": [
    {
     "name": "stdout",
     "output_type": "stream",
     "text": [
      "1000\n"
     ]
    }
   ],
   "source": [
    "print(x**z)"
   ]
  },
  {
   "cell_type": "code",
   "execution_count": 17,
   "id": "b1f314c1",
   "metadata": {},
   "outputs": [
    {
     "name": "stdout",
     "output_type": "stream",
     "text": [
      "2.0\n"
     ]
    }
   ],
   "source": [
    "# The root of a number can derived by using (1/x) along with the exponent ** operator. Note though, due to floating point\n",
    "# errors - the result may not be exactly as expected. \n",
    "\n",
    "print(8 ** (1/3))"
   ]
  },
  {
   "cell_type": "code",
   "execution_count": null,
   "id": "a0ede01c",
   "metadata": {},
   "outputs": [],
   "source": [
    "#When there are multiple operations to be performed, the PEMDAS (same as BODMAS) criteria for order of operations priority\n",
    "# is used.\n",
    "\n",
    "# Parenthesis\n",
    "# Exponents\n",
    "# Multiplication, division, floor division and modulos\n",
    "# Addition, Subtraction\n",
    "\n",
    "# x = 58 / (4 x 5) + 3**2\n",
    "\n",
    "#Here parenthesis will be evaluated first. \n",
    "\n",
    "#So, x = 58 / 20 + 3**2\n",
    "\n",
    "#Then exponents\n",
    "\n",
    "#So, x = 58 / 20 + 9\n",
    "\n",
    "#Next is the division or multiplication\n",
    "\n",
    "#So, x = 2.9 + 9\n",
    "\n",
    "#And finally, the addition\n",
    "\n",
    "#So, x = 11.9\n",
    "\n",
    "print(58/(4*5)+ 3**2)"
   ]
  },
  {
   "cell_type": "code",
   "execution_count": null,
   "id": "e4c8df70",
   "metadata": {},
   "outputs": [],
   "source": [
    "# However, since we have a lot of other operators in Python besides arithmetic, the expanded order of evaluation table is\n",
    "# given below in descending order (operators higher than the ones below will be evaluated first)."
   ]
  },
  {
   "cell_type": "code",
   "execution_count": null,
   "id": "7b6c2eca",
   "metadata": {},
   "outputs": [],
   "source": [
    "# Operator                       Name\n",
    "# ()                             Parenthesis\n",
    "# **                             Exponentiation\n",
    "# -,~                            Unary minus, Bitwise complement(Bitwise Not)\n",
    "# *,/,//,%                       Multiplication, Division, Floor division, Modulus\n",
    "# +,-                            Addition, Subtraction\n",
    "# <<,>>                          Bitwise left shift, Bitwise right shift\n",
    "# &                              Bitwise AND\n",
    "# ^                              Bitwise XOR\n",
    "# |                              Bitwise OR\n",
    "# >,>=,<,<=,==,!=                Relational (comparison) operators\n",
    "# =,%=,/=,//=,-=, +=,*=,**=      Assignment operators\n",
    "# is,is not                      Identity operators\n",
    "# in,not in                      Membership operators\n",
    "# not                            Logical(ternary) not\n",
    "# or                             Logical(ternary) or\n",
    "# and                            Logical(ternary) and -->"
   ]
  },
  {
   "cell_type": "markdown",
   "id": "654701e3",
   "metadata": {},
   "source": [
    "### Bitwise Operators"
   ]
  },
  {
   "cell_type": "code",
   "execution_count": 18,
   "id": "52813a05",
   "metadata": {},
   "outputs": [
    {
     "name": "stdout",
     "output_type": "stream",
     "text": [
      "5 0b101\n",
      "12 0b1100\n"
     ]
    }
   ],
   "source": [
    "#Bitwise operators\n",
    "\n",
    "#1. Bitwise and - & operator. Sets the bit to 1 if both bits are 1 else 0. \n",
    "\n",
    "x = 5 ; bx = bin(x)\n",
    "y = 12 ; by = bin(y)\n",
    "\n",
    "print(x, bx)\n",
    "print(y, by)"
   ]
  },
  {
   "cell_type": "code",
   "execution_count": 19,
   "id": "b80e7519",
   "metadata": {},
   "outputs": [
    {
     "name": "stdout",
     "output_type": "stream",
     "text": [
      "4 0b100\n"
     ]
    }
   ],
   "source": [
    "print(x&y, bin(x&y))\n",
    "\n"
   ]
  },
  {
   "cell_type": "code",
   "execution_count": 20,
   "id": "9f5a341c",
   "metadata": {},
   "outputs": [
    {
     "name": "stdout",
     "output_type": "stream",
     "text": [
      "5 0b101\n",
      "12 0b1100\n"
     ]
    }
   ],
   "source": [
    "#2. Bitwise Or - | operator. Sets the bit to 1 if either of the bits is 1 else 0. \n",
    "\n",
    "x = 5 ; bx = bin(x)\n",
    "y = 12 ; by = bin(y)\n",
    "\n",
    "print(x, bx)\n",
    "print(y, by)"
   ]
  },
  {
   "cell_type": "code",
   "execution_count": 21,
   "id": "c1f4f3e7",
   "metadata": {},
   "outputs": [
    {
     "name": "stdout",
     "output_type": "stream",
     "text": [
      "13 0b1101\n"
     ]
    }
   ],
   "source": [
    "print(x|y, bin(x|y))"
   ]
  },
  {
   "cell_type": "code",
   "execution_count": 22,
   "id": "32be6d1e",
   "metadata": {},
   "outputs": [
    {
     "name": "stdout",
     "output_type": "stream",
     "text": [
      "5 0b101\n",
      "12 0b1100\n"
     ]
    }
   ],
   "source": [
    "#3. Bitwise XOR - ^ operator. Sets the bit to 1 if either (but not both) of the bits is 1 else 0. \n",
    "\n",
    "x = 5 ; bx = bin(x)\n",
    "y = 12 ; by = bin(y)\n",
    "\n",
    "print(x, bx)\n",
    "print(y, by)"
   ]
  },
  {
   "cell_type": "code",
   "execution_count": 23,
   "id": "3bd5a207",
   "metadata": {},
   "outputs": [
    {
     "name": "stdout",
     "output_type": "stream",
     "text": [
      "9 0b1001\n"
     ]
    }
   ],
   "source": [
    "print(x^y, bin(x^y))"
   ]
  },
  {
   "cell_type": "code",
   "execution_count": 25,
   "id": "baab153b",
   "metadata": {},
   "outputs": [
    {
     "name": "stdout",
     "output_type": "stream",
     "text": [
      "-9\n"
     ]
    }
   ],
   "source": [
    "#4. Bitwise Not - ~ operator. Only works on one operand. It reverses the bits of the binary representation of the integer. \n",
    "# Returns signed ones complement of the integer n i.e. -(n+1)\n",
    "\n",
    "x = 8\n",
    "\n",
    "print(~x)"
   ]
  },
  {
   "cell_type": "code",
   "execution_count": null,
   "id": "1da91d23",
   "metadata": {},
   "outputs": [],
   "source": [
    "# 0000 1000\n",
    "\n",
    "# 1111 0111"
   ]
  },
  {
   "cell_type": "code",
   "execution_count": 26,
   "id": "8a5bfd50",
   "metadata": {},
   "outputs": [
    {
     "name": "stdout",
     "output_type": "stream",
     "text": [
      "7\n"
     ]
    }
   ],
   "source": [
    "x = -8\n",
    "\n",
    "print(~x)"
   ]
  },
  {
   "cell_type": "code",
   "execution_count": null,
   "id": "4e833680",
   "metadata": {},
   "outputs": [],
   "source": []
  },
  {
   "cell_type": "code",
   "execution_count": 28,
   "id": "ed2f73bc",
   "metadata": {},
   "outputs": [
    {
     "name": "stdout",
     "output_type": "stream",
     "text": [
      "-80\n"
     ]
    }
   ],
   "source": [
    "x = 79\n",
    "\n",
    "print(~x)"
   ]
  },
  {
   "cell_type": "code",
   "execution_count": 29,
   "id": "37ada935",
   "metadata": {},
   "outputs": [
    {
     "name": "stdout",
     "output_type": "stream",
     "text": [
      "78\n"
     ]
    }
   ],
   "source": [
    "x = -79\n",
    "\n",
    "print(~x)"
   ]
  },
  {
   "cell_type": "code",
   "execution_count": 27,
   "id": "de1a4862",
   "metadata": {},
   "outputs": [
    {
     "name": "stdout",
     "output_type": "stream",
     "text": [
      "-0b110\n",
      "-0b1100\n"
     ]
    }
   ],
   "source": [
    "# A disclaimer here - the bin() function output of a negative number in Python is not really how negative numbers\n",
    "# are represented in binary.\n",
    "\n",
    "print(bin(-6))\n",
    "\n",
    "print(bin(-12))"
   ]
  },
  {
   "cell_type": "code",
   "execution_count": null,
   "id": "bb7ed032",
   "metadata": {},
   "outputs": [],
   "source": []
  },
  {
   "cell_type": "code",
   "execution_count": null,
   "id": "ca545be3",
   "metadata": {},
   "outputs": [],
   "source": [
    "# Bitwise Not operator, at work in binary.\n",
    "\n",
    "# 5 in 8-bit binary is = 0(MSB) 000 0101. Its NOT is 1(MSB) 111 1010.\n",
    "# The complement of 5 we are expecting is -(5+1) = -6\n",
    "\n",
    "# -6 in binary is:\n",
    "\n",
    "#6 = 0(MSB) 000 0110, inverted is 1(MSB) 111 1001 + 1 (2s complement to get negative rep in binary) = 1(MSB) 111 1010 is -6\n",
    "\n",
    "# If you notice the binary representation of -6 is the same as the Bitwise NOT of 5. "
   ]
  },
  {
   "cell_type": "code",
   "execution_count": null,
   "id": "21b09f01",
   "metadata": {},
   "outputs": [],
   "source": [
    "print(5, bin(5))\n",
    "print(-6, bin(6), bin(-6))\n",
    "\n",
    "#Note how the bin() function in Python only adds a -sign before the POSITIVE bit representation of the number. Again, this\n",
    "# is not really how negative numbers are represented in binary machine code. "
   ]
  },
  {
   "cell_type": "code",
   "execution_count": null,
   "id": "9500ec85",
   "metadata": {},
   "outputs": [],
   "source": [
    "#Negative NOT example.\n",
    "\n",
    "# -21 in binary is\n",
    "# 21 = 0(MSB) 001 0101, its inverse is 1(MSB) 110 1010 + 1(2s complement to get neg rep in binary ) = 1(MSB) 110 1011 is -21\n",
    "\n",
    "#The complement of -21 we are expecting is -(-21+1) = 20\n",
    "\n",
    "# NOT of -21 = 1(MSB) 110 1011 = 0(MSB) 001 0100 = 20\n",
    "\n",
    "#As observed, the binary representation of 20 is the same as the bitwise NOT of -21"
   ]
  },
  {
   "cell_type": "code",
   "execution_count": null,
   "id": "4c90db24",
   "metadata": {},
   "outputs": [],
   "source": [
    "print(-21, bin(21), bin(-21))\n",
    "print(20, bin(20))"
   ]
  },
  {
   "cell_type": "code",
   "execution_count": 30,
   "id": "78a7d4f8",
   "metadata": {},
   "outputs": [
    {
     "name": "stdout",
     "output_type": "stream",
     "text": [
      "20\n"
     ]
    }
   ],
   "source": [
    "#Bitwise left shift. Moves the binary numbers specified number of spaces to the left and fills the specified number of zeros\n",
    "# to the right of the binary number - in effect multiplying the result by 2 for each shift. \n",
    "\n",
    "print(10 << 1)"
   ]
  },
  {
   "cell_type": "code",
   "execution_count": 31,
   "id": "11cb81d8",
   "metadata": {},
   "outputs": [
    {
     "name": "stdout",
     "output_type": "stream",
     "text": [
      "40\n"
     ]
    }
   ],
   "source": [
    "print(10 << 2)"
   ]
  },
  {
   "cell_type": "code",
   "execution_count": 32,
   "id": "435b28d4",
   "metadata": {},
   "outputs": [
    {
     "name": "stdout",
     "output_type": "stream",
     "text": [
      "80\n"
     ]
    }
   ],
   "source": [
    "print(10 << 3)"
   ]
  },
  {
   "cell_type": "code",
   "execution_count": null,
   "id": "8bede4a8",
   "metadata": {},
   "outputs": [],
   "source": [
    "#Binary representation of 10 = 0000 1010.\n",
    "#Left shift 1 = 0001 0100 = 20\n",
    "#left shift 2 - 0010 1000 = 40\n",
    "#Left shift 3 = 0101 0000 = 80"
   ]
  },
  {
   "cell_type": "code",
   "execution_count": 33,
   "id": "b142be2e",
   "metadata": {},
   "outputs": [
    {
     "name": "stdout",
     "output_type": "stream",
     "text": [
      "5\n"
     ]
    }
   ],
   "source": [
    "#Bitwise right shift. Moves the binary numbers specified number of spaces to the right and fills zeros to the left. It lets\n",
    "# any numbers overfilling the binary representation to fall off. In effect, dividing the binary number by 2 for every shift\n",
    "# and remainders also fall off\n",
    "\n",
    "print(10 >> 1)"
   ]
  },
  {
   "cell_type": "code",
   "execution_count": 34,
   "id": "26846e8a",
   "metadata": {},
   "outputs": [
    {
     "name": "stdout",
     "output_type": "stream",
     "text": [
      "2\n"
     ]
    }
   ],
   "source": [
    "print(10 >> 2)"
   ]
  },
  {
   "cell_type": "code",
   "execution_count": 35,
   "id": "f8121fb2",
   "metadata": {},
   "outputs": [
    {
     "name": "stdout",
     "output_type": "stream",
     "text": [
      "1\n"
     ]
    }
   ],
   "source": [
    "print(10 >> 3)"
   ]
  },
  {
   "cell_type": "code",
   "execution_count": 36,
   "id": "71867376",
   "metadata": {},
   "outputs": [
    {
     "name": "stdout",
     "output_type": "stream",
     "text": [
      "0\n"
     ]
    }
   ],
   "source": [
    "print(10 >> 4)"
   ]
  },
  {
   "cell_type": "code",
   "execution_count": null,
   "id": "6db3023e",
   "metadata": {},
   "outputs": [],
   "source": [
    "#Binary represenation of 10 = 0000 1010\n",
    "\n",
    "# Right shift 1 = 0000 0101 = 5\n",
    "# Right shift 2 = 0000 0010 = 2\n",
    "# Right shift 3 = 0000 0001 = 1\n",
    "# Right shift 4 = 0000 0000 = 0"
   ]
  },
  {
   "cell_type": "code",
   "execution_count": 40,
   "id": "c4c5b19a",
   "metadata": {},
   "outputs": [
    {
     "name": "stdout",
     "output_type": "stream",
     "text": [
      "104\n"
     ]
    }
   ],
   "source": [
    "print(13 << 3)"
   ]
  },
  {
   "cell_type": "code",
   "execution_count": 38,
   "id": "9d428015",
   "metadata": {},
   "outputs": [
    {
     "name": "stdout",
     "output_type": "stream",
     "text": [
      "0b1101\n"
     ]
    }
   ],
   "source": [
    "print(bin(13))\n",
    "\n",
    "#1101"
   ]
  },
  {
   "cell_type": "code",
   "execution_count": null,
   "id": "db147078",
   "metadata": {},
   "outputs": [],
   "source": [
    "1101 = 13\n",
    "11010 = 26\n",
    "110100 = 52\n",
    "1101000 = 104"
   ]
  },
  {
   "cell_type": "code",
   "execution_count": 41,
   "id": "7b9b1e7b",
   "metadata": {},
   "outputs": [
    {
     "name": "stdout",
     "output_type": "stream",
     "text": [
      "1\n"
     ]
    }
   ],
   "source": [
    "print(13 >> 3)"
   ]
  },
  {
   "cell_type": "code",
   "execution_count": null,
   "id": "df38368a",
   "metadata": {},
   "outputs": [],
   "source": [
    "print(13 >> 3)"
   ]
  },
  {
   "cell_type": "markdown",
   "id": "1b908cb6",
   "metadata": {},
   "source": [
    "### Assignment operators"
   ]
  },
  {
   "cell_type": "code",
   "execution_count": 42,
   "id": "e1c48d5a",
   "metadata": {},
   "outputs": [
    {
     "name": "stdout",
     "output_type": "stream",
     "text": [
      "20\n"
     ]
    }
   ],
   "source": [
    "#1. Assignment operator = assigns the value (or expression after evaluation) on the right to a variable on the left. \n",
    "\n",
    "x = 20\n",
    "print(x)\n"
   ]
  },
  {
   "cell_type": "code",
   "execution_count": 43,
   "id": "69230877",
   "metadata": {},
   "outputs": [
    {
     "name": "stdout",
     "output_type": "stream",
     "text": [
      "40\n"
     ]
    }
   ],
   "source": [
    "x = 20*2\n",
    "print(x)"
   ]
  },
  {
   "cell_type": "code",
   "execution_count": 44,
   "id": "246ac64e",
   "metadata": {},
   "outputs": [
    {
     "name": "stdout",
     "output_type": "stream",
     "text": [
      "nohtyP\n"
     ]
    }
   ],
   "source": [
    "x = 20\n",
    "y = 30\n",
    "z = 'Python' if x>=y else 'Python'[::-1]\n",
    "print(z)"
   ]
  },
  {
   "cell_type": "code",
   "execution_count": 45,
   "id": "28240c19",
   "metadata": {},
   "outputs": [
    {
     "name": "stdout",
     "output_type": "stream",
     "text": [
      "120\n"
     ]
    }
   ],
   "source": [
    "# The equal to = operator can also be used in one single line to update the value of varibale on the left. \n",
    "\n",
    "x = 20\n",
    "x += 100\n",
    "\n",
    "print(x)\n"
   ]
  },
  {
   "cell_type": "code",
   "execution_count": 46,
   "id": "53362f44",
   "metadata": {},
   "outputs": [
    {
     "name": "stdout",
     "output_type": "stream",
     "text": [
      "30 30\n"
     ]
    }
   ],
   "source": [
    "# Also, it can be used to assign multiple variables with the same value in the same line. \n",
    "\n",
    "a = b = 30\n",
    "\n",
    "print(a,b)"
   ]
  },
  {
   "cell_type": "code",
   "execution_count": 47,
   "id": "4e79993a",
   "metadata": {},
   "outputs": [
    {
     "name": "stdout",
     "output_type": "stream",
     "text": [
      "14010 14010 14010\n"
     ]
    }
   ],
   "source": [
    "a = b = c = 14010\n",
    "\n",
    "print(a,b,c)"
   ]
  },
  {
   "cell_type": "code",
   "execution_count": 48,
   "id": "92ddf787",
   "metadata": {},
   "outputs": [
    {
     "name": "stdout",
     "output_type": "stream",
     "text": [
      "True\n",
      "True\n"
     ]
    }
   ],
   "source": [
    "print(a is b)\n",
    "print(b is c)\n",
    "\n",
    "#As you can see, basically aliasing on the same object has been performed."
   ]
  },
  {
   "cell_type": "code",
   "execution_count": null,
   "id": "3c757df7",
   "metadata": {},
   "outputs": [],
   "source": [
    "#Also, multiple values to multiple variables can be assigned at the same time. "
   ]
  },
  {
   "cell_type": "code",
   "execution_count": 50,
   "id": "76b50927",
   "metadata": {},
   "outputs": [
    {
     "name": "stdout",
     "output_type": "stream",
     "text": [
      "1 2\n"
     ]
    }
   ],
   "source": [
    "a,b = 1,2\n",
    "\n",
    "print(a,b)"
   ]
  },
  {
   "cell_type": "code",
   "execution_count": 51,
   "id": "afcc6e7d",
   "metadata": {},
   "outputs": [
    {
     "ename": "TypeError",
     "evalue": "cannot unpack non-iterable int object",
     "output_type": "error",
     "traceback": [
      "\u001b[1;31m---------------------------------------------------------------------------\u001b[0m",
      "\u001b[1;31mTypeError\u001b[0m                                 Traceback (most recent call last)",
      "\u001b[1;32m<ipython-input-51-bdce2cd491e5>\u001b[0m in \u001b[0;36m<module>\u001b[1;34m\u001b[0m\n\u001b[1;32m----> 1\u001b[1;33m \u001b[0ma\u001b[0m\u001b[1;33m,\u001b[0m\u001b[0mb\u001b[0m \u001b[1;33m=\u001b[0m \u001b[1;36m100\u001b[0m\u001b[1;33m\u001b[0m\u001b[1;33m\u001b[0m\u001b[0m\n\u001b[0m\u001b[0;32m      2\u001b[0m \u001b[1;33m\u001b[0m\u001b[0m\n\u001b[0;32m      3\u001b[0m \u001b[0mprint\u001b[0m\u001b[1;33m(\u001b[0m\u001b[0ma\u001b[0m\u001b[1;33m)\u001b[0m\u001b[1;33m\u001b[0m\u001b[1;33m\u001b[0m\u001b[0m\n\u001b[0;32m      4\u001b[0m \u001b[0mprint\u001b[0m\u001b[1;33m(\u001b[0m\u001b[0mb\u001b[0m\u001b[1;33m)\u001b[0m\u001b[1;33m\u001b[0m\u001b[1;33m\u001b[0m\u001b[0m\n",
      "\u001b[1;31mTypeError\u001b[0m: cannot unpack non-iterable int object"
     ]
    }
   ],
   "source": [
    "a,b = 100\n",
    "\n",
    "print(a)\n",
    "print(b)"
   ]
  },
  {
   "cell_type": "code",
   "execution_count": null,
   "id": "427b142e",
   "metadata": {},
   "outputs": [],
   "source": []
  },
  {
   "cell_type": "code",
   "execution_count": null,
   "id": "2e20a53f",
   "metadata": {},
   "outputs": [],
   "source": []
  },
  {
   "cell_type": "code",
   "execution_count": null,
   "id": "a0495ff9",
   "metadata": {},
   "outputs": [],
   "source": []
  },
  {
   "cell_type": "code",
   "execution_count": 52,
   "id": "7ef2df51",
   "metadata": {},
   "outputs": [
    {
     "name": "stdout",
     "output_type": "stream",
     "text": [
      "120\n"
     ]
    }
   ],
   "source": [
    "#Compound assignment operators\n",
    "#1. += Updates the value of the variable by adding specified value to the value of the variable\n",
    "\n",
    "x = 20\n",
    "x += 100\n",
    "print(x)\n"
   ]
  },
  {
   "cell_type": "code",
   "execution_count": 53,
   "id": "4f1deb91",
   "metadata": {},
   "outputs": [
    {
     "name": "stdout",
     "output_type": "stream",
     "text": [
      "-80\n"
     ]
    }
   ],
   "source": [
    "#2. -= Updates the value of the variable by subtracting specified value from the variables value.\n",
    "\n",
    "x = 20\n",
    "x -= 100\n",
    "print(x)"
   ]
  },
  {
   "cell_type": "code",
   "execution_count": 54,
   "id": "fa02510e",
   "metadata": {},
   "outputs": [
    {
     "name": "stdout",
     "output_type": "stream",
     "text": [
      "2000\n"
     ]
    }
   ],
   "source": [
    "#3. *= Updates the value of the variable by multiplying the variables value by specified value\n",
    "\n",
    "x = 20\n",
    "x *= 100\n",
    "print(x)"
   ]
  },
  {
   "cell_type": "code",
   "execution_count": 55,
   "id": "7619eb00",
   "metadata": {},
   "outputs": [
    {
     "name": "stdout",
     "output_type": "stream",
     "text": [
      "0.2\n"
     ]
    }
   ],
   "source": [
    "#4. /= Updates the value of the variable by dividing the variables value by specified value\n",
    "\n",
    "x = 20\n",
    "x /= 100\n",
    "print(x)"
   ]
  },
  {
   "cell_type": "code",
   "execution_count": 56,
   "id": "3b079c58",
   "metadata": {},
   "outputs": [
    {
     "name": "stdout",
     "output_type": "stream",
     "text": [
      "16\n"
     ]
    }
   ],
   "source": [
    "#5. **= Updates the value of the variable by raising the variables value by power of specified value\n",
    "\n",
    "x = 2\n",
    "x **= 4\n",
    "print(x)\n"
   ]
  },
  {
   "cell_type": "code",
   "execution_count": 57,
   "id": "c6fbd823",
   "metadata": {},
   "outputs": [
    {
     "name": "stdout",
     "output_type": "stream",
     "text": [
      "3\n"
     ]
    }
   ],
   "source": [
    "#6. //= Updates the value of the variable by performing floor division on the variables value by specified value\n",
    "\n",
    "x = 14\n",
    "x //= 4\n",
    "print(x)\n"
   ]
  },
  {
   "cell_type": "code",
   "execution_count": 58,
   "id": "5d040fbe",
   "metadata": {},
   "outputs": [
    {
     "name": "stdout",
     "output_type": "stream",
     "text": [
      "2\n"
     ]
    }
   ],
   "source": [
    "#7. %= Updates the value of the variable by performing modulos operation on the variables value by specified value\n",
    "\n",
    "x = 14\n",
    "x %= 4\n",
    "print(x)\n"
   ]
  },
  {
   "cell_type": "code",
   "execution_count": 59,
   "id": "b3f25817",
   "metadata": {},
   "outputs": [
    {
     "name": "stdout",
     "output_type": "stream",
     "text": [
      "0b1110 0b100\n",
      "4 0b100\n"
     ]
    }
   ],
   "source": [
    "#8. &= Updates the value of the variable by performing Bitwise & operation on the variables value by specified value\n",
    "\n",
    "x = 14\n",
    "\n",
    "print(bin(14), bin(4))\n",
    "\n",
    "x &= 4\n",
    "print(x, bin(x))"
   ]
  },
  {
   "cell_type": "code",
   "execution_count": 60,
   "id": "3615a504",
   "metadata": {},
   "outputs": [
    {
     "name": "stdout",
     "output_type": "stream",
     "text": [
      "0b1110 0b100\n",
      "14 0b1110\n"
     ]
    }
   ],
   "source": [
    "#9. |= Updates the value of the variable by performing bitwise Or operation on the variables value by specified value\n",
    "\n",
    "x = 14\n",
    "print(bin(14), bin(4))\n",
    "\n",
    "x |= 4\n",
    "print(x, bin(x))"
   ]
  },
  {
   "cell_type": "code",
   "execution_count": 61,
   "id": "6a355596",
   "metadata": {},
   "outputs": [
    {
     "name": "stdout",
     "output_type": "stream",
     "text": [
      "0b1110 0b100\n",
      "10 0b1010\n"
     ]
    }
   ],
   "source": [
    "#10 ^= Updates the value of the variable by performing bitwise XOR operation on the variables value by specified value\n",
    "\n",
    "x = 14\n",
    "print(bin(14), bin(4))\n",
    "\n",
    "x ^= 4\n",
    "print(x, bin(x))"
   ]
  },
  {
   "cell_type": "code",
   "execution_count": 62,
   "id": "f4b4426e",
   "metadata": {},
   "outputs": [
    {
     "name": "stdout",
     "output_type": "stream",
     "text": [
      "0b1110\n",
      "224 0b11100000\n"
     ]
    }
   ],
   "source": [
    "#11. = Updates the value of the variable by performing bitwise left shift operation on the variables value by specified\n",
    "# value\n",
    "\n",
    "x = 14\n",
    "\n",
    "print(bin(14))\n",
    "\n",
    "x <<= 4\n",
    "\n",
    "print(x, bin(x))"
   ]
  },
  {
   "cell_type": "code",
   "execution_count": 63,
   "id": "494e99d3",
   "metadata": {},
   "outputs": [
    {
     "name": "stdout",
     "output_type": "stream",
     "text": [
      "0b10001110\n",
      "17 0b10001\n"
     ]
    }
   ],
   "source": [
    "#12. >>= Updates the value of the variable by performing bitwise right shift operation on the variables value by specified\n",
    "# value\n",
    "\n",
    "x = 142\n",
    "\n",
    "print(bin(142))\n",
    "\n",
    "x >>= 3\n",
    "print(x, bin(x))"
   ]
  },
  {
   "cell_type": "code",
   "execution_count": 64,
   "id": "79a3b352",
   "metadata": {},
   "outputs": [
    {
     "name": "stdout",
     "output_type": "stream",
     "text": [
      "1 2\n"
     ]
    }
   ],
   "source": [
    "#However, compound assignment is not supported by multiple value assignment. \n",
    "\n",
    "a,b = 1,2\n",
    "\n",
    "print(a,b)"
   ]
  },
  {
   "cell_type": "code",
   "execution_count": 65,
   "id": "72fb4a1a",
   "metadata": {},
   "outputs": [
    {
     "ename": "SyntaxError",
     "evalue": "illegal expression for augmented assignment (<ipython-input-65-91dbc3598229>, line 1)",
     "output_type": "error",
     "traceback": [
      "\u001b[1;36m  File \u001b[1;32m\"<ipython-input-65-91dbc3598229>\"\u001b[1;36m, line \u001b[1;32m1\u001b[0m\n\u001b[1;33m    a,b += 2\u001b[0m\n\u001b[1;37m    ^\u001b[0m\n\u001b[1;31mSyntaxError\u001b[0m\u001b[1;31m:\u001b[0m illegal expression for augmented assignment\n"
     ]
    }
   ],
   "source": [
    "a,b += 2\n",
    "\n",
    "print(a,b)"
   ]
  },
  {
   "cell_type": "markdown",
   "id": "7b959b6c",
   "metadata": {},
   "source": [
    "### Unary Minus Operator"
   ]
  },
  {
   "cell_type": "code",
   "execution_count": 66,
   "id": "1cb351df",
   "metadata": {},
   "outputs": [
    {
     "name": "stdout",
     "output_type": "stream",
     "text": [
      "-100\n"
     ]
    }
   ],
   "source": [
    "#Unary Minus Operator. Assigns negative of the value specified to the variable. \n",
    "\n",
    "a = 100\n",
    "b = -a\n",
    "\n",
    "print(b)"
   ]
  },
  {
   "cell_type": "code",
   "execution_count": 67,
   "id": "d5ccfc29",
   "metadata": {},
   "outputs": [
    {
     "name": "stdout",
     "output_type": "stream",
     "text": [
      "-100 100\n"
     ]
    }
   ],
   "source": [
    "a = -100\n",
    "b = -a\n",
    "\n",
    "print(a, b)"
   ]
  },
  {
   "cell_type": "markdown",
   "id": "a5c9154e",
   "metadata": {},
   "source": [
    "### Relational operators"
   ]
  },
  {
   "cell_type": "code",
   "execution_count": null,
   "id": "8494d841",
   "metadata": {},
   "outputs": [],
   "source": [
    "#Relational operators compare two values and return a boolean value true or false depending on the operators specified.\n",
    "# They do not work between datatypes (except integer and float comparison).\n",
    "\n",
    "# We have seen the use of relationship operators between the datatypes String, Lists, Tuples, Dictionaries and Sets\n",
    "# individually during the study of the datatypes. So, here we are only focusing on the use of these operators between\n",
    "# numbers."
   ]
  },
  {
   "cell_type": "code",
   "execution_count": 68,
   "id": "67cc8dec",
   "metadata": {},
   "outputs": [
    {
     "name": "stdout",
     "output_type": "stream",
     "text": [
      "False\n"
     ]
    }
   ],
   "source": [
    "#1. Equality operator == \n",
    "\n",
    "x = 10\n",
    "y = 20\n",
    "\n",
    "print(x==y)\n",
    "\n",
    "#The equality operator is denoted by two = signs (==) and is different from the assigment equal to = operator which is only\n",
    "# one = sign."
   ]
  },
  {
   "cell_type": "code",
   "execution_count": 69,
   "id": "252dbe77",
   "metadata": {},
   "outputs": [
    {
     "name": "stdout",
     "output_type": "stream",
     "text": [
      "False\n"
     ]
    }
   ],
   "source": [
    "x = 10\n",
    "y = 10.2\n",
    "\n",
    "print(x==y)"
   ]
  },
  {
   "cell_type": "code",
   "execution_count": 70,
   "id": "9c5f9036",
   "metadata": {},
   "outputs": [
    {
     "name": "stdout",
     "output_type": "stream",
     "text": [
      "True\n",
      "False\n"
     ]
    }
   ],
   "source": [
    "#2. Not equals != operator. Checks if value on the left is not equal to value on the right and returns True or False.\n",
    "\n",
    "x = 10\n",
    "y = 20\n",
    "z = 10\n",
    "\n",
    "print(x!=y)\n",
    "print(x!=z)"
   ]
  },
  {
   "cell_type": "code",
   "execution_count": 71,
   "id": "8d3fdec6",
   "metadata": {},
   "outputs": [
    {
     "name": "stdout",
     "output_type": "stream",
     "text": [
      "True\n",
      "True\n"
     ]
    }
   ],
   "source": [
    "print(y!=x)\n",
    "print(y!=z)"
   ]
  },
  {
   "cell_type": "code",
   "execution_count": 72,
   "id": "17f70d5d",
   "metadata": {},
   "outputs": [
    {
     "name": "stdout",
     "output_type": "stream",
     "text": [
      "False\n"
     ]
    }
   ],
   "source": [
    "#3. Greater than > operator checks if value on the left is greater than value on the right. \n",
    "\n",
    "x = 10\n",
    "y = 20\n",
    "\n",
    "print(x>y)\n",
    "\n"
   ]
  },
  {
   "cell_type": "code",
   "execution_count": 73,
   "id": "26f6692e",
   "metadata": {},
   "outputs": [
    {
     "name": "stdout",
     "output_type": "stream",
     "text": [
      "True\n"
     ]
    }
   ],
   "source": [
    "print(y>x)"
   ]
  },
  {
   "cell_type": "code",
   "execution_count": 74,
   "id": "6b88178d",
   "metadata": {},
   "outputs": [
    {
     "name": "stdout",
     "output_type": "stream",
     "text": [
      "True\n"
     ]
    }
   ],
   "source": [
    "#4. Less than < operator checks if value on the left is less than value on the right. \n",
    "\n",
    "print(x<y)"
   ]
  },
  {
   "cell_type": "code",
   "execution_count": 75,
   "id": "3b4f75fd",
   "metadata": {},
   "outputs": [
    {
     "name": "stdout",
     "output_type": "stream",
     "text": [
      "False\n"
     ]
    }
   ],
   "source": [
    "print(y<x)"
   ]
  },
  {
   "cell_type": "code",
   "execution_count": 76,
   "id": "0e21c5cd",
   "metadata": {},
   "outputs": [
    {
     "name": "stdout",
     "output_type": "stream",
     "text": [
      "False\n",
      "True\n",
      "True\n"
     ]
    }
   ],
   "source": [
    "#5. Greater than or equal to >= operator - checks if value on the left is greater than OR equal to value on the right. \n",
    "\n",
    "x = 10\n",
    "y = 20\n",
    "z = 10\n",
    "p = 5\n",
    "\n",
    "print(x>=y)\n",
    "print(x>=p)\n",
    "print(x>=z)"
   ]
  },
  {
   "cell_type": "code",
   "execution_count": 77,
   "id": "fc076b53",
   "metadata": {},
   "outputs": [
    {
     "name": "stdout",
     "output_type": "stream",
     "text": [
      "True\n",
      "False\n",
      "True\n"
     ]
    }
   ],
   "source": [
    "#6. less than or equal to <= operator - checks if value on the left is less than OR equal to value on the right. \n",
    "\n",
    "print(x<=y)\n",
    "print(x<=p)\n",
    "print(x<=z)"
   ]
  },
  {
   "cell_type": "code",
   "execution_count": 78,
   "id": "09066005",
   "metadata": {},
   "outputs": [
    {
     "name": "stdout",
     "output_type": "stream",
     "text": [
      "True\n"
     ]
    }
   ],
   "source": [
    "# Relational operators can be 'chained' i.e. multiple relations checked at once. \n",
    "\n",
    "\n",
    "x = 20\n",
    "y = 10\n",
    "z = 10\n",
    "p = 5\n",
    "\n",
    "print(p<=y<=z<=x)"
   ]
  },
  {
   "cell_type": "code",
   "execution_count": 79,
   "id": "c590949b",
   "metadata": {},
   "outputs": [
    {
     "name": "stdout",
     "output_type": "stream",
     "text": [
      "True\n"
     ]
    }
   ],
   "source": [
    "print(p<y<=z<x)"
   ]
  },
  {
   "cell_type": "code",
   "execution_count": 80,
   "id": "a10f272e",
   "metadata": {},
   "outputs": [
    {
     "name": "stdout",
     "output_type": "stream",
     "text": [
      "False\n"
     ]
    }
   ],
   "source": [
    "print(p<y<z<x)"
   ]
  },
  {
   "cell_type": "code",
   "execution_count": 81,
   "id": "ba5b3903",
   "metadata": {},
   "outputs": [],
   "source": [
    "#However, note that if all the expressions in the chained relationship comparison return True - only then will we get a \n",
    "# True result. If any one of the expressions evaluates to False - the whole chain will return a False. "
   ]
  },
  {
   "cell_type": "code",
   "execution_count": 82,
   "id": "fd4f55af",
   "metadata": {},
   "outputs": [
    {
     "name": "stdout",
     "output_type": "stream",
     "text": [
      "Less than\n"
     ]
    }
   ],
   "source": [
    "# They are most often used in if - elif - else condition statements. \n",
    "\n",
    "x = 10 ; y = 15\n",
    "\n",
    "if x > y:\n",
    "    print('Greater')\n",
    "else:\n",
    "    print('Less than')"
   ]
  },
  {
   "cell_type": "markdown",
   "id": "998d6acd",
   "metadata": {},
   "source": [
    "### Logical Operators / Boolean Operators"
   ]
  },
  {
   "cell_type": "code",
   "execution_count": null,
   "id": "6c738ee3",
   "metadata": {},
   "outputs": [],
   "source": [
    "# Logical operators are useful to construct compound conditions. A compound condition is a combination of more than one\n",
    "# simple condition. Each of the simple conditions is evaluated to True or False and then the decision is taken to know\n",
    "# whether the total condition is True or False. We should keep in mind that in case of logical operators, False indicates\n",
    "# 0 and True indicates any other number."
   ]
  },
  {
   "cell_type": "code",
   "execution_count": 83,
   "id": "a870726b",
   "metadata": {},
   "outputs": [
    {
     "name": "stdout",
     "output_type": "stream",
     "text": [
      "True\n",
      "False\n",
      "False\n"
     ]
    }
   ],
   "source": [
    "#And operator - Applied to two operands - returns value on the left if it is false. Else returns value on right. \n",
    "\n",
    "a = b = True\n",
    "c = False\n",
    "\n",
    "print(a and b)\n",
    "print(c and b)\n",
    "print(b and c)"
   ]
  },
  {
   "cell_type": "code",
   "execution_count": 85,
   "id": "49cf5f6c",
   "metadata": {},
   "outputs": [
    {
     "name": "stdout",
     "output_type": "stream",
     "text": [
      "20\n",
      "0\n",
      "0\n",
      "10\n"
     ]
    }
   ],
   "source": [
    "x = 10\n",
    "y = 20\n",
    "z = 0\n",
    "\n",
    "print(x and y)\n",
    "print(z and y)\n",
    "print(y and z)\n",
    "\n",
    "print(y and x)"
   ]
  },
  {
   "cell_type": "code",
   "execution_count": null,
   "id": "aab97454",
   "metadata": {},
   "outputs": [],
   "source": [
    "#Or operator - Applied to two operands - returns value on the left if True, Else returns value on the right. \n",
    "\n",
    "a = b = True\n",
    "c = False"
   ]
  },
  {
   "cell_type": "code",
   "execution_count": 87,
   "id": "c5d8a01d",
   "metadata": {},
   "outputs": [
    {
     "name": "stdout",
     "output_type": "stream",
     "text": [
      "True\n",
      "True\n",
      "True\n",
      "True\n"
     ]
    }
   ],
   "source": [
    "print(a or b)\n",
    "print(b or c)\n",
    "print(a or c)\n",
    "print(c or a)\n"
   ]
  },
  {
   "cell_type": "code",
   "execution_count": 88,
   "id": "75d1e311",
   "metadata": {},
   "outputs": [],
   "source": [
    "x = 10\n",
    "y = 20\n",
    "z = 0"
   ]
  },
  {
   "cell_type": "code",
   "execution_count": 89,
   "id": "cc56cbaf",
   "metadata": {},
   "outputs": [
    {
     "name": "stdout",
     "output_type": "stream",
     "text": [
      "10\n",
      "20\n",
      "20\n"
     ]
    }
   ],
   "source": [
    "print(x or y)\n",
    "print(z or y)\n",
    "print(y or z)"
   ]
  },
  {
   "cell_type": "code",
   "execution_count": 90,
   "id": "68a82394",
   "metadata": {},
   "outputs": [
    {
     "name": "stdout",
     "output_type": "stream",
     "text": [
      "False\n",
      "False\n",
      "True\n"
     ]
    }
   ],
   "source": [
    "#Not operator - Applied on one operand and returns opposite of the value of the operand\n",
    "\n",
    "a = b = True\n",
    "c = False\n",
    "\n",
    "print(not a)\n",
    "print(not b)\n",
    "print(not c)"
   ]
  },
  {
   "cell_type": "code",
   "execution_count": 91,
   "id": "804535b4",
   "metadata": {},
   "outputs": [
    {
     "name": "stdout",
     "output_type": "stream",
     "text": [
      "False\n",
      "False\n",
      "True\n"
     ]
    }
   ],
   "source": [
    "print(not x)\n",
    "print(not y)\n",
    "print(not z)"
   ]
  },
  {
   "cell_type": "code",
   "execution_count": 92,
   "id": "1c5bbc4c",
   "metadata": {},
   "outputs": [
    {
     "name": "stdout",
     "output_type": "stream",
     "text": [
      "30\n"
     ]
    }
   ],
   "source": [
    "#Logical operators can also be chained\n",
    "\n",
    "# The order of precedence is - Not, or, and - in this order.\n",
    "\n",
    "p = 0\n",
    "q = 10\n",
    "r = 20\n",
    "s = 30\n",
    "\n",
    "print(q and r and s) # First evaluates the first and condition. If True, moves on to evaluate the 2nd and condition and \n",
    "# returns this value. If not, then as rules for only two operands - returns q if q is false, else r. "
   ]
  },
  {
   "cell_type": "code",
   "execution_count": 93,
   "id": "579b6560",
   "metadata": {},
   "outputs": [
    {
     "name": "stdout",
     "output_type": "stream",
     "text": [
      "0\n"
     ]
    }
   ],
   "source": [
    "print(q and r and p) # First evaluates the first and condition. If True, moves on to evaluate the 2nd and condition and \n",
    "# returns the value. If not, then as rules for and operator for only two operands - returns q if q is false, else r. \n"
   ]
  },
  {
   "cell_type": "code",
   "execution_count": 94,
   "id": "23a14daa",
   "metadata": {},
   "outputs": [
    {
     "name": "stdout",
     "output_type": "stream",
     "text": [
      "0\n"
     ]
    }
   ],
   "source": [
    "p = 0\n",
    "q = 10\n",
    "r = 20\n",
    "s = 30\n",
    "\n",
    "print(q and p and r) # First evaluates the first and condition. If True, moves on to evaluate the 2nd and condition and\n",
    "# returns the value. If not, then as rules for and operator for only two operands - returns q if q is false, else r. \n",
    "\n"
   ]
  },
  {
   "cell_type": "code",
   "execution_count": 95,
   "id": "8ea7de4e",
   "metadata": {},
   "outputs": [
    {
     "name": "stdout",
     "output_type": "stream",
     "text": [
      "0\n"
     ]
    }
   ],
   "source": [
    "p = 0\n",
    "q = 10\n",
    "r = 20\n",
    "s = 30\n",
    "\n",
    "print(p and q and r) # First evaluates the first and condition. If True, moves on to evaluate the 2nd and condition and\n",
    "# returns the value. If not, then as rules for and operator for only two operands - returns q if q is false, else r. \n",
    "\n"
   ]
  },
  {
   "cell_type": "code",
   "execution_count": 96,
   "id": "85fddda7",
   "metadata": {},
   "outputs": [
    {
     "name": "stdout",
     "output_type": "stream",
     "text": [
      "10\n"
     ]
    }
   ],
   "source": [
    "p = s = 0\n",
    "q = 10\n",
    "r = 20\n",
    "\n",
    "\n",
    "print(p or q or r) # First evaluates the first or condition. If either of the operands return True, then returns the first\n",
    "# operand that returned True, else returns the result of the second or condition. \n",
    "\n",
    "\n"
   ]
  },
  {
   "cell_type": "code",
   "execution_count": 97,
   "id": "7be7ff65",
   "metadata": {},
   "outputs": [
    {
     "name": "stdout",
     "output_type": "stream",
     "text": [
      "10\n"
     ]
    }
   ],
   "source": [
    "print(q or p or r) # First evaluates the first or condition. If either of the operands return True, then returns the first\n",
    "# operand that returned True, else returns the result of the second or condition. \n"
   ]
  },
  {
   "cell_type": "code",
   "execution_count": 98,
   "id": "ee86e1e9",
   "metadata": {},
   "outputs": [
    {
     "name": "stdout",
     "output_type": "stream",
     "text": [
      "20\n"
     ]
    }
   ],
   "source": [
    "print(p or s or r) # First evaluates the first or condition. If either of the operands return True, then returns the first\n",
    "# operand that returned True, else returns the result of the second or condition. \n"
   ]
  },
  {
   "cell_type": "code",
   "execution_count": 99,
   "id": "78e2eb68",
   "metadata": {},
   "outputs": [
    {
     "name": "stdout",
     "output_type": "stream",
     "text": [
      "0\n"
     ]
    }
   ],
   "source": [
    "p = s = False\n",
    "t = 0\n",
    "q = 10\n",
    "\n",
    "print(p or s or t) # First evaluates the first or condition. If either of the operands return True, then returns the first\n",
    "# operand that returned True, else returns the result of the second or condition. \n"
   ]
  },
  {
   "cell_type": "code",
   "execution_count": 100,
   "id": "5599ee08",
   "metadata": {},
   "outputs": [
    {
     "name": "stdout",
     "output_type": "stream",
     "text": [
      "20\n"
     ]
    }
   ],
   "source": [
    "p = s = False\n",
    "t = 0\n",
    "q = 10\n",
    "u = 20\n",
    "v = 30\n",
    "\n",
    "print(q and u or v) #As per order precedence, needs to evaluate if the or condition first. However, since the FIRST operand\n",
    "# operand on left is itself a logical operand - needs to evaluate that based on the rules for the respective logical operator."
   ]
  },
  {
   "cell_type": "code",
   "execution_count": 101,
   "id": "ee6e1a16",
   "metadata": {},
   "outputs": [
    {
     "name": "stdout",
     "output_type": "stream",
     "text": [
      "30\n"
     ]
    }
   ],
   "source": [
    "print(q and s or v) #As per order precedence, needs to evaluate if the or condition first. However, since the FIRST operand\n",
    "# on left is itself a logical operand - needs to evaluate that based on the rules for the respective logical operator."
   ]
  },
  {
   "cell_type": "code",
   "execution_count": 102,
   "id": "19a3e0f4",
   "metadata": {},
   "outputs": [
    {
     "name": "stdout",
     "output_type": "stream",
     "text": [
      "10\n"
     ]
    }
   ],
   "source": [
    "p = s = False\n",
    "t = 0\n",
    "q = 10\n",
    "u = 20\n",
    "v = 30\n",
    "\n",
    "\n",
    "\n",
    "print(q or u and v) # #As per order precedence, needs to evaluate the or condition first. Since, q is already true it\n",
    "# returns value of q.\n"
   ]
  },
  {
   "cell_type": "code",
   "execution_count": 103,
   "id": "c9d44f18",
   "metadata": {},
   "outputs": [
    {
     "name": "stdout",
     "output_type": "stream",
     "text": [
      "30\n"
     ]
    }
   ],
   "source": [
    "print(t or u and v) # As per order precedence, needs to evaluate the or condition first. Since, t is false, it moves on to\n",
    "# evaluating - u and v(as the right side operand of the or condition). As per the logical operator rules, it returns the \n",
    "# value on the right if the left value is true. If the value on the left of the logical and operator is false, then returns\n",
    "# that value. "
   ]
  },
  {
   "cell_type": "code",
   "execution_count": 104,
   "id": "16a631bd",
   "metadata": {},
   "outputs": [
    {
     "name": "stdout",
     "output_type": "stream",
     "text": [
      "0\n"
     ]
    }
   ],
   "source": [
    "p = s = False\n",
    "t = 0\n",
    "q = 10\n",
    "u = 20\n",
    "v = 30\n",
    "\n",
    "print(s or t and v) # As per order precedence, needs to evaluate the or condition first. Since, t is false, it moves on to\n",
    "# evaluating - u and v(as the right side operand of the or condition). As per the logical operator rules, it returns the \n",
    "# value on the right if the first value is true. If the value on the left of the logical and operator is false, then returns\n",
    "# that value. "
   ]
  },
  {
   "cell_type": "code",
   "execution_count": 105,
   "id": "4e350b85",
   "metadata": {},
   "outputs": [
    {
     "name": "stdout",
     "output_type": "stream",
     "text": [
      "True\n"
     ]
    }
   ],
   "source": [
    "p = s = False\n",
    "t = 0\n",
    "q = 10\n",
    "u = 20\n",
    "v = 30\n",
    "\n",
    "print(s or not t)"
   ]
  },
  {
   "cell_type": "code",
   "execution_count": 106,
   "id": "8ae5b450",
   "metadata": {},
   "outputs": [
    {
     "name": "stdout",
     "output_type": "stream",
     "text": [
      "True\n"
     ]
    }
   ],
   "source": [
    "print(not t or s)"
   ]
  },
  {
   "cell_type": "code",
   "execution_count": 107,
   "id": "729ad87b",
   "metadata": {},
   "outputs": [
    {
     "name": "stdout",
     "output_type": "stream",
     "text": [
      "10\n"
     ]
    }
   ],
   "source": [
    "print(q or not t)"
   ]
  },
  {
   "cell_type": "code",
   "execution_count": 108,
   "id": "decc59d8",
   "metadata": {},
   "outputs": [
    {
     "name": "stdout",
     "output_type": "stream",
     "text": [
      "True\n"
     ]
    }
   ],
   "source": [
    "print(s or not t)"
   ]
  },
  {
   "cell_type": "code",
   "execution_count": 109,
   "id": "6ef78bd3",
   "metadata": {},
   "outputs": [
    {
     "name": "stdout",
     "output_type": "stream",
     "text": [
      "True\n"
     ]
    }
   ],
   "source": [
    "p = s = False\n",
    "t = 0\n",
    "q = 10\n",
    "u = 20\n",
    "v = 30\n",
    "\n",
    "print(not t or q)"
   ]
  },
  {
   "cell_type": "code",
   "execution_count": 110,
   "id": "6ea69754",
   "metadata": {},
   "outputs": [
    {
     "name": "stdout",
     "output_type": "stream",
     "text": [
      "30\n"
     ]
    }
   ],
   "source": [
    "print(not q or v)"
   ]
  },
  {
   "cell_type": "code",
   "execution_count": 111,
   "id": "af30b6b1",
   "metadata": {},
   "outputs": [
    {
     "name": "stdout",
     "output_type": "stream",
     "text": [
      "If condition is True\n"
     ]
    }
   ],
   "source": [
    "# Logical operators are often used with if - elif - else conditions:\n",
    "\n",
    "p = s = False ; t = 0 ; q = 10 ; u = 20 ; v = 30\n",
    "\n",
    "if q:\n",
    "    print('If condition is True')\n",
    "elif u:\n",
    "    print('1st Elif condition is True')\n",
    "elif s:\n",
    "    print('This 2nd elif condition will not be entered till the elif evaluates to True')\n",
    "else:\n",
    "    print('''I will be printed if the 1st if condition and the 2 elif conditions are false. Note how there is no \n",
    "    condition on the else statement. Else statement is a catch all - if all the if and elif statements dont work THEN\n",
    "    the else condition comes into play. We can have if without elif and else. We can have if + elif(s) without else. But\n",
    "    in an if block we cannot have else without the if. (We can have else as part of a for loop - more on that later)''')"
   ]
  },
  {
   "cell_type": "code",
   "execution_count": 112,
   "id": "306522c7",
   "metadata": {},
   "outputs": [
    {
     "name": "stdout",
     "output_type": "stream",
     "text": [
      "1st Elif condition is True\n"
     ]
    }
   ],
   "source": [
    "p = s = False ; t = 0 ; q = 10 ; u = 20 ; v = 30\n",
    "\n",
    "if t:\n",
    "    print('If condition is True')\n",
    "elif u:\n",
    "    print('1st Elif condition is True')\n",
    "elif s:\n",
    "    print('This 2nd elif condition will not be entered till the elif evaluates to True')\n",
    "else:\n",
    "    print('''I will be printed if the 1st if condition and the 2 elif conditions are false. Note how there is no \n",
    "    condition on the else statement. Else statement is a catch all - if all the if and elif statements dont work THEN\n",
    "    the else condition comes into play. We can have if without elif and else. We can have if + elif(s) without else. But\n",
    "    in an if block we cannot have else without the if. (We can have else as part of a for loop - more on that later)''')"
   ]
  },
  {
   "cell_type": "code",
   "execution_count": 113,
   "id": "b52720e2",
   "metadata": {},
   "outputs": [
    {
     "name": "stdout",
     "output_type": "stream",
     "text": [
      "I will be printed if the 1st if condition and the 2 elif conditions are false. Note how there is no \n",
      "    condition on the else statement. Else statement is a catch all - if all the if and elif statements dont work THEN\n",
      "    the else condition comes into play. We can have if without elif and else. We can have if + elif(s) without else. But\n",
      "    in an if block we cannot have else without the if. (We can have else as part of a for loop - more on that later)\n"
     ]
    }
   ],
   "source": [
    "p = s = False ; t = 0 ; q = 10 ; u = 20 ; v = 30\n",
    "\n",
    "if p:\n",
    "    print('If condition is True')\n",
    "elif s:\n",
    "    print('1st Elif condition is True')\n",
    "elif t:\n",
    "    print('This 2nd elif condition will not be entered till the elif evaluates to True')\n",
    "else:\n",
    "    print('''I will be printed if the 1st if condition and the 2 elif conditions are false. Note how there is no \n",
    "    condition on the else statement. Else statement is a catch all - if all the if and elif statements dont work THEN\n",
    "    the else condition comes into play. We can have if without elif and else. We can have if + elif(s) without else. But\n",
    "    in an if block we cannot have else without the if. (We can have else as part of a for loop - more on that later)''')"
   ]
  },
  {
   "cell_type": "code",
   "execution_count": 114,
   "id": "35875b2b",
   "metadata": {},
   "outputs": [
    {
     "name": "stdout",
     "output_type": "stream",
     "text": [
      "This 2nd elif condition will not be entered till the elif evaluates to True\n"
     ]
    }
   ],
   "source": [
    "p = s = False ; t = 0 ; q = 10 ; u = 20 ; v = 30\n",
    "\n",
    "if p:\n",
    "    print('If condition is True')\n",
    "elif s:\n",
    "    print('1st Elif condition is True')\n",
    "elif q:\n",
    "    print('This 2nd elif condition will not be entered till the elif evaluates to True')\n",
    "else:\n",
    "    print('''I will be printed if the 1st if condition and the 2 elif conditions are false. Note how there is no \n",
    "    condition on the else statement. Else statement is a catch all - if all the if and elif statements dont work THEN\n",
    "    the else condition comes into play. We can have if without elif and else. We can have if + elif(s) without else. But\n",
    "    in an if block we cannot have else without the if. (We can have else as part of a for loop - more on that later)''')"
   ]
  },
  {
   "cell_type": "code",
   "execution_count": 115,
   "id": "374ba604",
   "metadata": {},
   "outputs": [
    {
     "name": "stdout",
     "output_type": "stream",
     "text": [
      "If condition is True\n"
     ]
    }
   ],
   "source": [
    "p = s = 100 ; t = 0 ; q = 10 ; u = 20 ; v = 30\n",
    "\n",
    "if p > t:\n",
    "    print('If condition is True')\n",
    "elif s:\n",
    "    print('1st Elif condition is True')\n",
    "elif q:\n",
    "    print('This 2nd elif condition will not be entered till the elif evaluates to True')\n",
    "else:\n",
    "    print('''I will be printed if the 1st if condition and the 2 elif conditions are false. Note how there is no \n",
    "    condition on the else statement. Else statement is a catch all - if all the if and elif statements dont work THEN\n",
    "    the else condition comes into play. We can have if without elif and else. We can have if + elif(s) without else. But\n",
    "    in an if block we cannot have else without the if. (We can have else as part of a for loop - more on that later)''')"
   ]
  },
  {
   "cell_type": "code",
   "execution_count": 116,
   "id": "c403bc7f",
   "metadata": {},
   "outputs": [
    {
     "name": "stdout",
     "output_type": "stream",
     "text": [
      "1st Elif condition is True\n"
     ]
    }
   ],
   "source": [
    "p = s = 100 ; t = 0 ; q = 10 ; u = 20 ; v = 30\n",
    "\n",
    "if p < t:\n",
    "    print('If condition is True')\n",
    "elif s:\n",
    "    print('1st Elif condition is True')\n",
    "elif q:\n",
    "    print('This 2nd elif condition will not be entered till the elif evaluates to True')\n",
    "else:\n",
    "    print('''I will be printed if the 1st if condition and the 2 elif conditions are false. Note how there is no \n",
    "    condition on the else statement. Else statement is a catch all - if all the if and elif statements dont work THEN\n",
    "    the else condition comes into play. We can have if without elif and else. We can have if + elif(s) without else. But\n",
    "    in an if block we cannot have else without the if. (We can have else as part of a for loop - more on that later)''')"
   ]
  },
  {
   "cell_type": "code",
   "execution_count": 117,
   "id": "6710e272",
   "metadata": {},
   "outputs": [
    {
     "name": "stdout",
     "output_type": "stream",
     "text": [
      "1st Elif condition is True\n"
     ]
    }
   ],
   "source": [
    "p = s = 100 ; t = 0 ; q = 10 ; u = 20 ; v = 30\n",
    "\n",
    "if p < t:\n",
    "    print('If condition is True')\n",
    "elif s>=t:\n",
    "    print('1st Elif condition is True')\n",
    "elif t > p:\n",
    "    print('This 2nd elif condition will not be entered till the elif evaluates to True')\n",
    "else:\n",
    "    print('''I will be printed if the 1st if condition and the 2 elif conditions are false. Note how there is no \n",
    "    condition on the else statement. Else statement is a catch all - if all the if and elif statements dont work THEN\n",
    "    the else condition comes into play. We can have if without elif and else. We can have if + elif(s) without else. But\n",
    "    in an if block we cannot have else without the if. (We can have else as part of a for loop - more on that later)''')"
   ]
  },
  {
   "cell_type": "code",
   "execution_count": 118,
   "id": "d13da8e5",
   "metadata": {},
   "outputs": [
    {
     "name": "stdout",
     "output_type": "stream",
     "text": [
      "I will be printed if the 1st if condition and the 2 elif conditions are false. Note how there is no \n",
      "    condition on the else statement. Else statement is a catch all - if all the if and elif statements dont work THEN\n",
      "    the else condition comes into play. We can have if without elif and else. We can have if + elif(s) without else. But\n",
      "    in an if block we cannot have else without the if. (We can have else as part of a for loop - more on that later)\n"
     ]
    }
   ],
   "source": [
    "p = s = 100 ; t = 0 ; q = 10 ; u = 20 ; v = 30\n",
    "\n",
    "if p < t:\n",
    "    print('If condition is True')\n",
    "elif s<=t:\n",
    "    print('1st Elif condition is True')\n",
    "elif t > p:\n",
    "    print('This 2nd elif condition will not be entered till the elif evaluates to True')\n",
    "else:\n",
    "    print('''I will be printed if the 1st if condition and the 2 elif conditions are false. Note how there is no \n",
    "    condition on the else statement. Else statement is a catch all - if all the if and elif statements dont work THEN\n",
    "    the else condition comes into play. We can have if without elif and else. We can have if + elif(s) without else. But\n",
    "    in an if block we cannot have else without the if. (We can have else as part of a for loop - more on that later)''')"
   ]
  },
  {
   "cell_type": "code",
   "execution_count": 119,
   "id": "c888c156",
   "metadata": {},
   "outputs": [
    {
     "name": "stdout",
     "output_type": "stream",
     "text": [
      "This 2nd elif condition will not be entered till the elif evaluates to True\n"
     ]
    }
   ],
   "source": [
    "p = s = 100 ; t = 0 ; q = 10 ; u = 20 ; v = 30\n",
    "\n",
    "if p < t:\n",
    "    print('If condition is True')\n",
    "elif s<=t:\n",
    "    print('1st Elif condition is True')\n",
    "elif t < p:\n",
    "    print('This 2nd elif condition will not be entered till the elif evaluates to True')\n",
    "else:\n",
    "    print('''I will be printed if the 1st if condition and the 2 elif conditions are false. Note how there is no \n",
    "    condition on the else statement. Else statement is a catch all - if all the if and elif statements dont work THEN\n",
    "    the else condition comes into play. We can have if without elif and else. We can have if + elif(s) without else. But\n",
    "    in an if block we cannot have else without the if. (We can have else as part of a for loop - more on that later)''')"
   ]
  },
  {
   "cell_type": "code",
   "execution_count": 120,
   "id": "38ab778e",
   "metadata": {},
   "outputs": [
    {
     "name": "stdout",
     "output_type": "stream",
     "text": [
      "If condition is True\n"
     ]
    }
   ],
   "source": [
    "p = s = 100 ; t = 0 ; q = 10 ; u = 20 ; v = 30\n",
    "\n",
    "if p > t and q > t:\n",
    "    print('If condition is True')\n",
    "elif s>=t:\n",
    "    print('1st Elif condition is True')\n",
    "elif t > p:\n",
    "    print('This 2nd elif condition will not be entered till the elif evaluates to True')\n",
    "else:\n",
    "    print('''I will be printed if the 1st if condition and the 2 elif conditions are false. Note how there is no \n",
    "    condition on the else statement. Else statement is a catch all - if all the if and elif statements dont work THEN\n",
    "    the else condition comes into play. We can have if without elif and else. We can have if + elif(s) without else. But\n",
    "    in an if block we cannot have else without the if. (We can have else as part of a for loop - more on that later)''')"
   ]
  },
  {
   "cell_type": "code",
   "execution_count": 121,
   "id": "340c6cc7",
   "metadata": {},
   "outputs": [
    {
     "name": "stdout",
     "output_type": "stream",
     "text": [
      "If condition is True\n"
     ]
    }
   ],
   "source": [
    "p = s = 100 ; t = 0 ; q = 10 ; u = 20 ; v = 30\n",
    "\n",
    "if p > t or q > t:\n",
    "    print('If condition is True')\n",
    "elif s>=t:\n",
    "    print('1st Elif condition is True')\n",
    "elif t > p:\n",
    "    print('This 2nd elif condition will not be entered till the elif evaluates to True')\n",
    "else:\n",
    "    print('''I will be printed if the 1st if condition and the 2 elif conditions are false. Note how there is no \n",
    "    condition on the else statement. Else statement is a catch all - if all the if and elif statements dont work THEN\n",
    "    the else condition comes into play. We can have if without elif and else. We can have if + elif(s) without else. But\n",
    "    in an if block we cannot have else without the if. (We can have else as part of a for loop - more on that later)''')"
   ]
  },
  {
   "cell_type": "code",
   "execution_count": 122,
   "id": "bcc28a93",
   "metadata": {},
   "outputs": [
    {
     "name": "stdout",
     "output_type": "stream",
     "text": [
      "If condition is True\n"
     ]
    }
   ],
   "source": [
    "p = s = 100 ; t = 0 ; q = 10 ; u = 20 ; v = 30\n",
    "\n",
    "if p > t or q > t:\n",
    "    print('If condition is True')\n",
    "elif s>=t:\n",
    "    print('1st Elif condition is True')\n",
    "elif t > p:\n",
    "    print('This 2nd elif condition will not be entered till the elif evaluates to True')\n",
    "else:\n",
    "    print('''I will be printed if the 1st if condition and the 2 elif conditions are false. Note how there is no \n",
    "    condition on the else statement. Else statement is a catch all - if all the if and elif statements dont work THEN\n",
    "    the else condition comes into play. We can have if without elif and else. We can have if + elif(s) without else. But\n",
    "    in an if block we cannot have else without the if. (We can have else as part of a for loop - more on that later)''')"
   ]
  },
  {
   "cell_type": "code",
   "execution_count": 123,
   "id": "5694d88a",
   "metadata": {},
   "outputs": [
    {
     "name": "stdout",
     "output_type": "stream",
     "text": [
      "1st Elif condition is True\n"
     ]
    }
   ],
   "source": [
    "p = s = 100 ; t = 0 ; q = 10 ; u = 20 ; v = 30\n",
    "\n",
    "if p < t or q < t:\n",
    "    print('If condition is True')\n",
    "elif s>=t or t > p:\n",
    "    print('1st Elif condition is True')\n",
    "elif t > p:\n",
    "    print('This 2nd elif condition will not be entered till the elif evaluates to True')\n",
    "else:\n",
    "    print('''I will be printed if the 1st if condition and the 2 elif conditions are false. Note how there is no \n",
    "    condition on the else statement. Else statement is a catch all - if all the if and elif statements dont work THEN\n",
    "    the else condition comes into play. We can have if without elif and else. We can have if + elif(s) without else. But\n",
    "    in an if block we cannot have else without the if. (We can have else as part of a for loop - more on that later)''')"
   ]
  },
  {
   "cell_type": "code",
   "execution_count": 124,
   "id": "346aa170",
   "metadata": {},
   "outputs": [
    {
     "name": "stdout",
     "output_type": "stream",
     "text": [
      "This 2nd elif condition will not be entered till the elif evaluates to True\n"
     ]
    }
   ],
   "source": [
    "p = s = 100 ; t = 0 ; q = 10 ; u = 20 ; v = 30\n",
    "\n",
    "if p < t or q < t:\n",
    "    print('If condition is True')\n",
    "elif s<=t or t > p:\n",
    "    print('1st Elif condition is True')\n",
    "elif t < p and v > q:\n",
    "    print('This 2nd elif condition will not be entered till the elif evaluates to True')\n",
    "else:\n",
    "    print('''I will be printed if the 1st if condition and the 2 elif conditions are false. Note how there is no \n",
    "    condition on the else statement. Else statement is a catch all - if all the if and elif statements dont work THEN\n",
    "    the else condition comes into play. We can have if without elif and else. We can have if + elif(s) without else. But\n",
    "    in an if block we cannot have else without the if. (We can have else as part of a for loop - more on that later)''')"
   ]
  },
  {
   "cell_type": "code",
   "execution_count": 125,
   "id": "c6ffb2df",
   "metadata": {},
   "outputs": [
    {
     "name": "stdout",
     "output_type": "stream",
     "text": [
      "I will be printed if the 1st if condition and the 2 elif conditions are false. Note how there is no \n",
      "    condition on the else statement. Else statement is a catch all - if all the if and elif statements dont work THEN\n",
      "    the else condition comes into play. We can have if without elif and else. We can have if + elif(s) without else. But\n",
      "    in an if block we cannot have else without the if. (We can have else as part of a for loop - more on that later)\n"
     ]
    }
   ],
   "source": [
    "p = s = 100 ; t = 0 ; q = 10 ; u = 20 ; v = 30\n",
    "\n",
    "if p < t or q < t:\n",
    "    print('If condition is True')\n",
    "elif s<=t or t > p:\n",
    "    print('1st Elif condition is True')\n",
    "elif t < p and v < q:\n",
    "    print('This 2nd elif condition will not be entered till the elif evaluates to True')\n",
    "else:\n",
    "    print('''I will be printed if the 1st if condition and the 2 elif conditions are false. Note how there is no \n",
    "    condition on the else statement. Else statement is a catch all - if all the if and elif statements dont work THEN\n",
    "    the else condition comes into play. We can have if without elif and else. We can have if + elif(s) without else. But\n",
    "    in an if block we cannot have else without the if. (We can have else as part of a for loop - more on that later)''')"
   ]
  },
  {
   "cell_type": "markdown",
   "id": "560b05a3",
   "metadata": {},
   "source": [
    "### Ternary operators"
   ]
  },
  {
   "cell_type": "code",
   "execution_count": null,
   "id": "b0d1ee59",
   "metadata": {},
   "outputs": [],
   "source": [
    "# From Python 2.5, Python also allows ternary operators which are conditional expressions which allow testing conditions\n",
    "# in a single line of code. "
   ]
  },
  {
   "cell_type": "code",
   "execution_count": 126,
   "id": "2b0cc2ac",
   "metadata": {},
   "outputs": [
    {
     "name": "stdout",
     "output_type": "stream",
     "text": [
      "100\n"
     ]
    }
   ],
   "source": [
    "p = s = 100 ; t = 0 ; q = 10 ; u = 20 ; v = 30\n",
    "\n",
    "print(s if s > t else u)"
   ]
  },
  {
   "cell_type": "code",
   "execution_count": 127,
   "id": "2942233d",
   "metadata": {},
   "outputs": [
    {
     "name": "stdout",
     "output_type": "stream",
     "text": [
      "100\n"
     ]
    }
   ],
   "source": [
    "print(s if s > t else t)"
   ]
  },
  {
   "cell_type": "code",
   "execution_count": 128,
   "id": "04a8b859",
   "metadata": {},
   "outputs": [
    {
     "name": "stdout",
     "output_type": "stream",
     "text": [
      "20\n"
     ]
    }
   ],
   "source": [
    "print(s if s<t else u)"
   ]
  },
  {
   "cell_type": "code",
   "execution_count": null,
   "id": "d740d40e",
   "metadata": {},
   "outputs": [],
   "source": [
    "# We cannot use elif in ternary operators but we could use chained ternary operators to achieve a desired result. "
   ]
  },
  {
   "cell_type": "code",
   "execution_count": 129,
   "id": "9292dd28",
   "metadata": {},
   "outputs": [
    {
     "name": "stdout",
     "output_type": "stream",
     "text": [
      "Positive\n"
     ]
    }
   ],
   "source": [
    "s = 10\n",
    "\n",
    "if s >0: \n",
    "    print('Positive')\n",
    "elif s < 0:\n",
    "    print('Negative')\n",
    "else:\n",
    "    print('Is zero')\n",
    "    \n",
    "\n"
   ]
  },
  {
   "cell_type": "code",
   "execution_count": 130,
   "id": "b2bbd2f3",
   "metadata": {},
   "outputs": [
    {
     "name": "stdout",
     "output_type": "stream",
     "text": [
      "Negative\n"
     ]
    }
   ],
   "source": [
    "s = -10\n",
    "\n",
    "if s >0: \n",
    "    print('Positive')\n",
    "elif s < 0:\n",
    "    print('Negative')\n",
    "else:\n",
    "    print('Is zero')\n",
    "    \n",
    "\n"
   ]
  },
  {
   "cell_type": "code",
   "execution_count": 132,
   "id": "1c9d8563",
   "metadata": {},
   "outputs": [
    {
     "name": "stdout",
     "output_type": "stream",
     "text": [
      "Is zero\n"
     ]
    }
   ],
   "source": [
    "s = 0\n",
    "\n",
    "if s >0: \n",
    "    print('Positive')\n",
    "elif s < 0:\n",
    "    print('Negative')\n",
    "else:\n",
    "    print('Is zero')\n",
    "    \n",
    "    \n",
    "if \n",
    "\n",
    "\n",
    "if \n",
    "\n"
   ]
  },
  {
   "cell_type": "code",
   "execution_count": 131,
   "id": "d0d28f00",
   "metadata": {},
   "outputs": [
    {
     "name": "stdout",
     "output_type": "stream",
     "text": [
      "Positive\n"
     ]
    }
   ],
   "source": [
    "s = 10\n",
    "\n",
    "print('Positive') if s > 0 else print('Negative') if s < 0 else print('Is Zero')"
   ]
  },
  {
   "cell_type": "code",
   "execution_count": 133,
   "id": "0e0c336e",
   "metadata": {},
   "outputs": [
    {
     "name": "stdout",
     "output_type": "stream",
     "text": [
      "Negative\n"
     ]
    }
   ],
   "source": [
    "s = -10\n",
    "\n",
    "print('Positive') if s > 0 else print('Negative') if s < 0 else print('Is Zero')"
   ]
  },
  {
   "cell_type": "code",
   "execution_count": 134,
   "id": "15a8d08b",
   "metadata": {},
   "outputs": [
    {
     "name": "stdout",
     "output_type": "stream",
     "text": [
      "Is Zero\n"
     ]
    }
   ],
   "source": [
    "s = 0\n",
    "\n",
    "print('Positive') if s > 0 else print('Negative') if s < 0 else print('Is Zero')"
   ]
  },
  {
   "cell_type": "code",
   "execution_count": 135,
   "id": "0723ee04",
   "metadata": {},
   "outputs": [
    {
     "name": "stdout",
     "output_type": "stream",
     "text": [
      "Win\n"
     ]
    }
   ],
   "source": [
    "s = 0\n",
    "x = -1\n",
    "\n",
    "print('Win') if s > 0 or s > x else print('Lose') if s < 0 else print('Draw')"
   ]
  },
  {
   "cell_type": "code",
   "execution_count": 136,
   "id": "05c67c59",
   "metadata": {},
   "outputs": [
    {
     "name": "stdout",
     "output_type": "stream",
     "text": [
      "Draw\n"
     ]
    }
   ],
   "source": [
    "s = 0\n",
    "x = -1\n",
    "\n",
    "print('Win') if s > 0 and s > x else print('Lose') if s < x else print('Draw')"
   ]
  },
  {
   "cell_type": "code",
   "execution_count": 137,
   "id": "275b8b95",
   "metadata": {},
   "outputs": [
    {
     "name": "stdout",
     "output_type": "stream",
     "text": [
      "Lose\n"
     ]
    }
   ],
   "source": [
    "s = -1\n",
    "x = 0\n",
    "\n",
    "print('Win') if s > 0 or s > x else print('Lose') if s < x else print('Draw')"
   ]
  },
  {
   "cell_type": "markdown",
   "id": "f7af5538",
   "metadata": {},
   "source": [
    "### Membership operators"
   ]
  },
  {
   "cell_type": "code",
   "execution_count": 138,
   "id": "555e8d45",
   "metadata": {},
   "outputs": [
    {
     "name": "stdout",
     "output_type": "stream",
     "text": [
      "Python is great\n",
      "['P', 'y', 't', 'h', 'o', 'n', ' ', 'i', 's', ' ', 'g', 'r', 'e', 'a', 't']\n",
      "('P', 'y', 't', 'h', 'o', 'n', ' ', 'i', 's', ' ', 'g', 'r', 'e', 'a', 't')\n",
      "{'P': 1, 'y': 1, 't': 1, 'h': 1, 'o': 1, 'n': 1, ' ': 1, 'i': 1, 's': 1, 'g': 1, 'r': 1, 'e': 1, 'a': 1}\n",
      "{'P', 'n', 'r', 'y', 'e', 'i', 's', 'g', 'h', 'a', 'o', ' ', 't'}\n"
     ]
    }
   ],
   "source": [
    "# Membership operators in and not in check for membership of an element in a sequential datatype(such as strings, lists, \n",
    "# tuple, dictionaries or sets)\n",
    "\n",
    "a = 'a'\n",
    "str1 = 'Python is great'\n",
    "list1 = list('Python is great')\n",
    "tup1 = tuple('Python is great')\n",
    "dict1 = dict.fromkeys(list1, 1)\n",
    "set1 = set('Python is great')\n",
    "\n",
    "print(str1)\n",
    "print(list1)\n",
    "print(tup1)\n",
    "print(dict1)\n",
    "print(set1)\n",
    "\n"
   ]
  },
  {
   "cell_type": "code",
   "execution_count": 139,
   "id": "c8717c31",
   "metadata": {},
   "outputs": [
    {
     "name": "stdout",
     "output_type": "stream",
     "text": [
      "True\n",
      "True\n",
      "True\n",
      "True\n",
      "True\n",
      "False\n",
      "True\n"
     ]
    }
   ],
   "source": [
    "print(a in str1)\n",
    "print(a in list1)\n",
    "print(a in tup1)\n",
    "print(a in dict1)\n",
    "print(a in dict1.keys())\n",
    "print(a in dict1.values())\n",
    "print(a in set1)"
   ]
  },
  {
   "cell_type": "code",
   "execution_count": 140,
   "id": "77957769",
   "metadata": {},
   "outputs": [
    {
     "name": "stdout",
     "output_type": "stream",
     "text": [
      "False\n",
      "False\n",
      "False\n",
      "False\n",
      "False\n",
      "False\n",
      "False\n"
     ]
    }
   ],
   "source": [
    "a = 'x'\n",
    "\n",
    "print(a in str1)\n",
    "print(a in list1)\n",
    "print(a in tup1)\n",
    "print(a in dict1)\n",
    "print(a in dict1.keys())\n",
    "print(a in dict1.values())\n",
    "print(a in set1)"
   ]
  },
  {
   "cell_type": "code",
   "execution_count": 141,
   "id": "3f32f981",
   "metadata": {},
   "outputs": [
    {
     "name": "stdout",
     "output_type": "stream",
     "text": [
      "False\n",
      "False\n",
      "False\n",
      "False\n",
      "False\n",
      "True\n",
      "False\n"
     ]
    }
   ],
   "source": [
    "a = 'a'\n",
    "\n",
    "print(a not in str1)\n",
    "print(a not in list1)\n",
    "print(a not in tup1)\n",
    "print(a not in dict1)\n",
    "print(a not in dict1.keys())\n",
    "print(a not in dict1.values())\n",
    "print(a not in set1)"
   ]
  },
  {
   "cell_type": "code",
   "execution_count": 142,
   "id": "c229cf01",
   "metadata": {},
   "outputs": [
    {
     "name": "stdout",
     "output_type": "stream",
     "text": [
      "True\n",
      "True\n",
      "True\n",
      "True\n",
      "True\n",
      "True\n",
      "True\n"
     ]
    }
   ],
   "source": [
    "a = 'x'\n",
    "\n",
    "print(a not in str1)\n",
    "print(a not in list1)\n",
    "print(a not in tup1)\n",
    "print(a not in dict1)\n",
    "print(a not in dict1.keys())\n",
    "print(a not in dict1.values())\n",
    "print(a not in set1)"
   ]
  },
  {
   "cell_type": "code",
   "execution_count": 143,
   "id": "4b34b53a",
   "metadata": {},
   "outputs": [
    {
     "name": "stdout",
     "output_type": "stream",
     "text": [
      "False\n",
      "False\n",
      "False\n",
      "False\n",
      "True\n",
      "False\n"
     ]
    }
   ],
   "source": [
    "a = 1\n",
    "\n",
    "#print(a not in str1)\n",
    "print(a in list1)\n",
    "print(a in tup1)\n",
    "print(a in dict1)\n",
    "print(a in dict1.keys())\n",
    "print(a in dict1.values())\n",
    "print(a in set1)"
   ]
  },
  {
   "cell_type": "code",
   "execution_count": 144,
   "id": "f995caae",
   "metadata": {},
   "outputs": [
    {
     "name": "stdout",
     "output_type": "stream",
     "text": [
      "True\n",
      "True\n",
      "True\n",
      "True\n",
      "False\n",
      "True\n"
     ]
    }
   ],
   "source": [
    "a = 1\n",
    "\n",
    "#print(a not in str1)\n",
    "print(a not in list1)\n",
    "print(a not in tup1)\n",
    "print(a not in dict1)\n",
    "print(a not in dict1.keys())\n",
    "print(a not in dict1.values())\n",
    "print(a not in set1)"
   ]
  },
  {
   "cell_type": "code",
   "execution_count": 145,
   "id": "def71aa6",
   "metadata": {},
   "outputs": [
    {
     "name": "stdout",
     "output_type": "stream",
     "text": [
      "P\n",
      "y\n",
      "t\n",
      "h\n",
      "o\n",
      "n\n",
      " \n",
      "i\n",
      "s\n",
      " \n",
      "g\n",
      "r\n",
      "e\n",
      "a\n",
      "t\n"
     ]
    }
   ],
   "source": [
    "# A common use for the in operator is in for loops:\n",
    "\n",
    "for element in list1:\n",
    "    print(element)\n",
    "    \n",
    "# Using the help of an iterator object(called/initialised every time a for loop runs), it picks up every element in the \n",
    "# iterable to perform some operations iteratively."
   ]
  },
  {
   "cell_type": "markdown",
   "id": "beaec516",
   "metadata": {},
   "source": [
    "### Identity operators"
   ]
  },
  {
   "cell_type": "code",
   "execution_count": 146,
   "id": "b7c75e38",
   "metadata": {},
   "outputs": [
    {
     "name": "stdout",
     "output_type": "stream",
     "text": [
      "True\n",
      "True\n",
      "True\n",
      "True\n"
     ]
    }
   ],
   "source": [
    "# Identity operators is and is not are used to check if the objects on both sides of the operator are the same object and\n",
    "# share the same memory location or are not. is returns True if they are the same object, otherwise false. Inversely, \n",
    "# is not returns True if they are not the same otherwise False. \n",
    "\n",
    "a = b = c = 10140\n",
    "\n",
    "print(a is b)\n",
    "print(a is c)\n",
    "print(b is c)\n",
    "print(a is b is c)"
   ]
  },
  {
   "cell_type": "code",
   "execution_count": 147,
   "id": "eb6408c5",
   "metadata": {},
   "outputs": [
    {
     "name": "stdout",
     "output_type": "stream",
     "text": [
      "False\n",
      "False\n",
      "False\n",
      "False\n"
     ]
    }
   ],
   "source": [
    "print(a is not b)\n",
    "print(a is not c)\n",
    "print(b is not c)\n",
    "print(a is not b is not c)"
   ]
  },
  {
   "cell_type": "code",
   "execution_count": 148,
   "id": "110a585a",
   "metadata": {},
   "outputs": [
    {
     "name": "stdout",
     "output_type": "stream",
     "text": [
      "False\n"
     ]
    }
   ],
   "source": [
    "print(a is not b is c)"
   ]
  },
  {
   "cell_type": "code",
   "execution_count": 149,
   "id": "5768fbf3",
   "metadata": {},
   "outputs": [
    {
     "name": "stdout",
     "output_type": "stream",
     "text": [
      "False\n"
     ]
    }
   ],
   "source": [
    "print(a is b is not c)"
   ]
  },
  {
   "cell_type": "code",
   "execution_count": 150,
   "id": "de20bff6",
   "metadata": {},
   "outputs": [
    {
     "name": "stdout",
     "output_type": "stream",
     "text": [
      "True\n",
      "False\n",
      "False\n",
      "False\n"
     ]
    }
   ],
   "source": [
    "c = 2001\n",
    "\n",
    "print(a is b)\n",
    "print(a is c)\n",
    "print(b is c)\n",
    "print(a is b is c)"
   ]
  },
  {
   "cell_type": "code",
   "execution_count": 151,
   "id": "dd8d7ba8",
   "metadata": {},
   "outputs": [
    {
     "name": "stdout",
     "output_type": "stream",
     "text": [
      "False\n",
      "True\n",
      "True\n",
      "False\n"
     ]
    }
   ],
   "source": [
    "print(a is not b)\n",
    "print(a is not c)\n",
    "print(b is not c)\n",
    "print(a is not b is not c)"
   ]
  },
  {
   "cell_type": "code",
   "execution_count": 152,
   "id": "92fc27f9",
   "metadata": {},
   "outputs": [
    {
     "name": "stdout",
     "output_type": "stream",
     "text": [
      "True\n"
     ]
    }
   ],
   "source": [
    "print(a is b is not c)"
   ]
  },
  {
   "cell_type": "code",
   "execution_count": 153,
   "id": "21ae9e88",
   "metadata": {},
   "outputs": [
    {
     "name": "stdout",
     "output_type": "stream",
     "text": [
      "True\n"
     ]
    }
   ],
   "source": [
    "print(b is a is not c)"
   ]
  },
  {
   "cell_type": "code",
   "execution_count": null,
   "id": "742caa6c",
   "metadata": {},
   "outputs": [],
   "source": [
    "# For easy reference, the order of evaluation of \n",
    "\n",
    "\n",
    "# Operator                       Name\n",
    "# ()                             Parenthesis\n",
    "# **                             Exponentiation\n",
    "# -,~                            Unary minus, Bitwise complement(Bitwise Not)\n",
    "# *,/,//,%                       Multiplication, Division, Floor division, Modulus\n",
    "# +,-                            Addition, Subtraction\n",
    "# <<,>>                          Bitwise left shift, Bitwise right shift\n",
    "# &                              Bitwise AND\n",
    "# ^                              Bitwise XOR\n",
    "# |                              Bitwise OR\n",
    "# >,>=,<,<=,==,!=                Relational (comparison) operators\n",
    "# =,%=,/=,//=,-=, +=,*=,**=      Assignment operators\n",
    "# is,is not                      Identity operators\n",
    "# in,not in                      Membership operators\n",
    "# not                            Logical(ternary) not\n",
    "# or                             Logical(ternary) or\n",
    "# and                            Logical(ternary) and"
   ]
  },
  {
   "cell_type": "code",
   "execution_count": 154,
   "id": "f18d710a",
   "metadata": {},
   "outputs": [
    {
     "name": "stdout",
     "output_type": "stream",
     "text": [
      "266.0\n"
     ]
    }
   ],
   "source": [
    "print((22 * 2 + 72 - 90 << 2 | 1)  + (27 / 3)**2 + (~-9)*10)"
   ]
  },
  {
   "cell_type": "code",
   "execution_count": null,
   "id": "961f3c5b",
   "metadata": {},
   "outputs": [],
   "source": [
    "print((22*2 + 72 - 90 <<2 |1) + 9**2 + 8 * 10)"
   ]
  },
  {
   "cell_type": "code",
   "execution_count": null,
   "id": "7e1592a4",
   "metadata": {},
   "outputs": [],
   "source": [
    "print((44 + 72 - 90 <<2 |1) + 9**2 + 8 * 10)"
   ]
  },
  {
   "cell_type": "code",
   "execution_count": null,
   "id": "388b7e1f",
   "metadata": {},
   "outputs": [],
   "source": [
    "print((26 <<2 |1) + 9**2 + 8 * 10)"
   ]
  },
  {
   "cell_type": "code",
   "execution_count": null,
   "id": "bf8fad9f",
   "metadata": {},
   "outputs": [],
   "source": [
    "print((104 |1) + 9**2 + 8 * 10)"
   ]
  },
  {
   "cell_type": "code",
   "execution_count": null,
   "id": "dda27f1a",
   "metadata": {},
   "outputs": [],
   "source": [
    "print(105 + 81 + 8 * 10)"
   ]
  },
  {
   "cell_type": "code",
   "execution_count": 155,
   "id": "3ac67d32",
   "metadata": {},
   "outputs": [
    {
     "name": "stdout",
     "output_type": "stream",
     "text": [
      "266\n"
     ]
    }
   ],
   "source": [
    "print(105 + 81 + 80)"
   ]
  },
  {
   "cell_type": "code",
   "execution_count": 156,
   "id": "dcecab3e",
   "metadata": {},
   "outputs": [
    {
     "name": "stdout",
     "output_type": "stream",
     "text": [
      "-6\n"
     ]
    }
   ],
   "source": [
    "print(-(3**4 + 7 ** 2 // 14 - (3104 if 20 > 10 else 20) >> 1) * 75 % (14 & 8) * ~2)"
   ]
  },
  {
   "cell_type": "code",
   "execution_count": null,
   "id": "4f7f049d",
   "metadata": {},
   "outputs": [],
   "source": []
  }
 ],
 "metadata": {
  "kernelspec": {
   "display_name": "Python 3 (ipykernel)",
   "language": "python",
   "name": "python3"
  },
  "language_info": {
   "codemirror_mode": {
    "name": "ipython",
    "version": 3
   },
   "file_extension": ".py",
   "mimetype": "text/x-python",
   "name": "python",
   "nbconvert_exporter": "python",
   "pygments_lexer": "ipython3",
   "version": "3.9.12"
  }
 },
 "nbformat": 4,
 "nbformat_minor": 5
}
