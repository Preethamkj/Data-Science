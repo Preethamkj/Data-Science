{
 "cells": [
  {
   "cell_type": "markdown",
   "id": "a7f2f64e",
   "metadata": {},
   "source": [
    "# Data type - Lists"
   ]
  },
  {
   "cell_type": "code",
   "execution_count": 1,
   "id": "ddc7c4bc",
   "metadata": {},
   "outputs": [],
   "source": [
    "#Lists are probably the most commonly used of the derived data types. They allow one to store a collection of elements\n",
    "# in a sequential manner and perform a host of operations on the elements as well as on other lists. They are one of the\n",
    "# most versatile datatypes.\n",
    "\n",
    "# Arrays also allow one to store many datatypes and perform operations on the elements in them. However, arrays limit one\n",
    "# to store only one datatype in them. The operations are faster in arrays and if we know that we will only be saving one\n",
    "# type of data in the object in a structured manner - arrays might be the way to go. But more on arrays later. \n",
    "\n",
    "# Lists have the following properties:\n",
    "\n",
    "#1. They are a derived datatype.\n",
    "#2. They are sequential and ordered i.e. stored in the order of input (insertion of element not withstanding).\n",
    "#3. Lists themselves are mutable i.e. the elements inside a list can be changed.\n",
    "#4. They allow mutable elements to be stored in them. e.g. we can store a set or dictionary (and even another list) in a\n",
    "# list.\n",
    "#5. They allow nesting i.e. a list in another list.\n",
    "#6. They allow indexing and slicing.\n",
    "#7. They are iterable i.e. one can go through each element in a list and perform an operation on each element.\n"
   ]
  },
  {
   "cell_type": "code",
   "execution_count": 2,
   "id": "bce7a34d",
   "metadata": {},
   "outputs": [
    {
     "name": "stdout",
     "output_type": "stream",
     "text": [
      "[1, 2, 3, 4, 5]\n",
      "<class 'list'>\n"
     ]
    }
   ],
   "source": [
    "#Initialising lists\n",
    "\n",
    "x = [1,2,3,4,5]\n",
    "\n",
    "print(x)\n",
    "print(type(x))\n",
    "\n",
    "#To initialise a list, simply enclose the elements of the list in square brackets."
   ]
  },
  {
   "cell_type": "code",
   "execution_count": 3,
   "id": "adb5e4d6",
   "metadata": {},
   "outputs": [
    {
     "name": "stdout",
     "output_type": "stream",
     "text": [
      "[4, 6, 8]\n"
     ]
    }
   ],
   "source": [
    "x = []\n",
    "\n",
    "#Empty square brackets can be used to initialise an empty list.\n",
    "\n",
    "#When would we need an empty list? When we know that we shall be filling the list object with elements and would like to\n",
    "# be able to perform list operations on that object.\n",
    "\n",
    "# For e.g.I have certain values and would like to multiply each one by 2 before appending it to the list. We can use the\n",
    "# append function to do so. (We whall discuss in detail about the append function a bit later)\n",
    "\n",
    "x.append(2*2)\n",
    "x.append(3*2)\n",
    "x.append(4*2)\n",
    "\n",
    "print(x)"
   ]
  },
  {
   "cell_type": "code",
   "execution_count": 4,
   "id": "57e44ba9",
   "metadata": {},
   "outputs": [
    {
     "ename": "NameError",
     "evalue": "name 'y' is not defined",
     "output_type": "error",
     "traceback": [
      "\u001b[1;31m---------------------------------------------------------------------------\u001b[0m",
      "\u001b[1;31mNameError\u001b[0m                                 Traceback (most recent call last)",
      "Input \u001b[1;32mIn [4]\u001b[0m, in \u001b[0;36m<cell line: 4>\u001b[1;34m()\u001b[0m\n\u001b[0;32m      1\u001b[0m \u001b[38;5;66;03m#If I had not initialised the list object - I would not have been able to append. And also, if I had initialised a different\u001b[39;00m\n\u001b[0;32m      2\u001b[0m \u001b[38;5;66;03m# datatype.\u001b[39;00m\n\u001b[1;32m----> 4\u001b[0m \u001b[43my\u001b[49m\u001b[38;5;241m.\u001b[39mappend(\u001b[38;5;241m2\u001b[39m\u001b[38;5;241m*\u001b[39m\u001b[38;5;241m2\u001b[39m)\n",
      "\u001b[1;31mNameError\u001b[0m: name 'y' is not defined"
     ]
    }
   ],
   "source": [
    "#If I had not initialised the list object - I would not have been able to append. And also, if I had initialised a different\n",
    "# datatype.\n",
    "\n",
    "y.append(2*2)\n",
    "\n"
   ]
  },
  {
   "cell_type": "code",
   "execution_count": null,
   "id": "32fc2923",
   "metadata": {},
   "outputs": [],
   "source": [
    "y = set()\n",
    "\n",
    "y.append(2*2)\n"
   ]
  },
  {
   "cell_type": "code",
   "execution_count": null,
   "id": "ba0e7089",
   "metadata": {},
   "outputs": [],
   "source": [
    "#We could also initialise a list by calling list() constructor on an iterable object. This is optional. Calling list without\n",
    "#any parameters initialises an empty list. \n",
    "\n",
    "x = list()\n",
    "print(x)\n",
    "print(type(x))\n"
   ]
  },
  {
   "cell_type": "code",
   "execution_count": null,
   "id": "9649614d",
   "metadata": {},
   "outputs": [],
   "source": [
    "x = 1,2,3,4\n",
    "print(type(x))"
   ]
  },
  {
   "cell_type": "code",
   "execution_count": null,
   "id": "03a44ff0",
   "metadata": {},
   "outputs": [],
   "source": [
    "y = list(x)\n",
    "\n",
    "print(y)\n",
    "print(type(y))\n",
    "print(y[0])"
   ]
  },
  {
   "cell_type": "code",
   "execution_count": null,
   "id": "e6aa6625",
   "metadata": {},
   "outputs": [],
   "source": [
    "y = [x]\n",
    "\n",
    "print(y)\n",
    "print(type(y))\n",
    "print(y[0])\n",
    "print(type(y[0]))"
   ]
  },
  {
   "cell_type": "code",
   "execution_count": null,
   "id": "dc2faf53",
   "metadata": {},
   "outputs": [],
   "source": []
  },
  {
   "cell_type": "code",
   "execution_count": null,
   "id": "b064f958",
   "metadata": {},
   "outputs": [],
   "source": [
    "#Note here how when simply enclosing the different datatype in square brackets put the variable as ONE element in the list."
   ]
  },
  {
   "cell_type": "code",
   "execution_count": null,
   "id": "391977c4",
   "metadata": {},
   "outputs": [],
   "source": [
    "z = {1:100, 2:200, 'a':33, None:True}\n",
    "print(type(z))"
   ]
  },
  {
   "cell_type": "code",
   "execution_count": null,
   "id": "df9cf29d",
   "metadata": {},
   "outputs": [],
   "source": [
    "zz = list(z)\n",
    "\n",
    "print(zz)\n",
    "print(type(zz))\n",
    "\n",
    "#Do note how the list has only taken the keys of the dictionary as its elements."
   ]
  },
  {
   "cell_type": "code",
   "execution_count": null,
   "id": "b3f4f668",
   "metadata": {},
   "outputs": [],
   "source": [
    "print(zz[0])"
   ]
  },
  {
   "cell_type": "code",
   "execution_count": null,
   "id": "c5d365b7",
   "metadata": {},
   "outputs": [],
   "source": [
    "x = 1,2,3,4\n",
    "print(type(x))"
   ]
  },
  {
   "cell_type": "code",
   "execution_count": null,
   "id": "53074929",
   "metadata": {},
   "outputs": [],
   "source": [
    "zzz = [x]\n",
    "\n",
    "print(zzz)\n",
    "print(type(zzz))\n",
    "print(type(zzz[0]))"
   ]
  },
  {
   "cell_type": "code",
   "execution_count": null,
   "id": "ef1ba440",
   "metadata": {},
   "outputs": [],
   "source": [
    "print(zzz[0])\n",
    "print(zzz[0][2])"
   ]
  },
  {
   "cell_type": "code",
   "execution_count": null,
   "id": "8fb4d4a6",
   "metadata": {},
   "outputs": [],
   "source": [
    "zzz.append(zz)\n",
    "zzz.append(z)\n",
    "zzz.append(['one', 'two', 'three'])\n",
    "print(zzz)\n",
    "\n",
    "print(len(zzz))"
   ]
  },
  {
   "cell_type": "code",
   "execution_count": null,
   "id": "2c17c4e4",
   "metadata": {},
   "outputs": [],
   "source": [
    "#In short, please remember this difference while trying to create lists - do you want to change the datatype of a sequential\n",
    "# object or just put that iterable itself in a list. "
   ]
  },
  {
   "cell_type": "code",
   "execution_count": null,
   "id": "61281c36",
   "metadata": {},
   "outputs": [],
   "source": [
    "x = []\n",
    "\n",
    "a = [1,2,3,4]\n",
    "b = list('abcde')\n",
    "c = ('one', 'two','three')\n",
    "d = {'A':100, 'B':200}\n"
   ]
  },
  {
   "cell_type": "code",
   "execution_count": null,
   "id": "1554d580",
   "metadata": {},
   "outputs": [],
   "source": [
    "x.append(2*100)\n",
    "\n",
    "print(x)"
   ]
  },
  {
   "cell_type": "code",
   "execution_count": null,
   "id": "4c62c14d",
   "metadata": {},
   "outputs": [],
   "source": [
    "x.append(a)\n",
    "print(x)"
   ]
  },
  {
   "cell_type": "code",
   "execution_count": null,
   "id": "de924655",
   "metadata": {},
   "outputs": [],
   "source": [
    "x.append(b)\n",
    "print(x)"
   ]
  },
  {
   "cell_type": "code",
   "execution_count": null,
   "id": "d76e7b0b",
   "metadata": {},
   "outputs": [],
   "source": [
    "x.append(c)\n",
    "print(x)"
   ]
  },
  {
   "cell_type": "code",
   "execution_count": null,
   "id": "b0b48234",
   "metadata": {},
   "outputs": [],
   "source": [
    "x.append(d)\n",
    "print(x)"
   ]
  },
  {
   "cell_type": "code",
   "execution_count": null,
   "id": "984e92e4",
   "metadata": {},
   "outputs": [],
   "source": [
    "print(len(x))"
   ]
  },
  {
   "cell_type": "code",
   "execution_count": null,
   "id": "00c39ba8",
   "metadata": {},
   "outputs": [],
   "source": [
    "s = ['abc']\n",
    "\n",
    "print(s)"
   ]
  },
  {
   "cell_type": "code",
   "execution_count": null,
   "id": "b7002d17",
   "metadata": {},
   "outputs": [],
   "source": [
    "ss = list('abc')\n",
    "\n",
    "print(ss)"
   ]
  },
  {
   "cell_type": "code",
   "execution_count": null,
   "id": "6f4e492c",
   "metadata": {},
   "outputs": [],
   "source": [
    "#Same thing happened here. Since string is also sequential, in the first example, a list was initialised with one element, \n",
    "# the object 'abc'. The second time when we called the list constructor - the list understood that each individual object\n",
    "# of the 'abc' object was to be put in a list."
   ]
  },
  {
   "cell_type": "code",
   "execution_count": null,
   "id": "e69355c8",
   "metadata": {},
   "outputs": [],
   "source": [
    "#Indexing and slicing can be performed on a list and works exactly as indexing and slicing of other sequential objects. \n",
    "# We have already seen this in the string datatype.\n",
    "\n",
    "lst1 = [1,2,3,4,5]\n",
    "\n",
    "print(lst1[2])"
   ]
  },
  {
   "cell_type": "code",
   "execution_count": null,
   "id": "d6904b7c",
   "metadata": {},
   "outputs": [],
   "source": [
    "# A list is a mutable datatype. We can hold mutable datatypes in a list.\n",
    "\n",
    "orig = [1,2*500, 'P'+'y'+'t'+'h'+'o'+'n', {'a':1, 2:200}, ('Amar','Akbar','Anthony'), {'Ironman', 'Krish'}]\n",
    "print(orig)"
   ]
  },
  {
   "cell_type": "code",
   "execution_count": null,
   "id": "68ee36a7",
   "metadata": {},
   "outputs": [],
   "source": [
    "# Getting object at index no. 4\n",
    "\n",
    "idx1 = orig[4]\n",
    "print(idx1)\n",
    "print(type(idx1))"
   ]
  },
  {
   "cell_type": "code",
   "execution_count": null,
   "id": "b38322e7",
   "metadata": {},
   "outputs": [],
   "source": [
    "# Getting object at 1st index of object at index no. 4\n",
    "idx2 = orig[4][1]\n",
    "print(idx2)"
   ]
  },
  {
   "cell_type": "code",
   "execution_count": null,
   "id": "29bdb478",
   "metadata": {},
   "outputs": [],
   "source": [
    "idx3 = orig[2][3]\n",
    "print(idx3)"
   ]
  },
  {
   "cell_type": "code",
   "execution_count": null,
   "id": "c93e7b7e",
   "metadata": {},
   "outputs": [],
   "source": [
    "orig = [1,2*500, 'P'+'y'+'t'+'h'+'o'+'n', {'a':1, 2:200}, ('Amar','Akbar','Anthony'), {'Ironman', 'Krish'}]\n",
    "\n",
    "#Getting object at 2nd index of object at 1st index of object at 4th index of original list object\n",
    "\n",
    "idx4 = orig[4][1][2]\n",
    "\n",
    "print(idx4)\n",
    "\n"
   ]
  },
  {
   "cell_type": "code",
   "execution_count": null,
   "id": "bbeb8af8",
   "metadata": {},
   "outputs": [],
   "source": [
    "#Nested lists. Since list is a mutable datatype and can itself hold mutable datatypes - it goes to show that lists can\n",
    "#hold lists. \n",
    "\n",
    "lst = [1,2,3,4,5,[6,7,[8,9,10], 11, 12, [14,[21,22],27]],100,111]\n",
    "       \n",
    "print(lst)\n"
   ]
  },
  {
   "cell_type": "code",
   "execution_count": null,
   "id": "6e5b4c37",
   "metadata": {},
   "outputs": [],
   "source": [
    "print(lst[5])"
   ]
  },
  {
   "cell_type": "code",
   "execution_count": null,
   "id": "f767e0e1",
   "metadata": {},
   "outputs": [],
   "source": [
    "print(lst[-1])"
   ]
  },
  {
   "cell_type": "code",
   "execution_count": null,
   "id": "f0e688ab",
   "metadata": {},
   "outputs": [],
   "source": [
    "print(lst[5][5])"
   ]
  },
  {
   "cell_type": "code",
   "execution_count": null,
   "id": "fd0911fc",
   "metadata": {},
   "outputs": [],
   "source": [
    "print(lst[5][5][1])"
   ]
  },
  {
   "cell_type": "code",
   "execution_count": null,
   "id": "a7fd4e22",
   "metadata": {},
   "outputs": [],
   "source": [
    "print(lst[5][5][1][0])"
   ]
  },
  {
   "cell_type": "code",
   "execution_count": null,
   "id": "ea0b9e8a",
   "metadata": {},
   "outputs": [],
   "source": [
    "#Slicing on lists\n",
    "\n",
    "orig = [1,2*500, 'P'+'y'+'t'+'h'+'o'+'n', {'a':1, 2:200}, ('Amar','Akbar','Anthony'), {'Ironman', 'Krish'}]\n",
    "\n",
    "slc1 = orig[:]\n",
    "print(slc1)"
   ]
  },
  {
   "cell_type": "code",
   "execution_count": null,
   "id": "328a3b5f",
   "metadata": {},
   "outputs": [],
   "source": [
    "slc2 = orig[::2]\n",
    "print(slc2)"
   ]
  },
  {
   "cell_type": "code",
   "execution_count": null,
   "id": "34848e8e",
   "metadata": {},
   "outputs": [],
   "source": [
    "slc3 = orig[:5:3]\n",
    "print(slc3)"
   ]
  },
  {
   "cell_type": "code",
   "execution_count": null,
   "id": "0dccde08",
   "metadata": {},
   "outputs": [],
   "source": [
    "print(type(slc3))"
   ]
  },
  {
   "cell_type": "code",
   "execution_count": null,
   "id": "236d7bd2",
   "metadata": {},
   "outputs": [],
   "source": [
    "#As you can see - slicing a list outputs a list object. "
   ]
  },
  {
   "cell_type": "code",
   "execution_count": null,
   "id": "c439fc08",
   "metadata": {},
   "outputs": [],
   "source": [
    "z = orig[:-2]\n",
    "print(z)\n",
    "print(type(z))"
   ]
  },
  {
   "cell_type": "code",
   "execution_count": null,
   "id": "3b5339de",
   "metadata": {},
   "outputs": [],
   "source": [
    "#As usual the concepts of negative indexing remain the same. \n",
    "\n",
    "lst_alpha = list('abcdefghij')\n",
    "print(lst_alpha)"
   ]
  },
  {
   "cell_type": "code",
   "execution_count": null,
   "id": "2d699564",
   "metadata": {},
   "outputs": [],
   "source": [
    "lst_alpha_rev = lst_alpha[::-1]\n",
    "print(lst_alpha_rev)"
   ]
  },
  {
   "cell_type": "code",
   "execution_count": null,
   "id": "52ec429d",
   "metadata": {},
   "outputs": [],
   "source": [
    "x = 'malayalam'\n",
    "\n",
    "if x == x[::-1]:\n",
    "    print('True')"
   ]
  },
  {
   "cell_type": "code",
   "execution_count": null,
   "id": "eba6220e",
   "metadata": {},
   "outputs": [],
   "source": [
    "lst_alpha_rev2 = lst_alpha[-5:-2]\n",
    "print(lst_alpha_rev2)"
   ]
  },
  {
   "cell_type": "code",
   "execution_count": null,
   "id": "2d11478c",
   "metadata": {},
   "outputs": [],
   "source": [
    "lst_alpha_rev3 = lst_alpha[-2:-5]\n",
    "print(lst_alpha_rev3)"
   ]
  },
  {
   "cell_type": "code",
   "execution_count": null,
   "id": "94c968e9",
   "metadata": {},
   "outputs": [],
   "source": [
    "lst_alpha_rev4 = lst_alpha[-2:-5:-1]\n",
    "print(lst_alpha_rev4)"
   ]
  },
  {
   "cell_type": "code",
   "execution_count": null,
   "id": "66c12283",
   "metadata": {},
   "outputs": [],
   "source": [
    "print(lst)"
   ]
  },
  {
   "cell_type": "code",
   "execution_count": null,
   "id": "9d704482",
   "metadata": {},
   "outputs": [],
   "source": [
    "#Slicing and item assignment can be performed together. \n",
    "\n",
    "lst[2:4] = 11,12\n",
    "\n",
    "print(lst)"
   ]
  },
  {
   "cell_type": "code",
   "execution_count": null,
   "id": "69d85b78",
   "metadata": {},
   "outputs": [],
   "source": [
    "lst[2:6] = 11,12\n",
    "\n",
    "print(lst)"
   ]
  },
  {
   "cell_type": "code",
   "execution_count": null,
   "id": "4e01048e",
   "metadata": {},
   "outputs": [],
   "source": [
    "#Note how while slicing we picked up 4 elements but only assigned two new elements? Basically, we told Python to pick up\n",
    "# a certain slice of the list and reassign the values based on what we are giving it - irrespecitive of if the number of\n",
    "# elements match. \n",
    "\n",
    "lst[2:4] = 54,56,58,60\n",
    "print(lst)"
   ]
  },
  {
   "cell_type": "code",
   "execution_count": null,
   "id": "30a27d3c",
   "metadata": {},
   "outputs": [],
   "source": [
    "lst[2:4] = list(range(53,58))\n",
    "print(lst)"
   ]
  },
  {
   "cell_type": "code",
   "execution_count": null,
   "id": "264ac24a",
   "metadata": {},
   "outputs": [],
   "source": [
    "#Iteration over a list. \n",
    "print(z)\n",
    "for x in z:\n",
    "    print(x)"
   ]
  },
  {
   "cell_type": "code",
   "execution_count": null,
   "id": "2bf55b03",
   "metadata": {},
   "outputs": [],
   "source": [
    "lst1 = [0,1,2,3,4,5]\n",
    "\n",
    "for x in lst1:\n",
    "    print(x*2)"
   ]
  },
  {
   "cell_type": "code",
   "execution_count": null,
   "id": "82c40083",
   "metadata": {},
   "outputs": [],
   "source": [
    "#Repetition of a list\n",
    "\n",
    "lst2 = lst1*5\n",
    "\n",
    "print(lst1)\n",
    "print(lst2)"
   ]
  },
  {
   "cell_type": "code",
   "execution_count": null,
   "id": "75cafd05",
   "metadata": {},
   "outputs": [],
   "source": [
    "lsta = list('abcd')*5\n",
    "\n",
    "print(lsta)"
   ]
  },
  {
   "cell_type": "code",
   "execution_count": null,
   "id": "86d10113",
   "metadata": {},
   "outputs": [],
   "source": [
    "#Concatenation of lists\n",
    "\n",
    "orig_1 = ['a','b','c','d']\n",
    "orig_2 = ['e', 'f', 'g', 'h']\n",
    "lst3 = orig_1 + orig_2\n",
    "\n",
    "print(orig_1)\n",
    "print(orig_2)\n",
    "print(lst3)\n"
   ]
  },
  {
   "cell_type": "code",
   "execution_count": null,
   "id": "98a682dc",
   "metadata": {},
   "outputs": [],
   "source": [
    "lst3 = ['a','b','c','d'] + ['e', 'f', 'g', 'h']\n",
    "\n",
    "print(lst3)"
   ]
  },
  {
   "cell_type": "code",
   "execution_count": null,
   "id": "76a3e4c0",
   "metadata": {},
   "outputs": [],
   "source": [
    "lst4 = ['a', 'b', 'c', 'd'] + ['efgh']\n",
    "\n",
    "print(lst4)"
   ]
  },
  {
   "cell_type": "code",
   "execution_count": null,
   "id": "487dca4f",
   "metadata": {},
   "outputs": [],
   "source": [
    "lst5 = ['a','b','c','d'] + list('efgh')\n",
    "\n",
    "print(lst5)"
   ]
  },
  {
   "cell_type": "code",
   "execution_count": null,
   "id": "8971c3f3",
   "metadata": {},
   "outputs": [],
   "source": [
    "#Membership operations on a list\n",
    "\n",
    "print('d' in lst5)"
   ]
  },
  {
   "cell_type": "code",
   "execution_count": null,
   "id": "573f7400",
   "metadata": {},
   "outputs": [],
   "source": [
    "print('z' in lst5)"
   ]
  },
  {
   "cell_type": "code",
   "execution_count": null,
   "id": "74713bea",
   "metadata": {},
   "outputs": [],
   "source": [
    "print('d' not in lst5)"
   ]
  },
  {
   "cell_type": "code",
   "execution_count": null,
   "id": "3a39ac3d",
   "metadata": {},
   "outputs": [],
   "source": [
    "print('z' in lst5)"
   ]
  },
  {
   "cell_type": "code",
   "execution_count": null,
   "id": "4494f80f",
   "metadata": {},
   "outputs": [],
   "source": [
    "print(['d','e'] in lst5)"
   ]
  },
  {
   "cell_type": "code",
   "execution_count": null,
   "id": "96ea3518",
   "metadata": {},
   "outputs": [],
   "source": [
    "print(['d','e'] not in lst5)\n",
    "\n"
   ]
  },
  {
   "cell_type": "code",
   "execution_count": null,
   "id": "cc5a0609",
   "metadata": {},
   "outputs": [],
   "source": [
    "lst6 = ['a', 'b', 'c', ['d', 'e'], 'f', 'g']\n",
    "\n",
    "print(['d', 'e'] in lst6)"
   ]
  },
  {
   "cell_type": "code",
   "execution_count": null,
   "id": "015e94f5",
   "metadata": {},
   "outputs": [],
   "source": [
    "print('d','e' in lst5)\n",
    "\n",
    "#Note here how though it takes two elements as the elements to search - it actually throws an unexpected output. \n",
    "\n",
    "#For all practical purposes, please assume that the in operator takes only one element to be searched at a time."
   ]
  },
  {
   "cell_type": "code",
   "execution_count": null,
   "id": "b37b012e",
   "metadata": {},
   "outputs": [],
   "source": [
    "if('z' in lst5):\n",
    "    print('True')\n"
   ]
  },
  {
   "cell_type": "code",
   "execution_count": null,
   "id": "5e249cff",
   "metadata": {},
   "outputs": [],
   "source": [
    "#Length function on lists. As with any other derived datatype - the length function returns the length of the object<in this\n",
    "#case the list. \n",
    "\n",
    "print(lst1)\n",
    "print(len(lst1))\n"
   ]
  },
  {
   "cell_type": "code",
   "execution_count": null,
   "id": "9c11ef4d",
   "metadata": {},
   "outputs": [],
   "source": [
    "print(f'List is. {lst2}. \\nIts length is {len(lst2)}')"
   ]
  },
  {
   "cell_type": "code",
   "execution_count": null,
   "id": "69854601",
   "metadata": {},
   "outputs": [],
   "source": [
    "print(f'List is. {lst3}. \\nIts length is {len(lst3)}')"
   ]
  },
  {
   "cell_type": "code",
   "execution_count": null,
   "id": "f81fc810",
   "metadata": {},
   "outputs": [],
   "source": [
    "print(f'List is. {lst4}. \\nIts length is {len(lst4)}')"
   ]
  },
  {
   "cell_type": "code",
   "execution_count": null,
   "id": "5e8f7f9d",
   "metadata": {},
   "outputs": [],
   "source": [
    "print(f'List is. {lst5}. \\nIts length is {len(lst5)}')"
   ]
  },
  {
   "cell_type": "code",
   "execution_count": null,
   "id": "ec645bfc",
   "metadata": {},
   "outputs": [],
   "source": [
    "# One of the most common functions used with lists is the append function which adds exactly 1 object to the end of the\n",
    "# list. \n",
    "\n",
    "print(lst5)"
   ]
  },
  {
   "cell_type": "code",
   "execution_count": null,
   "id": "596aa9f7",
   "metadata": {},
   "outputs": [],
   "source": [
    "lst5.append('i')\n",
    "\n",
    "print(lst5)\n",
    "\n",
    "#It takes exactly one parameter - an object of any datatype to add to the end of the list. Any more (or less) objects than \n",
    "#1 will throw an error."
   ]
  },
  {
   "cell_type": "code",
   "execution_count": null,
   "id": "d5797e0e",
   "metadata": {},
   "outputs": [],
   "source": [
    "lst5.append(list(['i', 'j']))\n",
    "print(lst5)"
   ]
  },
  {
   "cell_type": "code",
   "execution_count": null,
   "id": "82d5d869",
   "metadata": {},
   "outputs": [],
   "source": [
    "lst5.append('ij')\n",
    "print(lst5)"
   ]
  },
  {
   "cell_type": "code",
   "execution_count": null,
   "id": "ee707c5c",
   "metadata": {},
   "outputs": [],
   "source": [
    "lst5.append(('i', 'j'))\n",
    "print(lst5)"
   ]
  },
  {
   "cell_type": "code",
   "execution_count": null,
   "id": "f556a845",
   "metadata": {},
   "outputs": [],
   "source": [
    "#Append method modifies the ORIGINAL list and doesnt return anything. \n",
    "\n",
    "\n",
    "x = []\n",
    "\n",
    "for i in range(5):\n",
    "    x.append(i)   \n",
    "    \n",
    "    "
   ]
  },
  {
   "cell_type": "code",
   "execution_count": null,
   "id": "630dddc8",
   "metadata": {},
   "outputs": [],
   "source": [
    "x = [1,2,3,4]\n",
    "y = x + [5,6,7,8]\n",
    "\n",
    "a = id(y)\n",
    "y += [9,10]\n",
    "b = id(y)\n",
    "print(y)\n",
    "\n",
    "z = x + \n"
   ]
  },
  {
   "cell_type": "code",
   "execution_count": null,
   "id": "aa66f5ae",
   "metadata": {},
   "outputs": [],
   "source": [
    "print(a, b)"
   ]
  },
  {
   "cell_type": "code",
   "execution_count": null,
   "id": "d09342dd",
   "metadata": {},
   "outputs": [],
   "source": [
    "lst6 = lst5.append('Try this out')\n",
    "\n",
    "print(lst6)\n",
    "print(lst5)"
   ]
  },
  {
   "cell_type": "code",
   "execution_count": null,
   "id": "d832ff79",
   "metadata": {},
   "outputs": [],
   "source": [
    "#If you recall, while performing operations like strip, center, rjust etc on string - the methods would return NEW string\n",
    "# objects. But in lists we CAN modifiy the original list. Why is this so?"
   ]
  },
  {
   "cell_type": "markdown",
   "id": "6dba2e81",
   "metadata": {},
   "source": [
    "##### Because Strings are immutable datatypes while lists are mutable."
   ]
  },
  {
   "cell_type": "code",
   "execution_count": null,
   "id": "ed874e2f",
   "metadata": {},
   "outputs": [],
   "source": [
    "#Before we move on to more methods which can be performded on the list datatype, I would like to illustrate 1 neat trick\n",
    "# and 1 special syntax for use with lists(and some other derived datatypes)"
   ]
  },
  {
   "cell_type": "code",
   "execution_count": null,
   "id": "eb26afa6",
   "metadata": {},
   "outputs": [],
   "source": [
    "#A neat trick which is very commonly used is to use a range function to get the index numbers of the items in a list.\n",
    "\n",
    "#If you recall, the range object returns a range <object> with numbers in a sequence with specified parameters. \n",
    "#We also know that lists support indexing. \n",
    "#And that lists and range both support iteration.\n",
    "\n",
    "#We can use this to get the index numbers of each element inside a list. \n",
    "\n",
    "lst1 = list('abcdefghij')\n",
    "print(lst1)\n",
    "\n",
    "for element in lst1:\n",
    "    print(element)\n",
    "    \n"
   ]
  },
  {
   "cell_type": "code",
   "execution_count": null,
   "id": "fce97638",
   "metadata": {},
   "outputs": [],
   "source": [
    "#However, if I only wanted the index numbers of each of the elements in the lst1?\n",
    "\n",
    "for indexno in range(10):  #Here length of lst1 is 10\n",
    "    print(indexno)"
   ]
  },
  {
   "cell_type": "code",
   "execution_count": null,
   "id": "8c70a3ac",
   "metadata": {},
   "outputs": [],
   "source": [
    "# We could simplify this, since we have learnt that length function returns the length of a list\n",
    "\n",
    "for indexno in range(len(lst1)):\n",
    "    print(indexno)"
   ]
  },
  {
   "cell_type": "code",
   "execution_count": null,
   "id": "af890682",
   "metadata": {},
   "outputs": [],
   "source": [
    "# And since we know that indexing works on lists, to get each element of the lst1 I could use indexing to get the element\n",
    "# at that position. \n",
    "print(lst1)"
   ]
  },
  {
   "cell_type": "code",
   "execution_count": null,
   "id": "c8c7b2e1",
   "metadata": {},
   "outputs": [],
   "source": [
    "for idxE in range(len(lst1)):\n",
    "    print(lst1[idxE])"
   ]
  },
  {
   "cell_type": "code",
   "execution_count": null,
   "id": "609f4204",
   "metadata": {},
   "outputs": [],
   "source": [
    "# But why go in a round about way to get the element at a certain position of a list?\n",
    "# Sometimes we need to work on an element in a list(or any other sequential datatype) based on their position in the list.\n",
    "\n",
    "lst1 = [17,20, 30, 11]\n",
    "\n",
    "#Add 1 to every element in lst1 and print it. \n",
    "\n",
    "for elem in lst1:\n",
    "    print(elem+1)\n",
    "    \n",
    "#Great! Problem solved."
   ]
  },
  {
   "cell_type": "code",
   "execution_count": null,
   "id": "c2edbb96",
   "metadata": {},
   "outputs": [],
   "source": [
    "#Add 1 to every 2ND element in lst1.\n",
    "\n",
    "lst1 = [17,20, 30, 11]"
   ]
  },
  {
   "cell_type": "code",
   "execution_count": null,
   "id": "93a3bdcc",
   "metadata": {},
   "outputs": [],
   "source": [
    "for elem in range(0,len(lst1),2):\n",
    "    print(f'Index number we are working on {elem}.')\n",
    "    print(f'Original value of element at that index position. {lst1[elem]}.')\n",
    "    print(f'New output = {lst1[elem]+1}.\\n-----------------------------')"
   ]
  },
  {
   "cell_type": "code",
   "execution_count": null,
   "id": "aa0e96bd",
   "metadata": {},
   "outputs": [],
   "source": [
    "print(lst1)"
   ]
  },
  {
   "cell_type": "code",
   "execution_count": null,
   "id": "14562334",
   "metadata": {},
   "outputs": [],
   "source": [
    "# Add 1 to the elements in lst 1 using a for loop. You can use a new list. Fairly easy?\n",
    "\n",
    "lst2 = []\n",
    "\n",
    "for x in lst1:\n",
    "    lst2.append(x+1)\n",
    "\n",
    "print(lst2)"
   ]
  },
  {
   "cell_type": "code",
   "execution_count": null,
   "id": "7fd4f9e1",
   "metadata": {},
   "outputs": [],
   "source": []
  },
  {
   "cell_type": "code",
   "execution_count": null,
   "id": "f8e2573b",
   "metadata": {},
   "outputs": [],
   "source": [
    "# # Now lets try the same thing. But we cannot use a new list. \n",
    "\n",
    "# lst1 = [17,20, 30, 11]\n",
    "\n",
    "# for x in lst1:\n",
    "#     lst1.append(x+1)\n",
    "    \n",
    "# print(lst1)"
   ]
  },
  {
   "cell_type": "code",
   "execution_count": null,
   "id": "91ea8594",
   "metadata": {},
   "outputs": [],
   "source": [
    "#Note how this throws us into an infinite loop? Every time we append an item to lst1 - the length of list 1 grows and the\n",
    "#for loop continues to have to add 1 to the new elements created. So, thats out!"
   ]
  },
  {
   "cell_type": "code",
   "execution_count": null,
   "id": "0843c326",
   "metadata": {},
   "outputs": [],
   "source": [
    "# #How about if we try to change the value of the elements of lst1 in place? Try to reassign the value?\n",
    "\n",
    "lst1 = [17,20, 30, 11]\n",
    "\n",
    "for x in lst1:\n",
    "    x += 1\n",
    "    print(x)\n",
    "print(lst1)\n",
    "\n",
    "#Oops! We did update new values to temporary variable x, but that did us no good - we could not assign that value to \n",
    "# the list we were running the for loop on. But if we were to assign the new value of x to the index position of lst1\n",
    "# that would solve our problem right?\n"
   ]
  },
  {
   "cell_type": "code",
   "execution_count": null,
   "id": "01358bd5",
   "metadata": {},
   "outputs": [],
   "source": [
    "#We could individually assign the values of the list based on their index position. \n",
    "\n",
    "lst1[0] += 1\n",
    "lst1[1] += 1\n",
    "lst1[2] += 1\n",
    "lst1[3] += 1\n",
    "\n",
    "print(lst1)"
   ]
  },
  {
   "cell_type": "code",
   "execution_count": null,
   "id": "95f90d19",
   "metadata": {},
   "outputs": [],
   "source": [
    "#However using the concept of index positions, item assigment(since list is mutable) and the range function, we are able\n",
    "# to accomplish this easily.\n",
    "\n",
    "lst1 = [17,20,30,11]\n",
    "\n",
    "for x in range(len(lst1)):\n",
    "    lst1[x] = lst1[x] +1  \n",
    "print(lst1)\n",
    "    "
   ]
  },
  {
   "cell_type": "code",
   "execution_count": null,
   "id": "51a2c42d",
   "metadata": {},
   "outputs": [],
   "source": [
    "# So, important takeaways from this excercise of using range functions with lists:\n",
    "\n",
    "# 1. We can use the range function to act as a proxy for the index numbers of a list.\n",
    "\n",
    "### PLEASE PLEASE understand that the range function is NOT a function that returns the index numbers of a list. What it \n",
    "# returns is a range of numbers(elements) between specified parameters. We then use this range object as a proxy for \n",
    "# index numbers of a list. There is a distinction between these two and it has taken me hours with individual\n",
    "# students making them unlearn and relearn their understanding of this idea. \n",
    "\n",
    "# 2. We can use the index numbers of a list, when we cannot (or do not want to) work on the elements of a list directly,\n",
    "# but need to perform operations on their index positions. \n"
   ]
  },
  {
   "cell_type": "code",
   "execution_count": null,
   "id": "f0328bc3",
   "metadata": {},
   "outputs": [],
   "source": [
    "str1 = ' may twelfth batch is a great batch'\n",
    "\n",
    "str2 = ''\n",
    "\n",
    "for x in range(len(str1)):\n",
    "    if str1[x-1] == \" \":\n",
    "        str2 += str1[x].upper()\n",
    "    else:\n",
    "        str2 += str1[x]\n",
    "print(str2)"
   ]
  },
  {
   "cell_type": "code",
   "execution_count": null,
   "id": "8a48cd2f",
   "metadata": {},
   "outputs": [],
   "source": [
    "# A cool syntax to use with lists is called list comprehension. It is short form of a for loop with lists. \n",
    "print(lst1)"
   ]
  },
  {
   "cell_type": "code",
   "execution_count": null,
   "id": "09c9e392",
   "metadata": {},
   "outputs": [],
   "source": [
    "lst2 = [x+1 for x in lst1]\n",
    "\n",
    "print(lst2)"
   ]
  },
  {
   "cell_type": "code",
   "execution_count": null,
   "id": "590aeda9",
   "metadata": {},
   "outputs": [],
   "source": [
    "lst3 = []\n",
    "for x in lst1:\n",
    "    lst3.append(x+1)\n",
    "print(lst3)\n",
    "    "
   ]
  },
  {
   "cell_type": "code",
   "execution_count": null,
   "id": "1390db73",
   "metadata": {},
   "outputs": [],
   "source": [
    "#It returns a new list object based using the for loop in one line of efficient easy code. \n",
    "\n",
    "#it works on any iterable. \n",
    "\n",
    "str1 = 'abcdef'\n",
    "lst3 = [x+'!' for x in str1]\n",
    "print(lst3)"
   ]
  },
  {
   "cell_type": "code",
   "execution_count": null,
   "id": "e04cc621",
   "metadata": {},
   "outputs": [],
   "source": [
    "# We can use the if and else conditions along with a list comprehension. \n",
    "\n",
    "lst4 = [1,12,11,24,17]\n",
    "\n",
    "lst5 = [x + 1 if x%2 == 1 else x for x in lst4]\n",
    "\n",
    "print(lst5)"
   ]
  },
  {
   "cell_type": "code",
   "execution_count": null,
   "id": "14c186a8",
   "metadata": {},
   "outputs": [],
   "source": [
    "print(lst4)"
   ]
  },
  {
   "cell_type": "code",
   "execution_count": null,
   "id": "ef91a888",
   "metadata": {},
   "outputs": [],
   "source": [
    "lst6 = [x+1 for x in lst4 if x%2 == 1]\n",
    "\n",
    "print(lst6)"
   ]
  },
  {
   "cell_type": "code",
   "execution_count": null,
   "id": "46401ab3",
   "metadata": {},
   "outputs": [],
   "source": [
    "#Note importantly how if we are using both if and else then if else condition comes before the for loop otherwise if only using if\n",
    "# condition this comes after teh for loop. \n",
    "# Also note that do not specify the else condition then for elements that do not satisfy the if condition, nothing is done\n",
    "# and they are not included in the new list. \n",
    "\n"
   ]
  },
  {
   "cell_type": "code",
   "execution_count": null,
   "id": "e8771aa5",
   "metadata": {},
   "outputs": [],
   "source": [
    "print(lst1)"
   ]
  },
  {
   "cell_type": "code",
   "execution_count": null,
   "id": "3cd08aa6",
   "metadata": {},
   "outputs": [],
   "source": [
    "\n",
    "for x in lst1:\n",
    "    if x%2 == 0:\n",
    "        print(x)\n",
    "\n",
    "    if x%4 == 0:\n",
    "        print(x)"
   ]
  },
  {
   "cell_type": "code",
   "execution_count": null,
   "id": "90d06754",
   "metadata": {},
   "outputs": [],
   "source": [
    "# You can use multiple if statements in the list comprehension.\n",
    "\n",
    "print(lst5)\n",
    "\n",
    "lst7 = [x+1 for x in lst5 if x%2 ==0 if x%4==0]\n",
    "print(lst7)\n",
    "\n",
    "# The expressions that satisfy all the if conditions will be output to the new list. \n",
    "\n",
    "#However, you cannot use multiple if statements with an else statement. There is a workaround to this which we will \n",
    "# discuss when discussing loops and conditional statements further in the course. "
   ]
  },
  {
   "cell_type": "code",
   "execution_count": null,
   "id": "d511f973",
   "metadata": {},
   "outputs": [],
   "source": [
    "#At the time of discussing loops, we shall also look at nested for loops for normal lists and also their use in list\n",
    "# comprehension. "
   ]
  },
  {
   "cell_type": "code",
   "execution_count": null,
   "id": "cd91f6cf",
   "metadata": {},
   "outputs": [],
   "source": [
    "#So, from what we have learnt we can easily use the range function to return a list of numbers to us.\n",
    "\n",
    "# normal for loop. \n",
    "\n",
    "lst = []\n",
    "for x in range(10):\n",
    "    lst.append(x)\n",
    "    \n",
    "print(lst)\n",
    "    "
   ]
  },
  {
   "cell_type": "code",
   "execution_count": null,
   "id": "f1723070",
   "metadata": {},
   "outputs": [],
   "source": [
    "\n",
    "\n",
    "lst = []\n",
    "for x in range(50,70,2):\n",
    "    lst.append(x)\n",
    "    \n",
    "print(lst)"
   ]
  },
  {
   "cell_type": "code",
   "execution_count": null,
   "id": "f010dd58",
   "metadata": {},
   "outputs": [],
   "source": [
    "#And using list comprehension\n",
    "\n",
    "lst = [x for x in range(20)]\n",
    "print(lst)"
   ]
  },
  {
   "cell_type": "code",
   "execution_count": null,
   "id": "cd753070",
   "metadata": {},
   "outputs": [],
   "source": [
    "lst = [x for x in range(50,70,2)]\n",
    "print(lst)"
   ]
  },
  {
   "cell_type": "code",
   "execution_count": null,
   "id": "6e4aa9d7",
   "metadata": {},
   "outputs": [],
   "source": [
    "#Note how using list comprehension - I did not have to reassign variable lst to a new empty list? What would happen in\n",
    "# the normal for loop if I were to not reassign a new empty list to lst? \n",
    "\n",
    "lst = []\n",
    "\n",
    "for x in range(20):\n",
    "    lst.append(x)\n",
    "print(lst)\n",
    "\n",
    "for x in range(50,70,2):\n",
    "    lst.append(x)\n",
    "\n",
    "print(lst)"
   ]
  },
  {
   "cell_type": "code",
   "execution_count": null,
   "id": "bffc586a",
   "metadata": {},
   "outputs": [],
   "source": [
    "#While the above examples were just to understand the use and differences between for loops with lists and list\n",
    "# comprehension, the easiest way to actually create the above lists would be: \n",
    "\n",
    "lst = list(range(20))\n",
    "\n",
    "print(lst)"
   ]
  },
  {
   "cell_type": "code",
   "execution_count": null,
   "id": "703f301c",
   "metadata": {},
   "outputs": [],
   "source": [
    "lst = list(range(50,70,2))\n",
    "print(lst)"
   ]
  },
  {
   "cell_type": "code",
   "execution_count": null,
   "id": "343eb7ef",
   "metadata": {},
   "outputs": [],
   "source": [
    "# You would probably use for and lists or list comprehensions to perform much more complex tasks than just creating\n",
    "# a list of numbers. "
   ]
  },
  {
   "cell_type": "code",
   "execution_count": null,
   "id": "591a8412",
   "metadata": {},
   "outputs": [],
   "source": [
    "# Delete, remove and pop - Uses and differences in Python\n",
    "\n",
    "# Delete is a Python keyword and works on deleting any Python object."
   ]
  },
  {
   "cell_type": "code",
   "execution_count": null,
   "id": "80ca2a44",
   "metadata": {},
   "outputs": [],
   "source": [
    "lst = list(range(1,10))\n",
    "\n",
    "print(lst)"
   ]
  },
  {
   "cell_type": "code",
   "execution_count": null,
   "id": "45e68621",
   "metadata": {},
   "outputs": [],
   "source": [
    "print(lst)"
   ]
  },
  {
   "cell_type": "code",
   "execution_count": null,
   "id": "a299f479",
   "metadata": {},
   "outputs": [],
   "source": [
    "# With lists and list indexing it will remove the element at specified index position of the list\n",
    "\n",
    "del(lst[2])\n",
    "print(lst)\n",
    "\n",
    "#Note here how it deleted the object at the 2nd index position and not the value 2 inside the list."
   ]
  },
  {
   "cell_type": "code",
   "execution_count": null,
   "id": "f0d0be54",
   "metadata": {},
   "outputs": [],
   "source": [
    "# With no index number provided it will delete the whole list object. \n",
    "\n",
    "del(lst)\n",
    "\n",
    "print(lst)\n"
   ]
  },
  {
   "cell_type": "code",
   "execution_count": null,
   "id": "1c0371a6",
   "metadata": {},
   "outputs": [],
   "source": [
    "lst = [1, 2, 54, 55, 56, 57, 58, 60, 100, 111]\n",
    "print(lst)"
   ]
  },
  {
   "cell_type": "code",
   "execution_count": null,
   "id": "7aa134a0",
   "metadata": {},
   "outputs": [],
   "source": [
    "del(lst[2:4])"
   ]
  },
  {
   "cell_type": "code",
   "execution_count": null,
   "id": "b7a5dd37",
   "metadata": {},
   "outputs": [],
   "source": [
    "print(lst)"
   ]
  },
  {
   "cell_type": "code",
   "execution_count": null,
   "id": "7610b26a",
   "metadata": {},
   "outputs": [],
   "source": [
    "lst = list(range(1,10))\n",
    "\n",
    "lst.append(20)\n",
    "print(lst)\n",
    "\n",
    "print(len(lst))"
   ]
  },
  {
   "cell_type": "code",
   "execution_count": null,
   "id": "ae6c573b",
   "metadata": {},
   "outputs": [],
   "source": [
    "del(lst[20])\n",
    "\n",
    "#Note here how we get an IndexError - since len of list is only 10"
   ]
  },
  {
   "cell_type": "code",
   "execution_count": null,
   "id": "f4485e90",
   "metadata": {},
   "outputs": [],
   "source": [
    "lst = list(range(1,10))\n",
    "print(lst)"
   ]
  },
  {
   "cell_type": "code",
   "execution_count": null,
   "id": "3ebb2635",
   "metadata": {},
   "outputs": [],
   "source": [
    "lst1 = [1,2,3,4]\n",
    "lst2 = [5,6,7,8]\n",
    "\n",
    "del(lst1, lst2)\n",
    "\n"
   ]
  },
  {
   "cell_type": "code",
   "execution_count": null,
   "id": "954b2953",
   "metadata": {},
   "outputs": [],
   "source": [
    "print(lst1)"
   ]
  },
  {
   "cell_type": "code",
   "execution_count": null,
   "id": "6198d5e9",
   "metadata": {},
   "outputs": [],
   "source": [
    "print(lst2)"
   ]
  },
  {
   "cell_type": "code",
   "execution_count": null,
   "id": "69869476",
   "metadata": {},
   "outputs": [],
   "source": [
    "x = 1001\n",
    "y = 2002\n",
    "\n",
    "lst1 = [1,2,3,x, y, 4]\n",
    "\n",
    "print(lst1)"
   ]
  },
  {
   "cell_type": "code",
   "execution_count": null,
   "id": "0715b707",
   "metadata": {},
   "outputs": [],
   "source": [
    "del(lst1[3])\n",
    "\n",
    "print(lst1)"
   ]
  },
  {
   "cell_type": "code",
   "execution_count": null,
   "id": "817ecf28",
   "metadata": {},
   "outputs": [],
   "source": [
    "print(x)\n",
    "\n",
    "#Note how the object x is deleted from list but not from memory."
   ]
  },
  {
   "cell_type": "code",
   "execution_count": null,
   "id": "6ae13acd",
   "metadata": {},
   "outputs": [],
   "source": [
    "del(x)\n",
    "print(x)"
   ]
  },
  {
   "cell_type": "code",
   "execution_count": null,
   "id": "b60bb8c7",
   "metadata": {},
   "outputs": [],
   "source": [
    "x = 1001\n",
    "\n",
    "lst1.append(x)\n",
    "print(lst1)"
   ]
  },
  {
   "cell_type": "code",
   "execution_count": null,
   "id": "e66fb28e",
   "metadata": {},
   "outputs": [],
   "source": [
    "del(x)\n",
    "print(x)"
   ]
  },
  {
   "cell_type": "code",
   "execution_count": null,
   "id": "1b689cb1",
   "metadata": {},
   "outputs": [],
   "source": [
    "print(lst1)\n",
    "\n",
    "#Note how even though object is supposedly removed from memory, since there is another reference to it inside the list\n",
    "#object, it remains in memory i.e. it has not been deleted. "
   ]
  },
  {
   "cell_type": "code",
   "execution_count": null,
   "id": "24db3dbf",
   "metadata": {},
   "outputs": [],
   "source": [
    "#Delete can also be used to delete a range of objects from the list\n",
    "\n",
    "lst1 = list(range(1,10))\n",
    "print(lst1)"
   ]
  },
  {
   "cell_type": "code",
   "execution_count": null,
   "id": "1002fe5a",
   "metadata": {},
   "outputs": [],
   "source": [
    "del(lst1[1:4])\n",
    "\n",
    "print(lst1)"
   ]
  },
  {
   "cell_type": "code",
   "execution_count": null,
   "id": "3028a885",
   "metadata": {},
   "outputs": [],
   "source": [
    "lst.remove(2)\n",
    "\n",
    "print(lst)"
   ]
  },
  {
   "cell_type": "code",
   "execution_count": null,
   "id": "4cf3dacb",
   "metadata": {},
   "outputs": [],
   "source": [
    "#Note here - how remove method removed the element with the value of 2. "
   ]
  },
  {
   "cell_type": "code",
   "execution_count": null,
   "id": "32a46a8d",
   "metadata": {},
   "outputs": [],
   "source": [
    "lst = list(range(1,10))\n",
    "lst.append(20)\n",
    "print(lst)"
   ]
  },
  {
   "cell_type": "code",
   "execution_count": null,
   "id": "8939467d",
   "metadata": {},
   "outputs": [],
   "source": [
    "lst.remove(20)\n",
    "\n",
    "print(lst)"
   ]
  },
  {
   "cell_type": "code",
   "execution_count": null,
   "id": "87211e00",
   "metadata": {},
   "outputs": [],
   "source": [
    "# Note here how lst was able to remove the object with the value 20 from the list. \n",
    "\n",
    "#Both delete and remove perform the operation on the original list and return nothing. \n",
    "\n",
    "lst = list(range(1,10))\n",
    "\n",
    "lst_del = del(lst[2])\n",
    "\n",
    "print(lst)\n",
    "print(lst_del)\n",
    "\n",
    "#Since del is a keyword and not a method(function) on the list datatype - we immediately get a syntax error. You cannot\n",
    "#assign a keyword operation to a variable. "
   ]
  },
  {
   "cell_type": "code",
   "execution_count": null,
   "id": "0ff42a45",
   "metadata": {},
   "outputs": [],
   "source": [
    "lst = list(range(1,10))\n",
    "\n",
    "lst.remove(2,5)\n",
    "\n"
   ]
  },
  {
   "cell_type": "code",
   "execution_count": null,
   "id": "e112671e",
   "metadata": {},
   "outputs": [],
   "source": []
  },
  {
   "cell_type": "code",
   "execution_count": null,
   "id": "428c8620",
   "metadata": {},
   "outputs": [],
   "source": [
    "lst = list(range(1,10))\n",
    "print(lst)"
   ]
  },
  {
   "cell_type": "code",
   "execution_count": null,
   "id": "9994ade4",
   "metadata": {},
   "outputs": [],
   "source": [
    "lst_del = lst.remove(2)\n",
    "\n",
    "print(lst)"
   ]
  },
  {
   "cell_type": "code",
   "execution_count": null,
   "id": "92d1e90f",
   "metadata": {},
   "outputs": [],
   "source": [
    "print(lst_del)"
   ]
  },
  {
   "cell_type": "code",
   "execution_count": null,
   "id": "ef32bd1f",
   "metadata": {},
   "outputs": [],
   "source": [
    "#As expected, the remove operation has been performed on the original list and this is reflected in the original list. \n",
    "# However, since the remove method on lists does not return anything, we receive None as contained in variable lst_del."
   ]
  },
  {
   "cell_type": "code",
   "execution_count": null,
   "id": "aa6f942e",
   "metadata": {},
   "outputs": [],
   "source": []
  },
  {
   "cell_type": "code",
   "execution_count": null,
   "id": "27cba9cd",
   "metadata": {},
   "outputs": [],
   "source": [
    "#Pop method on lists in Python removes the element and the specified index value in a list. It takes one parameter, index \n",
    "# value of the element to be removed. If parameter left empty it defaults to -1 or the last element in the list. \n",
    "\n",
    "lst = list(range(1,10))\n",
    "print(lst)"
   ]
  },
  {
   "cell_type": "code",
   "execution_count": null,
   "id": "59b3b414",
   "metadata": {},
   "outputs": [],
   "source": [
    "lst.pop()\n",
    "\n",
    "print(lst)"
   ]
  },
  {
   "cell_type": "code",
   "execution_count": null,
   "id": "624a5bf6",
   "metadata": {},
   "outputs": [],
   "source": [
    "lst.pop(2)\n",
    "print(lst)"
   ]
  },
  {
   "cell_type": "code",
   "execution_count": null,
   "id": "525c55a9",
   "metadata": {},
   "outputs": [],
   "source": [
    "#However, the pop method removes the element from the original list AND returns the element that was at the specified index\n",
    "# and was removed. \n",
    "\n",
    "lst = list(range(1,10))\n",
    "print(lst)\n",
    "popped = lst.pop()\n",
    "\n",
    "print(f'List after popping {lst}')"
   ]
  },
  {
   "cell_type": "code",
   "execution_count": null,
   "id": "3c76b5cc",
   "metadata": {},
   "outputs": [],
   "source": [
    "print(f'Popped = {popped}.')"
   ]
  },
  {
   "cell_type": "code",
   "execution_count": null,
   "id": "c0b0b311",
   "metadata": {},
   "outputs": [],
   "source": [
    "lst = list(range(1,10))\n",
    "print(lst)\n",
    "popped = lst.pop(5)"
   ]
  },
  {
   "cell_type": "code",
   "execution_count": null,
   "id": "1edd3459",
   "metadata": {},
   "outputs": [],
   "source": [
    "print(f'List after popping {lst}')\n",
    "print(f'Popped = {popped}.')"
   ]
  },
  {
   "cell_type": "code",
   "execution_count": null,
   "id": "a6007748",
   "metadata": {},
   "outputs": [],
   "source": [
    "#Sort method on Lists - sorts the given list in ascending order (by default). For strings does comparison by unicode values\n",
    "# character by character"
   ]
  },
  {
   "cell_type": "code",
   "execution_count": null,
   "id": "bc00c6e5",
   "metadata": {},
   "outputs": [],
   "source": [
    "lst1 = [17, 12, 39, 11, 9, 18]\n",
    "\n",
    "lst2 = lst1.sort()\n",
    "print(lst1)\n",
    "print(lst2)"
   ]
  },
  {
   "cell_type": "code",
   "execution_count": null,
   "id": "c62dd778",
   "metadata": {},
   "outputs": [],
   "source": [
    "#As we can see - the sort is performed on original list which is modified and there is no return value. \n",
    "\n",
    "lst2 = ['a', 'Python', 'XYZ']\n",
    "\n",
    "lst2.sort()\n",
    "print(lst2)\n",
    "\n",
    "#Note here how Python and XYZ are before the alphabet a. This is because the unicode values of capital P and X are lower\n",
    "#than the unicode value for a. "
   ]
  },
  {
   "cell_type": "code",
   "execution_count": null,
   "id": "92a029d2",
   "metadata": {},
   "outputs": [],
   "source": [
    "lst2 = ['a', 'Python', 'xYZ']\n",
    "\n",
    "lst2.sort()\n",
    "print(lst2)"
   ]
  },
  {
   "cell_type": "code",
   "execution_count": null,
   "id": "8c8954b2",
   "metadata": {},
   "outputs": [],
   "source": [
    "#Sort can take in 2 Parameters. \n",
    "\n",
    "#1. Key - This can take in a new function to calculate the values to be sorted on. Optional\n",
    "#2. reverse - Is False by default but if set to True - then will return the list in descending order. \n",
    "\n",
    "lst2 = [17, 24, 1001, 2123, 3, 82]\n",
    "\n",
    "lst2.sort(reverse = True)\n",
    "\n",
    "print(lst2)"
   ]
  },
  {
   "cell_type": "code",
   "execution_count": null,
   "id": "3e1f9882",
   "metadata": {},
   "outputs": [],
   "source": [
    "lst3 = ['a', 'Python', 'xYZ']\n",
    "\n",
    "lst3.sort(reverse = True)\n",
    "\n",
    "print(lst3)"
   ]
  },
  {
   "cell_type": "code",
   "execution_count": null,
   "id": "43926ee5",
   "metadata": {},
   "outputs": [],
   "source": [
    "#The keyword can take any type of function to evaluate the elements. E.g. len() function. \n",
    "\n",
    "lst4 = ['a', 'Python', 'xYZ']\n",
    "\n",
    "lst4.sort(key = len)\n",
    "\n",
    "print(lst4)"
   ]
  },
  {
   "cell_type": "code",
   "execution_count": null,
   "id": "91bfaea4",
   "metadata": {},
   "outputs": [],
   "source": [
    "lst4.sort(reverse = True, key = len)\n",
    "print(lst4)"
   ]
  },
  {
   "cell_type": "code",
   "execution_count": null,
   "id": "e5e70f0e",
   "metadata": {},
   "outputs": [],
   "source": [
    "lst4x = ['a', 100, 'Python', 'xYZ', 21]\n",
    "\n",
    "lst4x.sort()\n",
    "print(lst4x)\n",
    "\n",
    "#Sort not supported between different datatypes. "
   ]
  },
  {
   "cell_type": "code",
   "execution_count": null,
   "id": "c2129c18",
   "metadata": {},
   "outputs": [],
   "source": [
    "#However, as noticed - the sort method on lists - modifies the original list and does not return anything. \n",
    "#If original list order needs to be maintained and/or new object with items sorted is required, use the Python built-in \n",
    "#method sorted()\n",
    "\n",
    "lst5 = ['a', 'Python', 'xYZ']\n",
    "\n",
    "lst6 = sorted(lst5)\n",
    "\n",
    "print(lst5)\n",
    "print(lst6)"
   ]
  },
  {
   "cell_type": "code",
   "execution_count": null,
   "id": "0e7a3e74",
   "metadata": {},
   "outputs": [],
   "source": [
    "#Sorted built-in method takes in 3 parameters.\n",
    "\n",
    "#1. Iterable to be sorted - In this case, a list - Mandatory\n",
    "#2. Reverse = Set to False as default and returns the list sorted with the elements in ascending order. If set to True, will\n",
    "# return the elements in descending order. \n",
    "#3. Key = A different function on which to evaluate the elements and sort them accordingly. \n",
    "\n",
    "lst7 = sorted(lst6, key = len, reverse = True)\n",
    "\n",
    "print(lst7)"
   ]
  },
  {
   "cell_type": "code",
   "execution_count": null,
   "id": "7552a09a",
   "metadata": {},
   "outputs": [],
   "source": [
    "def funct_sq_rt(a):\n",
    "    return a%5\n",
    "\n",
    "print(funct_sq_rt(24))\n"
   ]
  },
  {
   "cell_type": "code",
   "execution_count": null,
   "id": "acbf7b4f",
   "metadata": {},
   "outputs": [],
   "source": [
    "lst3 = [18,12,16]\n",
    "\n",
    "lst4 = sorted(lst3, key = funct_sq_rt)\n",
    "\n",
    "print(lst4)"
   ]
  },
  {
   "cell_type": "code",
   "execution_count": null,
   "id": "c89fd40b",
   "metadata": {},
   "outputs": [],
   "source": [
    "#Reverse method on lists.  \n",
    "\n",
    "lst = list('abcdefghij')\n",
    "\n",
    "print(lst)\n",
    "\n",
    "lst.reverse()\n",
    "print(lst)"
   ]
  },
  {
   "cell_type": "code",
   "execution_count": null,
   "id": "191bf74b",
   "metadata": {},
   "outputs": [],
   "source": [
    "#It performs the operation on the original list object and returns nothing.\n",
    "\n",
    "lst = list('abcdefghij')\n",
    "print(lst)"
   ]
  },
  {
   "cell_type": "code",
   "execution_count": null,
   "id": "15eab47e",
   "metadata": {},
   "outputs": [],
   "source": [
    "lst1 = lst.reverse()\n",
    "print(lst)\n",
    "print(lst1)"
   ]
  },
  {
   "cell_type": "code",
   "execution_count": null,
   "id": "29325620",
   "metadata": {},
   "outputs": [],
   "source": [
    "#Reversed iterator. If however, the original list order has to be maintained and/or a new object with elements reversed is\n",
    "# required - use the reversed built-in function of Python to create a reversed iterator object and using list comprehension\n",
    "# create a new list. \n",
    "\n",
    "lst = list('abcdefghij')\n",
    "print(lst)\n",
    "\n",
    "lst2 = [x for x in reversed(lst)]\n",
    "\n",
    "print(lst)\n",
    "print(lst2)"
   ]
  },
  {
   "cell_type": "code",
   "execution_count": null,
   "id": "e61d1f7e",
   "metadata": {},
   "outputs": [],
   "source": [
    "rev_it = reversed(lst)\n",
    "\n",
    "print(rev_it)\n",
    "print(type(rev_it))"
   ]
  },
  {
   "cell_type": "code",
   "execution_count": null,
   "id": "a5581ca6",
   "metadata": {},
   "outputs": [],
   "source": []
  },
  {
   "cell_type": "code",
   "execution_count": null,
   "id": "bc5a413f",
   "metadata": {},
   "outputs": [],
   "source": [
    "#Aliasing and cloning\n",
    "\n",
    "x = [x * 10 for x in range(1,10)]\n",
    "print(x)"
   ]
  },
  {
   "cell_type": "code",
   "execution_count": null,
   "id": "1d33217b",
   "metadata": {},
   "outputs": [],
   "source": [
    "#Aliasing on lists - is insitialisng a new variable name to the same list object stored in the memory. \n",
    "\n",
    "y = x\n",
    "\n",
    "print(y)\n",
    "print(x is y)\n",
    "print(id(x), id(y))\n",
    "\n",
    "#When we do y = x, all we are doing is adding a new variable name which is pointing to the same object stored in variable.\n",
    "# This is called aliasing"
   ]
  },
  {
   "cell_type": "code",
   "execution_count": null,
   "id": "49af1117",
   "metadata": {},
   "outputs": [],
   "source": [
    "y = 100\n",
    "\n",
    "x = y\n",
    "\n",
    "print(x)"
   ]
  },
  {
   "cell_type": "code",
   "execution_count": null,
   "id": "c78c8462",
   "metadata": {},
   "outputs": [],
   "source": [
    "#Any changes to x will also be reflected on y. \n",
    "\n",
    "x[2] = 35\n",
    "\n",
    "print(x)\n",
    "print(y)"
   ]
  },
  {
   "cell_type": "code",
   "execution_count": null,
   "id": "3a8f512a",
   "metadata": {},
   "outputs": [],
   "source": [
    "print(x is y)\n",
    "print(id(x), id(y))"
   ]
  },
  {
   "cell_type": "code",
   "execution_count": null,
   "id": "88039264",
   "metadata": {},
   "outputs": [],
   "source": [
    "#If a new object with the same elements as x is required, we have two options: \n",
    "\n",
    "#The by now familiar and popular - slicing\n",
    "\n",
    "y = x[:]\n",
    "\n",
    "print(x)\n",
    "print(y)"
   ]
  },
  {
   "cell_type": "code",
   "execution_count": null,
   "id": "6c8f0643",
   "metadata": {},
   "outputs": [],
   "source": [
    "print(x is y)\n",
    "print(id(x), id(y))"
   ]
  },
  {
   "cell_type": "code",
   "execution_count": null,
   "id": "0d3e963d",
   "metadata": {},
   "outputs": [],
   "source": [
    "#Changing x (or y) does not affect the other\n",
    "\n",
    "x[2] = 37\n",
    "\n",
    "print(x)\n",
    "print(y)"
   ]
  },
  {
   "cell_type": "code",
   "execution_count": null,
   "id": "80eb4143",
   "metadata": {},
   "outputs": [],
   "source": [
    "y = x[:]\n",
    "\n",
    "print(x)\n",
    "print(y)"
   ]
  },
  {
   "cell_type": "code",
   "execution_count": null,
   "id": "067db293",
   "metadata": {},
   "outputs": [],
   "source": [
    "y[2] = 73\n",
    "\n",
    "print(x)\n",
    "print(y)"
   ]
  },
  {
   "cell_type": "code",
   "execution_count": null,
   "id": "f41d3d1a",
   "metadata": {},
   "outputs": [],
   "source": [
    "x = [1020, 2010, 'Python$']\n",
    "\n",
    "y = x[:2]\n",
    "\n",
    "print(x)\n",
    "print(y)"
   ]
  },
  {
   "cell_type": "code",
   "execution_count": null,
   "id": "34e7b1c3",
   "metadata": {},
   "outputs": [],
   "source": [
    "print(x is y)\n",
    "print(id(x), id(y))"
   ]
  },
  {
   "cell_type": "code",
   "execution_count": null,
   "id": "5cb1f6a8",
   "metadata": {},
   "outputs": [],
   "source": [
    "print(id(x[0]))\n",
    "print(id(y[0]))"
   ]
  },
  {
   "cell_type": "code",
   "execution_count": null,
   "id": "3a4d16bb",
   "metadata": {},
   "outputs": [],
   "source": [
    "#Another way is to use the copy method in List class/datatype.\n",
    "\n",
    "x = [x*10 for x in range(10)]\n",
    "y = x.copy()\n",
    "\n",
    "print(x)\n",
    "print(y)"
   ]
  },
  {
   "cell_type": "code",
   "execution_count": null,
   "id": "ab495c1c",
   "metadata": {},
   "outputs": [],
   "source": [
    "print(x is y)\n",
    "print(id(x), id(y))"
   ]
  },
  {
   "cell_type": "code",
   "execution_count": null,
   "id": "3a9023e9",
   "metadata": {},
   "outputs": [],
   "source": [
    "x[2] = 37\n",
    "\n",
    "print(x)\n",
    "print(y)"
   ]
  },
  {
   "cell_type": "code",
   "execution_count": null,
   "id": "a37b8253",
   "metadata": {},
   "outputs": [],
   "source": [
    "y = x.copy()\n",
    "\n",
    "print(x)\n",
    "print(y)"
   ]
  },
  {
   "cell_type": "code",
   "execution_count": null,
   "id": "e7c2f135",
   "metadata": {},
   "outputs": [],
   "source": [
    "y[2] = 73\n",
    "\n",
    "print(x)\n",
    "print(y)"
   ]
  },
  {
   "cell_type": "code",
   "execution_count": null,
   "id": "11c1f921",
   "metadata": {},
   "outputs": [],
   "source": [
    "x = [1000, '#', ['a',100, 200,2]]\n",
    "y = x\n",
    "\n",
    "print(x)\n",
    "print(y)"
   ]
  },
  {
   "cell_type": "code",
   "execution_count": null,
   "id": "5fa3f7ac",
   "metadata": {},
   "outputs": [],
   "source": [
    "for a in range(len(x)):\n",
    "    print(f'Item at index {a} is {x[a]}.')\n",
    "    print(f'Items in x and y are the same object : {x[a] is y[a]}.')\n"
   ]
  },
  {
   "cell_type": "code",
   "execution_count": null,
   "id": "11c99087",
   "metadata": {},
   "outputs": [],
   "source": [
    "x[2][0] ='Python'\n",
    "\n",
    "print(x)\n",
    "print(y)"
   ]
  },
  {
   "cell_type": "code",
   "execution_count": null,
   "id": "b893b75e",
   "metadata": {},
   "outputs": [],
   "source": [
    "x = [1000, '#', ['a',100, 200,2]]\n",
    "y = x[:]\n",
    "\n",
    "print(x)\n",
    "print(y)"
   ]
  },
  {
   "cell_type": "code",
   "execution_count": null,
   "id": "044a96dc",
   "metadata": {},
   "outputs": [],
   "source": [
    "for a in range(len(x)):\n",
    "    print(f'Item at index {a} is {x[a]}.')\n",
    "    print(f'Items in x and y are the same object : {x[a] is y[a]}.')\n"
   ]
  },
  {
   "cell_type": "code",
   "execution_count": null,
   "id": "97546426",
   "metadata": {},
   "outputs": [],
   "source": [
    "y[1] = '$'\n",
    "\n",
    "print(x)\n",
    "print(y)"
   ]
  },
  {
   "cell_type": "code",
   "execution_count": null,
   "id": "682bbe2c",
   "metadata": {},
   "outputs": [],
   "source": [
    "for a in range(len(x)):\n",
    "    print(f'Item at index {a} is {x[a]}.')\n",
    "    print(f'Items in x and y are the same object : {x[a] is y[a]}.')\n"
   ]
  },
  {
   "cell_type": "code",
   "execution_count": null,
   "id": "00901b79",
   "metadata": {},
   "outputs": [],
   "source": [
    "x = [1000, '#', ['a',100, 200,2]]\n",
    "y = x.copy()\n",
    "\n",
    "print(x)\n",
    "print(y)"
   ]
  },
  {
   "cell_type": "code",
   "execution_count": null,
   "id": "29f6288a",
   "metadata": {},
   "outputs": [],
   "source": [
    "for a in range(len(x)):\n",
    "    print(f'Item at index {a} is {x[a]}.')\n",
    "    print(f'Items in x and y are the same object : {x[a] is y[a]}.')\n"
   ]
  },
  {
   "cell_type": "code",
   "execution_count": null,
   "id": "32a94efa",
   "metadata": {},
   "outputs": [],
   "source": [
    "y[1] = 200\n",
    "\n",
    "print(x)\n",
    "print(y)"
   ]
  },
  {
   "cell_type": "code",
   "execution_count": null,
   "id": "d84d7893",
   "metadata": {},
   "outputs": [],
   "source": [
    "for a in range(len(x)):\n",
    "    print(f'Item at index {a} is {x[a]}.')\n",
    "    print(f'Items in x and y are the same object : {x[a] is y[a]}.')\n"
   ]
  },
  {
   "cell_type": "code",
   "execution_count": null,
   "id": "b74b6c8c",
   "metadata": {},
   "outputs": [],
   "source": [
    "# The above methods of slicing or using the built in copy function is called copying. \n",
    "\n",
    "# Or more precisely creating a 'Shallow' copy.\n",
    "\n",
    "# Shallow copying does not work on compound objects since for the compound objects(sequential) objects y also stores the\n",
    "# same memory id as the x and changing the object at that memory location in x changes the object at that memory location in y as\n",
    "# well. \n",
    "\n",
    "x = [1000, '#', ['a',100, 200,2]]\n",
    "y = x.copy()\n",
    "print(x)\n",
    "print(y)"
   ]
  },
  {
   "cell_type": "code",
   "execution_count": null,
   "id": "fbdf50b7",
   "metadata": {},
   "outputs": [],
   "source": [
    "x[2][1] = 1001\n",
    "print(x)\n",
    "print(y)"
   ]
  },
  {
   "cell_type": "code",
   "execution_count": null,
   "id": "c8356184",
   "metadata": {},
   "outputs": [],
   "source": [
    "import copy"
   ]
  },
  {
   "cell_type": "code",
   "execution_count": null,
   "id": "ef3e59ea",
   "metadata": {},
   "outputs": [],
   "source": [
    "x = [1000,'#', ['a', 100, 200, 2]]\n",
    "\n",
    "y = copy.deepcopy(x)\n",
    "\n",
    "print(x)\n",
    "print(y)"
   ]
  },
  {
   "cell_type": "code",
   "execution_count": null,
   "id": "2c308601",
   "metadata": {},
   "outputs": [],
   "source": [
    "x[2][2] = 2001\n",
    "\n",
    "print(x)\n",
    "\n",
    "\n",
    "print(y)"
   ]
  },
  {
   "cell_type": "code",
   "execution_count": null,
   "id": "4917f72a",
   "metadata": {},
   "outputs": [],
   "source": [
    "x = [1,2,3,4, [5,6,7,8]]\n",
    "\n",
    "y = x.copy()\n",
    "\n",
    "z = copy.deepcopy(x)\n",
    "\n",
    "print(x,y,z, sep ='\\n')\n",
    "\n",
    "print(id(x[-1]) is id(z[-1]))\n",
    "\n"
   ]
  },
  {
   "cell_type": "code",
   "execution_count": null,
   "id": "5eecb572",
   "metadata": {},
   "outputs": [],
   "source": [
    "x[1] = 2020\n",
    "\n",
    "print(x)\n",
    "print(y)\n",
    "print(z)"
   ]
  },
  {
   "cell_type": "code",
   "execution_count": null,
   "id": "d78721e4",
   "metadata": {},
   "outputs": [],
   "source": [
    "x[4][1] = 60\n",
    "\n",
    "print(x)\n",
    "print(y)\n",
    "print(z)"
   ]
  },
  {
   "cell_type": "code",
   "execution_count": null,
   "id": "976b053a",
   "metadata": {},
   "outputs": [],
   "source": [
    "x[2][0] = 'Python'\n",
    "\n",
    "print(x)\n",
    "print(y)\n"
   ]
  },
  {
   "cell_type": "code",
   "execution_count": null,
   "id": "327fdb0b",
   "metadata": {},
   "outputs": [],
   "source": []
  },
  {
   "cell_type": "code",
   "execution_count": null,
   "id": "61dbc86a",
   "metadata": {},
   "outputs": [],
   "source": [
    "#Note that copy module also has a copy method but the functioning is exactly as the built-in copy method - and it creates\n",
    "# a shallow copy and is rarely used. It MAY be used to highlight that a shallow copy is being created. But even then it is\n",
    "# easier to use the built-in copy method and just comment a '#Shallow copy'"
   ]
  },
  {
   "cell_type": "code",
   "execution_count": null,
   "id": "4125efa2",
   "metadata": {},
   "outputs": [],
   "source": [
    "#Deepcopy on Dictionaries\n",
    "\n",
    "xd = {'a': 100, 'b':{'p': [300, 700, 900]}, 'c':'Python' }\n",
    "\n",
    "yd = copy.deepcopy(xd)\n",
    "\n",
    "xd['a'] = 1001\n",
    "\n",
    "print(xd)\n",
    "print(yd)"
   ]
  },
  {
   "cell_type": "code",
   "execution_count": null,
   "id": "33981436",
   "metadata": {},
   "outputs": [],
   "source": [
    "xd['b']['p'][1] = 7001\n",
    "\n",
    "print(xd)\n",
    "print(yd)"
   ]
  },
  {
   "cell_type": "code",
   "execution_count": null,
   "id": "4026784a",
   "metadata": {},
   "outputs": [],
   "source": [
    "#Deepcopy on Sets\n",
    "\n",
    "xs = {870, 901, 1012, 'Python'}\n",
    "\n",
    "ys = copy.deepcopy(xs)\n",
    "\n",
    "xs.remove(1012)\n",
    "\n",
    "print(xs)\n",
    "print(ys)"
   ]
  },
  {
   "cell_type": "code",
   "execution_count": null,
   "id": "41ca6550",
   "metadata": {},
   "outputs": [],
   "source": [
    "xs.add(2024)\n",
    "\n",
    "print(xs)\n",
    "print(ys)"
   ]
  },
  {
   "cell_type": "code",
   "execution_count": null,
   "id": "9cf3e7fc",
   "metadata": {},
   "outputs": [],
   "source": [
    "#Deepcopy on Tuples\n",
    "\n",
    "xs = ('a', 'b', [300, 500, 800])\n",
    "\n",
    "ys = copy.deepcopy(xs)\n",
    "\n",
    "xs[2][1] = 501\n",
    "\n",
    "print(xs)\n",
    "print(ys)"
   ]
  },
  {
   "cell_type": "code",
   "execution_count": null,
   "id": "84b9817a",
   "metadata": {},
   "outputs": [],
   "source": [
    "#Functions for use with list datatype\n",
    "\n",
    "#Sum function\n",
    "lst1 = list(range(1,10))\n",
    "print(lst1)"
   ]
  },
  {
   "cell_type": "code",
   "execution_count": null,
   "id": "8ea435af",
   "metadata": {},
   "outputs": [],
   "source": [
    "x = sum(lst1)\n",
    "print(x)"
   ]
  },
  {
   "cell_type": "code",
   "execution_count": null,
   "id": "9d53df53",
   "metadata": {},
   "outputs": [],
   "source": [
    "# Sum function in Python can take in two parameters - \n",
    "\n",
    "# 1. The iterable to be summed (e.g. list, tuple, set)\n",
    "# 2. The start - This number will be added to the sum - basically where to start summing from. \n",
    "\n",
    "# All the elements in the iterable must be numbers. \n",
    "\n",
    "x = sum(lst1, 1000)\n",
    "print(x)"
   ]
  },
  {
   "cell_type": "code",
   "execution_count": null,
   "id": "051be243",
   "metadata": {},
   "outputs": [],
   "source": [
    "y = [101, 201, 'Python', 1001]\n",
    "\n",
    "z = sum(y)\n",
    "\n",
    "print(z)"
   ]
  },
  {
   "cell_type": "code",
   "execution_count": null,
   "id": "3f14e2c3",
   "metadata": {},
   "outputs": [],
   "source": [
    "print(y)"
   ]
  },
  {
   "cell_type": "code",
   "execution_count": null,
   "id": "cec4a6dc",
   "metadata": {},
   "outputs": [],
   "source": [
    "#Index function. \n",
    "\n",
    "#Returns the first occurrence of the element in the list. Takes 3 parameters\n",
    "\n",
    "#1. The element to be searched.\n",
    "#2. Start - the index number of where to start search from. Optional - defaults to 0 if not provided\n",
    "#3. End - the index number of where to end. Optional - defaults to index number of end of list if not provided.\n",
    "\n",
    "# If the element to be searched is not present - it returns a ValueError\n",
    "\n",
    "print(y.index('Python'))"
   ]
  },
  {
   "cell_type": "code",
   "execution_count": null,
   "id": "9c165a9b",
   "metadata": {},
   "outputs": [],
   "source": [
    "x = y.index('Python')\n",
    "\n",
    "print(x)"
   ]
  },
  {
   "cell_type": "code",
   "execution_count": null,
   "id": "3802e677",
   "metadata": {},
   "outputs": [],
   "source": [
    "x = y.index('Python',2)\n",
    "\n",
    "print(x)"
   ]
  },
  {
   "cell_type": "code",
   "execution_count": null,
   "id": "384be8c9",
   "metadata": {},
   "outputs": [],
   "source": [
    "y = [100,200,'Python',2+3J, 1001, 'abc','Python']\n",
    "\n",
    "x = y.index('Python', 2, 5)\n",
    "\n",
    "print(x)"
   ]
  },
  {
   "cell_type": "code",
   "execution_count": null,
   "id": "22b20ecf",
   "metadata": {},
   "outputs": [],
   "source": [
    "print(y)"
   ]
  },
  {
   "cell_type": "code",
   "execution_count": null,
   "id": "62c160d8",
   "metadata": {},
   "outputs": [],
   "source": [
    "x = y.index('Python',3)`\n",
    "\n",
    "print(x)"
   ]
  },
  {
   "cell_type": "code",
   "execution_count": null,
   "id": "c56122c3",
   "metadata": {},
   "outputs": [],
   "source": [
    "x = y.index('Python',3,len(y))\n",
    "\n",
    "print(x)"
   ]
  },
  {
   "cell_type": "code",
   "execution_count": null,
   "id": "668ca9ca",
   "metadata": {},
   "outputs": [],
   "source": [
    "x = y.index('Python',,len(y))\n",
    "\n",
    "print(x)\n",
    "\n",
    "# As always, without providing the start index, we cannot provide the stop index\n",
    "\n",
    "#Unlike strings - No rindex method."
   ]
  },
  {
   "cell_type": "code",
   "execution_count": null,
   "id": "9c84cf78",
   "metadata": {},
   "outputs": [],
   "source": [
    "#Min and Max functions\n",
    "\n",
    "lst1 = [1,2,7,5,11,4]\n",
    "\n",
    "print(min(lst1))\n",
    "\n"
   ]
  },
  {
   "cell_type": "code",
   "execution_count": null,
   "id": "0f0f8522",
   "metadata": {},
   "outputs": [],
   "source": [
    "print(max(lst1))"
   ]
  },
  {
   "cell_type": "code",
   "execution_count": null,
   "id": "c43ed7ef",
   "metadata": {},
   "outputs": [],
   "source": [
    "a = min(lst1)\n",
    "print(a)"
   ]
  },
  {
   "cell_type": "code",
   "execution_count": null,
   "id": "cd4f6a99",
   "metadata": {},
   "outputs": [],
   "source": [
    "b = max(lst1)\n",
    "print(b)"
   ]
  },
  {
   "cell_type": "code",
   "execution_count": null,
   "id": "a7fe7559",
   "metadata": {},
   "outputs": [],
   "source": [
    "lst_alpha = ['Python', 'a', 'Seventy-Two']\n",
    "\n",
    "print(min(lst_alpha))"
   ]
  },
  {
   "cell_type": "code",
   "execution_count": null,
   "id": "b0685618",
   "metadata": {},
   "outputs": [],
   "source": [
    "print(max(lst_alpha))"
   ]
  },
  {
   "cell_type": "code",
   "execution_count": null,
   "id": "b47eccd3",
   "metadata": {},
   "outputs": [],
   "source": [
    "#Note while working with strings - that the min/max method calculates the ORDER in which the characters are stored in\n",
    "# ordinal values and checks for the first character (and each subsequent character if tied). Therefore - Capital A is the \n",
    "# lowest and small z is the highest. \n",
    "\n",
    "lst_alpha2 = [\"Python\", 'a', 'seventy-two']\n",
    "\n",
    "print(max(lst_alpha2))"
   ]
  },
  {
   "cell_type": "code",
   "execution_count": null,
   "id": "cf132aae",
   "metadata": {},
   "outputs": [],
   "source": [
    "lst_alpha3 = ['Python', 'Pithon']\n",
    "\n",
    "print(max(lst_alpha3))"
   ]
  },
  {
   "cell_type": "code",
   "execution_count": null,
   "id": "d0ac5d5b",
   "metadata": {},
   "outputs": [],
   "source": [
    "lst_alpha4 = [\"Python\", \"Qython\"]\n",
    "\n",
    "print(max(lst_alpha4))"
   ]
  },
  {
   "cell_type": "code",
   "execution_count": null,
   "id": "ec21f022",
   "metadata": {},
   "outputs": [],
   "source": [
    "lst5 = ['P', 200, 50, 75]\n",
    "\n",
    "print(min(lst5))\n",
    "\n",
    "#With mixed datatypes the comparison of min and max cannot be performed.\n"
   ]
  },
  {
   "cell_type": "code",
   "execution_count": 10,
   "id": "a7f949bb",
   "metadata": {},
   "outputs": [
    {
     "name": "stdout",
     "output_type": "stream",
     "text": [
      "3\n"
     ]
    }
   ],
   "source": [
    "#Count method in Lists. Counts the number of times an element occurs in a list. \n",
    "\n",
    "lst= ['P', 200, 50, 75, 200, 'P', 50, 'P', 20]\n",
    "\n",
    "print(lst.count('P'))"
   ]
  },
  {
   "cell_type": "code",
   "execution_count": 11,
   "id": "764e21bb",
   "metadata": {},
   "outputs": [
    {
     "name": "stdout",
     "output_type": "stream",
     "text": [
      "3\n"
     ]
    }
   ],
   "source": [
    "y = lst.count('P')\n",
    "print(y)"
   ]
  },
  {
   "cell_type": "code",
   "execution_count": 12,
   "id": "08f47b02",
   "metadata": {},
   "outputs": [
    {
     "ename": "TypeError",
     "evalue": "list.count() takes exactly one argument (2 given)",
     "output_type": "error",
     "traceback": [
      "\u001b[1;31m---------------------------------------------------------------------------\u001b[0m",
      "\u001b[1;31mTypeError\u001b[0m                                 Traceback (most recent call last)",
      "Input \u001b[1;32mIn [12]\u001b[0m, in \u001b[0;36m<cell line: 7>\u001b[1;34m()\u001b[0m\n\u001b[0;32m      1\u001b[0m \u001b[38;5;66;03m#Returns the count as a value so the value can be stored in a variable.\u001b[39;00m\n\u001b[0;32m      2\u001b[0m \n\u001b[0;32m      3\u001b[0m \u001b[38;5;66;03m#Takes only one parameter - the item to be counted\u001b[39;00m\n\u001b[0;32m      4\u001b[0m \n\u001b[0;32m      5\u001b[0m \u001b[38;5;66;03m# Returns TypeError if more than one element to count passed into the arguments. \u001b[39;00m\n\u001b[1;32m----> 7\u001b[0m y \u001b[38;5;241m=\u001b[39m \u001b[43mlst\u001b[49m\u001b[38;5;241;43m.\u001b[39;49m\u001b[43mcount\u001b[49m\u001b[43m(\u001b[49m\u001b[38;5;124;43m'\u001b[39;49m\u001b[38;5;124;43mP\u001b[39;49m\u001b[38;5;124;43m'\u001b[39;49m\u001b[43m,\u001b[49m\u001b[43m \u001b[49m\u001b[38;5;241;43m50\u001b[39;49m\u001b[43m)\u001b[49m\n",
      "\u001b[1;31mTypeError\u001b[0m: list.count() takes exactly one argument (2 given)"
     ]
    }
   ],
   "source": [
    "#Returns the count as a value so the value can be stored in a variable.\n",
    "\n",
    "#Takes only one parameter - the item to be counted\n",
    "\n",
    "# Returns TypeError if more than one element to count passed into the arguments. \n",
    "\n",
    "y = lst.count('P', 50)"
   ]
  },
  {
   "cell_type": "code",
   "execution_count": 13,
   "id": "ea29baf6",
   "metadata": {},
   "outputs": [
    {
     "name": "stdout",
     "output_type": "stream",
     "text": [
      "['P', 200, 50, 75, 200, 'P', 50, 'P', 20]\n"
     ]
    }
   ],
   "source": [
    "#Insert Method on Lists. Inserts item at specified index position in a list. Performs operation on original list and has\n",
    "# no return. \n",
    "\n",
    "#Takes 2 arguments - Both mandatory:\n",
    "#1. Index position to be inserted at. \n",
    "#2. Item to be inserted\n",
    "\n",
    "print(lst)"
   ]
  },
  {
   "cell_type": "code",
   "execution_count": 14,
   "id": "030d4da0",
   "metadata": {},
   "outputs": [
    {
     "name": "stdout",
     "output_type": "stream",
     "text": [
      "['P', 200, 50, 75, 'ABC', 200, 'P', 50, 'P', 20]\n"
     ]
    }
   ],
   "source": [
    "lst.insert(4, 'ABC')\n",
    "\n",
    "print(lst)"
   ]
  },
  {
   "cell_type": "code",
   "execution_count": 15,
   "id": "f977d588",
   "metadata": {},
   "outputs": [
    {
     "name": "stdout",
     "output_type": "stream",
     "text": [
      "['P', 200, 50, 75, 'ABC', 200, 'P', 'XYZ', 50, 'P', 20]\n",
      "None\n"
     ]
    }
   ],
   "source": [
    "lst1 = lst.insert(7,'XYZ')\n",
    "\n",
    "print(lst)\n",
    "print(lst1)"
   ]
  },
  {
   "cell_type": "code",
   "execution_count": 17,
   "id": "b440517e",
   "metadata": {},
   "outputs": [
    {
     "ename": "TypeError",
     "evalue": "insert expected 2 arguments, got 3",
     "output_type": "error",
     "traceback": [
      "\u001b[1;31m---------------------------------------------------------------------------\u001b[0m",
      "\u001b[1;31mTypeError\u001b[0m                                 Traceback (most recent call last)",
      "Input \u001b[1;32mIn [17]\u001b[0m, in \u001b[0;36m<cell line: 3>\u001b[1;34m()\u001b[0m\n\u001b[0;32m      1\u001b[0m \u001b[38;5;66;03m#Cannot specify more than one index position or item to be inserted at one time. \u001b[39;00m\n\u001b[1;32m----> 3\u001b[0m \u001b[43mlst\u001b[49m\u001b[38;5;241;43m.\u001b[39;49m\u001b[43minsert\u001b[49m\u001b[43m(\u001b[49m\u001b[38;5;241;43m4\u001b[39;49m\u001b[43m,\u001b[49m\u001b[38;5;241;43m5\u001b[39;49m\u001b[43m,\u001b[49m\u001b[38;5;124;43m'\u001b[39;49m\u001b[38;5;124;43mPython\u001b[39;49m\u001b[38;5;124;43m'\u001b[39;49m\u001b[43m)\u001b[49m\n",
      "\u001b[1;31mTypeError\u001b[0m: insert expected 2 arguments, got 3"
     ]
    }
   ],
   "source": [
    "#Cannot specify more than one index position or item to be inserted at one time. \n",
    "\n",
    "lst.insert(4,5,'Python')"
   ]
  },
  {
   "cell_type": "code",
   "execution_count": 18,
   "id": "a3cc6009",
   "metadata": {},
   "outputs": [
    {
     "ename": "TypeError",
     "evalue": "insert expected 2 arguments, got 1",
     "output_type": "error",
     "traceback": [
      "\u001b[1;31m---------------------------------------------------------------------------\u001b[0m",
      "\u001b[1;31mTypeError\u001b[0m                                 Traceback (most recent call last)",
      "Input \u001b[1;32mIn [18]\u001b[0m, in \u001b[0;36m<cell line: 2>\u001b[1;34m()\u001b[0m\n\u001b[0;32m      1\u001b[0m \u001b[38;5;66;03m#Also throws a TypeError if only one parameter specified i.e. there is no default index number. \u001b[39;00m\n\u001b[1;32m----> 2\u001b[0m \u001b[43mlst\u001b[49m\u001b[38;5;241;43m.\u001b[39;49m\u001b[43minsert\u001b[49m\u001b[43m(\u001b[49m\u001b[38;5;124;43m'\u001b[39;49m\u001b[38;5;124;43mPython\u001b[39;49m\u001b[38;5;124;43m'\u001b[39;49m\u001b[43m)\u001b[49m\n",
      "\u001b[1;31mTypeError\u001b[0m: insert expected 2 arguments, got 1"
     ]
    }
   ],
   "source": [
    "#Also throws a TypeError if only one parameter specified i.e. there is no default index number. \n",
    "lst.insert('Python')"
   ]
  },
  {
   "cell_type": "code",
   "execution_count": 19,
   "id": "30482e56",
   "metadata": {},
   "outputs": [
    {
     "name": "stdout",
     "output_type": "stream",
     "text": [
      "['a', 100, 2001, 10.2, 'XYZ']\n",
      "['b', 'C for Chair', 1132]\n"
     ]
    }
   ],
   "source": [
    "#Extend method on Lists. Extends the list by the elements specified in the parameter. \n",
    "\n",
    "lst1 = ['a', 100, 2001, 10.2, 'XYZ']\n",
    "lst2 = ['b', 'C for Chair', 1132]\n",
    "\n",
    "print(lst1)\n",
    "print(lst2)"
   ]
  },
  {
   "cell_type": "code",
   "execution_count": null,
   "id": "32417e12",
   "metadata": {},
   "outputs": [],
   "source": [
    "lst1.extend(lst2)\n",
    "\n",
    "print(lst1)\n",
    "print(lst2)"
   ]
  },
  {
   "cell_type": "code",
   "execution_count": 9,
   "id": "b84e8453",
   "metadata": {},
   "outputs": [
    {
     "ename": "NameError",
     "evalue": "name 'lst1' is not defined",
     "output_type": "error",
     "traceback": [
      "\u001b[1;31m---------------------------------------------------------------------------\u001b[0m",
      "\u001b[1;31mNameError\u001b[0m                                 Traceback (most recent call last)",
      "Input \u001b[1;32mIn [9]\u001b[0m, in \u001b[0;36m<cell line: 6>\u001b[1;34m()\u001b[0m\n\u001b[0;32m      1\u001b[0m \u001b[38;5;66;03m#Difference between Concatenation and Extend method. \u001b[39;00m\n\u001b[0;32m      2\u001b[0m \n\u001b[0;32m      3\u001b[0m \u001b[38;5;66;03m#1. Extend method modifies the original list while concatenation creates a new list object. \u001b[39;00m\n\u001b[0;32m      4\u001b[0m \u001b[38;5;66;03m#2. Extend method can be used between datatypes. Concatenation can only be performed between two lists. \u001b[39;00m\n\u001b[1;32m----> 6\u001b[0m lst_x \u001b[38;5;241m=\u001b[39m \u001b[43mlst1\u001b[49m\u001b[38;5;241m.\u001b[39mextend(lst2)\n\u001b[0;32m      7\u001b[0m \u001b[38;5;28mprint\u001b[39m(lst1)\n\u001b[0;32m      8\u001b[0m \u001b[38;5;28mprint\u001b[39m(lst_x)\n",
      "\u001b[1;31mNameError\u001b[0m: name 'lst1' is not defined"
     ]
    }
   ],
   "source": [
    "#Difference between Concatenation and Extend method. \n",
    "\n",
    "#1. Extend method modifies the original list while concatenation creates a new list object. \n",
    "#2. Extend method can be used between datatypes. Concatenation can only be performed between two lists. \n",
    "\n",
    "lst_x = lst1.extend(lst2)\n",
    "print(lst1)\n",
    "print(lst_x)"
   ]
  },
  {
   "cell_type": "code",
   "execution_count": 20,
   "id": "da31bed5",
   "metadata": {},
   "outputs": [
    {
     "name": "stdout",
     "output_type": "stream",
     "text": [
      "['a', 100, 2001, 10.2, 'XYZ', 'p', 'q', 'r', 's']\n"
     ]
    }
   ],
   "source": [
    "lst1.extend('pqrs')\n",
    "\n",
    "print(lst1)"
   ]
  },
  {
   "cell_type": "code",
   "execution_count": 21,
   "id": "3b716a7d",
   "metadata": {},
   "outputs": [
    {
     "name": "stdout",
     "output_type": "stream",
     "text": [
      "['a', 100, 2001, 10.2, 'XYZ', 'p', 'q', 'r', 's', 'pqrs', 'xyz']\n"
     ]
    }
   ],
   "source": [
    "lst3 = ['pqrs', 'xyz']\n",
    "\n",
    "lst1.extend(lst3)\n",
    "\n",
    "print(lst1)"
   ]
  },
  {
   "cell_type": "code",
   "execution_count": 22,
   "id": "a0761fe0",
   "metadata": {},
   "outputs": [
    {
     "name": "stdout",
     "output_type": "stream",
     "text": [
      "['a', 100, 2001, 10.2, 'XYZ', 'p', 'q', 'r', 's', 'pqrs', 'xyz', 17, 'Airplane', 'Train']\n"
     ]
    }
   ],
   "source": [
    "#Note how extend treats each of the element in the iterable 'pqrs' as a separate element and adds each of them to the\n",
    "# original list. \n",
    "\n",
    "tup_y = (17, 'Airplane', 'Train')\n",
    "\n",
    "lst1.extend(tup_y)\n",
    "\n",
    "print(lst1)"
   ]
  },
  {
   "cell_type": "code",
   "execution_count": 26,
   "id": "ad319a07",
   "metadata": {},
   "outputs": [
    {
     "ename": "TypeError",
     "evalue": "can only concatenate list (not \"tuple\") to list",
     "output_type": "error",
     "traceback": [
      "\u001b[1;31m---------------------------------------------------------------------------\u001b[0m",
      "\u001b[1;31mTypeError\u001b[0m                                 Traceback (most recent call last)",
      "Input \u001b[1;32mIn [26]\u001b[0m, in \u001b[0;36m<cell line: 1>\u001b[1;34m()\u001b[0m\n\u001b[1;32m----> 1\u001b[0m lst3 \u001b[38;5;241m=\u001b[39m \u001b[43mlst1\u001b[49m\u001b[43m \u001b[49m\u001b[38;5;241;43m+\u001b[39;49m\u001b[43m \u001b[49m\u001b[43mtup_y\u001b[49m\n\u001b[0;32m      3\u001b[0m \u001b[38;5;28mprint\u001b[39m(lst3)\n",
      "\u001b[1;31mTypeError\u001b[0m: can only concatenate list (not \"tuple\") to list"
     ]
    }
   ],
   "source": [
    "lst3 = lst1 + tup_y\n",
    "\n",
    "print(lst3)"
   ]
  },
  {
   "cell_type": "code",
   "execution_count": 27,
   "id": "17998b9b",
   "metadata": {},
   "outputs": [
    {
     "name": "stdout",
     "output_type": "stream",
     "text": [
      "['a', 100, 2001, 10.2, 'XYZ', 'p', 'q', 'r', 's', 'pqrs', 'xyz', 17, 'Airplane', 'Train', 'pqrs']\n"
     ]
    }
   ],
   "source": [
    "#If we need to treat the iterable as a single element - we need to put it in another iterable as one object and then extend\n",
    "# list\n",
    "\n",
    "tup_z = ('pqrs',)\n",
    "\n",
    "lst1.extend(tup_z)\n",
    "\n",
    "print(lst1)"
   ]
  },
  {
   "cell_type": "code",
   "execution_count": 28,
   "id": "ce288e56",
   "metadata": {},
   "outputs": [
    {
     "name": "stdout",
     "output_type": "stream",
     "text": [
      "[]\n"
     ]
    }
   ],
   "source": [
    "#Clear method on Lists - clears the original list of all elements. \n",
    "\n",
    "lst1.clear()\n",
    "\n",
    "print(lst1)\n",
    "\n"
   ]
  },
  {
   "cell_type": "code",
   "execution_count": 29,
   "id": "d20fa682",
   "metadata": {},
   "outputs": [
    {
     "name": "stdout",
     "output_type": "stream",
     "text": [
      "['a', 'b', 'c', 'd', 'e']\n"
     ]
    }
   ],
   "source": [
    "#Modifies original list and returns none. \n",
    "\n",
    "lst1 = list('abcde')\n",
    "\n",
    "print(lst1)"
   ]
  },
  {
   "cell_type": "code",
   "execution_count": 30,
   "id": "db1f4ae4",
   "metadata": {},
   "outputs": [
    {
     "name": "stdout",
     "output_type": "stream",
     "text": [
      "[]\n",
      "None\n"
     ]
    }
   ],
   "source": [
    "lst2 = lst1.clear()\n",
    "\n",
    "print(lst1)\n",
    "print(lst2)"
   ]
  },
  {
   "cell_type": "code",
   "execution_count": 31,
   "id": "f272d85f",
   "metadata": {},
   "outputs": [
    {
     "name": "stdout",
     "output_type": "stream",
     "text": [
      "[1, 2, 3, 4, 5, 6] <class 'list'>\n",
      "[10, 20, 30, 40, 50, 60] <class 'list'>\n",
      "['a', 'b', 'c', 'd', 'e', 'f'] <class 'list'>\n"
     ]
    }
   ],
   "source": [
    "#Packing and unpacking list. Packing is nothing but assigning elements / objects to a list which we have seen previously. \n",
    "\n",
    "lst1 = [1,2,3,4,5,6]\n",
    "lst2 = [10,20,30,40,50,60]\n",
    "lst3 = list('abcdef')\n",
    "\n",
    "print(lst1, type(lst1))\n",
    "print(lst2, type(lst2))\n",
    "print(lst3, type(lst3))"
   ]
  },
  {
   "cell_type": "code",
   "execution_count": null,
   "id": "18666c10",
   "metadata": {},
   "outputs": [],
   "source": []
  },
  {
   "cell_type": "code",
   "execution_count": null,
   "id": "976d81ed",
   "metadata": {},
   "outputs": [],
   "source": [
    "#Unpacking however, is assigning the values inside a list(or a tuple) to variables. The variables are on the left and \n",
    "# the list is on the right of the expression. \n",
    "\n",
    "a,b,c,d,e,f = lst1\n",
    "\n",
    "print(a,b,c,d,e,f, sep = '\\n')"
   ]
  },
  {
   "cell_type": "code",
   "execution_count": 33,
   "id": "15b52464",
   "metadata": {},
   "outputs": [
    {
     "name": "stdout",
     "output_type": "stream",
     "text": [
      "10\n",
      "20\n",
      "30\n",
      "40\n",
      "50\n",
      "60\n"
     ]
    }
   ],
   "source": [
    "a,b,c,d,e,f = lst2\n",
    "\n",
    "print(a,b,c,d,e,f, sep = '\\n')"
   ]
  },
  {
   "cell_type": "code",
   "execution_count": 32,
   "id": "80abdd47",
   "metadata": {},
   "outputs": [
    {
     "name": "stdout",
     "output_type": "stream",
     "text": [
      "a\n",
      "b\n",
      "c\n",
      "d\n",
      "e\n",
      "f\n"
     ]
    }
   ],
   "source": [
    "a,b,c,d,e,f = lst3\n",
    "\n",
    "print(a,b,c,d,e,f, sep = '\\n')"
   ]
  },
  {
   "cell_type": "code",
   "execution_count": null,
   "id": "91e744d8",
   "metadata": {},
   "outputs": [],
   "source": [
    "#The number of variables must correspond to the elements in the list (or we use the * to prefix a single variable to collect\n",
    "# the rest of the elements. More on that later).\n",
    "\n",
    "a,b,c = lst3\n",
    "\n",
    "print(a,b,c, sep = '\\n')"
   ]
  },
  {
   "cell_type": "code",
   "execution_count": null,
   "id": "3b349aed",
   "metadata": {},
   "outputs": [],
   "source": [
    "print(lst1)"
   ]
  },
  {
   "cell_type": "code",
   "execution_count": null,
   "id": "fd96456c",
   "metadata": {},
   "outputs": [],
   "source": [
    "#However, if we need only some of the variables assigned and the rest in a single list we can add the * prefix infront of\n",
    "# one of the variables - and this will collect all the remaining variables after the n number of variables are each assigned\n",
    "# an element from the list. \n",
    "\n",
    "a,b, *c = lst1\n",
    "\n",
    "print(a,b,c, sep = '\\n')"
   ]
  },
  {
   "cell_type": "code",
   "execution_count": null,
   "id": "5581c896",
   "metadata": {},
   "outputs": [],
   "source": [
    "\n",
    "a,*b,c = lst1\n",
    "\n",
    "print(a,b,c, sep = '\\n')\n"
   ]
  },
  {
   "cell_type": "code",
   "execution_count": 34,
   "id": "ea7e26a7",
   "metadata": {},
   "outputs": [
    {
     "name": "stdout",
     "output_type": "stream",
     "text": [
      "My students are amazing! My students are amazing! My students are amazing! My students are amazing! My students are amazing! My students are amazing! My students are amazing! My students are amazing! My students are amazing! \n"
     ]
    }
   ],
   "source": [
    "#Using this logic of unpacking multiple arguments to a function can be packed into a list and a single list with the *\n",
    "#prefix can be passed into the function. \n",
    "\n",
    "def func_list(p,q,r,s,t):\n",
    "    return (s+t)*(p+q*r)\n",
    "\n",
    "lst1 = [3,3,2,'My students ', 'are amazing! ']\n",
    "\n",
    "print(func_list(*lst1))\n",
    "    \n",
    "p,q,r,s,t = lst1"
   ]
  },
  {
   "cell_type": "code",
   "execution_count": 35,
   "id": "00d7b602",
   "metadata": {},
   "outputs": [
    {
     "name": "stdout",
     "output_type": "stream",
     "text": [
      "None\n"
     ]
    }
   ],
   "source": [
    "try1 = str(None)\n",
    "\n",
    "print(try1)"
   ]
  },
  {
   "cell_type": "code",
   "execution_count": null,
   "id": "69ee44c7",
   "metadata": {},
   "outputs": [],
   "source": []
  }
 ],
 "metadata": {
  "kernelspec": {
   "display_name": "Python 3 (ipykernel)",
   "language": "python",
   "name": "python3"
  },
  "language_info": {
   "codemirror_mode": {
    "name": "ipython",
    "version": 3
   },
   "file_extension": ".py",
   "mimetype": "text/x-python",
   "name": "python",
   "nbconvert_exporter": "python",
   "pygments_lexer": "ipython3",
   "version": "3.9.12"
  }
 },
 "nbformat": 4,
 "nbformat_minor": 5
}
