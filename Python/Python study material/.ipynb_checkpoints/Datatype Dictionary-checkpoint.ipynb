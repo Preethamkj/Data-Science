{
 "cells": [
  {
   "cell_type": "markdown",
   "id": "bce70d1b",
   "metadata": {},
   "source": [
    "# Datatype Dictionary"
   ]
  },
  {
   "cell_type": "code",
   "execution_count": 1,
   "id": "edb81c96",
   "metadata": {},
   "outputs": [],
   "source": [
    "#Dictionary datatype in Python provides mapping capability i.e. it is defined in key:value pairs. Each key corresponds to\n",
    "# a value in the dictionary. Each key and value is seperated by a colon : and each key:value pair is seperated from the next\n",
    "# by a comma.\n",
    "\n",
    "#1. The keys of a dictionary must be immutable objects. \n",
    "#2. The keys of a dictionary must be unique (i.e. no duplicates allowed in keys)\n",
    "#3. Values of a dictionary may take any type of object (mutable, immutable, variables, function definitions, function calls\n",
    "# etc.)\n",
    "\n",
    "#Examples of the use of dictionaries are:\n",
    "\n",
    "# Key : Value \n",
    "# Student Name : Marks\n",
    "# Menu item : Price\n",
    "# Room no : list(room tarriff, tax, list(peripherals to be billed))\n",
    "# Catalogue ID : {Product name : {price: value, width : Value2, height:value3, depth:value4}}\n",
    "\n",
    "#The properties of dictionaries are:\n",
    "\n",
    "#1. They are mutable datatypes. \n",
    "#2. Keys of a dictionary must be immutable and unique. Values can be of any datatype. \n",
    "#3. They are sequential\n",
    "#4. They are ordered (as of Python 3.7)\n",
    "#5. They do not support slicing or indexing\n",
    "#6. A dictionary can be iterated over\n"
   ]
  },
  {
   "cell_type": "code",
   "execution_count": 2,
   "id": "710c685c",
   "metadata": {},
   "outputs": [
    {
     "name": "stdout",
     "output_type": "stream",
     "text": [
      "<class 'dict'>\n",
      "<class 'dict'>\n"
     ]
    }
   ],
   "source": [
    "#Initialising dictionaries. To initialise a dictionary simply put the key value pairs inside curly braces. \n",
    "\n",
    "#An empty dictionary can be created simply by putting a pair of curly braces. \n",
    "\n",
    "dict0 = {}\n",
    "\n",
    "#Or calling the dict constructor\n",
    "\n",
    "dict01 = dict()\n",
    "\n",
    "print(type(dict0))\n",
    "print(type(dict01))"
   ]
  },
  {
   "cell_type": "code",
   "execution_count": 3,
   "id": "1a4f5a19",
   "metadata": {},
   "outputs": [
    {
     "name": "stdout",
     "output_type": "stream",
     "text": [
      "{'A': 100, 'b': 20, 30: ['a', 'b', 'c', 'd'], 'x': {'p': 100, 'q': 101}}\n",
      "<class 'dict'>\n"
     ]
    }
   ],
   "source": [
    "#To initialise a dictionary with elements (key:value), put the pairs inside curly braces with each pair seperated by a comma.\n",
    "\n",
    "y = {'p' : 100, 'q': 101}\n",
    "dict1 = {'A':100, 'b':20, 30:['a', 'b', 'c', 'd'], 'x' : y}\n",
    "\n",
    "print(dict1)\n",
    "print(type(dict1))"
   ]
  },
  {
   "cell_type": "code",
   "execution_count": 4,
   "id": "4bbfe58a",
   "metadata": {},
   "outputs": [
    {
     "name": "stdout",
     "output_type": "stream",
     "text": [
      "{'A': 100, 'b': 20, 30: ['a', 'b', 'c', 'd'], 'x': {'p': 100, 'q': 101}}\n"
     ]
    }
   ],
   "source": [
    "#or using the constructor\n",
    "\n",
    "dict2 = dict({'A':100, 'b':20, 30:['a', 'b', 'c', 'd'], 'x' : y})\n",
    "\n",
    "print(dict2)"
   ]
  },
  {
   "cell_type": "code",
   "execution_count": 5,
   "id": "df04b646",
   "metadata": {},
   "outputs": [
    {
     "name": "stdout",
     "output_type": "stream",
     "text": [
      "{'A': 100, 'b': 20, 30: ['a', 'b', 'c', 'd'], 'x': {'p': 100, 'q': 101}, (100, 200): 100}\n"
     ]
    }
   ],
   "source": [
    "dict2[(100,200)] = 100\n",
    "\n",
    "print(dict2)"
   ]
  },
  {
   "cell_type": "code",
   "execution_count": 6,
   "id": "eb42ba25",
   "metadata": {},
   "outputs": [
    {
     "ename": "TypeError",
     "evalue": "unhashable type: 'list'",
     "output_type": "error",
     "traceback": [
      "\u001b[1;31m---------------------------------------------------------------------------\u001b[0m",
      "\u001b[1;31mTypeError\u001b[0m                                 Traceback (most recent call last)",
      "\u001b[1;32m<ipython-input-6-816836ae24bf>\u001b[0m in \u001b[0;36m<module>\u001b[1;34m\u001b[0m\n\u001b[1;32m----> 1\u001b[1;33m \u001b[0mdict2\u001b[0m\u001b[1;33m[\u001b[0m\u001b[1;33m(\u001b[0m\u001b[1;36m100\u001b[0m\u001b[1;33m,\u001b[0m\u001b[1;33m[\u001b[0m\u001b[1;36m1\u001b[0m\u001b[1;33m,\u001b[0m\u001b[1;36m2\u001b[0m\u001b[1;33m]\u001b[0m\u001b[1;33m)\u001b[0m\u001b[1;33m]\u001b[0m \u001b[1;33m=\u001b[0m \u001b[1;36m100\u001b[0m\u001b[1;33m\u001b[0m\u001b[1;33m\u001b[0m\u001b[0m\n\u001b[0m",
      "\u001b[1;31mTypeError\u001b[0m: unhashable type: 'list'"
     ]
    }
   ],
   "source": [
    "dict2[(100,[1,2])] = 100"
   ]
  },
  {
   "cell_type": "code",
   "execution_count": 8,
   "id": "341beb7b",
   "metadata": {},
   "outputs": [
    {
     "name": "stdout",
     "output_type": "stream",
     "text": [
      "{'a': 100, 'b': 101}\n",
      "<class 'dict'>\n"
     ]
    }
   ],
   "source": [
    "#Note how the curly braces are still required inside the dict constructor while initialising a dictionary through this\n",
    "#method. In reality, one would probably not use the constructor to create a list in this way. \n",
    "\n",
    "#However, if initialising using elements as key:value pairs the constructor comes in handy. \n",
    "\n",
    "dict3 = dict((('a',100), ('b',101)))\n",
    "\n",
    "print(dict3)\n",
    "print(type(dict3))"
   ]
  },
  {
   "cell_type": "code",
   "execution_count": 9,
   "id": "f99be8f3",
   "metadata": {},
   "outputs": [
    {
     "name": "stdout",
     "output_type": "stream",
     "text": [
      "{'a': 100, 'b': 101}\n",
      "<class 'dict'>\n"
     ]
    }
   ],
   "source": [
    "#Note putting each key value pair tuple inside a list before passing to dictionary. \n",
    "\n",
    "dict3 = dict([['a',100], ['b',101]])\n",
    "\n",
    "print(dict3)\n",
    "print(type(dict3))\n",
    "\n",
    "#Any combination of tuple, list can be used as long as the syntax is being followed i.e. constructor brackets must be round\n",
    "# brackets, then the key:value pairs must be put inside a list or tuple and finally - each key, value pair must be inside a\n",
    "# tuple or list - of ONLY two objects. We CAN have the values as a mutable derived object with more than one element. But\n",
    "# for the dictionaries purpose - the value item is only one OBJECT. "
   ]
  },
  {
   "cell_type": "code",
   "execution_count": 10,
   "id": "09c604a4",
   "metadata": {},
   "outputs": [
    {
     "ename": "ValueError",
     "evalue": "dictionary update sequence element #0 has length 3; 2 is required",
     "output_type": "error",
     "traceback": [
      "\u001b[1;31m---------------------------------------------------------------------------\u001b[0m",
      "\u001b[1;31mValueError\u001b[0m                                Traceback (most recent call last)",
      "\u001b[1;32m<ipython-input-10-582a29bad56a>\u001b[0m in \u001b[0;36m<module>\u001b[1;34m\u001b[0m\n\u001b[0;32m      1\u001b[0m \u001b[1;31m#You can also pass on a two or more elements in a list inside the original list to create a dictionary.\u001b[0m\u001b[1;33m\u001b[0m\u001b[1;33m\u001b[0m\u001b[1;33m\u001b[0m\u001b[0m\n\u001b[0;32m      2\u001b[0m \u001b[1;33m\u001b[0m\u001b[0m\n\u001b[1;32m----> 3\u001b[1;33m \u001b[0mdict4\u001b[0m \u001b[1;33m=\u001b[0m \u001b[0mdict\u001b[0m\u001b[1;33m(\u001b[0m\u001b[1;33m[\u001b[0m\u001b[1;33m[\u001b[0m\u001b[1;34m'a'\u001b[0m\u001b[1;33m,\u001b[0m\u001b[1;36m100\u001b[0m\u001b[1;33m,\u001b[0m\u001b[1;36m1001\u001b[0m\u001b[1;33m]\u001b[0m\u001b[1;33m,\u001b[0m \u001b[1;33m[\u001b[0m\u001b[1;34m'b'\u001b[0m\u001b[1;33m,\u001b[0m\u001b[1;36m101\u001b[0m\u001b[1;33m,\u001b[0m \u001b[1;36m1010\u001b[0m\u001b[1;33m]\u001b[0m\u001b[1;33m]\u001b[0m\u001b[1;33m)\u001b[0m\u001b[1;33m\u001b[0m\u001b[1;33m\u001b[0m\u001b[0m\n\u001b[0m\u001b[0;32m      4\u001b[0m \u001b[1;33m\u001b[0m\u001b[0m\n\u001b[0;32m      5\u001b[0m \u001b[0mprint\u001b[0m\u001b[1;33m(\u001b[0m\u001b[0mdict4\u001b[0m\u001b[1;33m)\u001b[0m\u001b[1;33m\u001b[0m\u001b[1;33m\u001b[0m\u001b[0m\n",
      "\u001b[1;31mValueError\u001b[0m: dictionary update sequence element #0 has length 3; 2 is required"
     ]
    }
   ],
   "source": [
    "#You can also pass on a two or more elements in a list inside the original list to create a dictionary. \n",
    "\n",
    "dict4 = dict([['a',100,1001], ['b',101, 1010]])\n",
    "\n",
    "print(dict4)\n",
    "#More than 2 elements throws a Value error as the dictionary constructor only expects one key and one value inside the list\n",
    "#(or tuple)"
   ]
  },
  {
   "cell_type": "code",
   "execution_count": 17,
   "id": "69236cca",
   "metadata": {},
   "outputs": [
    {
     "name": "stdout",
     "output_type": "stream",
     "text": [
      "{'a': [100, 1001], 'b': [101, 1010]}\n",
      "<class 'dict'>\n"
     ]
    }
   ],
   "source": [
    "#However, besides the first immutable element in each list - the rest can be passed into a list(or tuple, or set) denoting\n",
    "# one value object. \n",
    "\n",
    "dict3 = dict([['a',[100,1001]], ['b',[101,1010]]])\n",
    "\n",
    "print(dict3)\n",
    "print(type(dict3))\n"
   ]
  },
  {
   "cell_type": "code",
   "execution_count": 18,
   "id": "0b91de60",
   "metadata": {},
   "outputs": [
    {
     "name": "stdout",
     "output_type": "stream",
     "text": [
      "{'a': (100, 1001), 'b': (101, 1010)}\n",
      "<class 'dict'>\n"
     ]
    }
   ],
   "source": [
    "dict3 = dict((('a',(100,1001)), ('b',(101,1010))))\n",
    "\n",
    "print(dict3)\n",
    "print(type(dict3))\n"
   ]
  },
  {
   "cell_type": "code",
   "execution_count": 19,
   "id": "2fb1283d",
   "metadata": {},
   "outputs": [
    {
     "name": "stdout",
     "output_type": "stream",
     "text": [
      "{'a': 100, 'b': 2020, 'c': 201}\n"
     ]
    }
   ],
   "source": [
    "dict4 = {'a':100, 'b':200, 'c':201, 'b':2020}\n",
    "\n",
    "print(dict4)\n"
   ]
  },
  {
   "cell_type": "code",
   "execution_count": 20,
   "id": "f1e60ef0",
   "metadata": {},
   "outputs": [
    {
     "name": "stdout",
     "output_type": "stream",
     "text": [
      "{'a': 100, 'b': 200, 'c': 201, 'B': 2020}\n"
     ]
    }
   ],
   "source": [
    "#Note here how when finding two elements 'b' in the dictionary initialisation - it only keeps the latest value of 'b' in the\n",
    "# dictionary. Keys of a dictionary must be unique. \n",
    "\n",
    "#This works though since strings are case sensitive. \n",
    "\n",
    "dict4 = {'a':100, 'b':200, 'c':201, 'B':2020}\n",
    "\n",
    "print(dict4)\n"
   ]
  },
  {
   "cell_type": "code",
   "execution_count": 21,
   "id": "2aeeb434",
   "metadata": {},
   "outputs": [
    {
     "ename": "TypeError",
     "evalue": "unhashable type: 'list'",
     "output_type": "error",
     "traceback": [
      "\u001b[1;31m---------------------------------------------------------------------------\u001b[0m",
      "\u001b[1;31mTypeError\u001b[0m                                 Traceback (most recent call last)",
      "\u001b[1;32m<ipython-input-21-5d47c707c931>\u001b[0m in \u001b[0;36m<module>\u001b[1;34m\u001b[0m\n\u001b[0;32m      3\u001b[0m \u001b[1;31m#Keys though must be immutable.\u001b[0m\u001b[1;33m\u001b[0m\u001b[1;33m\u001b[0m\u001b[1;33m\u001b[0m\u001b[0m\n\u001b[0;32m      4\u001b[0m \u001b[1;33m\u001b[0m\u001b[0m\n\u001b[1;32m----> 5\u001b[1;33m \u001b[0mdict5\u001b[0m \u001b[1;33m=\u001b[0m \u001b[1;33m{\u001b[0m\u001b[1;33m[\u001b[0m\u001b[1;36m1\u001b[0m\u001b[1;33m,\u001b[0m\u001b[1;36m2\u001b[0m\u001b[1;33m,\u001b[0m\u001b[1;36m3\u001b[0m\u001b[1;33m]\u001b[0m \u001b[1;33m:\u001b[0m \u001b[1;34m'abc'\u001b[0m\u001b[1;33m,\u001b[0m \u001b[1;36m21\u001b[0m\u001b[1;33m:\u001b[0m\u001b[1;36m200\u001b[0m\u001b[1;33m,\u001b[0m \u001b[1;34m'abc'\u001b[0m\u001b[1;33m:\u001b[0m\u001b[1;36m75\u001b[0m\u001b[1;33m,\u001b[0m \u001b[1;36m2\u001b[0m \u001b[1;33m+\u001b[0m \u001b[1;36m3j\u001b[0m \u001b[1;33m:\u001b[0m \u001b[1;36m75\u001b[0m\u001b[1;33m,\u001b[0m \u001b[1;36m10.2\u001b[0m \u001b[1;33m:\u001b[0m \u001b[1;36m75\u001b[0m\u001b[1;33m}\u001b[0m\u001b[1;33m\u001b[0m\u001b[1;33m\u001b[0m\u001b[0m\n\u001b[0m\u001b[0;32m      6\u001b[0m \u001b[1;33m\u001b[0m\u001b[0m\n\u001b[0;32m      7\u001b[0m \u001b[0mprint\u001b[0m\u001b[1;33m(\u001b[0m\u001b[0mdict5\u001b[0m\u001b[1;33m)\u001b[0m\u001b[1;33m\u001b[0m\u001b[1;33m\u001b[0m\u001b[0m\n",
      "\u001b[1;31mTypeError\u001b[0m: unhashable type: 'list'"
     ]
    }
   ],
   "source": [
    "#We already saw that values can be immutable or mutable datatypes. \n",
    "\n",
    "#Keys though must be immutable. \n",
    "\n",
    "dict5 = {[1,2,3] : 'abc', 21:200, 'abc':75, 2 + 3j : 75, 10.2 : 75}\n",
    "\n",
    "print(dict5)"
   ]
  },
  {
   "cell_type": "code",
   "execution_count": null,
   "id": "f43b6eb0",
   "metadata": {},
   "outputs": [],
   "source": [
    "x = [1,2,3]\n",
    "\n",
    "dict5 = {x : 'abc', 21:200, 'abc':75, 2 + 3j : 75, 10.2 : 75}"
   ]
  },
  {
   "cell_type": "code",
   "execution_count": null,
   "id": "b4e76347",
   "metadata": {},
   "outputs": [],
   "source": [
    "x = 'PQR'\n",
    "\n",
    "dict5 = {x : 'abc', 21:200, 'abc':75, 2 + 3j : 75, 10.2 : 75}\n",
    "\n",
    "print(dict5)\n",
    "\n",
    "ida = id(dict5)"
   ]
  },
  {
   "cell_type": "code",
   "execution_count": null,
   "id": "f9389659",
   "metadata": {},
   "outputs": [],
   "source": []
  },
  {
   "cell_type": "code",
   "execution_count": null,
   "id": "078c9f36",
   "metadata": {},
   "outputs": [],
   "source": [
    "x = 'STU'"
   ]
  },
  {
   "cell_type": "code",
   "execution_count": null,
   "id": "6c202739",
   "metadata": {},
   "outputs": [],
   "source": [
    "print(dict5)"
   ]
  },
  {
   "cell_type": "code",
   "execution_count": null,
   "id": "10765f09",
   "metadata": {},
   "outputs": [],
   "source": [
    "dict5 = {x : 'abc', 21:200, 'abc':75, 2 + 3j : 75, 10.2 : 75}"
   ]
  },
  {
   "cell_type": "code",
   "execution_count": null,
   "id": "d1e293c5",
   "metadata": {},
   "outputs": [],
   "source": [
    "print(dict5)"
   ]
  },
  {
   "cell_type": "code",
   "execution_count": null,
   "id": "9f7ee222",
   "metadata": {},
   "outputs": [],
   "source": [
    "#Note above how when we assigned an immutable value to x variable, we were able to use it as a key in a dictionary(as long\n",
    "# as the value of x was immutable datatype)/\n",
    "\n",
    "#But when we changed the value of x, we were also able to create dict5. What looks like we were able to change the\n",
    "# dictionary in dict5 wasnt really true. A new dictionary object was created. "
   ]
  },
  {
   "cell_type": "code",
   "execution_count": null,
   "id": "24aec64b",
   "metadata": {},
   "outputs": [],
   "source": [
    "print(ida, idaa)"
   ]
  },
  {
   "cell_type": "code",
   "execution_count": null,
   "id": "ea3e1a2c",
   "metadata": {},
   "outputs": [],
   "source": [
    "#As explained before, though dictionaries themselves are mutable i.e. we can add and delete key:value pairs, we can alter\n",
    "# the values, the keys MUST be immutable i.e. once created - keys cannot be changed. \n",
    "\n",
    "#We CAN change the keys of a dictionary in a round about way which creates a new dictionary object. "
   ]
  },
  {
   "cell_type": "code",
   "execution_count": null,
   "id": "1edb4e38",
   "metadata": {},
   "outputs": [],
   "source": [
    "#Another way to create dictionaries is with the .fromkeys() method. It takes two parameters:\n",
    "\n",
    "#1. An iterable whose values will be used as keys - mandatory\n",
    "#2. Value - Optional\n",
    "\n",
    "lst1 = list('abcde')\n",
    "print(lst1)"
   ]
  },
  {
   "cell_type": "code",
   "execution_count": null,
   "id": "bdbb7982",
   "metadata": {},
   "outputs": [],
   "source": [
    "dict1 = dict.fromkeys(lst1)\n",
    "\n",
    "print(dict1)\n",
    "\n",
    "#The default value has been set to None for later reassignment. "
   ]
  },
  {
   "cell_type": "code",
   "execution_count": null,
   "id": "07f1935d",
   "metadata": {},
   "outputs": [],
   "source": [
    "#As always, all the keys must be immutable\n",
    "\n",
    "lst2 = list('abcde')\n",
    "lst2.append([1,2,3,4])\n",
    "print(lst2)"
   ]
  },
  {
   "cell_type": "code",
   "execution_count": null,
   "id": "e2f105a0",
   "metadata": {},
   "outputs": [],
   "source": [
    "dict2 = dict.fromkeys(lst2)"
   ]
  },
  {
   "cell_type": "code",
   "execution_count": null,
   "id": "5b19e4dc",
   "metadata": {},
   "outputs": [],
   "source": [
    "#Values can be provided as optional parameter to the from keys method\n",
    "\n",
    "val_dict1 = 1\n",
    "\n",
    "dict3 = dict.fromkeys(lst1, val_dict1)\n",
    "print(dict3)"
   ]
  },
  {
   "cell_type": "code",
   "execution_count": null,
   "id": "7281c0db",
   "metadata": {},
   "outputs": [],
   "source": [
    "#Note that only one default value can be provided in the value parameter and not a range of values. It will only take the\n",
    "# single object provided as the default value for all keys. \n",
    "\n",
    "val_dict1 = [1,2,3,4]\n",
    "\n",
    "dict3a = dict.fromkeys(lst1, val_dict1)\n",
    "print(dict3a)"
   ]
  },
  {
   "cell_type": "code",
   "execution_count": null,
   "id": "92107809",
   "metadata": {},
   "outputs": [],
   "source": [
    "#Note the behaviour of an immutable datatype passed to the value parameter of dictionary created using fromkeys method\n",
    "\n",
    "val_dict1 = 1\n",
    "\n",
    "dict3 = dict.fromkeys(lst1, val_dict1)\n",
    "\n",
    "print(dict3)"
   ]
  },
  {
   "cell_type": "code",
   "execution_count": null,
   "id": "ff62f180",
   "metadata": {},
   "outputs": [],
   "source": [
    "val_dict1 = 2\n",
    "print(dict3)"
   ]
  },
  {
   "cell_type": "code",
   "execution_count": null,
   "id": "6b84cca3",
   "metadata": {},
   "outputs": [],
   "source": [
    "#Now, note the behaviour of dictionary created with from keys method with mutable object as default value. \n",
    "\n",
    "val_dict2 = [1,2]\n",
    "\n",
    "dict4 = dict.fromkeys(lst1, val_dict2)\n",
    "print(dict4)"
   ]
  },
  {
   "cell_type": "code",
   "execution_count": null,
   "id": "af972917",
   "metadata": {},
   "outputs": [],
   "source": [
    "val_dict2.append(3)\n",
    "\n",
    "print(dict4)"
   ]
  },
  {
   "cell_type": "code",
   "execution_count": 22,
   "id": "2f4c523f",
   "metadata": {},
   "outputs": [
    {
     "ename": "NameError",
     "evalue": "name 'val_dict2' is not defined",
     "output_type": "error",
     "traceback": [
      "\u001b[1;31m---------------------------------------------------------------------------\u001b[0m",
      "\u001b[1;31mNameError\u001b[0m                                 Traceback (most recent call last)",
      "\u001b[1;32m<ipython-input-22-450383605442>\u001b[0m in \u001b[0;36m<module>\u001b[1;34m\u001b[0m\n\u001b[0;32m      2\u001b[0m \u001b[1;33m\u001b[0m\u001b[0m\n\u001b[0;32m      3\u001b[0m \u001b[1;33m\u001b[0m\u001b[0m\n\u001b[1;32m----> 4\u001b[1;33m \u001b[0mdict5\u001b[0m \u001b[1;33m=\u001b[0m \u001b[1;33m{\u001b[0m\u001b[1;34m'a'\u001b[0m\u001b[1;33m:\u001b[0m\u001b[0mval_dict2\u001b[0m\u001b[1;33m,\u001b[0m \u001b[1;34m'b'\u001b[0m\u001b[1;33m:\u001b[0m\u001b[1;36m200\u001b[0m\u001b[1;33m}\u001b[0m\u001b[1;33m\u001b[0m\u001b[1;33m\u001b[0m\u001b[0m\n\u001b[0m\u001b[0;32m      5\u001b[0m \u001b[1;33m\u001b[0m\u001b[0m\n\u001b[0;32m      6\u001b[0m \u001b[0mprint\u001b[0m\u001b[1;33m(\u001b[0m\u001b[0mdict5\u001b[0m\u001b[1;33m)\u001b[0m\u001b[1;33m\u001b[0m\u001b[1;33m\u001b[0m\u001b[0m\n",
      "\u001b[1;31mNameError\u001b[0m: name 'val_dict2' is not defined"
     ]
    }
   ],
   "source": [
    "#This is the same as:\n",
    "\n",
    "\n",
    "dict5 = {'a':val_dict2, 'b':200}\n",
    "\n",
    "print(dict5)\n",
    "\n"
   ]
  },
  {
   "cell_type": "code",
   "execution_count": 45,
   "id": "d3f1a80d",
   "metadata": {},
   "outputs": [
    {
     "ename": "NameError",
     "evalue": "name 'val_dict2' is not defined",
     "output_type": "error",
     "traceback": [
      "\u001b[1;31m---------------------------------------------------------------------------\u001b[0m",
      "\u001b[1;31mNameError\u001b[0m                                 Traceback (most recent call last)",
      "\u001b[1;32m<ipython-input-45-bae22590cd05>\u001b[0m in \u001b[0;36m<module>\u001b[1;34m\u001b[0m\n\u001b[1;32m----> 1\u001b[1;33m \u001b[0mval_dict2\u001b[0m\u001b[1;33m.\u001b[0m\u001b[0mappend\u001b[0m\u001b[1;33m(\u001b[0m\u001b[1;36m4\u001b[0m\u001b[1;33m)\u001b[0m\u001b[1;33m\u001b[0m\u001b[1;33m\u001b[0m\u001b[0m\n\u001b[0m\u001b[0;32m      2\u001b[0m \u001b[0mprint\u001b[0m\u001b[1;33m(\u001b[0m\u001b[0mdict5\u001b[0m\u001b[1;33m)\u001b[0m\u001b[1;33m\u001b[0m\u001b[1;33m\u001b[0m\u001b[0m\n",
      "\u001b[1;31mNameError\u001b[0m: name 'val_dict2' is not defined"
     ]
    }
   ],
   "source": [
    "val_dict2.append(4)\n",
    "print(dict5)"
   ]
  },
  {
   "cell_type": "code",
   "execution_count": null,
   "id": "ce024c4b",
   "metadata": {},
   "outputs": [],
   "source": [
    "#We can avoid this by using Dictionary comprehension. \n",
    "\n",
    "dict6 = {key:list(val_dict2) for key in lst1}\n",
    "\n",
    "print(dict6)"
   ]
  },
  {
   "cell_type": "code",
   "execution_count": null,
   "id": "113ffdba",
   "metadata": {},
   "outputs": [],
   "source": [
    "print(val_dict2)"
   ]
  },
  {
   "cell_type": "code",
   "execution_count": null,
   "id": "3e5c4b77",
   "metadata": {},
   "outputs": [],
   "source": [
    "dict6['a'].append(600)"
   ]
  },
  {
   "cell_type": "code",
   "execution_count": 46,
   "id": "29e372b1",
   "metadata": {},
   "outputs": [
    {
     "ename": "NameError",
     "evalue": "name 'dict6' is not defined",
     "output_type": "error",
     "traceback": [
      "\u001b[1;31m---------------------------------------------------------------------------\u001b[0m",
      "\u001b[1;31mNameError\u001b[0m                                 Traceback (most recent call last)",
      "\u001b[1;32m<ipython-input-46-bb5daa487f09>\u001b[0m in \u001b[0;36m<module>\u001b[1;34m\u001b[0m\n\u001b[1;32m----> 1\u001b[1;33m \u001b[0mprint\u001b[0m\u001b[1;33m(\u001b[0m\u001b[0mdict6\u001b[0m\u001b[1;33m[\u001b[0m\u001b[1;34m'a'\u001b[0m\u001b[1;33m]\u001b[0m\u001b[1;33m)\u001b[0m\u001b[1;33m\u001b[0m\u001b[1;33m\u001b[0m\u001b[0m\n\u001b[0m",
      "\u001b[1;31mNameError\u001b[0m: name 'dict6' is not defined"
     ]
    }
   ],
   "source": [
    "print(dict6['a'])"
   ]
  },
  {
   "cell_type": "code",
   "execution_count": 56,
   "id": "08dd5c22",
   "metadata": {},
   "outputs": [
    {
     "ename": "NameError",
     "evalue": "name 'dict6' is not defined",
     "output_type": "error",
     "traceback": [
      "\u001b[1;31m---------------------------------------------------------------------------\u001b[0m",
      "\u001b[1;31mNameError\u001b[0m                                 Traceback (most recent call last)",
      "\u001b[1;32m<ipython-input-56-343c21ba6710>\u001b[0m in \u001b[0;36m<module>\u001b[1;34m\u001b[0m\n\u001b[1;32m----> 1\u001b[1;33m \u001b[0mdict6\u001b[0m\u001b[1;33m.\u001b[0m\u001b[0mappend\u001b[0m\u001b[1;33m(\u001b[0m\u001b[1;36m77\u001b[0m\u001b[1;33m)\u001b[0m\u001b[1;33m\u001b[0m\u001b[1;33m\u001b[0m\u001b[0m\n\u001b[0m",
      "\u001b[1;31mNameError\u001b[0m: name 'dict6' is not defined"
     ]
    }
   ],
   "source": [
    "dict6.append(77)"
   ]
  },
  {
   "cell_type": "code",
   "execution_count": null,
   "id": "13ee14f6",
   "metadata": {},
   "outputs": [],
   "source": [
    "print(dict6)"
   ]
  },
  {
   "cell_type": "code",
   "execution_count": null,
   "id": "d879d556",
   "metadata": {},
   "outputs": [],
   "source": [
    "val_dict2.append(6)\n",
    "\n",
    "print(dict6)"
   ]
  },
  {
   "cell_type": "code",
   "execution_count": null,
   "id": "bfe99264",
   "metadata": {},
   "outputs": [],
   "source": [
    "#Here a new list object is created and assigned as the value for each key. More on Dictionary Comprehension below. "
   ]
  },
  {
   "cell_type": "code",
   "execution_count": null,
   "id": "5e07d2ff",
   "metadata": {},
   "outputs": [],
   "source": [
    "#To get the values of a key in dictionary we use the following syntax. \n",
    "\n",
    "dict5 = {'y' : 'abc', 21:200, 'abc':75, 2 + 3j : 75, 10.2 : 75}\n",
    "\n",
    "print(dict5['y'])"
   ]
  },
  {
   "cell_type": "code",
   "execution_count": null,
   "id": "c6a69399",
   "metadata": {},
   "outputs": [],
   "source": [
    "#If the key is not found, it raises a key error.\n",
    "\n",
    "print(dict5['x'])"
   ]
  },
  {
   "cell_type": "code",
   "execution_count": 57,
   "id": "20eff268",
   "metadata": {},
   "outputs": [
    {
     "ename": "NameError",
     "evalue": "name 'dict5' is not defined",
     "output_type": "error",
     "traceback": [
      "\u001b[1;31m---------------------------------------------------------------------------\u001b[0m",
      "\u001b[1;31mNameError\u001b[0m                                 Traceback (most recent call last)",
      "\u001b[1;32m<ipython-input-57-1cb60dcd6b9f>\u001b[0m in \u001b[0;36m<module>\u001b[1;34m\u001b[0m\n\u001b[1;32m----> 1\u001b[1;33m \u001b[0mprint\u001b[0m\u001b[1;33m(\u001b[0m\u001b[0mdict5\u001b[0m\u001b[1;33m)\u001b[0m\u001b[1;33m\u001b[0m\u001b[1;33m\u001b[0m\u001b[0m\n\u001b[0m",
      "\u001b[1;31mNameError\u001b[0m: name 'dict5' is not defined"
     ]
    }
   ],
   "source": [
    "print(dict5)"
   ]
  },
  {
   "cell_type": "code",
   "execution_count": 59,
   "id": "a0dafec7",
   "metadata": {},
   "outputs": [
    {
     "ename": "NameError",
     "evalue": "name 'dict5' is not defined",
     "output_type": "error",
     "traceback": [
      "\u001b[1;31m---------------------------------------------------------------------------\u001b[0m",
      "\u001b[1;31mNameError\u001b[0m                                 Traceback (most recent call last)",
      "\u001b[1;32m<ipython-input-59-bf471ae06547>\u001b[0m in \u001b[0;36m<module>\u001b[1;34m\u001b[0m\n\u001b[0;32m      1\u001b[0m \u001b[1;31m#We can also assign the values to a key in one lline.\u001b[0m\u001b[1;33m\u001b[0m\u001b[1;33m\u001b[0m\u001b[1;33m\u001b[0m\u001b[0m\n\u001b[0;32m      2\u001b[0m \u001b[1;33m\u001b[0m\u001b[0m\n\u001b[1;32m----> 3\u001b[1;33m \u001b[0mdict5\u001b[0m\u001b[1;33m[\u001b[0m\u001b[1;34m'y'\u001b[0m\u001b[1;33m]\u001b[0m \u001b[1;33m=\u001b[0m \u001b[1;34m'xyz'\u001b[0m\u001b[1;33m\u001b[0m\u001b[1;33m\u001b[0m\u001b[0m\n\u001b[0m\u001b[0;32m      4\u001b[0m \u001b[1;33m\u001b[0m\u001b[0m\n\u001b[0;32m      5\u001b[0m \u001b[0mprint\u001b[0m\u001b[1;33m(\u001b[0m\u001b[0mdict5\u001b[0m\u001b[1;33m)\u001b[0m\u001b[1;33m\u001b[0m\u001b[1;33m\u001b[0m\u001b[0m\n",
      "\u001b[1;31mNameError\u001b[0m: name 'dict5' is not defined"
     ]
    }
   ],
   "source": [
    "#We can also assign the values to a key in one lline. \n",
    "\n",
    "dict5['y'] = 'xyz'\n",
    "\n",
    "print(dict5)"
   ]
  },
  {
   "cell_type": "code",
   "execution_count": null,
   "id": "c7a87b76",
   "metadata": {},
   "outputs": [],
   "source": [
    "#However, if the key is not found during value assignment, then a new key value pair will be created\n",
    "\n",
    "print(dict5)\n",
    "\n",
    "dict5['x'] = 1230\n",
    "\n",
    "print(dict5)"
   ]
  },
  {
   "cell_type": "code",
   "execution_count": null,
   "id": "52af9da5",
   "metadata": {},
   "outputs": [],
   "source": []
  },
  {
   "cell_type": "code",
   "execution_count": null,
   "id": "6c68d11d",
   "metadata": {},
   "outputs": [],
   "source": [
    "#Coming back to changing the key in a round about way - \n",
    "\n",
    "dict1 = {'x' : 'abc', 21:200, 'abc':75, 2 + 3j : 75, 10.2 : 75}\n",
    "\n",
    "ida = id(dict1)\n",
    "\n",
    "dict1['y'] = dict1['x']\n",
    "\n",
    "print(dict1)"
   ]
  },
  {
   "cell_type": "code",
   "execution_count": null,
   "id": "347c240d",
   "metadata": {},
   "outputs": [],
   "source": [
    "del(dict1['x'])"
   ]
  },
  {
   "cell_type": "code",
   "execution_count": null,
   "id": "a4bb4177",
   "metadata": {},
   "outputs": [],
   "source": [
    "print(dict1)"
   ]
  },
  {
   "cell_type": "code",
   "execution_count": 60,
   "id": "499133d5",
   "metadata": {},
   "outputs": [],
   "source": [
    "idaa = id(dict1)\n",
    "#Above we assigned the value of 'x' to a new key 'y' (values can be duplicated but not keys). Then we went ahead and deleted\n",
    "# the old key to be changed. "
   ]
  },
  {
   "cell_type": "code",
   "execution_count": 61,
   "id": "62f41f19",
   "metadata": {},
   "outputs": [
    {
     "ename": "NameError",
     "evalue": "name 'ida' is not defined",
     "output_type": "error",
     "traceback": [
      "\u001b[1;31m---------------------------------------------------------------------------\u001b[0m",
      "\u001b[1;31mNameError\u001b[0m                                 Traceback (most recent call last)",
      "\u001b[1;32m<ipython-input-61-0e7feb30f24c>\u001b[0m in \u001b[0;36m<module>\u001b[1;34m\u001b[0m\n\u001b[1;32m----> 1\u001b[1;33m \u001b[0mprint\u001b[0m\u001b[1;33m(\u001b[0m\u001b[0mida\u001b[0m\u001b[1;33m,\u001b[0m \u001b[0midaa\u001b[0m\u001b[1;33m)\u001b[0m\u001b[1;33m\u001b[0m\u001b[1;33m\u001b[0m\u001b[0m\n\u001b[0m",
      "\u001b[1;31mNameError\u001b[0m: name 'ida' is not defined"
     ]
    }
   ],
   "source": [
    "print(ida, idaa)"
   ]
  },
  {
   "cell_type": "code",
   "execution_count": null,
   "id": "57688c3c",
   "metadata": {},
   "outputs": [],
   "source": [
    "#Note how the id of the object did not change.\n",
    "\n",
    "#Therefore, Dictionaries are mutable, values can be mutable but keys of a dictionary are IMMUTABLE. "
   ]
  },
  {
   "cell_type": "code",
   "execution_count": null,
   "id": "071bc796",
   "metadata": {},
   "outputs": [],
   "source": [
    "#Note also though that even though keys of a dictionary may not be duplicated, there is no conflict created in case the \n",
    "# key of a dictionary is used in the values. \n",
    "\n",
    "dict1 = {'A':100, 'b':20, 30:['a', 'b', 'c', 'd'], 'x' : {'x' : 100, 'y': 101}}\n",
    "\n",
    "print(dict1)\n",
    "print(type(dict1))"
   ]
  },
  {
   "cell_type": "code",
   "execution_count": null,
   "id": "8d24716a",
   "metadata": {},
   "outputs": [],
   "source": [
    "dict2 = {'x':'x', 'y':'z', 'z':'y'}\n",
    "print(dict2)"
   ]
  },
  {
   "cell_type": "code",
   "execution_count": null,
   "id": "d6360e1d",
   "metadata": {},
   "outputs": [],
   "source": [
    "#Slicing and indexing in Dictionaries is not supported\n",
    "\n",
    "print(dict2[1])"
   ]
  },
  {
   "cell_type": "code",
   "execution_count": null,
   "id": "5ad3c55f",
   "metadata": {},
   "outputs": [],
   "source": [
    "dict2 = dict1[:4]\n",
    "\n",
    "print(dict2)"
   ]
  },
  {
   "cell_type": "code",
   "execution_count": null,
   "id": "efb628ae",
   "metadata": {},
   "outputs": [],
   "source": [
    "#We access the values of a key in a dictionary using the following syntax\n",
    "\n",
    "dict1 = {'A':100, 'b':20, 30:['a', 'b', 'c', 'd'], 'x' : {'x' : 100, 'y': 101}}\n",
    "\n",
    "print(dict1['b'])"
   ]
  },
  {
   "cell_type": "code",
   "execution_count": null,
   "id": "0b605816",
   "metadata": {},
   "outputs": [],
   "source": [
    "print(dict1[30])"
   ]
  },
  {
   "cell_type": "code",
   "execution_count": null,
   "id": "3250a0f1",
   "metadata": {},
   "outputs": [],
   "source": [
    "x = dict1[30]\n",
    "print(x)"
   ]
  },
  {
   "cell_type": "code",
   "execution_count": null,
   "id": "37609d35",
   "metadata": {},
   "outputs": [],
   "source": [
    "#Please remember that here we are only accessing the values of the keys 'b' and 30\n",
    "\n",
    "#The .get() dictionary method does the same thing. \n",
    "print(dict1)"
   ]
  },
  {
   "cell_type": "code",
   "execution_count": null,
   "id": "d6b2dd65",
   "metadata": {},
   "outputs": [],
   "source": [
    "print(dict1.get('b'))"
   ]
  },
  {
   "cell_type": "code",
   "execution_count": null,
   "id": "9a2dc06a",
   "metadata": {},
   "outputs": [],
   "source": [
    "#However, if dict[key] does not find the key in the dictionary - it raises a key error\n",
    "\n",
    "x = dict1['Romeo']"
   ]
  },
  {
   "cell_type": "code",
   "execution_count": null,
   "id": "93982a90",
   "metadata": {},
   "outputs": [],
   "source": [
    "#while the get method returns none by default. \n",
    "\n",
    "print(dict1.get('Romeo'))"
   ]
  },
  {
   "cell_type": "code",
   "execution_count": null,
   "id": "cf15b9b0",
   "metadata": {},
   "outputs": [],
   "source": [
    "#The default return can be changed i.e. the get method takes two parameters\n",
    "\n",
    "#1. The key for which we need to find the value - Mandatory\n",
    "#2. Return value if key is not found. Optional and if not provided defaults to None. \n",
    "\n",
    "\n",
    "print(dict1.get('Romeo', 'Key not found'))"
   ]
  },
  {
   "cell_type": "code",
   "execution_count": null,
   "id": "f689f59e",
   "metadata": {},
   "outputs": [],
   "source": [
    "#Both the square brackets syntax and the get method - can only take one key in as parameter at once. "
   ]
  },
  {
   "cell_type": "code",
   "execution_count": null,
   "id": "b6e6b467",
   "metadata": {},
   "outputs": [],
   "source": [
    "#Values to keys can be assigned using the following syntax:\n",
    "\n",
    "dict1 = {'A':100, 'b':20, 30:['a', 'b', 'c', 'd'], 'x' : {'x' : 100, 'y': 101}}\n",
    "\n",
    "dict1['b'] = 20.101\n",
    "\n",
    "print(dict1)"
   ]
  },
  {
   "cell_type": "code",
   "execution_count": null,
   "id": "f3e67569",
   "metadata": {},
   "outputs": [],
   "source": [
    "#Or we can use the update method which can be another dictionary or other iterable in key, value pairs\n",
    "\n",
    "dict1.update({'z':201, 'w':301})\n",
    "\n",
    "print(dict1)"
   ]
  },
  {
   "cell_type": "code",
   "execution_count": null,
   "id": "820bb8a9",
   "metadata": {},
   "outputs": [],
   "source": [
    "dict1 = {'A':100, 'b':20, 30:['a', 'b', 'c', 'd'], 'x' : {'x' : 100, 'y': 101}}\n",
    "print(dict1)\n",
    "\n",
    "dict1.update([['z',2001], ['w',3001]])\n",
    "\n",
    "print(dict1)"
   ]
  },
  {
   "cell_type": "code",
   "execution_count": null,
   "id": "b7aec3c0",
   "metadata": {},
   "outputs": [],
   "source": [
    "dict1 = {'A':100, 'b':20, 30:['a', 'b', 'c', 'd'], 'x' : {'x' : 100, 'y': 101}}\n",
    "print(dict1)\n",
    "\n",
    "dict1.update([('z',221), ('w',321)])\n",
    "\n",
    "print(dict1)"
   ]
  },
  {
   "cell_type": "code",
   "execution_count": null,
   "id": "3308b910",
   "metadata": {},
   "outputs": [],
   "source": [
    "dict1 = {'A':100, 'b':20, 30:['a', 'b', 'c', 'd'], 'x' : {'x' : 100, 'y': 101}}\n",
    "print(dict1)\n",
    "(('z',201), ('w',301))\n",
    "dict1.update()\n",
    "\n",
    "print(dict1)"
   ]
  },
  {
   "cell_type": "code",
   "execution_count": null,
   "id": "4acd09b3",
   "metadata": {},
   "outputs": [],
   "source": [
    "dict1 = {'A':100, 'b':20, 30:['a', 'b', 'c', 'd'], 'x' : {'x' : 100, 'y': 101}}\n",
    "\n",
    "print(dict1)\n",
    "\n",
    "dict1.update((['z',201], ['w',301]))\n",
    "print(dict1)\n"
   ]
  },
  {
   "cell_type": "code",
   "execution_count": null,
   "id": "b8a9e306",
   "metadata": {},
   "outputs": [],
   "source": [
    "#Any combination of tuple and list can be given to the update method. As long as the method is given ONE iterable - with\n",
    "#the key value pairs as a dictionary or inside another tuple or list. "
   ]
  },
  {
   "cell_type": "code",
   "execution_count": null,
   "id": "48e3eff9",
   "metadata": {},
   "outputs": [],
   "source": [
    "#However, if the key already exists in the dictionary then the value of the key is only updated. \n",
    "\n",
    "dict1.update({'w':3001})\n",
    "\n",
    "print(dict1)"
   ]
  },
  {
   "cell_type": "code",
   "execution_count": null,
   "id": "272a7874",
   "metadata": {},
   "outputs": [],
   "source": [
    "#Aliasing in dictionaries is just like in other datatypes. \n",
    "\n",
    "dict1 = {'A':100, 'b':20, 30:['a', 'b', 'c', 'd'], 'x' : {'x' : 100, 'y': 101}}\n",
    "\n",
    "dict2 = dict1\n",
    "\n",
    "print(id(dict1) is id(dict2))\n",
    "print(id(dict1), id(dict2))\n"
   ]
  },
  {
   "cell_type": "code",
   "execution_count": null,
   "id": "a727cdfb",
   "metadata": {},
   "outputs": [],
   "source": [
    "dict1 = {'A':100, 'b':20, 30:['a', 'b', 'c', 'd'], 'x' : {'x' : 100, 'y': 101}}\n",
    "\n",
    "dict2 = dict1\n",
    "\n",
    "print(dict1 is dict2)\n",
    "print(id(dict1), id(dict2))"
   ]
  },
  {
   "cell_type": "code",
   "execution_count": null,
   "id": "c4123dde",
   "metadata": {},
   "outputs": [],
   "source": [
    "#.setdefault() method in dictionaries. It returns the value of the key if they key is present and if not present adds the\n",
    "# key with value set as None and returns the default value None. We can also specify the default value parameter which is\n",
    "# optional.\n",
    "\n",
    "#.setdefault with key in dictionary and default value not provided. \n",
    "print(dict1)"
   ]
  },
  {
   "cell_type": "code",
   "execution_count": null,
   "id": "bdd5961c",
   "metadata": {},
   "outputs": [],
   "source": [
    "default = dict1.setdefault('A')\n",
    "\n",
    "print(default)\n",
    "print(dict1)"
   ]
  },
  {
   "cell_type": "code",
   "execution_count": null,
   "id": "505bf44d",
   "metadata": {},
   "outputs": [],
   "source": [
    "#.setdefault if key is in dictionary and default value provided. \n",
    "\n",
    "default = dict1.setdefault('b', 2020)\n",
    "\n",
    "print(default)\n",
    "print(dict1)"
   ]
  },
  {
   "cell_type": "code",
   "execution_count": null,
   "id": "ae438fbb",
   "metadata": {},
   "outputs": [],
   "source": [
    "#.setdefault if key not in dictionary and default value not provided. \n",
    "\n",
    "default = dict1.setdefault(300)\n",
    "\n",
    "print(default)\n",
    "print(dict1)"
   ]
  },
  {
   "cell_type": "code",
   "execution_count": null,
   "id": "e92f9e90",
   "metadata": {},
   "outputs": [],
   "source": [
    "#Note how the key 300 has been added to the dictionary with default value of None."
   ]
  },
  {
   "cell_type": "code",
   "execution_count": null,
   "id": "f3b45787",
   "metadata": {},
   "outputs": [],
   "source": [
    "#.setdefault if key is not in dictionary with default value provided. "
   ]
  },
  {
   "cell_type": "code",
   "execution_count": null,
   "id": "51d652b0",
   "metadata": {},
   "outputs": [],
   "source": [
    "default = dict1.setdefault(400, '4x4x')\n",
    "\n",
    "print(default)\n",
    "print(dict1)"
   ]
  },
  {
   "cell_type": "code",
   "execution_count": null,
   "id": "4279c4ed",
   "metadata": {},
   "outputs": [],
   "source": [
    "#Membership operations on dictionaries. \n",
    "\n",
    "#We can use the in and not in operators to check if a key is present in the dictionary.\n",
    "\n",
    "print(dict1)"
   ]
  },
  {
   "cell_type": "code",
   "execution_count": null,
   "id": "99000a3a",
   "metadata": {},
   "outputs": [],
   "source": [
    "print('b' in dict1)"
   ]
  },
  {
   "cell_type": "code",
   "execution_count": null,
   "id": "f7d0b35f",
   "metadata": {},
   "outputs": [],
   "source": [
    "print(101 in dict1)\n"
   ]
  },
  {
   "cell_type": "code",
   "execution_count": null,
   "id": "db00bcd8",
   "metadata": {},
   "outputs": [],
   "source": [
    "print('b' not in dict1)\n"
   ]
  },
  {
   "cell_type": "code",
   "execution_count": null,
   "id": "a2b0c636",
   "metadata": {},
   "outputs": [],
   "source": [
    "print('z' not in dict1)"
   ]
  },
  {
   "cell_type": "code",
   "execution_count": null,
   "id": "b44a7e89",
   "metadata": {},
   "outputs": [],
   "source": [
    "#Copy in Dictionaries. \n",
    "\n",
    "#We have already covered shallow copy while covering lists. At the same time we coverered deepcopy for lists, tuples,\n",
    "# dictionaries and sets. We covered how the built-in copy module creates 'Shallow copies'. And how shallow copies do not\n",
    "# work for compound objects. \n",
    "\n",
    "dict1 = {'A':100, 'b':20, 30:['a', 'b', 'c', 'd'], 'x' : {'x' : 100, 'y': 101}}\n",
    "\n",
    "dict2 = dict1.copy()\n",
    "\n",
    "print(dict1)\n",
    "print(dict2)\n"
   ]
  },
  {
   "cell_type": "code",
   "execution_count": null,
   "id": "b1d8dbfd",
   "metadata": {},
   "outputs": [],
   "source": [
    "dict1['b'] = 2010\n",
    "\n",
    "print(dict1)\n",
    "print(dict2)"
   ]
  },
  {
   "cell_type": "code",
   "execution_count": null,
   "id": "d31523ee",
   "metadata": {},
   "outputs": [],
   "source": [
    "#As with lists, if we created a copy of the object, changing one doesnt change the other UNLESS the object being changed\n",
    "# inside the list or dictionary is a mutable object in itself and the original list or dictionary object only contained\n",
    "# memory reference to the compound object. In which case, a change to the compound object will reflect on both copies of \n",
    "# the original list or dictionary object."
   ]
  },
  {
   "cell_type": "code",
   "execution_count": null,
   "id": "ed0d50af",
   "metadata": {},
   "outputs": [],
   "source": [
    "dict1['x']['y'] = 1010\n",
    "\n",
    "print(dict1)\n",
    "print(dict2)"
   ]
  },
  {
   "cell_type": "code",
   "execution_count": 79,
   "id": "1d7b96fb",
   "metadata": {},
   "outputs": [
    {
     "name": "stdout",
     "output_type": "stream",
     "text": [
      "{'A': 100, 'b': 20, 30: ['a', 'b', 'c', 'd'], 'x': {'x': 100, 'y': 101}}\n",
      "{'A': 100, 'b': 20, 30: ['a', 'b', 'c', 'd'], 'x': {'x': 100, 'y': 101}}\n"
     ]
    }
   ],
   "source": [
    "#For such cases, we need the deepcopy()\n",
    "\n",
    "import copy\n",
    "\n",
    "dict1 = {'A':100, 'b':20, 30:['a', 'b', 'c', 'd'], 'x' : {'x' : 100, 'y': 101}}\n",
    "\n",
    "dict2 = copy.deepcopy(dict1)\n",
    "\n",
    "print(dict1)\n",
    "print(dict2)"
   ]
  },
  {
   "cell_type": "code",
   "execution_count": 80,
   "id": "f4fe8361",
   "metadata": {},
   "outputs": [
    {
     "name": "stdout",
     "output_type": "stream",
     "text": [
      "{'A': 100, 'b': 20, 30: ['a', 'b', 'c', 'd'], 'x': {'x': 100, 'y': 1010}}\n",
      "{'A': 100, 'b': 20, 30: ['a', 'b', 'c', 'd'], 'x': {'x': 100, 'y': 101}}\n"
     ]
    }
   ],
   "source": [
    "dict1['x']['y'] = 1010\n",
    "\n",
    "print(dict1)\n",
    "print(dict2)"
   ]
  },
  {
   "cell_type": "code",
   "execution_count": 81,
   "id": "13134c55",
   "metadata": {},
   "outputs": [],
   "source": [
    "#There is no syntax to get the keys of a dictionary from values. However, we can get the key by using programming logic \n",
    "# which we will see in a bit. "
   ]
  },
  {
   "cell_type": "code",
   "execution_count": 82,
   "id": "dafcd3d9",
   "metadata": {},
   "outputs": [
    {
     "name": "stdout",
     "output_type": "stream",
     "text": [
      "dict_keys(['A', 'b', 30, 'x'])\n"
     ]
    }
   ],
   "source": [
    "# keys() method for dictionaries gets the keys of the dictionary in a 'view object'.\n",
    "\n",
    "keys1 = dict1.keys()\n",
    "\n",
    "print(keys1)"
   ]
  },
  {
   "cell_type": "code",
   "execution_count": null,
   "id": "457a25f9",
   "metadata": {},
   "outputs": [],
   "source": [
    "#Note how this is not a list. \n",
    "\n",
    "#Any changes to the keys of the dictionary(i.e. addition or deletion) reflects directly in this view object.\n",
    "print(dict1)"
   ]
  },
  {
   "cell_type": "code",
   "execution_count": 84,
   "id": "864f58c0",
   "metadata": {},
   "outputs": [
    {
     "name": "stdout",
     "output_type": "stream",
     "text": [
      "dict_keys(['A', 'b', 30, 'x', 'Python'])\n"
     ]
    }
   ],
   "source": [
    "dict1['Python'] = 'Great'\n",
    "\n",
    "print(keys1)"
   ]
  },
  {
   "cell_type": "code",
   "execution_count": null,
   "id": "2e50dcd7",
   "metadata": {},
   "outputs": [],
   "source": [
    "#Note - how we did not update the keys variable but the dict view object stored with reference variable keys was \n",
    "# automatically updated. \n",
    "\n",
    "#The same will hold true for .values() method and .items() method. "
   ]
  },
  {
   "cell_type": "code",
   "execution_count": 85,
   "id": "7b31d53f",
   "metadata": {},
   "outputs": [
    {
     "name": "stdout",
     "output_type": "stream",
     "text": [
      "['A', 'b', 30, 'x', 'Python']\n"
     ]
    }
   ],
   "source": [
    "#We can easily convert this dict view object to a list. \n",
    "\n",
    "key_list = list(dict1.keys())\n",
    "print(key_list)"
   ]
  },
  {
   "cell_type": "code",
   "execution_count": 86,
   "id": "840be74e",
   "metadata": {},
   "outputs": [
    {
     "name": "stdout",
     "output_type": "stream",
     "text": [
      "{'A': 100, 'b': 20, 30: ['a', 'b', 'c', 'd'], 'x': {'x': 100, 'y': 1010}, 'Python': 'Great', 'Students': 'Awesome'}\n"
     ]
    }
   ],
   "source": [
    "dict1['Students'] = 'Awesome'\n",
    "print(dict1)"
   ]
  },
  {
   "cell_type": "code",
   "execution_count": 87,
   "id": "0e4721eb",
   "metadata": {},
   "outputs": [
    {
     "name": "stdout",
     "output_type": "stream",
     "text": [
      "['A', 'b', 30, 'x', 'Python']\n"
     ]
    }
   ],
   "source": [
    "print(key_list)\n",
    "\n",
    "#Note here - how the key_list was not automatically updated since the list object from dict view object has already been\n",
    "# created and populated with the memory ref ids of the objects inside the dict view object. \n",
    "\n",
    "# In the case of the key variable we had set to the memory location of the dict view object itself and each update to\n",
    "# the dict view object was reflected in the variable key. "
   ]
  },
  {
   "cell_type": "code",
   "execution_count": 88,
   "id": "0d1c66af",
   "metadata": {},
   "outputs": [
    {
     "name": "stdout",
     "output_type": "stream",
     "text": [
      "dict_values([100, 20, ['a', 'b', 'c', 'd'], {'x': 100, 'y': 1010}, 'Great', 'Awesome'])\n"
     ]
    }
   ],
   "source": [
    "#.values() method in dictionaries - returns a dict view object with the values of the dictionary. \n",
    "\n",
    "values1 = dict1.values()\n",
    "\n",
    "print(values1)"
   ]
  },
  {
   "cell_type": "code",
   "execution_count": 89,
   "id": "38d416ac",
   "metadata": {},
   "outputs": [
    {
     "name": "stdout",
     "output_type": "stream",
     "text": [
      "dict_values([100, 20, ['a', 'b', 'c', 'd'], {'x': 100, 'y': 1010}, 'Great', 'Fantastic'])\n"
     ]
    }
   ],
   "source": [
    "dict1['Students'] = 'Fantastic'\n",
    "\n",
    "print(values1)"
   ]
  },
  {
   "cell_type": "code",
   "execution_count": 90,
   "id": "cbbe72d4",
   "metadata": {},
   "outputs": [
    {
     "name": "stdout",
     "output_type": "stream",
     "text": [
      "[100, 20, ['a', 'b', 'c', 'd'], {'x': 100, 'y': 1010}, 'Great', 'Fantastic']\n"
     ]
    }
   ],
   "source": [
    "value_list = list(dict1.values())\n",
    "\n",
    "print(value_list)"
   ]
  },
  {
   "cell_type": "code",
   "execution_count": 91,
   "id": "544d00ac",
   "metadata": {},
   "outputs": [
    {
     "name": "stdout",
     "output_type": "stream",
     "text": [
      "[100, 20, ['a', 'b', 'c', 'd'], {'x': 100, 'y': 1010}, 'Great', 'Fantastic']\n"
     ]
    }
   ],
   "source": [
    "dict1['Students'] = 'Awesome'\n",
    "\n",
    "print(value_list)"
   ]
  },
  {
   "cell_type": "code",
   "execution_count": 92,
   "id": "92c31f18",
   "metadata": {},
   "outputs": [
    {
     "name": "stdout",
     "output_type": "stream",
     "text": [
      "{'A': 100, 'b': 20, 30: ['a', 'b', 'c', 'd'], 'x': {'x': 100, 'y': 1010}, 'Python': 'Great', 'Students': 'Awesome'}\n"
     ]
    }
   ],
   "source": [
    "#.items() method in dictionaries in Python returns a dict view object containing key, value pairs\n",
    "print(dict1)"
   ]
  },
  {
   "cell_type": "code",
   "execution_count": 93,
   "id": "3eddf4fa",
   "metadata": {},
   "outputs": [
    {
     "name": "stdout",
     "output_type": "stream",
     "text": [
      "dict_items([('A', 100), ('b', 20), (30, ['a', 'b', 'c', 'd']), ('x', {'x': 100, 'y': 1010}), ('Python', 'Great'), ('Students', 'Awesome')])\n"
     ]
    }
   ],
   "source": [
    "items1 = dict1.items()\n",
    "\n",
    "print(items1)"
   ]
  },
  {
   "cell_type": "code",
   "execution_count": 94,
   "id": "76c9c36c",
   "metadata": {},
   "outputs": [
    {
     "name": "stdout",
     "output_type": "stream",
     "text": [
      "[('A', 100), ('b', 20), (30, ['a', 'b', 'c', 'd']), ('x', {'x': 100, 'y': 1010}), ('Python', 'Great'), ('Students', 'Awesome')]\n"
     ]
    }
   ],
   "source": [
    "#Note, how the items are returned in tuple like form. \n",
    "\n",
    "item_list = list(dict1.items())\n",
    "print(item_list)"
   ]
  },
  {
   "cell_type": "code",
   "execution_count": 95,
   "id": "ee61bf24",
   "metadata": {},
   "outputs": [],
   "source": [
    "dict1['Paris'] = 'Romantic'"
   ]
  },
  {
   "cell_type": "code",
   "execution_count": 96,
   "id": "fb6ea54e",
   "metadata": {},
   "outputs": [
    {
     "name": "stdout",
     "output_type": "stream",
     "text": [
      "dict_items([('A', 100), ('b', 20), (30, ['a', 'b', 'c', 'd']), ('x', {'x': 100, 'y': 1010}), ('Python', 'Great'), ('Students', 'Awesome'), ('Paris', 'Romantic')])\n"
     ]
    }
   ],
   "source": [
    "print(items1)"
   ]
  },
  {
   "cell_type": "code",
   "execution_count": 97,
   "id": "65304c9d",
   "metadata": {},
   "outputs": [
    {
     "name": "stdout",
     "output_type": "stream",
     "text": [
      "[('A', 100), ('b', 20), (30, ['a', 'b', 'c', 'd']), ('x', {'x': 100, 'y': 1010}), ('Python', 'Great'), ('Students', 'Awesome')]\n"
     ]
    }
   ],
   "source": [
    "print(item_list)"
   ]
  },
  {
   "cell_type": "code",
   "execution_count": 69,
   "id": "2e007ee3",
   "metadata": {},
   "outputs": [],
   "source": [
    "#Note again how items1 variable containing the dict view object was updated but the item_list was not. "
   ]
  },
  {
   "cell_type": "code",
   "execution_count": 98,
   "id": "32e1655c",
   "metadata": {},
   "outputs": [
    {
     "name": "stdout",
     "output_type": "stream",
     "text": [
      "A : 100.\n",
      "b : 20.\n",
      "30 : ['a', 'b', 'c', 'd'].\n",
      "x : {'x': 100, 'y': 1010}.\n",
      "Python : Great.\n",
      "Students : Awesome.\n",
      "Paris : Romantic.\n"
     ]
    }
   ],
   "source": [
    "#Iteration over a dictionary iterates over the keys. \n",
    "# To access the values we must use the syntax for accessing the values.\n",
    "for x in dict1:\n",
    "    print(f'{x} : {dict1[x]}.')"
   ]
  },
  {
   "cell_type": "code",
   "execution_count": 99,
   "id": "3a67f802",
   "metadata": {},
   "outputs": [
    {
     "name": "stdout",
     "output_type": "stream",
     "text": [
      "['A', 'b', 30, 'x', 'Python', 'Students', 'Paris']\n"
     ]
    }
   ],
   "source": [
    "list_dict = list(dict1)\n",
    "print(list_dict)"
   ]
  },
  {
   "cell_type": "code",
   "execution_count": 72,
   "id": "81c935d1",
   "metadata": {},
   "outputs": [],
   "source": [
    "#Note again how the list_dict variable is only picking up the keys of the dictionary. "
   ]
  },
  {
   "cell_type": "code",
   "execution_count": 100,
   "id": "76853703",
   "metadata": {},
   "outputs": [
    {
     "name": "stdout",
     "output_type": "stream",
     "text": [
      "{'A': 100, 'b': 20, 30: ['a', 'b', 'c', 'd'], 'x': {'x': 100, 'y': 1010}, 'Python': 'Great', 'Students': 'Awesome', 'Paris': 'Romantic'}\n"
     ]
    }
   ],
   "source": [
    "#If we have the value and wish to get the key corresponding to that value in the dictionary we have to use some programming\n",
    "# logic. \n",
    "\n",
    "print(dict1)"
   ]
  },
  {
   "cell_type": "code",
   "execution_count": 101,
   "id": "9ebef936",
   "metadata": {},
   "outputs": [
    {
     "name": "stdout",
     "output_type": "stream",
     "text": [
      "['A', 'b', 30, 'x', 'Python', 'Students', 'Paris']\n",
      "[100, 20, ['a', 'b', 'c', 'd'], {'x': 100, 'y': 1010}, 'Great', 'Awesome', 'Romantic']\n"
     ]
    }
   ],
   "source": [
    "keys_l = list(dict1.keys())\n",
    "val_l = list(dict1.values())\n",
    "\n",
    "print(keys_l)\n",
    "print(val_l)"
   ]
  },
  {
   "cell_type": "code",
   "execution_count": 102,
   "id": "20a106f0",
   "metadata": {},
   "outputs": [
    {
     "name": "stdout",
     "output_type": "stream",
     "text": [
      "Students\n"
     ]
    }
   ],
   "source": [
    "idx_v = val_l.index('Awesome')\n",
    "\n",
    "print(keys_l[idx_v])"
   ]
  },
  {
   "cell_type": "code",
   "execution_count": 103,
   "id": "1c43d0c9",
   "metadata": {},
   "outputs": [
    {
     "name": "stdout",
     "output_type": "stream",
     "text": [
      "Students\n"
     ]
    }
   ],
   "source": [
    "#Or another way:\n",
    "\n",
    "for x in dict1.keys():\n",
    "    if dict1[x] == 'Awesome':\n",
    "        print(x)"
   ]
  },
  {
   "cell_type": "code",
   "execution_count": 104,
   "id": "d70ef5a0",
   "metadata": {},
   "outputs": [
    {
     "name": "stdout",
     "output_type": "stream",
     "text": [
      "Students\n"
     ]
    }
   ],
   "source": [
    "#Or:\n",
    "\n",
    "for x,y in dict1.items():\n",
    "    if y == 'Awesome':\n",
    "        print(x)"
   ]
  },
  {
   "cell_type": "code",
   "execution_count": 76,
   "id": "76e1d13d",
   "metadata": {},
   "outputs": [],
   "source": [
    "#Del on dictionaries"
   ]
  },
  {
   "cell_type": "code",
   "execution_count": 105,
   "id": "29d74575",
   "metadata": {},
   "outputs": [
    {
     "name": "stdout",
     "output_type": "stream",
     "text": [
      "{'A': 100, 'b': 20, 30: ['a', 'b', 'c', 'd'], 'x': {'x': 100, 'y': 1010}, 'Python': 'Great', 'Students': 'Awesome', 'Paris': 'Romantic'}\n"
     ]
    }
   ],
   "source": [
    "print(dict1)"
   ]
  },
  {
   "cell_type": "code",
   "execution_count": 107,
   "id": "37cf0033",
   "metadata": {},
   "outputs": [
    {
     "name": "stdout",
     "output_type": "stream",
     "text": [
      "{'A': 100, 30: ['a', 'b', 'c', 'd'], 'x': {'x': 100, 'y': 1010}, 'Python': 'Great', 'Students': 'Awesome', 'Paris': 'Romantic'}\n"
     ]
    }
   ],
   "source": [
    "#We can use delete to delete a key value pair from the dictionary\n",
    "\n",
    "del(dict1['b'])\n",
    "\n",
    "print(dict1)"
   ]
  },
  {
   "cell_type": "code",
   "execution_count": 108,
   "id": "76c3565b",
   "metadata": {},
   "outputs": [
    {
     "ename": "KeyError",
     "evalue": "100",
     "output_type": "error",
     "traceback": [
      "\u001b[1;31m---------------------------------------------------------------------------\u001b[0m",
      "\u001b[1;31mKeyError\u001b[0m                                  Traceback (most recent call last)",
      "\u001b[1;32m<ipython-input-108-8df0a1e0683e>\u001b[0m in \u001b[0;36m<module>\u001b[1;34m\u001b[0m\n\u001b[1;32m----> 1\u001b[1;33m \u001b[1;32mdel\u001b[0m\u001b[1;33m(\u001b[0m\u001b[0mdict1\u001b[0m\u001b[1;33m[\u001b[0m\u001b[1;36m100\u001b[0m\u001b[1;33m]\u001b[0m\u001b[1;33m)\u001b[0m\u001b[1;33m\u001b[0m\u001b[1;33m\u001b[0m\u001b[0m\n\u001b[0m\u001b[0;32m      2\u001b[0m \u001b[1;33m\u001b[0m\u001b[0m\n\u001b[0;32m      3\u001b[0m \u001b[1;31m#Trying to delete the value will give a KeyError.\u001b[0m\u001b[1;33m\u001b[0m\u001b[1;33m\u001b[0m\u001b[1;33m\u001b[0m\u001b[0m\n\u001b[0;32m      4\u001b[0m \u001b[1;33m\u001b[0m\u001b[0m\n",
      "\u001b[1;31mKeyError\u001b[0m: 100"
     ]
    }
   ],
   "source": [
    "del(dict1[100])\n",
    "\n",
    "#Trying to delete the value will give a KeyError. \n",
    "\n"
   ]
  },
  {
   "cell_type": "code",
   "execution_count": 109,
   "id": "9fc2a320",
   "metadata": {},
   "outputs": [],
   "source": [
    "#delete on the dictionary will delete the whole dictionary\n",
    "\n",
    "del(dict1)"
   ]
  },
  {
   "cell_type": "code",
   "execution_count": 110,
   "id": "42c565c5",
   "metadata": {},
   "outputs": [
    {
     "ename": "NameError",
     "evalue": "name 'dict1' is not defined",
     "output_type": "error",
     "traceback": [
      "\u001b[1;31m---------------------------------------------------------------------------\u001b[0m",
      "\u001b[1;31mNameError\u001b[0m                                 Traceback (most recent call last)",
      "\u001b[1;32m<ipython-input-110-55169f1c8990>\u001b[0m in \u001b[0;36m<module>\u001b[1;34m\u001b[0m\n\u001b[1;32m----> 1\u001b[1;33m \u001b[0mprint\u001b[0m\u001b[1;33m(\u001b[0m\u001b[0mdict1\u001b[0m\u001b[1;33m)\u001b[0m\u001b[1;33m\u001b[0m\u001b[1;33m\u001b[0m\u001b[0m\n\u001b[0m",
      "\u001b[1;31mNameError\u001b[0m: name 'dict1' is not defined"
     ]
    }
   ],
   "source": [
    "print(dict1)"
   ]
  },
  {
   "cell_type": "code",
   "execution_count": 111,
   "id": "47c11d98",
   "metadata": {},
   "outputs": [
    {
     "name": "stdout",
     "output_type": "stream",
     "text": [
      "{'A': 100, 'b': 20, 30: ['a', 'b', 'c', 'd'], 'x': {'x': 100, 'y': 101}, 300: None}\n"
     ]
    }
   ],
   "source": [
    "dict1 = {'A': 100, 'b': 20, 30: ['a', 'b', 'c', 'd'], 'x': {'x': 100, 'y': 101}, 300: None}\n",
    "print(dict1)"
   ]
  },
  {
   "cell_type": "code",
   "execution_count": 112,
   "id": "b67fc354",
   "metadata": {},
   "outputs": [
    {
     "name": "stdout",
     "output_type": "stream",
     "text": [
      "{}\n"
     ]
    }
   ],
   "source": [
    "#To clear a dictionary use the clear() function.\n",
    "\n",
    "dict1.clear()\n",
    "\n",
    "print(dict1)"
   ]
  },
  {
   "cell_type": "code",
   "execution_count": 113,
   "id": "e61f101f",
   "metadata": {},
   "outputs": [
    {
     "name": "stdout",
     "output_type": "stream",
     "text": [
      "{'A': 100, 'b': 20, 30: ['a', 'b', 'c', 'd'], 'x': {'x': 100, 'y': 101}, 300: None}\n"
     ]
    }
   ],
   "source": [
    "#.pop() method in dictionary. Pops the specified key:value pair from the dictionary and returns the value of the specified\n",
    "# key. \n",
    "\n",
    "#It takes two parameters. \n",
    "\n",
    "#1. The key to be searched for - Mandatory\n",
    "#2. The value to be returned if the key is not found in dictionary. Raises a key error if the key is not found and the \n",
    "# default is not provided.\n",
    "\n",
    "dict1 = {'A': 100, 'b': 20, 30: ['a', 'b', 'c', 'd'], 'x': {'x': 100, 'y': 101}, 300: None}\n",
    "print(dict1)"
   ]
  },
  {
   "cell_type": "code",
   "execution_count": 114,
   "id": "0e41ba4f",
   "metadata": {},
   "outputs": [
    {
     "name": "stdout",
     "output_type": "stream",
     "text": [
      "['a', 'b', 'c', 'd']\n",
      "{'A': 100, 'b': 20, 'x': {'x': 100, 'y': 101}, 300: None}\n"
     ]
    }
   ],
   "source": [
    "#.pop method if key is in dictionary and default is not provided. \n",
    "\n",
    "popped = dict1.pop(30)\n",
    "\n",
    "print(popped)\n",
    "print(dict1)"
   ]
  },
  {
   "cell_type": "code",
   "execution_count": 115,
   "id": "c8fbb8f2",
   "metadata": {},
   "outputs": [
    {
     "name": "stdout",
     "output_type": "stream",
     "text": [
      "['a', 'b', 'c', 'd']\n",
      "{'A': 100, 'b': 20, 'x': {'x': 100, 'y': 101}, 300: None}\n"
     ]
    }
   ],
   "source": [
    "#.pop method if key in dictionary and default provided. \n",
    "\n",
    "dict1 = {'A': 100, 'b': 20, 30: ['a', 'b', 'c', 'd'], 'x': {'x': 100, 'y': 101}, 300: None}\n",
    "\n",
    "popped = dict1.pop(30, 'Not found')\n",
    "\n",
    "print(popped)\n",
    "print(dict1)"
   ]
  },
  {
   "cell_type": "code",
   "execution_count": 116,
   "id": "cefa4fd8",
   "metadata": {},
   "outputs": [
    {
     "ename": "KeyError",
     "evalue": "'xyz'",
     "output_type": "error",
     "traceback": [
      "\u001b[1;31m---------------------------------------------------------------------------\u001b[0m",
      "\u001b[1;31mKeyError\u001b[0m                                  Traceback (most recent call last)",
      "\u001b[1;32m<ipython-input-116-c4a3ba0e550c>\u001b[0m in \u001b[0;36m<module>\u001b[1;34m\u001b[0m\n\u001b[0;32m      3\u001b[0m \u001b[0mdict1\u001b[0m \u001b[1;33m=\u001b[0m \u001b[1;33m{\u001b[0m\u001b[1;34m'A'\u001b[0m\u001b[1;33m:\u001b[0m \u001b[1;36m100\u001b[0m\u001b[1;33m,\u001b[0m \u001b[1;34m'b'\u001b[0m\u001b[1;33m:\u001b[0m \u001b[1;36m20\u001b[0m\u001b[1;33m,\u001b[0m \u001b[1;36m30\u001b[0m\u001b[1;33m:\u001b[0m \u001b[1;33m[\u001b[0m\u001b[1;34m'a'\u001b[0m\u001b[1;33m,\u001b[0m \u001b[1;34m'b'\u001b[0m\u001b[1;33m,\u001b[0m \u001b[1;34m'c'\u001b[0m\u001b[1;33m,\u001b[0m \u001b[1;34m'd'\u001b[0m\u001b[1;33m]\u001b[0m\u001b[1;33m,\u001b[0m \u001b[1;34m'x'\u001b[0m\u001b[1;33m:\u001b[0m \u001b[1;33m{\u001b[0m\u001b[1;34m'x'\u001b[0m\u001b[1;33m:\u001b[0m \u001b[1;36m100\u001b[0m\u001b[1;33m,\u001b[0m \u001b[1;34m'y'\u001b[0m\u001b[1;33m:\u001b[0m \u001b[1;36m101\u001b[0m\u001b[1;33m}\u001b[0m\u001b[1;33m,\u001b[0m \u001b[1;36m300\u001b[0m\u001b[1;33m:\u001b[0m \u001b[1;32mNone\u001b[0m\u001b[1;33m}\u001b[0m\u001b[1;33m\u001b[0m\u001b[1;33m\u001b[0m\u001b[0m\n\u001b[0;32m      4\u001b[0m \u001b[1;33m\u001b[0m\u001b[0m\n\u001b[1;32m----> 5\u001b[1;33m \u001b[0mpopped\u001b[0m \u001b[1;33m=\u001b[0m \u001b[0mdict1\u001b[0m\u001b[1;33m.\u001b[0m\u001b[0mpop\u001b[0m\u001b[1;33m(\u001b[0m\u001b[1;34m'xyz'\u001b[0m\u001b[1;33m)\u001b[0m\u001b[1;33m\u001b[0m\u001b[1;33m\u001b[0m\u001b[0m\n\u001b[0m\u001b[0;32m      6\u001b[0m \u001b[1;33m\u001b[0m\u001b[0m\n\u001b[0;32m      7\u001b[0m \u001b[0mprint\u001b[0m\u001b[1;33m(\u001b[0m\u001b[0mpopped\u001b[0m\u001b[1;33m)\u001b[0m\u001b[1;33m\u001b[0m\u001b[1;33m\u001b[0m\u001b[0m\n",
      "\u001b[1;31mKeyError\u001b[0m: 'xyz'"
     ]
    }
   ],
   "source": [
    "#.pop method if key not in dictionary and default not provided. \n",
    "\n",
    "dict1 = {'A': 100, 'b': 20, 30: ['a', 'b', 'c', 'd'], 'x': {'x': 100, 'y': 101}, 300: None}\n",
    "\n",
    "popped = dict1.pop('xyz')\n",
    "\n",
    "print(popped)\n",
    "print(dict1)"
   ]
  },
  {
   "cell_type": "code",
   "execution_count": 117,
   "id": "bbdfcdc8",
   "metadata": {},
   "outputs": [
    {
     "name": "stdout",
     "output_type": "stream",
     "text": [
      "Not found\n",
      "{'A': 100, 'b': 20, 30: ['a', 'b', 'c', 'd'], 'x': {'x': 100, 'y': 101}, 300: None}\n"
     ]
    }
   ],
   "source": [
    "#.pop method if key not in dictionary and default provided. \n",
    "\n",
    "dict1 = {'A': 100, 'b': 20, 30: ['a', 'b', 'c', 'd'], 'x': {'x': 100, 'y': 101}, 300: None}\n",
    "\n",
    "popped = dict1.pop('xyz', 'Not found')\n",
    "\n",
    "print(popped)\n",
    "print(dict1)"
   ]
  },
  {
   "cell_type": "code",
   "execution_count": 121,
   "id": "771af0cc",
   "metadata": {},
   "outputs": [
    {
     "ename": "TypeError",
     "evalue": "pop expected at least 1 argument, got 0",
     "output_type": "error",
     "traceback": [
      "\u001b[1;31m---------------------------------------------------------------------------\u001b[0m",
      "\u001b[1;31mTypeError\u001b[0m                                 Traceback (most recent call last)",
      "\u001b[1;32m<ipython-input-121-0a19421ead93>\u001b[0m in \u001b[0;36m<module>\u001b[1;34m\u001b[0m\n\u001b[1;32m----> 1\u001b[1;33m \u001b[0mpopped\u001b[0m \u001b[1;33m=\u001b[0m \u001b[0mdict1\u001b[0m\u001b[1;33m.\u001b[0m\u001b[0mpop\u001b[0m\u001b[1;33m(\u001b[0m\u001b[1;33m)\u001b[0m\u001b[1;33m\u001b[0m\u001b[1;33m\u001b[0m\u001b[0m\n\u001b[0m\u001b[0;32m      2\u001b[0m \u001b[1;33m\u001b[0m\u001b[0m\n\u001b[0;32m      3\u001b[0m \u001b[0mprint\u001b[0m\u001b[1;33m(\u001b[0m\u001b[0mpopped\u001b[0m\u001b[1;33m)\u001b[0m\u001b[1;33m\u001b[0m\u001b[1;33m\u001b[0m\u001b[0m\n",
      "\u001b[1;31mTypeError\u001b[0m: pop expected at least 1 argument, got 0"
     ]
    }
   ],
   "source": [
    "popped = dict1.pop()\n",
    "\n",
    "print(popped)"
   ]
  },
  {
   "cell_type": "code",
   "execution_count": 118,
   "id": "c70c1c40",
   "metadata": {},
   "outputs": [
    {
     "name": "stdout",
     "output_type": "stream",
     "text": [
      "(300, None)\n",
      "{'A': 100, 'b': 20, 30: ['a', 'b', 'c', 'd'], 'x': {'x': 100, 'y': 101}}\n"
     ]
    }
   ],
   "source": [
    "#.popitem() method removes the last element input in the dictionary and returns it. It takes no parameters\n",
    "\n",
    "dict1 = {'A': 100, 'b': 20, 30: ['a', 'b', 'c', 'd'], 'x': {'x': 100, 'y': 101}, 300: None}\n",
    "\n",
    "pop_item = dict1.popitem()\n",
    "\n",
    "print(pop_item)\n",
    "print(dict1)"
   ]
  },
  {
   "cell_type": "code",
   "execution_count": 119,
   "id": "0c9518b6",
   "metadata": {},
   "outputs": [
    {
     "name": "stdout",
     "output_type": "stream",
     "text": [
      "{'A': 100, 'b': 20, 30: ['a', 'b', 'c', 'd'], 'x': {'x': 100, 'y': 101}, 300: '3xx', 400: '4xx'}\n"
     ]
    }
   ],
   "source": [
    "dict1[300] = '3xx'\n",
    "dict1[400] = '4xx'\n",
    "\n",
    "print(dict1)\n"
   ]
  },
  {
   "cell_type": "code",
   "execution_count": 120,
   "id": "dacd8c9e",
   "metadata": {},
   "outputs": [
    {
     "name": "stdout",
     "output_type": "stream",
     "text": [
      "(400, '4xx')\n",
      "{'A': 100, 'b': 20, 30: ['a', 'b', 'c', 'd'], 'x': {'x': 100, 'y': 101}, 300: '3xx'}\n"
     ]
    }
   ],
   "source": [
    "pop_item = dict1.popitem()\n",
    "\n",
    "print(pop_item)\n",
    "print(dict1)"
   ]
  },
  {
   "cell_type": "code",
   "execution_count": 122,
   "id": "9d25d422",
   "metadata": {},
   "outputs": [
    {
     "name": "stdout",
     "output_type": "stream",
     "text": [
      "{'A': 100, 'b': '2x', 30: ['a', 'b', 'c', 'd'], 'x': {'x': 100, 'y': 101}, 300: '3xx'}\n"
     ]
    }
   ],
   "source": [
    "dict1['b'] = '2x'\n",
    "\n",
    "print(dict1)"
   ]
  },
  {
   "cell_type": "code",
   "execution_count": 123,
   "id": "93a4da92",
   "metadata": {},
   "outputs": [
    {
     "name": "stdout",
     "output_type": "stream",
     "text": [
      "(300, '3xx')\n",
      "{'A': 100, 'b': '2x', 30: ['a', 'b', 'c', 'd'], 'x': {'x': 100, 'y': 101}}\n"
     ]
    }
   ],
   "source": [
    "pop_item = dict1.popitem()\n",
    "\n",
    "print(pop_item)\n",
    "print(dict1)"
   ]
  },
  {
   "cell_type": "code",
   "execution_count": null,
   "id": "d995ae4c",
   "metadata": {},
   "outputs": [],
   "source": [
    "#Note how updating the value of a key is not considered as the last input."
   ]
  },
  {
   "cell_type": "code",
   "execution_count": 136,
   "id": "58666d1b",
   "metadata": {},
   "outputs": [],
   "source": [
    "#Zip function in Python. Can take several iterable objects and map them based on their positions. \n",
    "\n",
    "x = list('abcde')\n",
    "y = list(range(5))\n",
    "z = tuple('ABCDE')\n",
    "\n",
    "zipd = zip(x,y,z)"
   ]
  },
  {
   "cell_type": "code",
   "execution_count": 133,
   "id": "8d2d936c",
   "metadata": {},
   "outputs": [
    {
     "name": "stdout",
     "output_type": "stream",
     "text": [
      "<zip object at 0x000001AD9F141B40>\n",
      "<class 'zip'>\n"
     ]
    }
   ],
   "source": [
    "print(zipd)\n",
    "print(type(zipd))\n",
    "\n",
    "#Note that this is an iterator object - that means that once we have iterated over it - it is exhausted and empty. It cannot\n",
    "# be iterated over again. We will dig deeper into difference between iterable objects and iterators in the Built-In functions\n",
    "# part of the curriculum."
   ]
  },
  {
   "cell_type": "code",
   "execution_count": 135,
   "id": "4604fd25",
   "metadata": {},
   "outputs": [],
   "source": [
    "for x in zipd:\n",
    "    print(x)\n",
    "    print(type(x))"
   ]
  },
  {
   "cell_type": "code",
   "execution_count": 137,
   "id": "edfd6628",
   "metadata": {},
   "outputs": [
    {
     "name": "stdout",
     "output_type": "stream",
     "text": [
      "[('a', 0, 'A'), ('b', 1, 'B'), ('c', 2, 'C'), ('d', 3, 'D'), ('e', 4, 'E')]\n",
      "<class 'list'>\n",
      "('a', 0, 'A')\n",
      "('b', 1, 'B')\n",
      "('c', 2, 'C')\n",
      "('d', 3, 'D')\n",
      "('e', 4, 'E')\n"
     ]
    }
   ],
   "source": [
    "#We could also just simply convert the zip iterator object to a different datatype. \n",
    "\n",
    "zipdd = list(zip(x,y,z))\n",
    "\n",
    "print(zipdd)\n",
    "print(type(zipdd))\n",
    "\n",
    "#And now as many loops as we would like. \n",
    "\n",
    "for x in zipdd:\n",
    "    print(x)    "
   ]
  },
  {
   "cell_type": "code",
   "execution_count": 138,
   "id": "fbd43809",
   "metadata": {},
   "outputs": [
    {
     "name": "stdout",
     "output_type": "stream",
     "text": [
      "('a', 0, 'A')\n",
      "('b', 1, 'B')\n",
      "('c', 2, 'C')\n",
      "('d', 3, 'D')\n",
      "('e', 4, 'E')\n"
     ]
    }
   ],
   "source": [
    "for x in zipdd:\n",
    "    print(x)"
   ]
  },
  {
   "cell_type": "code",
   "execution_count": 139,
   "id": "3431a4ee",
   "metadata": {},
   "outputs": [
    {
     "name": "stdout",
     "output_type": "stream",
     "text": [
      "[('a', 0), ('b', 1), ('c', 2), ('d', 3), ('e', 4)]\n"
     ]
    }
   ],
   "source": [
    "#Zip function will return a zipped iterator object using the shortest iterable and corresponding values. The excess values\n",
    "# will be ignored. \n",
    "\n",
    "x = list('abcdefghij')\n",
    "y = list(range(5))\n",
    "\n",
    "zip_dict_short = list(zip(x,y))\n",
    "\n",
    "print(zip_dict_short)"
   ]
  },
  {
   "cell_type": "code",
   "execution_count": 140,
   "id": "e7c1b29a",
   "metadata": {},
   "outputs": [
    {
     "name": "stdout",
     "output_type": "stream",
     "text": [
      "[('a', 0), ('b', 1), ('c', 2), ('d', 3), ('e', 4), ('f', None), ('g', None), ('h', None), ('i', None), ('j', None)]\n"
     ]
    }
   ],
   "source": [
    "#If the excess values are important use the zip_longest function from itertools module\n",
    "\n",
    "from itertools import zip_longest\n",
    "\n",
    "zip_dict_long = list(zip_longest(x,y))\n",
    "\n",
    "print(zip_dict_long)"
   ]
  },
  {
   "cell_type": "code",
   "execution_count": 141,
   "id": "31038875",
   "metadata": {},
   "outputs": [
    {
     "name": "stdout",
     "output_type": "stream",
     "text": [
      "[(0, 'a'), (1, 'b'), (2, 'c'), (3, 'd'), (4, 'e'), (None, 'f'), (None, 'g'), (None, 'h'), (None, 'i'), (None, 'j')]\n"
     ]
    }
   ],
   "source": [
    "zip_dict_long2 = list(zip_longest(y,x))\n",
    "\n",
    "print(zip_dict_long2)"
   ]
  },
  {
   "cell_type": "code",
   "execution_count": 143,
   "id": "a76a4345",
   "metadata": {},
   "outputs": [
    {
     "name": "stdout",
     "output_type": "stream",
     "text": [
      "['a', 'b', 'c', 'd', 'e', 'f', 'g', 'h', 'i', 'j']\n",
      "[0, 1, 2, 3, 4]\n",
      "('A', 'B', 'C', 'D', 'E')\n"
     ]
    }
   ],
   "source": [
    "#We can unzip zipped objects by passing a * in front of the zipped object. \n",
    "\n",
    "print(x)\n",
    "print(y)\n",
    "print(z)"
   ]
  },
  {
   "cell_type": "code",
   "execution_count": 145,
   "id": "ce4bb939",
   "metadata": {},
   "outputs": [
    {
     "name": "stdout",
     "output_type": "stream",
     "text": [
      "('a', 'b', 'c', 'd', 'e')\n",
      "(0, 1, 2, 3, 4)\n",
      "('A', 'B', 'C', 'D', 'E')\n"
     ]
    }
   ],
   "source": [
    "a, b, c = zip(*zipd)\n",
    "\n",
    "print(a,b,c, sep = '\\n')"
   ]
  },
  {
   "cell_type": "code",
   "execution_count": 146,
   "id": "4caecbcf",
   "metadata": {},
   "outputs": [
    {
     "name": "stdout",
     "output_type": "stream",
     "text": [
      "{'a': 0, 'b': 1, 'c': 2, 'd': 3, 'e': 4}\n"
     ]
    }
   ],
   "source": [
    "#As we can see - the zip function returns a zipped object which has put the items at index no 0 of the first, second and\n",
    "# third iterable in tuples. We can use this in Dictionary comprehension to create dictionaries from iterables. \n",
    "\n",
    "x = list('abcde')\n",
    "y = list(range(5))\n",
    "\n",
    "dict1 = {key:value for key,value in zip(x,y)}\n",
    "\n",
    "print(dict1)"
   ]
  },
  {
   "cell_type": "code",
   "execution_count": 147,
   "id": "064e6461",
   "metadata": {},
   "outputs": [
    {
     "name": "stdout",
     "output_type": "stream",
     "text": [
      "{'a': 0, 'b': 1, 'c': 2, 'd': 3, 'e': 4}\n"
     ]
    }
   ],
   "source": [
    "#Or even easier, \n",
    "\n",
    "dict2 = dict(zip(x,y))\n",
    "\n",
    "print(dict2)"
   ]
  },
  {
   "cell_type": "code",
   "execution_count": 148,
   "id": "4a44586e",
   "metadata": {},
   "outputs": [
    {
     "name": "stdout",
     "output_type": "stream",
     "text": [
      "{'a': 0, 'b': 5, 'c': 10, 'd': 15, 'e': 20}\n"
     ]
    }
   ],
   "source": [
    "#we can also do other operations with dictionary comprehension but it must follow the syntax \n",
    "# {key:value for key,value in iterable}\n",
    "\n",
    "dict2 = {x:v*5 for x,v in dict1.items()}\n",
    "\n",
    "print(dict2)"
   ]
  },
  {
   "cell_type": "code",
   "execution_count": 149,
   "id": "3c61025b",
   "metadata": {},
   "outputs": [
    {
     "name": "stdout",
     "output_type": "stream",
     "text": [
      "{0: 0, 1: 5, 2: 10, 3: 15, 4: 20}\n"
     ]
    }
   ],
   "source": [
    "dict3 = {x:x*5 for x in range(5)}\n",
    "\n",
    "print(dict3)"
   ]
  },
  {
   "cell_type": "code",
   "execution_count": 150,
   "id": "066fab2b",
   "metadata": {},
   "outputs": [
    {
     "name": "stdout",
     "output_type": "stream",
     "text": [
      "{'a': 'aaaaa', 'b': 'bbbbb', 'c': 'ccccc', 'd': 'ddddd', 'e': 'eeeee'}\n"
     ]
    }
   ],
   "source": [
    "dict4 = {x:x*5 for x in 'abcde'}\n",
    "\n",
    "print(dict4)"
   ]
  },
  {
   "cell_type": "code",
   "execution_count": 151,
   "id": "3918972b",
   "metadata": {},
   "outputs": [
    {
     "name": "stdout",
     "output_type": "stream",
     "text": [
      "{0: 0, 1: 5, 2: 10, 3: 15, 4: 20}\n"
     ]
    }
   ],
   "source": [
    "#If else conditions with dictionary comprehension. As with list comprehension we can use one if else condition with \n",
    "# a dictionary comprehension. (Note that nested ifs are considered 1 if condition). Basically, there is no elif possibility\n",
    "# with list, dictionary and set comprehensions.\n",
    "\n",
    "print(dict3)"
   ]
  },
  {
   "cell_type": "code",
   "execution_count": 152,
   "id": "a1c7a3b7",
   "metadata": {},
   "outputs": [
    {
     "name": "stdout",
     "output_type": "stream",
     "text": [
      "{0: 0, 2: 10, 4: 20}\n"
     ]
    }
   ],
   "source": [
    "dict5 = {key:value for key,value in dict3.items() if value%2 == 0}\n",
    "\n",
    "print(dict5)"
   ]
  },
  {
   "cell_type": "code",
   "execution_count": 153,
   "id": "b6618101",
   "metadata": {},
   "outputs": [
    {
     "name": "stdout",
     "output_type": "stream",
     "text": [
      "{0: 0, 1: 5, 2: 10, 3: 15, 4: 20}\n",
      "{0: 0, 1: 10, 2: 10, 3: 30, 4: 20}\n"
     ]
    }
   ],
   "source": [
    "#And as with lists - the syntax for if else changes (if else comes to the front of the for loop) in comprehension.\n",
    "\n",
    "print(dict3)\n",
    "\n",
    "dict5 = {key: value*2 if value%2 == 1 else value for key,value in dict3.items()}\n",
    "\n",
    "print(dict5)"
   ]
  },
  {
   "cell_type": "code",
   "execution_count": 154,
   "id": "e1e559f7",
   "metadata": {},
   "outputs": [
    {
     "name": "stdout",
     "output_type": "stream",
     "text": [
      "{'a': 100, 'b': [1, 2, 3, 4], 'c': 'xyz'}\n",
      "{'a': 100, 'b': [1, 2, 3, 4], 'c': 'xyz'}\n",
      "{'a': 100, 'b': [1, 2, 3, 4], 'c': 'xyz'}\n",
      "{'a': 100, 'b': [1, 2, 3, 4], 'c': 'xyz'}\n"
     ]
    }
   ],
   "source": [
    "#Aliasing, copying and Deepcopying in Dictionaries. \n",
    "\n",
    "#Effects of aliasing in Dictionaries is the same as for other datatypes. i.e. change in original object will affect the \n",
    "# aliased variable. \n",
    "\n",
    "#Effect of copying - (there is no copying by slicing in dictionaries) - Since the keys are anyway immutable, there are two\n",
    "# possibilities on the values. \n",
    "\n",
    "#1. If the value is an immutable object, then the effect of change on original does not affect a copied or deepcopied object.\n",
    "#2. However, if the value is mutable, then the effected change on original does effect the copy (but not the deepcopy) since\n",
    "# the copy also contains only a memory id reference to the same object.\n",
    "\n",
    "\n",
    "p = {'a':100, 'b':[1,2,3,4], 'c': 'xyz'}\n",
    "\n",
    "q = p\n",
    "r = p.copy()\n",
    "\n",
    "import copy\n",
    "\n",
    "s = copy.deepcopy(p)\n",
    "\n",
    "print(p,q,r,s, sep ='\\n')"
   ]
  },
  {
   "cell_type": "code",
   "execution_count": 155,
   "id": "b8bf6c95",
   "metadata": {},
   "outputs": [
    {
     "name": "stdout",
     "output_type": "stream",
     "text": [
      "Original object p : {'a': 10101, 'b': [1, 2, 3, 4], 'c': 'xyz'}. \n",
      "\n",
      "Aliased variable q : {'a': 10101, 'b': [1, 2, 3, 4], 'c': 'xyz'}. \n",
      "\n",
      "Copy of p : {'a': 100, 'b': [1, 2, 3, 4], 'c': 'xyz'}. \n",
      "\n",
      "Deepcopy of p : {'a': 100, 'b': [1, 2, 3, 4], 'c': 'xyz'}. \n",
      "\n"
     ]
    }
   ],
   "source": [
    "p['a'] = 10101\n",
    "\n",
    "print(f'Original object p : {p}.', '\\n')\n",
    "print(f'Aliased variable q : {q}.', '\\n')\n",
    "print(f'Copy of p : {r}.', '\\n')\n",
    "print(f'Deepcopy of p : {s}.', '\\n')\n"
   ]
  },
  {
   "cell_type": "code",
   "execution_count": 156,
   "id": "3dc8ac89",
   "metadata": {},
   "outputs": [
    {
     "name": "stdout",
     "output_type": "stream",
     "text": [
      "Original object p : {'a': 10101, 'b': [1, 20202, 3, 4], 'c': 'xyz'}. \n",
      "\n",
      "Aliased variable q : {'a': 10101, 'b': [1, 20202, 3, 4], 'c': 'xyz'}. \n",
      "\n",
      "Copy of p : {'a': 100, 'b': [1, 20202, 3, 4], 'c': 'xyz'}. \n",
      "\n",
      "Deepcopy of p : {'a': 100, 'b': [1, 2, 3, 4], 'c': 'xyz'}. \n",
      "\n"
     ]
    }
   ],
   "source": [
    "p['b'][1] = 20202\n",
    "\n",
    "print(f'Original object p : {p}.', '\\n')\n",
    "print(f'Aliased variable q : {q}.', '\\n')\n",
    "print(f'Copy of p : {r}.', '\\n')\n",
    "print(f'Deepcopy of p : {s}.', '\\n')\n"
   ]
  },
  {
   "cell_type": "code",
   "execution_count": 157,
   "id": "8d3e8042",
   "metadata": {},
   "outputs": [
    {
     "name": "stdout",
     "output_type": "stream",
     "text": [
      "{'e': 0, 'b': 1, 'd': 2, 'a': 3, 'c': 4}\n",
      "['a', 'b', 'c', 'd', 'e']\n"
     ]
    }
   ],
   "source": [
    "dict1 = {'e': 0, 'b': 1, 'd': 2, 'a': 3, 'c': 4}\n",
    "\n",
    "dict2 = sorted(dict1)\n",
    "\n",
    "print(dict1)\n",
    "print(dict2)"
   ]
  },
  {
   "cell_type": "code",
   "execution_count": 158,
   "id": "ea85f3b7",
   "metadata": {},
   "outputs": [
    {
     "name": "stdout",
     "output_type": "stream",
     "text": [
      "dict_items([('e', 0), ('b', 1), ('d', 2), ('a', 3), ('c', 4)])\n"
     ]
    }
   ],
   "source": [
    "#sorting on dictionaries\n",
    "\n",
    "dict1 = {'e': 0, 'b': 1, 'd': 2, 'a': 3, 'c': 4}\n",
    "\n",
    "print(dict1.items())"
   ]
  },
  {
   "cell_type": "code",
   "execution_count": 160,
   "id": "bb80c356",
   "metadata": {},
   "outputs": [
    {
     "name": "stdout",
     "output_type": "stream",
     "text": [
      "{'a': 3, 'b': 1, 'c': 4, 'd': 2, 'e': 0}\n"
     ]
    }
   ],
   "source": [
    "dict2 = dict(sorted(dict1.items(), key = lambda t: t[0]))\n",
    "\n",
    "print(dict2)"
   ]
  },
  {
   "cell_type": "code",
   "execution_count": null,
   "id": "3728e26e",
   "metadata": {},
   "outputs": [],
   "source": []
  }
 ],
 "metadata": {
  "kernelspec": {
   "display_name": "Python 3 (ipykernel)",
   "language": "python",
   "name": "python3"
  },
  "language_info": {
   "codemirror_mode": {
    "name": "ipython",
    "version": 3
   },
   "file_extension": ".py",
   "mimetype": "text/x-python",
   "name": "python",
   "nbconvert_exporter": "python",
   "pygments_lexer": "ipython3",
   "version": "3.9.12"
  }
 },
 "nbformat": 4,
 "nbformat_minor": 5
}
