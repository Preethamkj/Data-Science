{
 "cells": [
  {
   "cell_type": "code",
   "execution_count": null,
   "id": "6427a471",
   "metadata": {},
   "outputs": [],
   "source": [
    "# Complex Assignment"
   ]
  },
  {
   "cell_type": "code",
   "execution_count": 3,
   "id": "da68f358",
   "metadata": {},
   "outputs": [
    {
     "name": "stdout",
     "output_type": "stream",
     "text": [
      "(5+5j) <class 'complex'>\n"
     ]
    }
   ],
   "source": [
    "# Q. Declare a complex number and store it in a variable.\n",
    "# Check the type and print the id of the same.\n",
    "complx = 5+5j\n",
    "print(complx, type(complx))"
   ]
  },
  {
   "cell_type": "code",
   "execution_count": 7,
   "id": "4b27bcfd",
   "metadata": {},
   "outputs": [
    {
     "name": "stdout",
     "output_type": "stream",
     "text": [
      "(11+11j)\n",
      "(-1-1j)\n",
      "60j\n",
      "(0.8333333333333334+0j)\n",
      "(-828.8600536104259-757.5757213407331j)\n"
     ]
    }
   ],
   "source": [
    "# Q. Arithmetic Operations on complex number\n",
    "# Take two different complex numbers.\n",
    "# Store them in two different variables.\n",
    "# Do below operations on them:-\n",
    "#  Find sum of both numbers\n",
    "#  Find difference between them\n",
    "#  Find the product of both numbers.\n",
    "#  Find value after dividing first num with second number\n",
    "#  Find the result of the first num to the power of the second number.\n",
    "cmplx1 = 5 + 5j\n",
    "cmplx2 = 6 + 6j\n",
    "\n",
    "print(cmplx1 + cmplx2) #sum\n",
    "print(cmplx1 - cmplx2)   #difference\n",
    "print(cmplx1 * cmplx2)   #product\n",
    "print(cmplx1 / cmplx2)   #division\n",
    "print(cmplx1 ** cmplx2)  #exponentation"
   ]
  },
  {
   "cell_type": "code",
   "execution_count": 8,
   "id": "810fde1a",
   "metadata": {},
   "outputs": [
    {
     "ename": "TypeError",
     "evalue": "'<' not supported between instances of 'complex' and 'complex'",
     "output_type": "error",
     "traceback": [
      "\u001b[1;31m---------------------------------------------------------------------------\u001b[0m",
      "\u001b[1;31mTypeError\u001b[0m                                 Traceback (most recent call last)",
      "Input \u001b[1;32mIn [8]\u001b[0m, in \u001b[0;36m<cell line: 7>\u001b[1;34m()\u001b[0m\n\u001b[0;32m      5\u001b[0m cmplx1 \u001b[38;5;241m=\u001b[39m \u001b[38;5;241m5\u001b[39m \u001b[38;5;241m+\u001b[39m \u001b[38;5;241m5\u001b[39mj\n\u001b[0;32m      6\u001b[0m cmplx2 \u001b[38;5;241m=\u001b[39m \u001b[38;5;241m6\u001b[39m \u001b[38;5;241m+\u001b[39m \u001b[38;5;241m6\u001b[39mj\n\u001b[1;32m----> 7\u001b[0m \u001b[38;5;28mprint\u001b[39m(\u001b[43mcmplx1\u001b[49m\u001b[43m \u001b[49m\u001b[38;5;241;43m<\u001b[39;49m\u001b[43m \u001b[49m\u001b[43mcmplx2\u001b[49m)\n",
      "\u001b[1;31mTypeError\u001b[0m: '<' not supported between instances of 'complex' and 'complex'"
     ]
    }
   ],
   "source": [
    "# Q. Comparison Operation not applicable between instance of complex\n",
    "# values.\n",
    "# Object reusability concept is not applicable on complex number\n",
    "\n",
    "cmplx1 = 5 + 5j\n",
    "cmplx2 = 6 + 6j\n",
    "print(cmplx1 < cmplx2)\n",
    "Output: Not Supported"
   ]
  },
  {
   "cell_type": "code",
   "execution_count": 9,
   "id": "1107cb29",
   "metadata": {},
   "outputs": [
    {
     "name": "stdout",
     "output_type": "stream",
     "text": [
      "False\n",
      "True\n"
     ]
    }
   ],
   "source": [
    "# Q. Equality Operator\n",
    "# Take two different complex numbers.\n",
    "# Store them in two different variables.\n",
    "# Equate them using equality operators (==, !=)\n",
    "# Observe the output(return type should be boolean)\n",
    "\n",
    "cmplx1 = 5 + 5j\n",
    "cmplx2 = 6 + 6j\n",
    "\n",
    "print(cmplx1 == cmplx2)\n",
    "print(cmplx1 != cmplx2)"
   ]
  },
  {
   "cell_type": "code",
   "execution_count": 19,
   "id": "fddb622e",
   "metadata": {},
   "outputs": [
    {
     "name": "stdout",
     "output_type": "stream",
     "text": [
      "True\n"
     ]
    }
   ],
   "source": [
    "# Q. Logical operators\n",
    "# Observe the output of below code\n",
    "# Cross check the output manually\n",
    "# print(10+20j and 20+30j) #20+30j\n",
    "# #----------------------------------------->Output is 20+30j\n",
    "# print(0+0j and 20+30j) #0+0j\n",
    "# #----------------------------------------->Output is 0j\n",
    "# print(20+30j and 0+0j) #0+0j\n",
    "# #----------------------------------------->Output is 0j\n",
    "# print(0+0j and 0+0j) #0+0j\n",
    "# #----------------------------------------->Output is 0j\n",
    "# print(10+20j or 20+30j) #10+20j\n",
    "#----------------------------------------->Output is 10+20j\n",
    "# print(0+0j or 20+30j) #20+30j\n",
    "# #----------------------------------------->Output is 20+30j\n",
    "# print(20+30j or 0+0j) #20+30j\n",
    "# ----------------------------------------->Output is 20+30j\n",
    "# print(0+0j or 0+0j) #0+0j\n",
    "#----------------------------------------->Output is 0j\n",
    "# print(not 10+20j) #False\n",
    "# #----------------------------------------->Output is False\n",
    "# print(not 0+0j) #True\n",
    "# #----------------------------------------->Output is True"
   ]
  },
  {
   "cell_type": "code",
   "execution_count": 20,
   "id": "b5b47fc0",
   "metadata": {},
   "outputs": [
    {
     "name": "stdout",
     "output_type": "stream",
     "text": [
      "False\n",
      "True\n"
     ]
    }
   ],
   "source": [
    "# Q. What is the output of the expression inside the print statement.\n",
    "# Cross check before running the program.\n",
    "a = 10+20j\n",
    "b = 10+20j\n",
    "print(a is b) #False #True or False?\n",
    "print(a is not b) #True #True or False?"
   ]
  },
  {
   "cell_type": "code",
   "execution_count": 21,
   "id": "45431bdf",
   "metadata": {},
   "outputs": [
    {
     "name": "stdout",
     "output_type": "stream",
     "text": [
      "True\n",
      "True\n",
      "True\n",
      "True\n",
      "True\n",
      "True\n"
     ]
    }
   ],
   "source": [
    "# Q. Membership operation\n",
    "# in, not in are two membership operators and it returns boolean value\n",
    "print('2.7' in 'Python2.7.8') #True\n",
    "print(10+20j in [10,10.20,10+20j,'Python']) #True\n",
    "print(10+20j in (10,10.20,10+20j,'Python')) #True\n",
    "print(30+40j in {1,20.30,30+40j}) #True\n",
    "print(30+40j in {1:100, 2.3:200, 30+40j:300}) #True\n",
    "print(10 in range(20)) #True"
   ]
  }
 ],
 "metadata": {
  "kernelspec": {
   "display_name": "Python 3 (ipykernel)",
   "language": "python",
   "name": "python3"
  },
  "language_info": {
   "codemirror_mode": {
    "name": "ipython",
    "version": 3
   },
   "file_extension": ".py",
   "mimetype": "text/x-python",
   "name": "python",
   "nbconvert_exporter": "python",
   "pygments_lexer": "ipython3",
   "version": "3.9.12"
  }
 },
 "nbformat": 4,
 "nbformat_minor": 5
}
