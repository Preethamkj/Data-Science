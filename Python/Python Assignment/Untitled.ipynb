{
 "cells": [
  {
   "cell_type": "code",
   "execution_count": null,
   "id": "6e73ef06",
   "metadata": {},
   "outputs": [],
   "source": [
    "#Int Assignment"
   ]
  },
  {
   "cell_type": "code",
   "execution_count": 1,
   "id": "d76f5ce1",
   "metadata": {},
   "outputs": [
    {
     "name": "stdout",
     "output_type": "stream",
     "text": [
      "5 <class 'int'> 2506957613488\n"
     ]
    }
   ],
   "source": [
    "# Q. Declare an int value and store it in a variable.\n",
    "# Check the type and print the id of the same.\n",
    "\n",
    "var1 = 5\n",
    "print(var1, type(var1), id(var1))"
   ]
  },
  {
   "cell_type": "code",
   "execution_count": 2,
   "id": "8d5601ac",
   "metadata": {},
   "outputs": [
    {
     "name": "stdout",
     "output_type": "stream",
     "text": [
      "55 <class 'int'> 2506957803568\n",
      "55 <class 'int'> 2506957803568\n"
     ]
    }
   ],
   "source": [
    "# Q. Take one int value between 0 - 256.\n",
    "# Assign it to two different variables.\n",
    "# Check the id of both the variables. It should come the same. Check why?\n",
    "\n",
    "var1 = 55\n",
    "var2 = 55\n",
    "print(var1, type(var1), id(var1))\n",
    "print(var2, type(var2), id(var2))\n",
    "#0 - 256 will be assigned in python while initializing"
   ]
  },
  {
   "cell_type": "code",
   "execution_count": 4,
   "id": "9109d886",
   "metadata": {},
   "outputs": [
    {
     "name": "stdout",
     "output_type": "stream",
     "text": [
      "555 <class 'int'> 2507045141776\n",
      "555 <class 'int'> 2507045139408\n"
     ]
    }
   ],
   "source": [
    "# Q. Take one int value either less than -5 or greater than 256.\n",
    "# Assign it to two different variables.\n",
    "# Check the id of both the variables. It should come different.Check why?\n",
    "\n",
    "var1 = 555\n",
    "var2 = 555\n",
    "print(var1, type(var1), id(var1))\n",
    "print(var2, type(var2), id(var2))\n",
    "\n",
    "#Because only -5 to 256 will be initialized in python"
   ]
  },
  {
   "cell_type": "code",
   "execution_count": 5,
   "id": "b99805fe",
   "metadata": {},
   "outputs": [
    {
     "name": "stdout",
     "output_type": "stream",
     "text": [
      "80\n",
      "30\n",
      "1375\n",
      "2.2\n",
      "5\n",
      "2\n",
      "32289939950073874605247453153133392333984375\n"
     ]
    }
   ],
   "source": [
    "# Q. Arithmetic Operations on integers\n",
    "# Take two different integer values.\n",
    "# Store them in two different variables.\n",
    "# Do below operations on them:-\n",
    "#  Find sum of both numbers\n",
    "#  Find difference between them\n",
    "#  Find the product of both numbers.\n",
    "#  Find value after dividing first num with second number\n",
    "#  Find the remainder after dividing first number with second number\n",
    "#  Find the quotient after dividing first number with second number\n",
    "#  Find the result of the first num to the power of the second number.\n",
    "\n",
    "var1 = 55\n",
    "var2 = 25\n",
    "print(var1 + var2)  \n",
    "print(var1 - var2)  \n",
    "print(var1 * var2)  \n",
    "print(var1 / var2)  \n",
    "print(var1 % var2)\n",
    "print(var1 // var2)  \n",
    "print(var1 ** var2)  \n"
   ]
  },
  {
   "cell_type": "code",
   "execution_count": 6,
   "id": "53b0c6b6",
   "metadata": {},
   "outputs": [
    {
     "name": "stdout",
     "output_type": "stream",
     "text": [
      "True\n",
      "False\n",
      "True\n",
      "False\n"
     ]
    }
   ],
   "source": [
    "# Q. Comparison Operators on integers\n",
    "# Take two different integer values.\n",
    "# Store them in two different variables.print(var1 + var2)  \n",
    "# Do below operations on them:-\n",
    "#  Compare se two numbers with below operator:-\n",
    "#  Greater than, '>'\n",
    "#  Smaller than, '<'\n",
    "#  Greater than or equal to, '>='\n",
    "#  Less than or equal to, '<='\n",
    "# Observe their output(return type should be boolean)\n",
    "\n",
    "var1 = 55\n",
    "var2 = 25\n",
    " \n",
    "print(var1 > var2)  \n",
    "print(var1 < var2)  \n",
    "print(var1 >= var2)  \n",
    "print(var1 <= var2)  \n",
    " \n"
   ]
  },
  {
   "cell_type": "code",
   "execution_count": 8,
   "id": "e589b620",
   "metadata": {},
   "outputs": [
    {
     "name": "stdout",
     "output_type": "stream",
     "text": [
      "False\n",
      "True\n"
     ]
    }
   ],
   "source": [
    "# Q. Equality Operator\n",
    "# Take two different integer values.\n",
    "# Store them in two different variables.\n",
    "# Equate them using equality operators (==, !=)\n",
    "# Observe the output(return type should be boolean)\n",
    "\n",
    "var1 = 55\n",
    "var2 = 25\n",
    " \n",
    "print(var1 == var2)\n",
    "print(var1 != var2)"
   ]
  },
  {
   "cell_type": "code",
   "execution_count": 9,
   "id": "f659274e",
   "metadata": {},
   "outputs": [
    {
     "name": "stdout",
     "output_type": "stream",
     "text": [
      "20\n",
      "0\n",
      "0\n",
      "0\n",
      "10\n",
      "20\n",
      "20\n",
      "0\n",
      "False\n",
      "True\n"
     ]
    }
   ],
   "source": [
    "# Q. Logical operators\n",
    "# Observe the output of below code\n",
    "# Cross check the output manually\n",
    "print(10 and 20)\n",
    "#----------------------------------------->Output is 20\n",
    "print(0 and 20)\n",
    "#----------------------------------------->Output is 0\n",
    "print(20 and 0)\n",
    "#----------------------------------------->Output is 0\n",
    "print(0 and 0)\n",
    "#----------------------------------------->Output is 0\n",
    "print(10 or 20)\n",
    "#----------------------------------------->Output is 10\n",
    "print(0 or 20)\n",
    "#----------------------------------------->Output is 20\n",
    "print(20 or 0)\n",
    "#----------------------------------------->Output is 20\n",
    "print(0 or 0)\n",
    "#----------------------------------------->Output is 0\n",
    "print(not 10)\n",
    "#----------------------------------------->Output is False\n",
    "print(not 0)\n",
    "#----------------------------------------->Output is True"
   ]
  },
  {
   "cell_type": "code",
   "execution_count": 18,
   "id": "ad55d07f",
   "metadata": {},
   "outputs": [
    {
     "data": {
      "text/plain": [
       "2"
      ]
     },
     "execution_count": 18,
     "metadata": {},
     "output_type": "execute_result"
    }
   ],
   "source": [
    "# Q. Bitwise Operators\n",
    "# Do below operations on the values provided below:-\n",
    "#  Bitwise and(&) -----------------------------------------> 10, 20\n",
    "\n",
    "# 10 & 20\n",
    "# -------> Output is 0\n",
    "\n",
    "\n",
    "# 10|20\n",
    "# #  Bitwise or(|) -----------------------------------------> 10, 20\n",
    "# # -------> Output is 30\n",
    "\n",
    "# 10 ^ 20\n",
    "#  Bitwise(^) -----------------------------------------> 10, 20\n",
    "# -------> Output is 30\n",
    "\n",
    "# ~10\n",
    "#  Bitwise negation(~) ------------------------------------> 10\n",
    "# -------> Output is -11\n",
    "\n",
    "# a = 10\n",
    "# a << 2\n",
    "#  Bitwise left shift ------------------------------------> 10,2\n",
    "# -------> Output is 40\n",
    "\n",
    "# a >> 2\n",
    "#  Bitwise right shift ------------------------------------> 10,2\n",
    "# -------> Output is 2\n",
    "# Cross check the output manually"
   ]
  },
  {
   "cell_type": "code",
   "execution_count": 22,
   "id": "7f9f70a7",
   "metadata": {},
   "outputs": [
    {
     "name": "stdout",
     "output_type": "stream",
     "text": [
      "False\n",
      "True\n"
     ]
    }
   ],
   "source": [
    "# Q. What is the output of expression inside print statement. Cross check\n",
    "# before running the program.\n",
    "# a = 10\n",
    "# b = 10\n",
    "# print(a is b) #True or False? True\n",
    "# print(a is not b) #True or False? False\n",
    "a = 1000\n",
    "b = 1000\n",
    "print(a is b) #True or False? False\n",
    "print(a is not b) #True or False? True"
   ]
  },
  {
   "cell_type": "code",
   "execution_count": 46,
   "id": "2dbe154b",
   "metadata": {},
   "outputs": [
    {
     "name": "stdout",
     "output_type": "stream",
     "text": [
      "20\n"
     ]
    }
   ],
   "source": [
    "# Q. What is the output of expression inside print statement. Cross check\n",
    "# before running the program.\n",
    "print(10+(10*32)//2**5&20+(~(-10))<<2)\n",
    "\n",
    "# = (10+(10*32)//2**5&20+9<<2)\n",
    "# = (10+320//2**5&20+9<<2)\n",
    "# = (10+320//32&20+9<<2)\n",
    "# = (10+10&20+9<<2)\n",
    "# = (20&116)\n",
    "\n"
   ]
  },
  {
   "cell_type": "code",
   "execution_count": 52,
   "id": "6762727e",
   "metadata": {},
   "outputs": [
    {
     "name": "stdout",
     "output_type": "stream",
     "text": [
      "True\n",
      "True\n",
      "True\n",
      "True\n",
      "True\n",
      "True\n"
     ]
    }
   ],
   "source": [
    "# Q. Membership operation\n",
    "# in, not in are two membership operators and it returns boolean value\n",
    "print('2' in 'Python2.7.8')\n",
    "print(10 in [10,10.20,10+20j,'Python'])\n",
    "print(10 in (10,10.20,10+20j,'Python'))\n",
    "print(2 in {1,2,3})\n",
    "print(3 in {1:100, 2:200, 3:300})\n",
    "print(10 in range(20))"
   ]
  },
  {
   "cell_type": "code",
   "execution_count": 54,
   "id": "81cea7f5",
   "metadata": {},
   "outputs": [
    {
     "name": "stdout",
     "output_type": "stream",
     "text": [
      "0b10011010010100\n",
      "0o23224\n",
      "0x2694\n"
     ]
    }
   ],
   "source": [
    "# Q. An integer can be represented in binary, octal or hexadecimal form.\n",
    "# Declare one binary, one octal and one hexadecimal value and store them\n",
    "# in three different variables.\n",
    "# Convert 9876 to its binary, octal and hexadecimal equivalent and print\n",
    "# their corresponding value.\n",
    "a = 0b1010000\n",
    "b = 0o7436\n",
    "c = 0xfade\n",
    "print(bin(9876))\n",
    "print(oct(9876))\n",
    "print(hex(9876))"
   ]
  },
  {
   "cell_type": "code",
   "execution_count": 53,
   "id": "63b47c43",
   "metadata": {},
   "outputs": [
    {
     "name": "stdout",
     "output_type": "stream",
     "text": [
      "80\n",
      "3870\n",
      "64222\n",
      "0b1010000\n",
      "0o7436\n",
      "0xfade\n",
      "0b1010000\n",
      "0b1111101011011110\n",
      "0o175336\n",
      "0o7436\n",
      "0x50\n",
      "0xfade\n"
     ]
    }
   ],
   "source": [
    "# Q. What will be the output of following:-\n",
    "a = 0b1010000\n",
    "print(a)\n",
    "b = 0o7436\n",
    "print(b)\n",
    "c = 0xfade\n",
    "print(c)\n",
    "print(bin(80))\n",
    "print(oct(3870))\n",
    "print(hex(64222))\n",
    "print(bin(0b1010000))\n",
    "print(bin(0xfade))\n",
    "print(oct(0xfade))\n",
    "print(oct(0o7436))\n",
    "print(hex(0b1010000))\n",
    "print(hex(0xfade))"
   ]
  }
 ],
 "metadata": {
  "kernelspec": {
   "display_name": "Python 3 (ipykernel)",
   "language": "python",
   "name": "python3"
  },
  "language_info": {
   "codemirror_mode": {
    "name": "ipython",
    "version": 3
   },
   "file_extension": ".py",
   "mimetype": "text/x-python",
   "name": "python",
   "nbconvert_exporter": "python",
   "pygments_lexer": "ipython3",
   "version": "3.9.12"
  }
 },
 "nbformat": 4,
 "nbformat_minor": 5
}
