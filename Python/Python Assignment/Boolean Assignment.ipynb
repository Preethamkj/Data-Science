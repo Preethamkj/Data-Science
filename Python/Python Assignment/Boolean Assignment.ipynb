{
 "cells": [
  {
   "cell_type": "code",
   "execution_count": 2,
   "id": "a055fe9d",
   "metadata": {},
   "outputs": [
    {
     "name": "stdout",
     "output_type": "stream",
     "text": [
      "one is True \n",
      " <class 'str'> \n",
      " 2840263975088\n",
      "2 is True \n",
      " <class 'int'> \n",
      " 2840189364560\n",
      "None is False \n",
      " <class 'NoneType'> \n",
      " 140729039953112\n"
     ]
    }
   ],
   "source": [
    "#Q. Declare a boolean value and store it in a variable.\n",
    "#Check the type and print the id of the same.\n",
    "\n",
    "a = 'one'\n",
    "b = 2\n",
    "c = None\n",
    "print(a, 'is' ,bool(a), '\\n',type(a) ,'\\n',id(a))\n",
    "\n",
    "a = b\n",
    "print(a, 'is' ,bool(a), '\\n',type(a) ,'\\n',id(a))\n",
    "\n",
    "a = c\n",
    "print(a, 'is' ,bool(a), '\\n',type(a) ,'\\n',id(a))"
   ]
  },
  {
   "cell_type": "code",
   "execution_count": 3,
   "id": "b6f3bb1a",
   "metadata": {},
   "outputs": [
    {
     "name": "stdout",
     "output_type": "stream",
     "text": [
      "44 having its ID as 2840189365904\n",
      "44 having its ID as 2840189365904\n",
      "257 having its ID as 2840275777584\n",
      "257 having its ID as 2840275777456\n",
      "\n",
      "\n",
      "f and g having different IDs as they are not initialized when jupyter IDE is started \n",
      "while d and e are initialized earlier \n",
      "That is 0 - 256 is inititalized at the beginning itself\n"
     ]
    }
   ],
   "source": [
    "#Q. Take one boolean value between 0 - 256.\n",
    "#Assign it to two different variables.\n",
    "#Check the id of both the variables. It should come the same. Check why?\n",
    "\n",
    "d = 44\n",
    "e = 44\n",
    "f = 257\n",
    "g = 257\n",
    "print(d, 'having its ID as', id(d) )\n",
    "print(e, 'having its ID as', id(e))\n",
    "print(f,'having its ID as', id(f))\n",
    "print(g,'having its ID as', id(g))\n",
    "print('\\n')\n",
    "print('f and g having different IDs as they are not initialized when jupyter IDE is started \\nwhile d and e are initialized earlier \\nThat is 0 - 256 is inititalized at the beginning itself')"
   ]
  },
  {
   "cell_type": "code",
   "execution_count": 4,
   "id": "218e8ff5",
   "metadata": {},
   "outputs": [
    {
     "name": "stdout",
     "output_type": "stream",
     "text": [
      "Sum of two True and True boolean values is: 2\n",
      "Sum of two True and False boolean values is: 1\n",
      "Sum of two False and True boolean values is: 1\n",
      "Sum of two false and false boolean values is: 0\n",
      "\n",
      "\n",
      "Difference of two True boolean values is: 0\n",
      "Difference of two True and False boolean values is: 1\n",
      "Difference of two False and True boolean values is: -1\n",
      "Difference of two false and false boolean values is: 0\n",
      "\n",
      "\n",
      "The product of True and True values is 1\n",
      "The product of True and False values is 0\n",
      "The product of False and True values is 0\n",
      "The product of False and False values is 0\n",
      "\n",
      "\n",
      "The value after dividing the first value with the second value is: 1.0\n",
      "The value after dividing the False value with True value is: 0.0\n",
      "\n",
      "\n",
      "The quotient value after dividing first value with second value 1\n",
      "the remainder after dividing first value with second value 0\n",
      "the result of first value to the power of second value 1\n"
     ]
    }
   ],
   "source": [
    "#Q. Arithmetic Operations on boolean data\n",
    "#Take two different boolean values.\n",
    "#Store them in two different variables.\n",
    "#Do below operations on them:-\n",
    "#Find sum of both values\n",
    "#Find difference between them\n",
    "#Find the product of both.\n",
    "#Find value after dividing first value with second value\n",
    "#Find the remainder after dividing first value with second value\n",
    "#Find the quotient after dividing first value with second value\n",
    "#Find the result of first value to the power of second value.\n",
    "\n",
    "h = 43\n",
    "i = 23\n",
    "k = 0\n",
    "l = []\n",
    "print('Sum of two True and True boolean values is:',(bool(h)+bool(i)))\n",
    "print('Sum of two True and False boolean values is:',(bool(h)+bool(k)))\n",
    "print('Sum of two False and True boolean values is:',(bool(k)+bool(i)))\n",
    "print('Sum of two false and false boolean values is:',(bool(k)+bool(l)))\n",
    "print('\\n')\n",
    "print('Difference of two True boolean values is:',(bool(h)-bool(i)))\n",
    "print('Difference of two True and False boolean values is:',(bool(h)-bool(k)))\n",
    "print('Difference of two False and True boolean values is:',(bool(k)-bool(h)))\n",
    "print('Difference of two false and false boolean values is:',(bool(k)+bool(l)))\n",
    "print('\\n')\n",
    "print('The product of True and True values is',(bool(h)*bool(i)))\n",
    "print('The product of True and False values is',(bool(h)*bool(l)))\n",
    "print('The product of False and True values is',(bool(k)*bool(h)))\n",
    "print('The product of False and False values is',bool(k)*bool(l))\n",
    "print('\\n')\n",
    "print('The value after dividing the first value with the second value is:',bool(h)/bool(i))\n",
    "print('The value after dividing the False value with True value is:',bool(l)/bool(i))\n",
    "#print('The value after dividing the True value with the False value is:',bool(h)/bool(l)) #Zerodivision error\n",
    "print('\\n')\n",
    "print('The quotient value after dividing first value with second value',bool(h)//bool(i))\n",
    "print('the remainder after dividing first value with second value',bool(h)%bool(i))\n",
    "print('the result of first value to the power of second value', pow(bool(h),bool(i)))"
   ]
  },
  {
   "cell_type": "code",
   "execution_count": 5,
   "id": "6f0d812b",
   "metadata": {},
   "outputs": [
    {
     "name": "stdout",
     "output_type": "stream",
     "text": [
      "True \n",
      " False \n",
      " True \n",
      " False\n"
     ]
    }
   ],
   "source": [
    "#Q. Comparison Operators on boolean values\n",
    "#Take two different boolean values.\n",
    "#Store them in two different variables.\n",
    "#Do below operations on them:-\n",
    "#Compare these two values with below operator:-\n",
    "#Greater than, '>'\n",
    "#less than, '<'\n",
    "#Greater than or equal to, '>='\n",
    "#Less than or equal to, '<='\n",
    "#Observe their output(return type should be boolean)\n",
    "\n",
    "x = True\n",
    "y = False\n",
    "\n",
    "print(x > y, '\\n',x < y, '\\n',x >= y,'\\n', x <= y)\n",
    "\n"
   ]
  },
  {
   "cell_type": "code",
   "execution_count": 12,
   "id": "cb609f32",
   "metadata": {},
   "outputs": [
    {
     "name": "stdout",
     "output_type": "stream",
     "text": [
      "False \n",
      " True\n"
     ]
    }
   ],
   "source": [
    "#Q. Equality Operator\n",
    "#Take two different boolean values.\n",
    "#Store them in two different variables.\n",
    "#Equate them using equality operators (==, !=)\n",
    "#Observe the output(return type should be boolean)\n",
    "\n",
    "m = []\n",
    "n = True\n",
    "\n",
    "print(m == n,'\\n',m != n)"
   ]
  },
  {
   "cell_type": "code",
   "execution_count": 7,
   "id": "c4599e01",
   "metadata": {},
   "outputs": [
    {
     "name": "stdout",
     "output_type": "stream",
     "text": [
      "True\n",
      "False\n",
      "False\n",
      "False\n",
      "True\n",
      "True\n",
      "True\n",
      "False\n",
      "False\n",
      "True\n"
     ]
    }
   ],
   "source": [
    "#Q. Logical operators\n",
    "#Observe the output of below code\n",
    "#Cross check the output manually\n",
    "\n",
    "print(True and True) #True\n",
    "print(False and True) #false\n",
    "print(True and False) #False\n",
    "print(False and False) #false\n",
    "print(True or True) #True\n",
    "print(False or True) #True\n",
    "print(True or False) #True\n",
    "print(False or False) #False\n",
    "print(not True) #false\n",
    "print(not False) #True"
   ]
  },
  {
   "cell_type": "code",
   "execution_count": 8,
   "id": "23fd1969",
   "metadata": {},
   "outputs": [
    {
     "name": "stdout",
     "output_type": "stream",
     "text": [
      "True\n",
      "True\n",
      "True\n",
      "-2\n",
      "4\n",
      "0\n"
     ]
    }
   ],
   "source": [
    "#Q. Bitwise Operators\n",
    "#Do below operations on the values provided below:-\n",
    "#Bitwise and(&) --------------> True, True -------> Output is True\n",
    "#Bitwise or(|) --------------> True, False -------> Output is True\n",
    "#Bitwise(^) --------------> True, False -------> Output is True\n",
    "#Bitwise negation(~) ---------> True -------> Output is -2\n",
    "#Bitwise left shift ---------> True,2 -------> Output is 4\n",
    "#Bitwise right shift ---------> True,2 -------> Output is 0\n",
    "#Cross check the output manually\n",
    "\n",
    "x = True\n",
    "y = False\n",
    "print(x&x)\n",
    "print(x|y)\n",
    "print(x^y)\n",
    "print(~x)\n",
    "print(x << 2)\n",
    "print(x >> 2)"
   ]
  },
  {
   "cell_type": "code",
   "execution_count": 9,
   "id": "ffabe7d5",
   "metadata": {},
   "outputs": [
    {
     "name": "stdout",
     "output_type": "stream",
     "text": [
      "True\n",
      "False\n",
      "\n",
      "\n",
      "True\n",
      "False\n"
     ]
    }
   ],
   "source": [
    "#Q. What is the output of expression inside the print statement. Cross\n",
    "#check before running the program.\n",
    "a = True\n",
    "b = True\n",
    "print(a is b) \n",
    "print(a is not b)\n",
    "\n",
    "print('\\n')\n",
    "a = False\n",
    "b = False\n",
    "print(a is b)\n",
    "print(a is not b) "
   ]
  },
  {
   "cell_type": "code",
   "execution_count": 10,
   "id": "590c3c35",
   "metadata": {},
   "outputs": [
    {
     "name": "stdout",
     "output_type": "stream",
     "text": [
      "True\n",
      "True\n",
      "True\n",
      "True\n",
      "True\n"
     ]
    }
   ],
   "source": [
    "#Q. Membership operation\n",
    "#in, not in are two membership operators and it returns boolean value\n",
    "\n",
    "print(True in [10,10.20,10+20j,'Python', True])\n",
    "print(False in (10,10.20,10+20j,'Python', False))\n",
    "print(True in {1,2,3, True})\n",
    "print(True in {True:100, False:200, True:300})\n",
    "print(False in {True:100, False:200, True:300})"
   ]
  },
  {
   "cell_type": "code",
   "execution_count": null,
   "id": "5b5b143f",
   "metadata": {},
   "outputs": [],
   "source": []
  }
 ],
 "metadata": {
  "kernelspec": {
   "display_name": "Python 3 (ipykernel)",
   "language": "python",
   "name": "python3"
  },
  "language_info": {
   "codemirror_mode": {
    "name": "ipython",
    "version": 3
   },
   "file_extension": ".py",
   "mimetype": "text/x-python",
   "name": "python",
   "nbconvert_exporter": "python",
   "pygments_lexer": "ipython3",
   "version": "3.9.12"
  }
 },
 "nbformat": 4,
 "nbformat_minor": 5
}
