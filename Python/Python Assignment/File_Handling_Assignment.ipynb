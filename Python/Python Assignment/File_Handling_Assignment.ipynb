{
 "cells": [
  {
   "cell_type": "code",
   "execution_count": 159,
   "metadata": {},
   "outputs": [
    {
     "name": "stdout",
     "output_type": "stream",
     "text": [
      "A boy is playing there.\n",
      " There is a playground.\n",
      " An aeroplane is in the sky.\n",
      " The sky is pink.\n",
      " Alphabets and numbers are allowed in the password "
     ]
    }
   ],
   "source": [
    "# Write a function in python to read the content from \n",
    "# a text file \"poem.txt\" line by line and display the same on screen.\n",
    "\n",
    "def read_poem():\n",
    "    with open('poem.txt','r')as f:\n",
    "        for x in f:\n",
    "            print(x,end = ' ')\n",
    "    \n",
    "(read_poem())"
   ]
  },
  {
   "cell_type": "code",
   "execution_count": 151,
   "metadata": {},
   "outputs": [
    {
     "data": {
      "text/plain": [
       "3"
      ]
     },
     "execution_count": 151,
     "metadata": {},
     "output_type": "execute_result"
    }
   ],
   "source": [
    "# Write a function in python to count the number of lines \n",
    "# from a text file \"story.txt\" which is not starting with an alphabet \"T\". \n",
    "\n",
    "# Example: If the file \"story.txt\" contains the following lines: \n",
    "# A boy is playing there.\n",
    "# There is a playground.\n",
    "# An aeroplane is in the sky.\n",
    "# The sky is pink.\n",
    "# Alphabets and numbers are allowed in the password.\n",
    "# The function should display the output as 3\n",
    "\n",
    "def count_lines():\n",
    "    with open('file1.txt','r') as f:\n",
    "        f1 = f.readlines()\n",
    "    count = 0\n",
    "    for x in f1:\n",
    "        if x[0][0] == 'T':\n",
    "            count +=1\n",
    "    f3 = len(f1) - count\n",
    "    return f3\n",
    "(count_lines())"
   ]
  },
  {
   "cell_type": "code",
   "execution_count": 146,
   "metadata": {},
   "outputs": [
    {
     "data": {
      "text/plain": [
       "5"
      ]
     },
     "execution_count": 146,
     "metadata": {},
     "output_type": "execute_result"
    }
   ],
   "source": [
    "# Write a function in Python to count and display the total number of words in a text file.\n",
    "\n",
    "def count_words():\n",
    "    with open('file1.txt','r') as f:\n",
    "        f1 = f.read()\n",
    "    f2 = f1.split()\n",
    "    return len(f2)\n",
    "(count_words())"
   ]
  },
  {
   "cell_type": "code",
   "execution_count": 144,
   "metadata": {},
   "outputs": [
    {
     "ename": "FileNotFoundError",
     "evalue": "[Errno 2] No such file or directory: 'notes.txt'",
     "output_type": "error",
     "traceback": [
      "\u001b[1;31m---------------------------------------------------------------------------\u001b[0m",
      "\u001b[1;31mFileNotFoundError\u001b[0m                         Traceback (most recent call last)",
      "Input \u001b[1;32mIn [144]\u001b[0m, in \u001b[0;36m<cell line: 18>\u001b[1;34m()\u001b[0m\n\u001b[0;32m     16\u001b[0m             count \u001b[38;5;241m+\u001b[39m\u001b[38;5;241m=\u001b[39m \u001b[38;5;241m1\u001b[39m\n\u001b[0;32m     17\u001b[0m     \u001b[38;5;28;01mreturn\u001b[39;00m count\n\u001b[1;32m---> 18\u001b[0m (\u001b[43mcount_the\u001b[49m\u001b[43m(\u001b[49m\u001b[43m)\u001b[49m)\n",
      "Input \u001b[1;32mIn [144]\u001b[0m, in \u001b[0;36mcount_the\u001b[1;34m()\u001b[0m\n\u001b[0;32m      9\u001b[0m \u001b[38;5;28;01mdef\u001b[39;00m \u001b[38;5;21mcount_the\u001b[39m():\n\u001b[1;32m---> 10\u001b[0m     \u001b[38;5;28;01mwith\u001b[39;00m \u001b[38;5;28;43mopen\u001b[39;49m\u001b[43m(\u001b[49m\u001b[38;5;124;43m'\u001b[39;49m\u001b[38;5;124;43mnotes.txt\u001b[39;49m\u001b[38;5;124;43m'\u001b[39;49m\u001b[43m,\u001b[49m\u001b[38;5;124;43m'\u001b[39;49m\u001b[38;5;124;43mr\u001b[39;49m\u001b[38;5;124;43m'\u001b[39;49m\u001b[43m)\u001b[49m \u001b[38;5;28;01mas\u001b[39;00m f:\n\u001b[0;32m     11\u001b[0m         f1 \u001b[38;5;241m=\u001b[39m f\u001b[38;5;241m.\u001b[39mread()\n\u001b[0;32m     12\u001b[0m     f2 \u001b[38;5;241m=\u001b[39m f1\u001b[38;5;241m.\u001b[39msplit()\n",
      "\u001b[1;31mFileNotFoundError\u001b[0m: [Errno 2] No such file or directory: 'notes.txt'"
     ]
    }
   ],
   "source": [
    "# Write a function in Python to read lines from a text file \"notes.txt\". \n",
    "# Your function should find and display the occurrence of the word \"the\".\n",
    "\n",
    "# For example: If the content of the file is:\n",
    "# \"India is the fastest-growing economy. India is looking for more investments around the globe. The whole world is looking at India as a great market. Most of the Indians can foresee the heights that India is capable of reaching.\"\n",
    "\n",
    "# The output should be 5.\n",
    "\n",
    "def count_the():\n",
    "    with open('notes.txt','r') as f:\n",
    "        f1 = f.read()\n",
    "    f2 = f1.split()\n",
    "    count = 0\n",
    "    for x in f2:\n",
    "        if x == 'the':\n",
    "            count += 1\n",
    "    return count\n",
    "(count_the())"
   ]
  },
  {
   "cell_type": "code",
   "execution_count": 139,
   "metadata": {},
   "outputs": [
    {
     "name": "stdout",
     "output_type": "stream",
     "text": [
      "in\n",
      "the\n",
      "big\n",
      "the\n",
      "all\n",
      "to\n",
      "a\n",
      "a\n",
      "to\n",
      "get\n",
      "the\n",
      "job\n",
      "by\n",
      "The\n",
      "sun\n",
      "has\n",
      "the\n",
      "is\n",
      "for\n",
      "to\n",
      "end\n",
      "So\n",
      "one\n",
      "by\n",
      "one\n",
      "go\n",
      "to\n",
      "bed\n",
      "to\n",
      "and\n",
      "up\n",
      "to\n",
      "day\n",
      "of\n",
      "to\n",
      "his\n",
      "one\n",
      "he\n",
      "the\n",
      "the\n",
      "set\n",
      "it\n",
      "on\n",
      "its\n",
      "off\n",
      "to\n",
      "He\n",
      "his\n",
      "in,\n",
      "and\n",
      "one\n",
      "he\n",
      "in\n",
      "and\n",
      ".\n",
      ".\n",
      ".\n",
      ".\n",
      ".\n",
      "up\n",
      "and\n",
      "all\n",
      "day\n",
      "his\n",
      "Now\n",
      ".\n",
      ".\n",
      ".\n",
      "and\n",
      "so\n",
      "the\n",
      "fun\n",
      "him\n",
      "one\n",
      "he\n",
      "the\n",
      "now\n",
      "to\n",
      "the\n",
      "He\n",
      "a\n",
      "up\n",
      "his\n",
      "off\n",
      "his\n",
      "He\n",
      "his\n",
      "his\n",
      "and\n",
      "of\n",
      "to\n",
      "and\n",
      "He\n",
      "big\n",
      "and\n",
      "He\n",
      "the\n",
      "to\n",
      "it\n",
      "a\n",
      "One\n",
      "on\n",
      "the\n",
      "Now\n",
      "and\n",
      "to\n",
      "He\n",
      "his\n",
      "his\n",
      "his\n",
      "He\n",
      "his\n",
      "his\n",
      "and\n",
      "his\n",
      "to\n",
      "his\n",
      "to\n",
      "the\n",
      "He\n",
      "the\n",
      "way\n",
      "to\n",
      "and\n",
      "the\n",
      "air\n",
      "No\n",
      "as\n",
      "and\n",
      "as\n",
      "he!\n",
      "But\n",
      "now\n",
      "as\n",
      "can\n",
      "be.\n",
      "He\n",
      "out\n",
      "of\n",
      "his\n",
      "off\n",
      "his\n",
      "his\n",
      "He\n",
      "his\n",
      "bed\n",
      "and\n",
      "of\n",
      "and\n",
      "the\n",
      "He\n",
      "and\n",
      "the\n",
      "But\n",
      "now\n",
      "to\n",
      "end\n",
      "his\n",
      "A\n",
      "few\n",
      "to\n",
      "dig\n",
      "and\n",
      "to\n",
      "bed\n",
      "the\n",
      "He\n",
      "his\n",
      "up\n",
      "his\n",
      "his\n",
      "He\n",
      "his\n",
      "on\n",
      "the\n",
      "and\n",
      "up\n",
      "a\n",
      "big\n",
      "so\n",
      "and\n",
      "so\n",
      "so\n",
      "and\n",
      "is\n",
      "to\n",
      "and\n",
      "off\n",
      "and\n",
      "No\n",
      "and\n",
      "to\n",
      "and\n",
      "all\n",
      "in\n",
      "The\n",
      "day\n",
      "is\n",
      "off\n",
      "the\n"
     ]
    }
   ],
   "source": [
    "# Write a function display_words() in python to read lines from a text file \"story.txt\", \n",
    "# and display those words, which are less than 4 characters.\n",
    "\n",
    "def display_words():\n",
    "    with open('STORY.txt','r')as f:\n",
    "        f1 = f.read()\n",
    "    f2 = f1.split()\n",
    "    for x in f2:\n",
    "        if len(x) < 4:\n",
    "            print(x)\n",
    "(display_words())"
   ]
  },
  {
   "cell_type": "code",
   "execution_count": 125,
   "metadata": {},
   "outputs": [
    {
     "data": {
      "text/plain": [
       "6"
      ]
     },
     "execution_count": 125,
     "metadata": {},
     "output_type": "execute_result"
    }
   ],
   "source": [
    "# Write a function in Python to count the words \"this\" and \"these\" present in a text file \"article.txt\". \n",
    "# [Note that the words \"this\" and \"these\" are complete words] \n",
    "\n",
    "def count_word():\n",
    "    with open('article.txt','r') as f:\n",
    "        f1 = f.read()\n",
    "    f2 = f1.split()\n",
    "    count = 0\n",
    "    for x in f2:\n",
    "        if x == 'this' or x == 'these':\n",
    "            count += 1\n",
    "    return count\n",
    "(count_word())\n"
   ]
  },
  {
   "cell_type": "code",
   "execution_count": 53,
   "metadata": {},
   "outputs": [
    {
     "data": {
      "text/plain": [
       "1"
      ]
     },
     "execution_count": 53,
     "metadata": {},
     "output_type": "execute_result"
    }
   ],
   "source": [
    "# Write a function in Python to count words in a text file those are ending with alphabet \"e\"\n",
    "def e_count():\n",
    "    with open('file1.txt','r') as f:\n",
    "        f1 = f.read()\n",
    "    count = 0\n",
    "    for x in f1:\n",
    "        if x[-1] == 'e':\n",
    "            count +=1\n",
    "    return count\n",
    "(e_count())"
   ]
  },
  {
   "cell_type": "code",
   "execution_count": 52,
   "metadata": {},
   "outputs": [
    {
     "data": {
      "text/plain": [
       "5"
      ]
     },
     "execution_count": 52,
     "metadata": {},
     "output_type": "execute_result"
    }
   ],
   "source": [
    "# Write a function in Python to count uppercase character in a text file.\n",
    "\n",
    "def uppercase_count():\n",
    "    with open('file1.txt','r') as f:\n",
    "        f1 = f.read()\n",
    "    count = 0\n",
    "    for x in f1:\n",
    "        if (x.isupper()):\n",
    "            count +=1\n",
    "    return count\n",
    "(uppercase_count())"
   ]
  },
  {
   "cell_type": "code",
   "execution_count": 40,
   "metadata": {},
   "outputs": [],
   "source": [
    "# A text file named \"matter.txt\" contains some text, which needs to be displayed such that \n",
    "# every next character is separated by a symbol \"#\". \n",
    "# Write a function definition for hash_display() in Python that would display \n",
    "# the entire content of the file matter.txt in the desired format.\n",
    "\n",
    "# Example :\n",
    "# If the file matter.txt has the following content stored in it :\n",
    "# THE WORLD IS ROUND\n",
    "\n",
    "# The function hash_display() should display the following content :\n",
    "# T#H#E# #W#O#R#L#D# #I#S# #R#O#U#N#D#\n",
    "\n",
    "\n",
    "def hash_display():\n",
    "    with open('matter.txt','r') as f:\n",
    "        f1 = f.read()\n",
    "#     f2 = list(f1)\n",
    "    lst = []\n",
    "    for x in f1:\n",
    "        lst.append(x)\n",
    "        lst.append('#')\n",
    "    word2 = ''.join(lst)\n",
    "    with open('matter.txt','r+') as f:\n",
    "        f.write(word2)\n",
    "(hash_display())\n",
    "\n",
    "        "
   ]
  },
  {
   "cell_type": "code",
   "execution_count": 24,
   "metadata": {},
   "outputs": [],
   "source": [
    "# Aditi has used a text editing software to type some text. After saving the article as WORDS.TXT, \n",
    "# she realised that she has wrongly typed alphabet J in place of alphabet I everywhere in the article.\n",
    "# Write a function definition for JTOI() in Python that would display the corrected version of entire content \n",
    "# of the file WORDS.TXT with all the alphabets \"J\" to be displayed as an alphabet \"I\" on screen.\n",
    "\n",
    "# Note: Assuming that WORD.TXT does not contain any J alphabet otherwise.\n",
    "\n",
    "# Example:\n",
    "# If Aditi has stored the following content in the file WORDS.TXT:\n",
    "# WELL, THJS JS A WORD BY JTSELF. YOU COULD STRETCH THJS TO BE A SENTENCE\n",
    "# The function JTOI() should display the following content:\n",
    "# WELL, THIS IS A WORD BY ITSELF. YOU COULD STRETCH THIS TO BE A SENTENCE\n",
    "\n",
    "def JTOI():\n",
    "    with open('WORDS.TXT','r') as f:\n",
    "        f1 = f.read()\n",
    "    lst = list(f1)\n",
    "    lst1 = []\n",
    "    for x in lst:\n",
    "        if x == 'J':\n",
    "            lst1.append('I')\n",
    "        else:\n",
    "            lst1.append(x)\n",
    "    str2 = ''.join(lst1)\n",
    "    with open('WORDS.TXT','r+') as f22:\n",
    "        f22.write(str2)\n",
    "(JTOI())\n",
    "        \n",
    "        \n",
    "\n"
   ]
  },
  {
   "cell_type": "code",
   "execution_count": 124,
   "metadata": {},
   "outputs": [
    {
     "name": "stdout",
     "output_type": "stream",
     "text": [
      "A and M: 177\n",
      "A or a: 135 \n",
      "M or m: 42\n"
     ]
    }
   ],
   "source": [
    "# Write a function AMCount() in Python, which should read each character of a text file STORY.TXT, \n",
    "# should count and display the occurance of alphabets A and M (including small cases a and m too).\n",
    "# For Example:\n",
    "# If the file content is as follows:\n",
    "# Updated information\n",
    "# As simplified by official websites.\n",
    "# The EUCount() function should display the output as:\n",
    "# A or a:4\n",
    "# M or m :2\n",
    "def AMCount():\n",
    "    with open('STORY.TXT','r')as f:\n",
    "        f1 = f.read()\n",
    "    count_Aa = 0\n",
    "    count_Mm = 0\n",
    "    for x in range(len(f1)):\n",
    "        if f1[x] == 'A' or f1[x] == 'a'or f1[x] == 'M' or f1[x] == 'm':\n",
    "            count_Aa +=1\n",
    "    return print('A and M:',count_Aa)\n",
    "def EUCount():\n",
    "    with open('STORY.TXT','r')as f:\n",
    "        f1 = f.read()\n",
    "    count_Aa = 0\n",
    "    count_Mm = 0\n",
    "    for x in range(len(f1)):\n",
    "        if f1[x] == 'A' or f1[x] == 'a':\n",
    "            count_Aa +=1\n",
    "        if f1[x] == 'M' or f1[x] == 'm':\n",
    "            count_Mm +=1\n",
    "    return print('A or a:',count_Aa, '\\n' 'M or m:',count_Mm)\n",
    "(AMCount())\n",
    "(EUCount())\n"
   ]
  },
  {
   "cell_type": "code",
   "execution_count": null,
   "metadata": {},
   "outputs": [],
   "source": [
    "# A binary file \"Book.dat\" has structure [BookNo, Book_Name, Author, Price].\n",
    "# i. Write a user defined function createFile() to input data for a record and add to Book.dat.\n",
    "# ii. Write a function countRec(Author) in Python which accepts the Author name as parameter \n",
    "# and count and return number of books by the given Author are stored in the binary file \"Book.dat\"\n",
    "\n",
    "def createFile():\n",
    "    with open('Book.dat','rb+') as f:\n",
    "        f1 = pickle.load(f)\n",
    "    lst = list(f1)\n",
    "    while True:\n",
    "        BookNo = int(input('Enter the Book Number: '))\n",
    "        Book_Name = input('Enter the Book Name: ')\n",
    "        Author = str(input('Enter the Author Name: ')).lower().strip().capitalize()\n",
    "        Price = int(input('Enter the Price of the Book: '))\n",
    "        Book_Data = [BookNo,Book_Name,Author,Price]\n",
    "        lst.append(Book_Data)\n",
    "        with open('Book.dat','rb+') as f2:\n",
    "            pickle.dump(lst,f2)\n",
    "        input4 = input('Do you want to add additional record: Y/N')\n",
    "        if input4 == 'N':\n",
    "            break\n",
    "def CountRec(Author):\n",
    "    with open('Book.dat','rb+') as f5:\n",
    "        f6 = pickle.load(f5)\n",
    "    count = 0\n",
    "    for x in range(len(f6)):\n",
    "        if f6[x][2] == Author:\n",
    "            count+=1\n",
    "        return count\n",
    "        \n"
   ]
  },
  {
   "cell_type": "code",
   "execution_count": null,
   "metadata": {},
   "outputs": [],
   "source": [
    "# A binary file \"STUDENT.DAT\" has structure (admission_number, Name, Percentage). \n",
    "# Write a function count_rec() in Python that would read contents of the file \"STUDENT.DAT\" \n",
    "# and display the details of those students whose percentage is above 75. \n",
    "# Also display number of students scoring above 75%\n",
    "\n",
    "def count_rec(self):\n",
    "    with open('STUDENT.DAT','rb+') as f:\n",
    "        f1 = pickle.load(f)\n",
    "    count = 0\n",
    "    for x in range(len(f1)):\n",
    "        if f1[x][2] > 75:\n",
    "            count = count + 1\n",
    "            return f1[x]\n",
    "        return count\n",
    "            "
   ]
  },
  {
   "cell_type": "code",
   "execution_count": null,
   "metadata": {},
   "outputs": [],
   "source": [
    "# Given a binary file employee.dat, created using dictionary object having keys: (empcode, name, and salary)\n",
    "\n",
    "# Write a python function that add one more record at the end of file.\n",
    "# Write a python function that display all employee records whose salary is more that 30000\n",
    "\n",
    "\n",
    "def add_record(self):\n",
    "    with open('employee.dat','rb+') as f:\n",
    "        f1 = pickle.load(f)\n",
    "    lst = list(f1)\n",
    "    while True:\n",
    "        empcode = input('Enter the Employee Code:')\n",
    "        name = input('Enter the Employee name: ').lower().strip().capitalize()\n",
    "        salary = input('Enter the Salary of the Employee: ')\n",
    "        emp_detalis = [empcode,name,salary]\n",
    "        lst.append(emp_detalis)\n",
    "        with open('employee.dat','rb+') as f3:\n",
    "            pickle.dump(lst,f3)\n",
    "        input2 = input('Do you want to add additional record: Y/N')\n",
    "        if input2 == N:\n",
    "            break\n",
    "def more_salary():\n",
    "    with open('employee.dat','rb+') as f:\n",
    "        f1 = pickle.load(f)\n",
    "    for x in range(len(f1)):\n",
    "        if f1[x][2] > 30000:\n",
    "            return f1[x]\n"
   ]
  },
  {
   "cell_type": "code",
   "execution_count": null,
   "metadata": {},
   "outputs": [],
   "source": [
    "# Write a function to search and display details of student whose rollno is '1005' \n",
    "# from the binary file student.dat having structure [rollno, name, class and fees].\n",
    "\n",
    "def student_search():\n",
    "    with open('student.dat','rb+') as f:\n",
    "        f1 = pickle.load(f)\n",
    "        for x in range(len(f1)):\n",
    "            if f1[x][1] == 1005:\n",
    "                return f1[x]\n",
    "            "
   ]
  },
  {
   "cell_type": "code",
   "execution_count": 318,
   "metadata": {},
   "outputs": [
    {
     "name": "stdout",
     "output_type": "stream",
     "text": [
      "600\n"
     ]
    }
   ],
   "source": [
    "# A binary file school.dat has structure(rollno, name, class, fees)\n",
    "\n",
    "# Write a definition for function total_fees( ) that reads each object of file and calculate \n",
    "\n",
    "def total_fees():\n",
    "    total_fees = 0\n",
    "    with open('school.dat','rb+') as f:\n",
    "        f1 = pickle.load(f)\n",
    "        for x in range(len(f1)):\n",
    "            total_fees = total_fees + f1[x][3]\n",
    "        return total_fees\n",
    "print(total_fees())"
   ]
  },
  {
   "cell_type": "code",
   "execution_count": 319,
   "metadata": {},
   "outputs": [
    {
     "name": "stdout",
     "output_type": "stream",
     "text": [
      "Enter the function you want to perform\n",
      "               1. Display all records of player name starts from 'A'\n",
      "               2. Display the count of players from the mentioned country\n",
      "               3. Add a record of the new player3\n",
      "Enter the code: 23e\n",
      "Enter the name: sfa2\n",
      "Enter the country: sdfs2\n",
      "Enter the total runs: 23f\n",
      "Do you want to add more record: Y/NN\n",
      "None\n"
     ]
    }
   ],
   "source": [
    "# A binary file players.dat, containing records of following list format: [code, name, country and total runs]\n",
    "\n",
    "# 1. Write a python function that display all records where player name starts from 'A'\n",
    "# 2. Write a python function that accept country as an argument and count and display \n",
    "#     the number of players of that country.\n",
    "# 3. Write a python function that add one record at the end of file.\n",
    "\n",
    "class player_names():\n",
    "    def add_name(self):\n",
    "        with open('players.dat','rb+') as f11:\n",
    "            f22 = pickle.load(f11)\n",
    "        lst = list(f22)\n",
    "        while True:\n",
    "            code = int(input('Enter the code: '))\n",
    "            name = str(input('Enter the name: ')).lower().strip().capitalize()\n",
    "            country = str(input('Enter the country: ')).lower().strip().capitalize()\n",
    "            total_runs = int(input('Enter the total runs: '))\n",
    "            list1 = [code,name,country,total_runs]\n",
    "            lst.append(list1)\n",
    "            with open('players.dat','rb+') as f:\n",
    "                pickle.dump(lst,f)\n",
    "            get = input('Do you want to add more record: Y/N')\n",
    "            if get == 'N':\n",
    "                break   \n",
    "    def A_Search(self):\n",
    "        with open('players.dat',\"rb+\") as f1:\n",
    "            f2 = pickle.load(f1)\n",
    "            for x in range(len(f2)):\n",
    "                if f2[x][1][0] == 'A':\n",
    "                    return f2[x]\n",
    "    def count(Country):\n",
    "        input2 = str(input('Enter the country name:')).lower().strip().capitalize()\n",
    "        with open('players.dat','rb+') as f3:\n",
    "            count = 0\n",
    "            f4 = pickle.load(f3)\n",
    "            for x in range(len(f4)):\n",
    "                if f4[x][2] == input2:\n",
    "                    count += 1\n",
    "            return count\n",
    "    \n",
    "c = player_names()\n",
    "\n",
    "input1 = int(input('''Enter the function you want to perform\n",
    "               1. Display all records of player name starts from 'A'\n",
    "               2. Display the count of players from the mentioned country\n",
    "               3. Add a record of the new player'''))\n",
    "if input1 == 1:\n",
    "    print(c.A_Search())\n",
    "elif input1 == 2:\n",
    "    print(c.count())\n",
    "elif input1 == 3:\n",
    "    print(c.add_name())   "
   ]
  },
  {
   "cell_type": "code",
   "execution_count": 320,
   "metadata": {},
   "outputs": [
    {
     "name": "stdout",
     "output_type": "stream",
     "text": [
      "8\n",
      "[[23, 'sd', 'df', 546], [111, 'seffwe', 'wer', 23], [575, 'fgfdggf', 'sesfd', 45546], [111, 'Ashish', 'India', 12], [222, 'Binoy', 'Usa', 13], [333, 'Cavin', 'Uk', 4], [444, 'Jona', 'India', 34], ['23e', 'Sfa2', 'Sdfs2', '23f']]\n"
     ]
    }
   ],
   "source": [
    "with open('players.dat','rb+')as f:\n",
    "    f1 = pickle.load(f)\n",
    "    print(len(f1))\n",
    "    print(f1)"
   ]
  },
  {
   "cell_type": "code",
   "execution_count": 35,
   "metadata": {
    "ExecuteTime": {
     "end_time": "2021-05-29T10:46:59.140338Z",
     "start_time": "2021-05-29T10:46:59.135100Z"
    }
   },
   "outputs": [],
   "source": [
    "# Given a binary file game.dat, containing records of following list format: [game_name, participants]\n",
    "\n",
    "# Write a function in Python that would read contents from the file game.dat and \n",
    "# creates a file named basket.dat copying only those records from game.dat where the game name is \"Basket Ball\"\n",
    "\n",
    "def main():\n",
    "    input_file = ('game.dat', 'rb')\n",
    "    output_file = ('basket.dat', 'wb+')\n",
    "    try:\n",
    "        record = pickle.load(input_file)\n",
    "        for x in range(len(record)):\n",
    "            if record[x] == 'Basket Ball':\n",
    "                pickle.load(record, output_file)\n",
    "    except EOFError:\n",
    "        pass\n",
    "    input_file.close()\n",
    "    output_file.close()"
   ]
  },
  {
   "cell_type": "code",
   "execution_count": 105,
   "metadata": {},
   "outputs": [
    {
     "name": "stdout",
     "output_type": "stream",
     "text": [
      "{'India': {'Chess': ['Ram', 'Vishwanath'], 'Kabadi': ['Kumar', 'Sankar']}, 'USA': {'Basketball': ['laxman', 'Barath'], 'Football': ['Messi', 'Ronaldo']}, 'Australia': {'Hockey': ['krishna', 'Dhrona'], 'Cricket': ['Dhoni', 'Kholi']}}\n"
     ]
    }
   ],
   "source": [
    "# import pickle\n",
    "# Chess = ['Ram','Vishwanath']\n",
    "# Kabadi = ['Kumar','Sankar']\n",
    "# Basketball = ['laxman','Barath']\n",
    "# Hockey = ['krishna','Dhrona']\n",
    "# Cricket = ['Dhoni','Kholi']\n",
    "# Football = ['Messi','Ronaldo']\n",
    "# India = [\"Chess\",\"Kabadi\"]\n",
    "# USA = ['Basketball','Football']\n",
    "# Australia = ['Hockey','Cricket']\n",
    "# country = [India,USA,Australia]\n",
    "\n",
    "\n",
    "\n",
    "# o1 = {'India':{'Chess':['Ram','Vishwanath'],'Kabadi':['Kumar','Sankar'],},\n",
    "#  'USA':{'Basketball':['laxman','Barath'],'Football':['Messi','Ronaldo']},\n",
    "#  'Australia':{'Hockey':['krishna','Dhrona'],'Cricket':['Dhoni','Kholi']}}\n",
    "# with open('game.dat','wb+') as f:\n",
    "#     pickle.dump(o1,f)\n",
    "# with open('game.dat','rb+') as f1:\n",
    "#     o2 = pickle.load(f1)\n",
    "#     print(o2)\n",
    " "
   ]
  },
  {
   "cell_type": "code",
   "execution_count": 261,
   "metadata": {},
   "outputs": [
    {
     "data": {
      "text/plain": [
       "{'India': {'chess': ['Ram', 'Vishwanath'], 'kabbaddi': ['Kumar', 'Sankar']}}"
      ]
     },
     "execution_count": 261,
     "metadata": {},
     "output_type": "execute_result"
    }
   ],
   "source": [
    "# {'India':dict(zip(('chess','kabbaddi'),(Chess,Kabadi)))}\n"
   ]
  }
 ],
 "metadata": {
  "kernelspec": {
   "display_name": "Python 3 (ipykernel)",
   "language": "python",
   "name": "python3"
  },
  "language_info": {
   "codemirror_mode": {
    "name": "ipython",
    "version": 3
   },
   "file_extension": ".py",
   "mimetype": "text/x-python",
   "name": "python",
   "nbconvert_exporter": "python",
   "pygments_lexer": "ipython3",
   "version": "3.9.12"
  }
 },
 "nbformat": 4,
 "nbformat_minor": 2
}
