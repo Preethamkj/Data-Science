{
 "cells": [
  {
   "cell_type": "code",
   "execution_count": null,
   "id": "2266eee8",
   "metadata": {},
   "outputs": [],
   "source": [
    "# Float Assignment"
   ]
  },
  {
   "cell_type": "code",
   "execution_count": 1,
   "id": "15e0090f",
   "metadata": {},
   "outputs": [
    {
     "name": "stdout",
     "output_type": "stream",
     "text": [
      "20.5 <class 'float'>\n"
     ]
    }
   ],
   "source": [
    "# Q. Declare a float value and store it in a variable.\n",
    "# Check the type and print the id of the same.\n",
    "\n",
    "float_var = 20.5\n",
    "print(float_var, type(float_var))\n"
   ]
  },
  {
   "cell_type": "code",
   "execution_count": 3,
   "id": "af59c93b",
   "metadata": {},
   "outputs": [
    {
     "name": "stdout",
     "output_type": "stream",
     "text": [
      "31.0\n",
      "10.0\n",
      "215.25\n",
      "1.9523809523809523\n",
      "10.0\n",
      "1.0\n",
      "59349291812224.555\n"
     ]
    }
   ],
   "source": [
    "# Q. Arithmetic Operations on float\n",
    "# Take two different float values.\n",
    "# Store them in two different variables.\n",
    "# Do below operations on them:-\n",
    "# Find sum of both numbers\n",
    "# Find difference between them\n",
    "# Find the product of both numbers.\n",
    "# Find value after dividing first num with second number\n",
    "# Find the remainder after dividing first number with second number\n",
    "# Find the quotient after dividing first number with second number\n",
    "# Find the result of the first num to the power of the second number.\n",
    "var1 = 20.5\n",
    "var2 = 10.5\n",
    "print(var1 + var2)\n",
    "print(var1 - var2)\n",
    "print(var1 * var2)\n",
    "print(var1 / var2)\n",
    "print(var1 % var2)\n",
    "print(var1 // var2)\n",
    "print(var1 ** var2)"
   ]
  },
  {
   "cell_type": "code",
   "execution_count": 4,
   "id": "bd559f54",
   "metadata": {},
   "outputs": [
    {
     "name": "stdout",
     "output_type": "stream",
     "text": [
      "True\n",
      "False\n",
      "True\n",
      "False\n"
     ]
    }
   ],
   "source": [
    "# Q. Comparison Operators on float\n",
    "# Take two different float values.\n",
    "# Store them in two different variables.\n",
    "# Do below operations on them:-\n",
    "#  Compare these two numbers with below operator:-\n",
    "#  Greater than, '>'\n",
    "#  Smaller than, '<'\n",
    "#  Greater than or equal to, '>='\n",
    "#  Less than or equal to, '<='\n",
    "# Observe their output(return type should be boolean)\n",
    "\n",
    "var1 = 20.5\n",
    "var2 = 10.5\n",
    "print(var1 > var2)\n",
    "print(var1 < var2)\n",
    "print(var1 >= var2)\n",
    "print(var1 <= var2)\n",
    "\n"
   ]
  },
  {
   "cell_type": "code",
   "execution_count": 5,
   "id": "70916638",
   "metadata": {},
   "outputs": [
    {
     "name": "stdout",
     "output_type": "stream",
     "text": [
      "False\n",
      "True\n"
     ]
    }
   ],
   "source": [
    "# Q. Equality Operator\n",
    "# Take two different float values.\n",
    "# Store them in two different variables.\n",
    "# Equate them using equality operators (==, !=)\n",
    "# Observe the output(return type should be boolean)\n",
    "var1 = 20.5\n",
    "var2 = 10.5\n",
    "print(var1 == var2)\n",
    "print(var1 != var2)\n",
    "\n"
   ]
  },
  {
   "cell_type": "code",
   "execution_count": 15,
   "id": "c139f2c4",
   "metadata": {},
   "outputs": [
    {
     "name": "stdout",
     "output_type": "stream",
     "text": [
      "20.3\n",
      "0.0\n",
      "0.0\n",
      "0.0\n",
      "10.2\n",
      "20.3\n",
      "20.3\n",
      "0.0\n",
      "False\n",
      "True\n"
     ]
    }
   ],
   "source": [
    "# Q. Logical operators\n",
    "# Observe the output of below code\n",
    "# Cross check the output manually\n",
    "print(10.20 and 20.30) #both are true and second value taken\n",
    "# >Output is 20.3\n",
    "print(0.0 and 20.30) #First is false so first value\n",
    "# taken->Output is 0.0\n",
    "print(20.30 and 0.0) #Goes to till second and second value is\n",
    "# false so second is taken>Output is 0.0\n",
    "print(0.0 and 0.0) #First is false so first value is\n",
    "# taken->Output is 0.0\n",
    "print(10.20 or 20.30) #First is True so first value is\n",
    "# taken>Output is 10.2\n",
    "print(0.0 or 20.30) #Goes to till second and second is true\n",
    "# second value is taken->Output is 20.3\n",
    "print(20.30 or 0.0) #First is True so first value is\n",
    "# taken->Output is 20.3\n",
    "print(0.0 or 0.0) #Goes to till second and second is also\n",
    "# false and second value is taken>Output is 0.0\n",
    "print(not 10.20) #-Not of true is false->Output is False\n",
    "print(not 0.0) #Not of false is True>Output is True\n"
   ]
  },
  {
   "cell_type": "code",
   "execution_count": 22,
   "id": "21529a0d",
   "metadata": {},
   "outputs": [
    {
     "name": "stdout",
     "output_type": "stream",
     "text": [
      "False\n",
      "True\n"
     ]
    }
   ],
   "source": [
    "# Q. What is the output of expression inside print statement. Cross check\n",
    "# before running the program.\n",
    "a = 10.5\n",
    "b = 10.5\n",
    "print(a is b) #True or False? True 10.20<256 #ONLY INT VALUES ARE INITIALISED NOT FLOAT VALUES HENCE FALSE.\n",
    "print(a is not b) #True or False? False\n",
    "# Why the Id of float values are different when the same value is\n",
    "# assigned to two different variables\n",
    "# ex: a = 10.5 b=10.5. but id will be same if I assign the variable\n",
    "# having float i.e. a=c then both a and c's Id are same"
   ]
  },
  {
   "cell_type": "code",
   "execution_count": null,
   "id": "afdcca29",
   "metadata": {},
   "outputs": [],
   "source": [
    "# Q. Bitwise operation is not applicable between instances of float.\n",
    "# Why the Id of float values are different when the same value is\n",
    "# assigned to two different variables\n",
    "# ex: a = 10.5 b=10.5. but id will be same if I assign the variable\n",
    "# having float i.e. a=c then both a and c's Id are same\n",
    "# Object reusability concept is not applicable on float values."
   ]
  }
 ],
 "metadata": {
  "kernelspec": {
   "display_name": "Python 3 (ipykernel)",
   "language": "python",
   "name": "python3"
  },
  "language_info": {
   "codemirror_mode": {
    "name": "ipython",
    "version": 3
   },
   "file_extension": ".py",
   "mimetype": "text/x-python",
   "name": "python",
   "nbconvert_exporter": "python",
   "pygments_lexer": "ipython3",
   "version": "3.9.12"
  }
 },
 "nbformat": 4,
 "nbformat_minor": 5
}
