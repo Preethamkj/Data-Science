{
 "cells": [
  {
   "cell_type": "code",
   "execution_count": null,
   "id": "b7d10361",
   "metadata": {},
   "outputs": [],
   "source": [
    "# Loops and control statement assignment"
   ]
  },
  {
   "cell_type": "code",
   "execution_count": 1,
   "id": "29f1d42f",
   "metadata": {},
   "outputs": [
    {
     "name": "stdout",
     "output_type": "stream",
     "text": [
      "Enter the number in the range of 0 to 9:\n",
      "4\n",
      "Four\n"
     ]
    }
   ],
   "source": [
    "# Q. W. A P. which takes one number from 0 to 9 from the user and prints\n",
    "# it in the word. And if the word is not from 0 to 9 then\n",
    "# it should print that number is outside of the range and program should\n",
    "# exit.\n",
    "# For exapmple:-\n",
    "# input = 1\n",
    "# output = one\n",
    "\n",
    "def number(num):\n",
    "    num1 = {1:'One',2:'Two',3:'Three',4:'Four',5:'Five',6:'Six',7:'Seven',8:'Eight',9:'Nine',0:'Zero'}\n",
    "    return (num1.get(num))\n",
    "\n",
    "num = int(input('Enter the number in the range of 0 to 9:\\n'))\n",
    "if num in range(9):\n",
    "    print(number(num))\n",
    "else:\n",
    "    print('Number out of Range')\n"
   ]
  },
  {
   "cell_type": "code",
   "execution_count": 2,
   "id": "7f236835",
   "metadata": {},
   "outputs": [
    {
     "name": "stdout",
     "output_type": "stream",
     "text": [
      "Enter the number1:3\n",
      "Enter the number2:4\n",
      "Please select any one operation from below:- \n",
      "                  * To add enter 1\n",
      "                  * to subtract enter 2\n",
      "                  * To multiply enter 3\n",
      "                  * To divide enter 4\n",
      "                  * To divide and find quotient enter 5\n",
      "                  * To divide and find remainder enter 6\n",
      "                  * To divide and find num1 to the power of num2 enter 7\n",
      "                  * To Come out of the program enter 8 \n",
      "1\n",
      "7\n"
     ]
    }
   ],
   "source": [
    "# Q. W. A P. to implement calculator but the operation to be done and two\n",
    "# numbers will be taken as input from user:-\n",
    "# Operation console should show below:-\n",
    "#  Please select any one operation from below:-\n",
    "#  * To add enter 1\n",
    "#  * to subtract enter 2\n",
    "#  * To multiply enter 3\n",
    "#  * To divide enter 4\n",
    "#  * To divide and find quotient enter 5\n",
    "#  * To divide and find remainder enter 6\n",
    "#  * To divide and find num1 to the power of num2 enter 7\n",
    "#  * To Come out of the program enter 8\n",
    "num1 = int(input('Enter the number1:'))\n",
    "num2 = int(input('Enter the number2:'))\n",
    "operation = int(input('''Please select any one operation from below:- \n",
    "                  * To add enter 1\n",
    "                  * to subtract enter 2\n",
    "                  * To multiply enter 3\n",
    "                  * To divide enter 4\n",
    "                  * To divide and find quotient enter 5\n",
    "                  * To divide and find remainder enter 6\n",
    "                  * To divide and find num1 to the power of num2 enter 7\n",
    "                  * To Come out of the program enter 8 \\n'''))\n",
    "add = num1 + num2\n",
    "Sub = num1 - num2\n",
    "multiply = num1 * num2\n",
    "divide = num1/num2\n",
    "Quotient = num1//num2\n",
    "Remainder = num1%num2\n",
    "exponent = num1**num2\n",
    "\n",
    "\n",
    "calculator = {1:add, 2:Sub, 3:multiply, 4:divide, 5:Quotient, 6:Remainder, 7:exponent}\n",
    "if operation in range(7):\n",
    "    print(calculator.get(operation))\n",
    "elif operation == 8: \n",
    "    False\n",
    "    \n",
    "    "
   ]
  },
  {
   "cell_type": "code",
   "execution_count": 3,
   "id": "4ce7e864",
   "metadata": {},
   "outputs": [
    {
     "name": "stdout",
     "output_type": "stream",
     "text": [
      "Enter the year to check for Leap Year or not:\t1994\n",
      "Not a leap year\n"
     ]
    }
   ],
   "source": [
    "# Q. W A P to check whether a year entered by user is an leap year or not?\n",
    "# Check with below input:-\n",
    "#  leap year:- 2012, 1968, 2004, 1200, 1600,2400\n",
    "#  Non-lear year:- 1971, 2006, 1700,1800,1900\n",
    "\n",
    "year = int(input('Enter the year to check for Leap Year or not:\\t'))\n",
    "\n",
    "if (year%4) != 0:\n",
    "    print('Not a leap year')\n",
    "elif (year%100) ==0 and (year%400) != 0:\n",
    "    print('Not a leap year')\n",
    "else:\n",
    "    print('It is a leap year')"
   ]
  },
  {
   "cell_type": "code",
   "execution_count": 4,
   "id": "99d7755c",
   "metadata": {},
   "outputs": [
    {
     "name": "stdout",
     "output_type": "stream",
     "text": [
      "Enter the number to check for Even or Odd: 4\n",
      "The number is an Even Number\n"
     ]
    }
   ],
   "source": [
    "# Q. W A P which takes one number from the user and checks whether it is\n",
    "# an even or odd number?, If it even then prints number is\n",
    "# even number else prints that number is odd number.\n",
    "num = int(input('Enter the number to check for Even or Odd: '))\n",
    "if (num%2) ==0:\n",
    "    print('The number is an Even Number')\n",
    "else:\n",
    "    print('The number is an Odd Number')"
   ]
  },
  {
   "cell_type": "code",
   "execution_count": 5,
   "id": "f87fd96d",
   "metadata": {},
   "outputs": [
    {
     "name": "stdout",
     "output_type": "stream",
     "text": [
      "Enter the number1:  23\n",
      "Enter the number2:  43\n",
      "43 is the greatest\n"
     ]
    }
   ],
   "source": [
    "# Q. W A P which takes two numbers from the user and prints below output:-\n",
    "#  1. num1 is greater than num2 if num1 is greater than num2\n",
    "#  2. num1 is smaller than num2 if num1 is smaller than num2\n",
    "#  3. num1 is equal to num2 if num1 and num2 are equal\n",
    "\n",
    "num1 = int(input('Enter the number1:  '))\n",
    "num2 = int(input('Enter the number2:  '))\n",
    "if num1 > num2:\n",
    "    print(num1,'is the greatest')\n",
    "elif num1 == num2:\n",
    "    print('Both are equal')\n",
    "else:\n",
    "    print(num2,'is the greatest')"
   ]
  },
  {
   "cell_type": "code",
   "execution_count": 6,
   "id": "e0ce85d7",
   "metadata": {},
   "outputs": [
    {
     "name": "stdout",
     "output_type": "stream",
     "text": [
      "Enter the number1: 23\n",
      "Enter the number2: 45\n",
      "Enter the number3: 21\n",
      "45 is the greatest\n"
     ]
    }
   ],
   "source": [
    "# Q. W A P which takes three numbers from the user and prints below\n",
    "# output:-\n",
    "#  1. num1 is greater than num2 and num3 if num1 is greater than num2\n",
    "# and num3\n",
    "#  2. num2 is greater than num1 and num3 if num2 is greater than num1\n",
    "# and num3\n",
    "#  3. num3 is greater than num1 and num2 if num3 is greater than num1\n",
    "# and num2\n",
    "# Note:- 1. Do this problem using if - elif - else\n",
    "#  2. Do this using ternary operator\n",
    "# a = a if a>b else b\n",
    "# Loops - for loop, while loop\n",
    "num1 = int(input('Enter the number1: '))\n",
    "num2 = int(input('Enter the number2: '))\n",
    "num3 = int(input('Enter the number3: '))\n",
    "if num1 > num2:\n",
    "    if num1 > num3:\n",
    "        print(num1, 'is the greatest')\n",
    "elif num2 > num1:\n",
    "    if num2 > num3:\n",
    "        print(num2, 'is the greatest')\n",
    "    else:\n",
    "        print(num3, 'is the greatest')"
   ]
  },
  {
   "cell_type": "code",
   "execution_count": 7,
   "id": "a39673c5",
   "metadata": {},
   "outputs": [
    {
     "name": "stdout",
     "output_type": "stream",
     "text": [
      "55\n"
     ]
    }
   ],
   "source": [
    "# Q. Write a Python program to find the length of the my_str using loop:-\n",
    "# Input:- 'Write a Python program to find the length of the my_str'\n",
    "# Output:- 55\n",
    "input1 = 'Write a Python program to find the length of the my_str'\n",
    "c = 0\n",
    "for x in range(len(input1)):\n",
    "    c += 1\n",
    "print(c)"
   ]
  },
  {
   "cell_type": "code",
   "execution_count": 8,
   "id": "d38f65a9",
   "metadata": {},
   "outputs": [
    {
     "name": "stdout",
     "output_type": "stream",
     "text": [
      "9\n"
     ]
    }
   ],
   "source": [
    "# Q. Write a Python program to find the total number of times letter 'p'\n",
    "# is appeared in the below string using loop:-\n",
    "# Input:- 'peter piper picked a peck of pickled peppers.\\n'\n",
    "# Output:- 9\n",
    "\n",
    "input1 = 'peter piper picked a peck of pickled peppers.\\n'\n",
    "c = 0\n",
    "for x in range(len(input1)):\n",
    "    if input1[x] == 'p':\n",
    "        c +=1\n",
    "print(c)\n"
   ]
  },
  {
   "cell_type": "code",
   "execution_count": 9,
   "id": "1e5f4925",
   "metadata": {},
   "outputs": [
    {
     "name": "stdout",
     "output_type": "stream",
     "text": [
      "0\n",
      "6\n",
      "8\n",
      "12\n",
      "21\n",
      "29\n",
      "37\n",
      "39\n",
      "40\n"
     ]
    }
   ],
   "source": [
    "# Q. Write a Python Program, to print all the indexes of all occurences of\n",
    "# letter 'p' appeared in the string using loop:-\n",
    "# Input:- 'peter piper picked a peck of pickled peppers.'\n",
    "# Output:-\n",
    "# 0\n",
    "# 6\n",
    "# 8\n",
    "# 12\n",
    "# 21\n",
    "# 29\n",
    "# 37\n",
    "# 39\n",
    "# 40\n",
    "input1 = 'peter piper picked a peck of pickled peppers.'\n",
    "for x in range(len(input1)):\n",
    "    if input1[x] == 'p':\n",
    "        print(x)"
   ]
  },
  {
   "cell_type": "code",
   "execution_count": 10,
   "id": "df91307c",
   "metadata": {},
   "outputs": [
    {
     "name": "stdout",
     "output_type": "stream",
     "text": [
      "['peter', 'piper', 'picked', 'a', 'peck', 'of', 'pickled', 'peppers.']\n"
     ]
    }
   ],
   "source": [
    "# Q. Write a python program to find below output using loop:-\n",
    "# Input:- 'peter piper picked a peck of pickled peppers.'\n",
    "# Output:- ['peter', 'piper', 'picked', 'a', 'peck', 'of', 'pickled',\n",
    "# 'peppers']\n",
    "input1 = 'peter piper picked a peck of pickled peppers.'\n",
    "for word in [input1.split()]:\n",
    "    print(list(word))\n",
    " "
   ]
  },
  {
   "cell_type": "code",
   "execution_count": 11,
   "id": "4b4bd058",
   "metadata": {},
   "outputs": [
    {
     "name": "stdout",
     "output_type": "stream",
     "text": [
      "peppers. pickled of peck a picked piper peter "
     ]
    }
   ],
   "source": [
    "# Q. Write a python program to find below output using loop:-\n",
    "# Input:- 'peter piper picked a peck of pickled peppers.'\n",
    "# Output:- 'peppers pickled of peck a picked piper peter'\n",
    "c = []\n",
    "input1 = 'peter piper picked a peck of pickled peppers.'\n",
    "for word in input1.split():\n",
    "    c.append(word)\n",
    "c.reverse()\n",
    "for x in c:\n",
    "    print(x,end=\" \")\n",
    "    "
   ]
  },
  {
   "cell_type": "code",
   "execution_count": 12,
   "id": "3b42253d",
   "metadata": {},
   "outputs": [
    {
     "name": "stdout",
     "output_type": "stream",
     "text": [
      ".sreppep delkcip fo kcep a dekcip repip retep"
     ]
    }
   ],
   "source": [
    "# Q. Write a python program to find below output using loop:-\n",
    "# Input:- 'peter piper picked a peck of pickled peppers.'\n",
    "# Output:- '.sreppep delkcip fo kcep a dekcip repip retep'\n",
    "input1 = 'peter piper picked a peck of pickled peppers.'\n",
    "for x in input1[::-1]:\n",
    "    print(x,end='')"
   ]
  },
  {
   "cell_type": "code",
   "execution_count": 13,
   "id": "c0dba537",
   "metadata": {},
   "outputs": [
    {
     "name": "stdout",
     "output_type": "stream",
     "text": [
      "retep repip dekcip a kcep fo delkcip .sreppep "
     ]
    }
   ],
   "source": [
    "# Q. Write a python program to find below output using loop:-\n",
    "# Input:- 'peter piper picked a peck of pickled peppers.'\n",
    "# Output:- 'retep repip dekcip a kcep fo delkcip sreppep'\n",
    "\n",
    "input1 = 'peter piper picked a peck of pickled peppers.'\n",
    "for x in input1.split():\n",
    "    print(''.join(x[::-1]),end = ' ')"
   ]
  },
  {
   "cell_type": "code",
   "execution_count": 14,
   "id": "f9856524",
   "metadata": {},
   "outputs": [
    {
     "name": "stdout",
     "output_type": "stream",
     "text": [
      "Peter Piper Picked A Peck Of Pickled Peppers. "
     ]
    }
   ],
   "source": [
    "# Q. Write a python program to find below output using loop:-\n",
    "# Input:- 'peter piper picked a peck of pickled peppers.'\n",
    "# Output:- 'Peter Piper Picked A Peck Of Pickled Peppers'\n",
    "\n",
    "input1 = 'peter piper picked a peck of pickled peppers.'\n",
    "for x in input1.title().split():\n",
    "    print(''.join(x),end = ' ')"
   ]
  },
  {
   "cell_type": "code",
   "execution_count": 15,
   "id": "80642b2b",
   "metadata": {},
   "outputs": [
    {
     "name": "stdout",
     "output_type": "stream",
     "text": [
      "Peter piper picked a peck of pickled peppers. "
     ]
    }
   ],
   "source": [
    "# Q. Write a python program to find below output using loop:-\n",
    "# Input:- 'Peter Piper Picked A Peck Of Pickled Peppers.'\n",
    "# Output:- 'Peter piper picked a peck of pickled peppers'\n",
    "\n",
    "input1 = 'peter piper picked a peck of pickled peppers.'\n",
    "for x in input1.capitalize().split():\n",
    "    print(''.join(x),end = ' ')\n"
   ]
  },
  {
   "cell_type": "code",
   "execution_count": 16,
   "id": "d1828ef2",
   "metadata": {},
   "outputs": [
    {
     "name": "stdout",
     "output_type": "stream",
     "text": [
      "29\n"
     ]
    }
   ],
   "source": [
    "# Q. Write a python program to implement index method using loop. If\n",
    "# sub_str is found in my_str then it will print the index\n",
    "# of first occurrence of first character of matching string in my_str:-\n",
    "# Input:- my_str = 'Peter Piper Picked A Peck Of Pickled Peppers.',\n",
    "# sub_str = 'Pickl'\n",
    "# Output:- 29\n",
    "input1 = 'Peter Piper Picked A Peck Of Pickled Peppers.'\n",
    "sub_str = 'Pickl'\n",
    "print(input1.index(sub_str))\n"
   ]
  },
  {
   "cell_type": "code",
   "execution_count": 23,
   "id": "7dc258cc",
   "metadata": {},
   "outputs": [
    {
     "name": "stdout",
     "output_type": "stream",
     "text": [
      "Peter Piper Picked A Pack Of Pickled Peppers.\n"
     ]
    }
   ],
   "source": [
    "# Q. Write a python program to implement replace method using loop. If\n",
    "# sub_str is found in my_str then it will replace the first\n",
    "# occurrence of sub_str with new_str else it will will print sub_str not\n",
    "# found:-\n",
    "# Input:- my_str = 'Peter Piper Picked A Peck Of Pickled Peppers.',\n",
    "# sub_str = 'Peck', new_str = 'Pack'\n",
    "# Output:- 'Peter Piper Picked A Pack Of Pickled Peppers.'\n",
    "\n",
    "my_str = 'Peter Piper Picked A Peck Of Pickled Peppers.'    \n",
    "sub_str = 'Peck'\n",
    "new_str = 'Pack'\n",
    "\n",
    "for x in my_str.split():\n",
    "    if x == sub_str:\n",
    "        c = my_str.replace(sub_str,new_str)\n",
    "        break\n",
    "print(c)"
   ]
  },
  {
   "cell_type": "code",
   "execution_count": 31,
   "id": "f7ed68d6",
   "metadata": {},
   "outputs": [
    {
     "name": "stdout",
     "output_type": "stream",
     "text": [
      "*****************Peck************************\n"
     ]
    }
   ],
   "source": [
    "# Q. Write a python program to find below output (implements rjust and\n",
    "# ljust) using loop:-\n",
    "# Input:- 'Peter Piper Picked A Peck Of Pickled Peppers.', sub_str =\n",
    "# 'Peck',\n",
    "# Output:- '*********************Peck********************'\n",
    "\n",
    "# sub_str.rjust(input_str.find(sub_str),'*').ljust(len(input_str),'*')\n",
    "\n",
    "input1 = 'Peter Piper Picked A Peck Of Pickled Peppers.'\n",
    "sub_str = 'Peck'\n",
    "\n",
    "for x in input1.split():\n",
    "    c = sub_str.rjust(input1.find(sub_str),'*').ljust(len(input1),'*')\n",
    "print(c)\n",
    "    "
   ]
  },
  {
   "cell_type": "code",
   "execution_count": 62,
   "id": "d911ef8d",
   "metadata": {},
   "outputs": [
    {
     "name": "stdout",
     "output_type": "stream",
     "text": [
      "['This', ' is', ' Python class']\n"
     ]
    }
   ],
   "source": [
    "# Q. Write a python program to find below output using loop:-\n",
    "# Input:- 'This is Python class', sep = ' is',\n",
    "# Output:- ['This', 'is', 'Python class']\n",
    "\n",
    "input1 = 'This is Python class' \n",
    "sep = ' is'\n",
    "for x in input1.split():\n",
    "    c = input1.split(sep = sep)\n",
    "    c.insert(1,sep)\n",
    "print(c)\n"
   ]
  },
  {
   "cell_type": "code",
   "execution_count": null,
   "id": "afbc5f76",
   "metadata": {},
   "outputs": [],
   "source": []
  }
 ],
 "metadata": {
  "kernelspec": {
   "display_name": "Python 3 (ipykernel)",
   "language": "python",
   "name": "python3"
  },
  "language_info": {
   "codemirror_mode": {
    "name": "ipython",
    "version": 3
   },
   "file_extension": ".py",
   "mimetype": "text/x-python",
   "name": "python",
   "nbconvert_exporter": "python",
   "pygments_lexer": "ipython3",
   "version": "3.9.12"
  }
 },
 "nbformat": 4,
 "nbformat_minor": 5
}
