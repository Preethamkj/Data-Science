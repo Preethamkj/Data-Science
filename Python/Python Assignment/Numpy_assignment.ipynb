{
 "cells": [
  {
   "cell_type": "code",
   "execution_count": 2,
   "id": "6517212e",
   "metadata": {},
   "outputs": [
    {
     "name": "stdout",
     "output_type": "stream",
     "text": [
      "[1 2 3 4 5 6 7 8 9]\n"
     ]
    }
   ],
   "source": [
    "#  Python NumPy Questions:\n",
    "# Python NumPy (Array, Random, Math):\n",
    "#  Write a Python program to print the NumPy\n",
    "# version in your system.\n",
    "\n",
    "import numpy as np\n",
    "arr1 = np.arange(1,10)\n",
    "print(arr1)"
   ]
  },
  {
   "cell_type": "code",
   "execution_count": 3,
   "id": "39fee815",
   "metadata": {},
   "outputs": [
    {
     "name": "stdout",
     "output_type": "stream",
     "text": [
      "[1 2 3 4 5 6 7 8 9]\n",
      "[9 8 7 6 5 4 3 2 1]\n"
     ]
    }
   ],
   "source": [
    "#  Write a Python program to reverse an array\n",
    "# (first element becomes last).\n",
    "print(arr1)\n",
    "arr2 = arr1[::-1]\n",
    "print(arr2)"
   ]
  },
  {
   "cell_type": "code",
   "execution_count": 4,
   "id": "6a94525f",
   "metadata": {},
   "outputs": [
    {
     "name": "stdout",
     "output_type": "stream",
     "text": [
      "[0 1 2 3 4 5 6 7 8 9] \n",
      " [ 5  6  7  8  9 10 11 12 13 14 15 16 17 18 19]\n"
     ]
    }
   ],
   "source": [
    "#  Write a Python program to convert a list and\n",
    "# tuple into arrays.\n",
    "lst1 = list(range(10))\n",
    "tup1 = tuple(range(5,20))\n",
    "arr1 = np.array(lst1)\n",
    "arr2 = np.array(tup1)\n",
    "print(arr1, '\\n',arr2)"
   ]
  },
  {
   "cell_type": "code",
   "execution_count": 5,
   "id": "51992084",
   "metadata": {},
   "outputs": [
    {
     "name": "stdout",
     "output_type": "stream",
     "text": [
      "[]\n"
     ]
    }
   ],
   "source": [
    "#  Write a Python program to find common values\n",
    "# between two arrays.\n",
    "\n",
    "arr1 = np.arange(10)\n",
    "arr2 = np.arange(11,21)\n",
    "arr3 = np.intersect1d(arr1,arr2)\n",
    "print(arr3)"
   ]
  },
  {
   "cell_type": "code",
   "execution_count": 12,
   "id": "14a759da",
   "metadata": {},
   "outputs": [
    {
     "name": "stdout",
     "output_type": "stream",
     "text": [
      "['ALLOW_THREADS', 'AxisError', 'BUFSIZE', 'Bytes0', 'CLIP', 'ComplexWarning', 'DataSource', 'Datetime64', 'ERR_CALL', 'ERR_DEFAULT', 'ERR_IGNORE', 'ERR_LOG', 'ERR_PRINT', 'ERR_RAISE', 'ERR_WARN', 'FLOATING_POINT_SUPPORT', 'FPE_DIVIDEBYZERO', 'FPE_INVALID', 'FPE_OVERFLOW', 'FPE_UNDERFLOW', 'False_', 'Inf', 'Infinity', 'MAXDIMS', 'MAY_SHARE_BOUNDS', 'MAY_SHARE_EXACT', 'MachAr', 'ModuleDeprecationWarning', 'NAN', 'NINF', 'NZERO', 'NaN', 'PINF', 'PZERO', 'RAISE', 'RankWarning', 'SHIFT_DIVIDEBYZERO', 'SHIFT_INVALID', 'SHIFT_OVERFLOW', 'SHIFT_UNDERFLOW', 'ScalarType', 'Str0', 'Tester', 'TooHardError', 'True_', 'UFUNC_BUFSIZE_DEFAULT', 'UFUNC_PYVALS_NAME', 'Uint64', 'VisibleDeprecationWarning', 'WRAP', '_NoValue', '_UFUNC_API', '__NUMPY_SETUP__', '__all__', '__builtins__', '__cached__', '__config__', '__deprecated_attrs__', '__dir__', '__doc__', '__expired_functions__', '__file__', '__getattr__', '__git_version__', '__loader__', '__mkl_version__', '__name__', '__package__', '__path__', '__spec__', '__version__', '_add_newdoc_ufunc', '_distributor_init', '_financial_names', '_globals', '_mat', '_pytesttester', '_version', 'abs', 'absolute', 'add', 'add_docstring', 'add_newdoc', 'add_newdoc_ufunc', 'alen', 'all', 'allclose', 'alltrue', 'amax', 'amin', 'angle', 'any', 'append', 'apply_along_axis', 'apply_over_axes', 'arange', 'arccos', 'arccosh', 'arcsin', 'arcsinh', 'arctan', 'arctan2', 'arctanh', 'argmax', 'argmin', 'argpartition', 'argsort', 'argwhere', 'around', 'array', 'array2string', 'array_equal', 'array_equiv', 'array_repr', 'array_split', 'array_str', 'asanyarray', 'asarray', 'asarray_chkfinite', 'ascontiguousarray', 'asfarray', 'asfortranarray', 'asmatrix', 'asscalar', 'atleast_1d', 'atleast_2d', 'atleast_3d', 'average', 'bartlett', 'base_repr', 'binary_repr', 'bincount', 'bitwise_and', 'bitwise_not', 'bitwise_or', 'bitwise_xor', 'blackman', 'block', 'bmat', 'bool8', 'bool_', 'broadcast', 'broadcast_arrays', 'broadcast_shapes', 'broadcast_to', 'busday_count', 'busday_offset', 'busdaycalendar', 'byte', 'byte_bounds', 'bytes0', 'bytes_', 'c_', 'can_cast', 'cast', 'cbrt', 'cdouble', 'ceil', 'cfloat', 'char', 'character', 'chararray', 'choose', 'clip', 'clongdouble', 'clongfloat', 'column_stack', 'common_type', 'compare_chararrays', 'compat', 'complex128', 'complex64', 'complex_', 'complexfloating', 'compress', 'concatenate', 'conj', 'conjugate', 'convolve', 'copy', 'copysign', 'copyto', 'core', 'corrcoef', 'correlate', 'cos', 'cosh', 'count_nonzero', 'cov', 'cross', 'csingle', 'ctypeslib', 'cumprod', 'cumproduct', 'cumsum', 'datetime64', 'datetime_as_string', 'datetime_data', 'deg2rad', 'degrees', 'delete', 'deprecate', 'deprecate_with_doc', 'diag', 'diag_indices', 'diag_indices_from', 'diagflat', 'diagonal', 'diff', 'digitize', 'disp', 'divide', 'divmod', 'dot', 'double', 'dsplit', 'dstack', 'dtype', 'e', 'ediff1d', 'einsum', 'einsum_path', 'emath', 'empty', 'empty_like', 'equal', 'errstate', 'euler_gamma', 'exp', 'exp2', 'expand_dims', 'expm1', 'extract', 'eye', 'fabs', 'fastCopyAndTranspose', 'fft', 'fill_diagonal', 'find_common_type', 'finfo', 'fix', 'flatiter', 'flatnonzero', 'flexible', 'flip', 'fliplr', 'flipud', 'float16', 'float32', 'float64', 'float_', 'float_power', 'floating', 'floor', 'floor_divide', 'fmax', 'fmin', 'fmod', 'format_float_positional', 'format_float_scientific', 'format_parser', 'frexp', 'frombuffer', 'fromfile', 'fromfunction', 'fromiter', 'frompyfunc', 'fromregex', 'fromstring', 'full', 'full_like', 'gcd', 'generic', 'genfromtxt', 'geomspace', 'get_array_wrap', 'get_include', 'get_printoptions', 'getbufsize', 'geterr', 'geterrcall', 'geterrobj', 'gradient', 'greater', 'greater_equal', 'half', 'hamming', 'hanning', 'heaviside', 'histogram', 'histogram2d', 'histogram_bin_edges', 'histogramdd', 'hsplit', 'hstack', 'hypot', 'i0', 'identity', 'iinfo', 'imag', 'in1d', 'index_exp', 'indices', 'inexact', 'inf', 'info', 'infty', 'inner', 'insert', 'int0', 'int16', 'int32', 'int64', 'int8', 'int_', 'intc', 'integer', 'interp', 'intersect1d', 'intp', 'invert', 'is_busday', 'isclose', 'iscomplex', 'iscomplexobj', 'isfinite', 'isfortran', 'isin', 'isinf', 'isnan', 'isnat', 'isneginf', 'isposinf', 'isreal', 'isrealobj', 'isscalar', 'issctype', 'issubclass_', 'issubdtype', 'issubsctype', 'iterable', 'ix_', 'kaiser', 'kron', 'lcm', 'ldexp', 'left_shift', 'less', 'less_equal', 'lexsort', 'lib', 'linalg', 'linspace', 'little_endian', 'load', 'loads', 'loadtxt', 'log', 'log10', 'log1p', 'log2', 'logaddexp', 'logaddexp2', 'logical_and', 'logical_not', 'logical_or', 'logical_xor', 'logspace', 'longcomplex', 'longdouble', 'longfloat', 'longlong', 'lookfor', 'ma', 'mafromtxt', 'mask_indices', 'mat', 'math', 'matmul', 'matrix', 'matrixlib', 'max', 'maximum', 'maximum_sctype', 'may_share_memory', 'mean', 'median', 'memmap', 'meshgrid', 'mgrid', 'min', 'min_scalar_type', 'minimum', 'mintypecode', 'mkl', 'mod', 'modf', 'moveaxis', 'msort', 'multiply', 'nan', 'nan_to_num', 'nanargmax', 'nanargmin', 'nancumprod', 'nancumsum', 'nanmax', 'nanmean', 'nanmedian', 'nanmin', 'nanpercentile', 'nanprod', 'nanquantile', 'nanstd', 'nansum', 'nanvar', 'nbytes', 'ndarray', 'ndenumerate', 'ndfromtxt', 'ndim', 'ndindex', 'nditer', 'negative', 'nested_iters', 'newaxis', 'nextafter', 'nonzero', 'not_equal', 'numarray', 'number', 'obj2sctype', 'object0', 'object_', 'ogrid', 'oldnumeric', 'ones', 'ones_like', 'os', 'outer', 'packbits', 'pad', 'partition', 'percentile', 'pi', 'piecewise', 'place', 'poly', 'poly1d', 'polyadd', 'polyder', 'polydiv', 'polyfit', 'polyint', 'polymul', 'polynomial', 'polysub', 'polyval', 'positive', 'power', 'printoptions', 'prod', 'product', 'promote_types', 'ptp', 'put', 'put_along_axis', 'putmask', 'quantile', 'r_', 'rad2deg', 'radians', 'random', 'ravel', 'ravel_multi_index', 'real', 'real_if_close', 'rec', 'recarray', 'recfromcsv', 'recfromtxt', 'reciprocal', 'record', 'remainder', 'repeat', 'require', 'reshape', 'resize', 'result_type', 'right_shift', 'rint', 'roll', 'rollaxis', 'roots', 'rot90', 'round', 'round_', 'row_stack', 's_', 'safe_eval', 'save', 'savetxt', 'savez', 'savez_compressed', 'sctype2char', 'sctypeDict', 'sctypes', 'searchsorted', 'select', 'set_numeric_ops', 'set_printoptions', 'set_string_function', 'setbufsize', 'setdiff1d', 'seterr', 'seterrcall', 'seterrobj', 'setxor1d', 'shape', 'shares_memory', 'short', 'show_config', 'sign', 'signbit', 'signedinteger', 'sin', 'sinc', 'single', 'singlecomplex', 'sinh', 'size', 'sometrue', 'sort', 'sort_complex', 'source', 'spacing', 'split', 'sqrt', 'square', 'squeeze', 'stack', 'std', 'str0', 'str_', 'string_', 'subtract', 'sum', 'swapaxes', 'sys', 'take', 'take_along_axis', 'tan', 'tanh', 'tensordot', 'test', 'testing', 'tile', 'timedelta64', 'trace', 'tracemalloc_domain', 'transpose', 'trapz', 'tri', 'tril', 'tril_indices', 'tril_indices_from', 'trim_zeros', 'triu', 'triu_indices', 'triu_indices_from', 'true_divide', 'trunc', 'typecodes', 'typename', 'ubyte', 'ufunc', 'uint', 'uint0', 'uint16', 'uint32', 'uint64', 'uint8', 'uintc', 'uintp', 'ulonglong', 'unicode_', 'union1d', 'unique', 'unpackbits', 'unravel_index', 'unsignedinteger', 'unwrap', 'use_hugepage', 'ushort', 'vander', 'var', 'vdot', 'vectorize', 'version', 'void', 'void0', 'vsplit', 'vstack', 'warnings', 'where', 'who', 'zeros', 'zeros_like']\n"
     ]
    }
   ],
   "source": [
    "print(dir(np))"
   ]
  },
  {
   "cell_type": "code",
   "execution_count": 6,
   "id": "fc81b449",
   "metadata": {},
   "outputs": [
    {
     "name": "stdout",
     "output_type": "stream",
     "text": [
      "False\n",
      "False\n"
     ]
    }
   ],
   "source": [
    "#  Write a Python program compare two arrays\n",
    "# using numpy.\n",
    "\n",
    "print(np.array_equiv(arr1,arr2))\n",
    "print(np.array_equal(arr1,arr2))"
   ]
  },
  {
   "cell_type": "code",
   "execution_count": 7,
   "id": "8706c988",
   "metadata": {},
   "outputs": [
    {
     "name": "stdout",
     "output_type": "stream",
     "text": [
      "[ 0  1  2  3  4  5  6  7  8  9 10 11 12 13 14 15 16 17 18 19]\n",
      "(20,)\n",
      "(4, 5)\n",
      "[[ 0  1  2  3  4]\n",
      " [ 5  6  7  8  9]\n",
      " [10 11 12 13 14]\n",
      " [15 16 17 18 19]]\n"
     ]
    }
   ],
   "source": [
    "#  Write a Python program to change the\n",
    "# dimension of an array.\n",
    "arr1 = np.arange(20)\n",
    "print(arr1)\n",
    "print(np.shape(arr1))\n",
    "arr1.shape = (4,5)\n",
    "print(np.shape(arr1))\n",
    "print(arr1)"
   ]
  },
  {
   "cell_type": "code",
   "execution_count": 9,
   "id": "fb248b77",
   "metadata": {},
   "outputs": [
    {
     "name": "stdout",
     "output_type": "stream",
     "text": [
      "2318\n"
     ]
    }
   ],
   "source": [
    "#  Write a Python program (using numpy) to sum\n",
    "# of all the multiples of 3 or 5 below 100.\n",
    "c = []\n",
    "for x in range(1,100):\n",
    "    if (x%3==0 or x%5==0):\n",
    "        c.append(x)\n",
    "c_array = np.array(c)\n",
    "sum_array = np.sum(c_array)\n",
    "print(sum_array)\n"
   ]
  },
  {
   "cell_type": "code",
   "execution_count": 10,
   "id": "eff375ef",
   "metadata": {},
   "outputs": [
    {
     "name": "stdout",
     "output_type": "stream",
     "text": [
      "[ 3  5  6  9 10 12 15 18 20 21 24 25 27 30 33 35 36 39 40 42 45 48 50 51\n",
      " 54 55 57 60 63 65 66 69 70 72 75 78 80 81 84 85 87 90 93 95 96 99]\n",
      "[3, 5, 6, 9, 10, 12, 15, 18, 20, 21, 24, 25, 27, 30, 33, 35, 36, 39, 40, 42, 45, 48, 50, 51, 54, 55, 57, 60, 63, 65, 66, 69, 70, 72, 75, 78, 80, 81, 84, 85, 87, 90, 93, 95, 96, 99]\n"
     ]
    }
   ],
   "source": [
    "#  Write a Python program to convert a NumPy\n",
    "# array into Python list structure.\n",
    "print(c_array)\n",
    "lst2 = list(c_array)\n",
    "print(lst2)"
   ]
  },
  {
   "cell_type": "code",
   "execution_count": 11,
   "id": "a4d7c53f",
   "metadata": {},
   "outputs": [
    {
     "name": "stdout",
     "output_type": "stream",
     "text": [
      "[[[1 1]\n",
      "  [5 4]\n",
      "  [8 7]\n",
      "  [6 6]]\n",
      "\n",
      " [[3 2]\n",
      "  [5 9]\n",
      "  [4 5]\n",
      "  [6 9]]\n",
      "\n",
      " [[8 2]\n",
      "  [3 9]\n",
      "  [5 1]\n",
      "  [9 4]]]\n",
      "After adding extra column:\n",
      "[[[1 1 5]\n",
      "  [4 8 7]]\n",
      "\n",
      " [[6 6 3]\n",
      "  [2 5 9]]\n",
      "\n",
      " [[4 5 6]\n",
      "  [9 8 2]]\n",
      "\n",
      " [[3 9 5]\n",
      "  [1 9 4]]]\n"
     ]
    }
   ],
   "source": [
    "#  Write a Python program to how to add an extra\n",
    "# column to a numpy array.\n",
    "np_array = np.random.randint(1,10,24).reshape(3,4,2)\n",
    "print(np_array)\n",
    "print('After adding extra column:')\n",
    "np_array_modified = np_array.reshape(4,2,3)\n",
    "print(np_array_modified)\n",
    "\n"
   ]
  },
  {
   "cell_type": "code",
   "execution_count": 12,
   "id": "91023dea",
   "metadata": {},
   "outputs": [
    {
     "name": "stdout",
     "output_type": "stream",
     "text": [
      "True\n",
      "False\n"
     ]
    }
   ],
   "source": [
    "# Write a Python program to check whether the numpy array is empty or not.\n",
    "np_array = np.random.randint(1,10,24).reshape(3,4,2)\n",
    "np_array1 = np.array([])\n",
    "print(np_array.any())\n",
    "print(np_array1.any())"
   ]
  },
  {
   "cell_type": "code",
   "execution_count": 13,
   "id": "25408af5",
   "metadata": {},
   "outputs": [
    {
     "name": "stdout",
     "output_type": "stream",
     "text": [
      "[[0.7711134  0.20480662 0.92347915]\n",
      " [0.93172791 0.00469707 0.92990391]\n",
      " [0.09028328 0.58220905 0.01993398]]\n",
      "[[0.82674308 0.21586072 0.99110195]\n",
      " [1.         0.         0.99803242]\n",
      " [0.09232293 0.62296955 0.01643625]]\n"
     ]
    }
   ],
   "source": [
    "#  Write a Python program to normalize a 3x3\n",
    "# random matrix.\n",
    "\n",
    "r3x3_matrix = np.random.random(9).reshape(3,3)\n",
    "print(r3x3_matrix)\n",
    "m_min,m_max = r3x3_matrix.min(),r3x3_matrix.max()\n",
    "r3x3_matrix= (r3x3_matrix-m_min)/(m_max - m_min)\n",
    "print(r3x3_matrix)"
   ]
  },
  {
   "cell_type": "code",
   "execution_count": 31,
   "id": "913e8752",
   "metadata": {},
   "outputs": [
    {
     "data": {
      "text/plain": [
       "array([0.4967398 , 0.49658271, 0.48506595, 0.49326182, 0.41365721,\n",
       "       0.45919962, 0.57663164, 0.41761967, 0.43470346, 0.46690826])"
      ]
     },
     "execution_count": 31,
     "metadata": {},
     "output_type": "execute_result"
    }
   ],
   "source": [
    "#  How to ignore all numpy warnings (not\n",
    "# recommended)?\n",
    "\n",
    "data = np.random.random(1000).reshape(10, 10,10)\n",
    "np.seterr(all=\"ignore\")\n",
    "np.nanmedian(data, axis=[1, 2])"
   ]
  },
  {
   "cell_type": "code",
   "execution_count": 43,
   "id": "be68f815",
   "metadata": {},
   "outputs": [
    {
     "name": "stdout",
     "output_type": "stream",
     "text": [
      "[[1 2 3 4]\n",
      " [4 3 2 1]\n",
      " [3 4 5 6]\n",
      " [4 3 2 5]]\n",
      "[[1 2 3 4]\n",
      " [3 4 5 6]\n",
      " [4 3 2 1]\n",
      " [4 3 2 5]]\n"
     ]
    }
   ],
   "source": [
    "#  How to swap two rows of an array?\n",
    "import numpy as np\n",
    "np_array = np.array([[1,2,3,4],[4,3,2,1],[3,4,5,6],[4,3,2,5]])\n",
    "print(np_array)\n",
    "np_array[[1,2]] = np_array[[2,1]]\n",
    "print(np_array)\n"
   ]
  },
  {
   "cell_type": "code",
   "execution_count": null,
   "id": "f19942b1",
   "metadata": {},
   "outputs": [],
   "source": [
    " Compute bootstrapped 95% confidence\n",
    "intervals for the mean of a 1D array X (i.e.,\n",
    "resample the elements of an array with\n",
    "replacement N times, compute the mean of\n",
    "each sample, and then compute percentiles\n",
    "over the means)."
   ]
  },
  {
   "cell_type": "code",
   "execution_count": 45,
   "id": "7b5d5a3e",
   "metadata": {},
   "outputs": [
    {
     "name": "stdout",
     "output_type": "stream",
     "text": [
      "[0.26475442 0.27806851 0.71348468 0.87066881 0.78942853 0.28645707\n",
      " 0.54199401 0.82269204 0.76654743 0.06025203]\n",
      "[0.06025203 0.26475442 0.27806851 0.28645707 0.54199401 0.71348468\n",
      " 0.76654743 0.78942853 0.82269204 0.87066881]\n"
     ]
    }
   ],
   "source": [
    "#  Python program to create a random vector of\n",
    "# size 10 and sort it.\n",
    "\n",
    "random_array = np.random.random(10)\n",
    "print(random_array)\n",
    "sort_array = np.sort(random_array)\n",
    "print(sort_array)"
   ]
  },
  {
   "cell_type": "code",
   "execution_count": 50,
   "id": "2ef26e7f",
   "metadata": {},
   "outputs": [
    {
     "name": "stdout",
     "output_type": "stream",
     "text": [
      "[0.78128683 0.89586125 0.32240399 0.8817937  0.12887263 0.46015429\n",
      " 0.86830701 0.5017858  0.63509734 0.61210004 0.46090966 0.02811338\n",
      " 0.89067923 0.89743336 0.16989706 0.27625388 0.98564535 0.10879776\n",
      " 0.89142173 0.54747887]\n",
      "[0.664209   0.98767939 0.62735538 0.57310764 0.47789756 0.87212933\n",
      " 0.12308512 0.50050497 0.0496165  0.21589424 0.53569392 0.86779252\n",
      " 0.15031649 0.67465984 0.4626461  0.34225073 0.66863272 0.80352187\n",
      " 0.09817628 0.69545232 0.50884022 0.4902907  0.25284496]\n",
      "False\n"
     ]
    }
   ],
   "source": [
    "#   Write a Python program to check two random\n",
    "# arrays are equal or not.\n",
    "\n",
    "random_array1 = np.random.random(20)\n",
    "random_array2 = np.random.random(23)\n",
    "print(random_array1)\n",
    "print(random_array2)\n",
    "print(np.array_equal(random_array1,random_array2))"
   ]
  },
  {
   "cell_type": "code",
   "execution_count": 64,
   "id": "cacd44e7",
   "metadata": {},
   "outputs": [
    {
     "name": "stdout",
     "output_type": "stream",
     "text": [
      "[[[8 4 4 5]\n",
      "  [6 7 6 1]]\n",
      "\n",
      " [[8 4 9 2]\n",
      "  [4 6 2 8]]\n",
      "\n",
      " [[8 2 6 9]\n",
      "  [5 9 1 9]]] \n",
      " _____________________________________________________________________________________________________________________________ [[[4 7 9 9]\n",
      "  [8 2 4 5]]\n",
      "\n",
      " [[5 3 2 1]\n",
      "  [5 9 7 1]]\n",
      "\n",
      " [[5 4 3 1]\n",
      "  [2 6 7 7]]] \n",
      " _____________________________________________________________________________________________________________________________\n",
      "Sum of array: \n",
      " [[[12 11 13 14]\n",
      "  [14  9 10  6]]\n",
      "\n",
      " [[13  7 11  3]\n",
      "  [ 9 15  9  9]]\n",
      "\n",
      " [[13  6  9 10]\n",
      "  [ 7 15  8 16]]] _____________________________________________________________________________________________________________________________\n",
      "Difference of array: \n",
      " [[[ 4 -3 -5 -4]\n",
      "  [-2  5  2 -4]]\n",
      "\n",
      " [[ 3  1  7  1]\n",
      "  [-1 -3 -5  7]]\n",
      "\n",
      " [[ 3 -2  3  8]\n",
      "  [ 3  3 -6  2]]] _____________________________________________________________________________________________________________________________\n",
      "Product of array: \n",
      " [[[32 28 36 45]\n",
      "  [48 14 24  5]]\n",
      "\n",
      " [[40 12 18  2]\n",
      "  [20 54 14  8]]\n",
      "\n",
      " [[40  8 18  9]\n",
      "  [10 54  7 63]]] _____________________________________________________________________________________________________________________________\n",
      "Quotient of array: \n",
      " [[[2.         0.57142857 0.44444444 0.55555556]\n",
      "  [0.75       3.5        1.5        0.2       ]]\n",
      "\n",
      " [[1.6        1.33333333 4.5        2.        ]\n",
      "  [0.8        0.66666667 0.28571429 8.        ]]\n",
      "\n",
      " [[1.6        0.5        2.         9.        ]\n",
      "  [2.5        1.5        0.14285714 1.28571429]]] _____________________________________________________________________________________________________________________________\n"
     ]
    }
   ],
   "source": [
    "#  Write a Python program to add, subtract,\n",
    "# multiply, divide arguments element-wise.\n",
    "array1 = np.random.randint(1,10,24).reshape(3,2,4)\n",
    "array2 = np.random.randint(1,10,24).reshape(3,2,4)\n",
    "print(array1, '\\n','_'*125, array2,'\\n','_'*125)\n",
    "print('Sum of array:','\\n', array1 +array2,'_'*125)\n",
    "print('Difference of array:','\\n', array1 - array2,'_'*125)\n",
    "print('Product of array:','\\n', array1 * array2,'_'*125)\n",
    "print('Quotient of array:','\\n', array1 / array2,'_'*125)\n"
   ]
  },
  {
   "cell_type": "code",
   "execution_count": 68,
   "id": "6df8f466",
   "metadata": {},
   "outputs": [
    {
     "name": "stdout",
     "output_type": "stream",
     "text": [
      "Yestraday:  2022-08-23\n",
      "Today:  2022-08-24\n",
      "Tomorrow:  2022-08-25\n"
     ]
    }
   ],
   "source": [
    "#  Write a Python program to get the dates of\n",
    "# yesterday, today and tomorrow.\n",
    "yesterday = np.datetime64('today', 'D') - np.timedelta64(1, 'D')\n",
    "print(\"Yestraday: \",yesterday)\n",
    "today     = np.datetime64('today', 'D')\n",
    "print(\"Today: \",today)\n",
    "tomorrow  = np.datetime64('today', 'D') + np.timedelta64(1, 'D')\n",
    "print(\"Tomorrow: \",tomorrow)"
   ]
  },
  {
   "cell_type": "code",
   "execution_count": null,
   "id": "172ff39a",
   "metadata": {},
   "outputs": [],
   "source": []
  },
  {
   "cell_type": "code",
   "execution_count": null,
   "id": "6c5fcff9",
   "metadata": {},
   "outputs": [],
   "source": []
  }
 ],
 "metadata": {
  "kernelspec": {
   "display_name": "Python 3 (ipykernel)",
   "language": "python",
   "name": "python3"
  },
  "language_info": {
   "codemirror_mode": {
    "name": "ipython",
    "version": 3
   },
   "file_extension": ".py",
   "mimetype": "text/x-python",
   "name": "python",
   "nbconvert_exporter": "python",
   "pygments_lexer": "ipython3",
   "version": "3.9.12"
  }
 },
 "nbformat": 4,
 "nbformat_minor": 5
}
