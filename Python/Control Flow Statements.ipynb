{
 "cells": [
  {
   "cell_type": "markdown",
   "id": "9fd9456b",
   "metadata": {},
   "source": [
    "### Control Flow Statements"
   ]
  },
  {
   "cell_type": "code",
   "execution_count": null,
   "id": "b26a51e4",
   "metadata": {},
   "outputs": [],
   "source": [
    "# Control Flow is the order in which a program executes. Control flow statements are the statements in Python that control\n",
    "# the order of execution ('flow') of your program. The logic for what the next step is, what should the program do on\n",
    "# encountering certain conditions and whether the steps are to be repeated and how often make up the bulk of the flow logic. "
   ]
  },
  {
   "cell_type": "code",
   "execution_count": null,
   "id": "ebb951a7",
   "metadata": {},
   "outputs": [],
   "source": [
    "# There are three types of control flow statements\n",
    "\n",
    "#1. Sequential - Simply the sequence in which code will be executed and is always from top to bottom. The logic of the \n",
    "# program should be written such that steps to be taken are written in their expected execution order.\n",
    "#2. Decision control statements - Conditional statements - if elif else statements. \n",
    "#3. Repetion - How many times or until which point should a set of code (one or multiple lines) be run. Loops\n",
    "\n",
    "# To assist in control flow, we use break, continue & pass statements along with loops. \n",
    "# We also use try / except blocks (called exception handling) to mitigate the effect of exceptions being raised during\n",
    "# the running of our program."
   ]
  },
  {
   "cell_type": "markdown",
   "id": "c1cd8372",
   "metadata": {},
   "source": [
    "### 1. Sequential"
   ]
  },
  {
   "cell_type": "code",
   "execution_count": null,
   "id": "c0d4668a",
   "metadata": {},
   "outputs": [],
   "source": [
    "a = 10\n",
    "b = 20\n",
    "c = a+b\n",
    "\n",
    "print(c)"
   ]
  },
  {
   "cell_type": "code",
   "execution_count": null,
   "id": "42ded852",
   "metadata": {},
   "outputs": [],
   "source": [
    "# The above is simply sequential flow. To get the value of c, we have to define a and b and only then can we display(print)\n",
    "# the value of c. We could define b before a without breaking our program or simply print(a+b) if we did not need to store\n",
    "# the value c without breaking our program. But not defining either a or b breaks the sequence of the program and renders\n",
    "# the program unusable. "
   ]
  },
  {
   "cell_type": "markdown",
   "id": "62ca3173",
   "metadata": {},
   "source": [
    "### 2. Decision control - Conditional statements - if / elif / else"
   ]
  },
  {
   "cell_type": "code",
   "execution_count": null,
   "id": "265f999e",
   "metadata": {},
   "outputs": [],
   "source": [
    "#Conditional statements are meant to manipulate the flow of the program when and whether to execute a set of code."
   ]
  },
  {
   "cell_type": "code",
   "execution_count": 1,
   "id": "bbcd045a",
   "metadata": {},
   "outputs": [
    {
     "name": "stdout",
     "output_type": "stream",
     "text": [
      "Execute\n"
     ]
    }
   ],
   "source": [
    "#The if statement\n",
    "\n",
    "# The if statement is used to check if a given condition(or conditions) are true. If true, then the indented block of code\n",
    "# after the if statement is executed. \n",
    "\n",
    "# The syntax is:\n",
    "# if <condition>:\n",
    "    #<Code to be executed>\n",
    "    # Infinite lines can be written in this block but indentation for the flow logic has to be maintained.\n",
    "\n",
    "num = 1\n",
    "\n",
    "if num <=1:\n",
    "    print('Execute')"
   ]
  },
  {
   "cell_type": "code",
   "execution_count": 2,
   "id": "e9384471",
   "metadata": {},
   "outputs": [
    {
     "name": "stdout",
     "output_type": "stream",
     "text": [
      "Execute\n"
     ]
    }
   ],
   "source": [
    "#They can be used in conjunction with logical operators\n",
    "\n",
    "if num <=1 and num >0:\n",
    "    print('Execute')"
   ]
  },
  {
   "cell_type": "code",
   "execution_count": 3,
   "id": "51b10194",
   "metadata": {},
   "outputs": [],
   "source": [
    "num = -1\n",
    "\n",
    "if num <=1 and num >0:\n",
    "    print('Execute')"
   ]
  },
  {
   "cell_type": "code",
   "execution_count": null,
   "id": "a02e51b7",
   "metadata": {},
   "outputs": [],
   "source": [
    "#Note how the if block was not at all executed since the 2nd condition of the and statement was not satisfied. "
   ]
  },
  {
   "cell_type": "code",
   "execution_count": 4,
   "id": "838b7d17",
   "metadata": {},
   "outputs": [
    {
     "name": "stdout",
     "output_type": "stream",
     "text": [
      "Number is less than one\n",
      "Number multiplied by 5 is 5.\n"
     ]
    }
   ],
   "source": [
    "num = 1\n",
    "\n",
    "if num <= 1 or num > 0:\n",
    "    print('Number is less than one')\n",
    "    print(f'Number multiplied by 5 is {num*5}.')"
   ]
  },
  {
   "cell_type": "code",
   "execution_count": null,
   "id": "587b24a1",
   "metadata": {},
   "outputs": [],
   "source": [
    "# We can have multiple lines of code after the if condition (infinite - as much as program logic dictates)."
   ]
  },
  {
   "cell_type": "code",
   "execution_count": 5,
   "id": "3f8c57bc",
   "metadata": {},
   "outputs": [
    {
     "name": "stdout",
     "output_type": "stream",
     "text": [
      "Number is less than one\n",
      "It is a positive number\n"
     ]
    }
   ],
   "source": [
    "# We can have nested if conditions.\n",
    "\n",
    "num = 1\n",
    "\n",
    "if num <=1:\n",
    "    print('Number is less than one')\n",
    "    if num > 0:\n",
    "        print('It is a positive number')"
   ]
  },
  {
   "cell_type": "code",
   "execution_count": 6,
   "id": "ea507de1",
   "metadata": {},
   "outputs": [
    {
     "name": "stdout",
     "output_type": "stream",
     "text": [
      "Number is less than one\n"
     ]
    }
   ],
   "source": [
    "num = -1\n",
    "\n",
    "if num <=1:\n",
    "    print('Number is less than one')\n",
    "    if num > 0:\n",
    "        print('It is a positive number')"
   ]
  },
  {
   "cell_type": "code",
   "execution_count": null,
   "id": "9b391aef",
   "metadata": {},
   "outputs": [],
   "source": [
    "#Note how the second if block was not executed since the 2nd if condition was not met. "
   ]
  },
  {
   "cell_type": "code",
   "execution_count": null,
   "id": "ed29da1b",
   "metadata": {},
   "outputs": [],
   "source": [
    "#The indented block after the if statement (which ends with a colon) is called a suite(of that if statement).\n",
    "\n",
    "# if num <=1:\n",
    "#     print('Number is less than one') # Suite of 1st if condition\n",
    "#     if num > 0: #Suite of 1st if condition\n",
    "#         print('It is a positive number') # Suite of 1st and 2nd if condition. "
   ]
  },
  {
   "cell_type": "code",
   "execution_count": 2,
   "id": "b637497f",
   "metadata": {},
   "outputs": [
    {
     "name": "stdout",
     "output_type": "stream",
     "text": [
      "Number less than 1\n",
      "Number less than 2\n"
     ]
    }
   ],
   "source": [
    "# We can have a second if condition to check if the first if condition is not satisfied. Note how this is different from\n",
    "# a nested if condition. In a nested if - the nested if condition is only checked if the outer if condition is met / is \n",
    "# True. In an elif statement, the elif statement(s) is/are checked in sequence only when the if condition of that \n",
    "# if-elif-else block is not met / is false.\n",
    "\n",
    "num = 1\n",
    "\n",
    "if num <=1:\n",
    "    print('Number less than 1')\n",
    "    if num <= 2:\n",
    "        print('Number less than 2')"
   ]
  },
  {
   "cell_type": "code",
   "execution_count": null,
   "id": "d96106bb",
   "metadata": {},
   "outputs": [],
   "source": [
    "#Note how the inner if condition is also met by number and both statements are printed. "
   ]
  },
  {
   "cell_type": "code",
   "execution_count": 3,
   "id": "154effc7",
   "metadata": {},
   "outputs": [
    {
     "name": "stdout",
     "output_type": "stream",
     "text": [
      "Number less than 1\n",
      "Number less than 2\n"
     ]
    }
   ],
   "source": [
    "num = 1\n",
    "\n",
    "if num <= 1:\n",
    "    print('Number less than 1')\n",
    "if num <=2:\n",
    "    print('Number less than 2')\n",
    "    \n"
   ]
  },
  {
   "cell_type": "code",
   "execution_count": 1,
   "id": "e74f7656",
   "metadata": {},
   "outputs": [
    {
     "name": "stdout",
     "output_type": "stream",
     "text": [
      "Number less than 1\n"
     ]
    }
   ],
   "source": [
    "num = 1\n",
    "\n",
    "if num <= 1:\n",
    "    print('Number less than 1')\n",
    "elif num <=2:\n",
    "    print('Number less than 2')\n",
    "    \n"
   ]
  },
  {
   "cell_type": "code",
   "execution_count": null,
   "id": "bcb98d23",
   "metadata": {},
   "outputs": [],
   "source": [
    "#Note how the elif condition is not entered since the if condition was already satisfied. "
   ]
  },
  {
   "cell_type": "code",
   "execution_count": null,
   "id": "7daf24db",
   "metadata": {},
   "outputs": [],
   "source": [
    "num = 2\n",
    "\n",
    "if num <= 1:\n",
    "    print('Number less than 1')\n",
    "elif num <=2:\n",
    "    print('Number less than 2')"
   ]
  },
  {
   "cell_type": "code",
   "execution_count": null,
   "id": "b446108f",
   "metadata": {},
   "outputs": [],
   "source": [
    "# Note here how the elif condition is only entered after the if condition is not met/is false. "
   ]
  },
  {
   "cell_type": "code",
   "execution_count": 1,
   "id": "1f3a1554",
   "metadata": {},
   "outputs": [
    {
     "name": "stdout",
     "output_type": "stream",
     "text": [
      "Number less than 5\n"
     ]
    }
   ],
   "source": [
    "# We can have multiple elif conditions in an if-elif-else block. \n",
    "\n",
    "num = 5\n",
    "\n",
    "if num <= 1:\n",
    "    print('Number less than 1')\n",
    "elif num <= 2:\n",
    "    print('Number less than 2')\n",
    "elif num <= 3:\n",
    "    print('Number less than 3')\n",
    "elif num <= 4:\n",
    "    print('Number less than 4')\n",
    "elif num <= 5:\n",
    "    print('Number less than 5')"
   ]
  },
  {
   "cell_type": "code",
   "execution_count": null,
   "id": "fcf2b854",
   "metadata": {},
   "outputs": [],
   "source": [
    "#Note how all the if elif statements are skipped because their conditions are not satisfied - till the last elif statement\n",
    "# which was satisfied and the elif block was entered. "
   ]
  },
  {
   "cell_type": "code",
   "execution_count": 2,
   "id": "79d01939",
   "metadata": {},
   "outputs": [
    {
     "name": "stdout",
     "output_type": "stream",
     "text": [
      "Number less than 5\n"
     ]
    }
   ],
   "source": [
    "num = 5\n",
    "\n",
    "if num <= 1:\n",
    "    print('Number less than 1')\n",
    "elif num <= 2:\n",
    "    print('Number less than 2')\n",
    "elif num <= 3:\n",
    "    print('Number less than 3')\n",
    "elif num <= 4:\n",
    "    print('Number less than 4')\n",
    "elif num <= 5:\n",
    "    print('Number less than 5')\n",
    "else:\n",
    "    print('Number more than 5')"
   ]
  },
  {
   "cell_type": "code",
   "execution_count": null,
   "id": "deeb42c6",
   "metadata": {},
   "outputs": [],
   "source": [
    "#Note, as long as one of the if or elif conditions is met, we do not enter the else block. \n",
    "\n",
    "num = 60\n",
    "\n",
    "if num <= 1:\n",
    "    print('Number less than 1')\n",
    "elif num <= 2:\n",
    "    print('Number less than 2')\n",
    "elif num <= 3:\n",
    "    print('Number less than 3')\n",
    "elif num <= 4:\n",
    "    print('Number less than 4')\n",
    "elif num <= 5:\n",
    "    print('Number less than 5')\n",
    "else:\n",
    "    print('Number more than 5')"
   ]
  },
  {
   "cell_type": "code",
   "execution_count": 3,
   "id": "39d6ad8b",
   "metadata": {},
   "outputs": [
    {
     "ename": "SyntaxError",
     "evalue": "invalid syntax (<ipython-input-3-d144618eeb4f>, line 21)",
     "output_type": "error",
     "traceback": [
      "\u001b[1;36m  File \u001b[1;32m\"<ipython-input-3-d144618eeb4f>\"\u001b[1;36m, line \u001b[1;32m21\u001b[0m\n\u001b[1;33m    else num > 5:\u001b[0m\n\u001b[1;37m         ^\u001b[0m\n\u001b[1;31mSyntaxError\u001b[0m\u001b[1;31m:\u001b[0m invalid syntax\n"
     ]
    }
   ],
   "source": [
    "#The else statement is a catch-all - if none of the if or elif conditions are met only then does the else block get\n",
    "# executed. \n",
    "\n",
    "#Do carefully note the difference in syntax betwee if / elif and else. In the if and elif statements - we are giving the\n",
    "# conditions to be satisified on the same line as the if and elif statements - before the colon. However, since the else\n",
    "# is a catch all - and there is NO CONDITION TO BE EVALUATED - there is no expression after the else keyword and directly\n",
    "# a colon. If there IS a condition to be evaluated then you need an if or elif but not an else. \n",
    "\n",
    "num = 60\n",
    "\n",
    "if num <= 1:\n",
    "    print('Number less than 1')\n",
    "elif num <= 2:\n",
    "    print('Number less than 2')\n",
    "elif num <= 3:\n",
    "    print('Number less than 3')\n",
    "elif num <= 4:\n",
    "    print('Number less than 4')\n",
    "elif num <= 5:\n",
    "    print('Number less than 5')\n",
    "else num > 5:\n",
    "    print('Number more than 5') "
   ]
  },
  {
   "cell_type": "code",
   "execution_count": null,
   "id": "fea7d231",
   "metadata": {},
   "outputs": [],
   "source": [
    "# We can only have one if and else statement in one if -elif - else block. This does not count nested if - elif - else\n",
    "# blocks which are another set of conditional statements with their own count. We can have multiple elif statements. \n",
    "\n",
    "# if statement - Single\n",
    "    #Nested if - elif - else - Single if, Single Else, Multiple elifs - OPTIONAL \n",
    "# elif statements - multiple - (Optional)\n",
    "    #Nested if - elif - else - Single if, Single Else, Multiple elifs - OPTIONAL\n",
    "# else statement - Single - (Optional)\n",
    "    #Nested if - elif - else - Single if, Single Else, Multiple elifs - OPTIONAL"
   ]
  },
  {
   "cell_type": "code",
   "execution_count": 4,
   "id": "5b798073",
   "metadata": {},
   "outputs": [
    {
     "ename": "SyntaxError",
     "evalue": "invalid syntax (<ipython-input-4-8a958c913b4c>, line 6)",
     "output_type": "error",
     "traceback": [
      "\u001b[1;36m  File \u001b[1;32m\"<ipython-input-4-8a958c913b4c>\"\u001b[1;36m, line \u001b[1;32m6\u001b[0m\n\u001b[1;33m    elif num == 1:\u001b[0m\n\u001b[1;37m    ^\u001b[0m\n\u001b[1;31mSyntaxError\u001b[0m\u001b[1;31m:\u001b[0m invalid syntax\n"
     ]
    }
   ],
   "source": [
    "# If statements can exist without elif or else statements depending on the program logic. However, elif and else cannot\n",
    "# exist without the if statement. Elif and Else can also exist without each other(examples of which we have already seen) \n",
    "\n",
    "num = 1\n",
    "\n",
    "elif num == 1:\n",
    "    print('Number is less than 1')"
   ]
  },
  {
   "cell_type": "code",
   "execution_count": 5,
   "id": "969b7b6b",
   "metadata": {},
   "outputs": [
    {
     "ename": "SyntaxError",
     "evalue": "invalid syntax (<ipython-input-5-6a08fbbeca89>, line 3)",
     "output_type": "error",
     "traceback": [
      "\u001b[1;36m  File \u001b[1;32m\"<ipython-input-5-6a08fbbeca89>\"\u001b[1;36m, line \u001b[1;32m3\u001b[0m\n\u001b[1;33m    else:\u001b[0m\n\u001b[1;37m    ^\u001b[0m\n\u001b[1;31mSyntaxError\u001b[0m\u001b[1;31m:\u001b[0m invalid syntax\n"
     ]
    }
   ],
   "source": [
    "num = 1\n",
    "\n",
    "else:\n",
    "    print('Number is less than 1')"
   ]
  },
  {
   "cell_type": "code",
   "execution_count": 6,
   "id": "cc4fd2b6",
   "metadata": {},
   "outputs": [
    {
     "name": "stdout",
     "output_type": "stream",
     "text": [
      "Number less than 2\n"
     ]
    }
   ],
   "source": [
    "num = 2\n",
    "\n",
    "if num < 1:\n",
    "    print('Number less than 1')\n",
    "elif num <=2 :\n",
    "    print('Number less than 2')"
   ]
  },
  {
   "cell_type": "code",
   "execution_count": 7,
   "id": "86a02007",
   "metadata": {},
   "outputs": [
    {
     "name": "stdout",
     "output_type": "stream",
     "text": [
      "Number more than 1\n"
     ]
    }
   ],
   "source": [
    "num = 2\n",
    "\n",
    "if num <= 1:\n",
    "    print('Number less than 1')\n",
    "else:\n",
    "    print('Number more than 1')"
   ]
  },
  {
   "cell_type": "markdown",
   "id": "677e5967",
   "metadata": {},
   "source": [
    "### Loops"
   ]
  },
  {
   "cell_type": "code",
   "execution_count": null,
   "id": "4d72a4fe",
   "metadata": {},
   "outputs": [],
   "source": [
    "# We have two kinds of loops in Python. \n",
    "\n",
    "#1. The for loop. It is finite and loops over an iterable i.e. it goes over each element of the iterable and performs the\n",
    "# specified operations. Internally, whenever a for loop is initiated, an iterator function calls an iterator object that \n",
    "# holds a value from beginning of the length of the iterable till its end. After execution of the code specified in the for\n",
    "# loop, the iterator object calls the next() function for the next value. Once all the values are exhausted, the iterator \n",
    "# object ceases to exist. Next time a for loop is called, a new iterator object is created. \n",
    "\n",
    "# Iterator objects can only go forwards. This does not mean negative range object cannot be called. What it means is that\n",
    "# once next() is called and the next element of the iterator object is called, we cannot go back to the previous element \n",
    "# during that particular iteration.\n",
    "\n",
    "#2. While loop - It is infinte i.e. until a certain condition is met, it will keep running. Therefore, when using while \n",
    "# loops it is imperative that the stop condition is something sensible and likely to be met AND there is an update parameter\n",
    "# which when met can instruct the while loop to stop. \n",
    "\n",
    "# FAILURE TO ADHERE TO THE TWO ABOVE CONDITIONS FOR STOPPING A WHILE LOOP WILL RESULT IN AN INFINITE LOOP AND DEPENDING ON\n",
    "# THE PROCESSING BEING DONE INSIDE THE WHILE LOOP, MAY CAUSE YOUR MACHINE TO CRASH. "
   ]
  },
  {
   "cell_type": "code",
   "execution_count": 15,
   "id": "2d352774",
   "metadata": {},
   "outputs": [
    {
     "name": "stdout",
     "output_type": "stream",
     "text": [
      "Temp variable x 2 is 2.\n",
      "Temp variable x 5 is 5.\n",
      "Temp variable x 2 is 4.\n",
      "Temp variable x 5 is 10.\n",
      "Temp variable x 2 is 6.\n",
      "Temp variable x 5 is 15.\n",
      "Temp variable x 2 is 8.\n",
      "Temp variable x 5 is 20.\n",
      "Outside the for loop - 4.\n"
     ]
    }
   ],
   "source": [
    "#For loops - are used to iterate over an iterable. Since we are iterating over an object of finite length - there is a fixed\n",
    "# amount of loops that will be run (unless we keep adding to the iterable being iterated over in the code executed inside\n",
    "# the for loop - in which case, we will get thrown into an infinite loop as well. More on that in a bit). The syntax is:\n",
    "\n",
    "# for <temp_variable> in <iterable>:\n",
    "    #lines of code to be repeated. Usually (but not always) on the elements in the iterable.\n",
    "    #lines of code to be repeated.\n",
    "    #lines of code to be repeated.\n",
    "    \n",
    "\n",
    "# The temporary variable - temporarily and sequentially(one by one), stores the elements in the iterable. \n",
    "\n",
    "list1 = [1,2,3,4] #-----------> Iterable to be iterated over.\n",
    "\n",
    "for x in list1:                                   # Here x is the temporary variable and list1 is the iterable to be\n",
    "                                                  # iterated over\n",
    "    print(f'Temp variable x 2 is {x * 2}.')       # Lines of code to execute inside the for loop. Note the indentation\n",
    "    print(f'Temp variable x 5 is {x * 5}.')       # inside the for loop to indicate the code to be run repeatedly.\n",
    "\n",
    "print(f'Outside the for loop - {x}.')        # NOTE - how this print statement is outside the for loop and does not\n",
    "                                                  # repeat. "
   ]
  },
  {
   "cell_type": "code",
   "execution_count": 18,
   "id": "ed20a724",
   "metadata": {},
   "outputs": [
    {
     "name": "stdout",
     "output_type": "stream",
     "text": [
      "Temp variable x 2 is 2.\n",
      "Temp variable x 5 is 5.\n",
      "Temp variable x 2 is 4.\n",
      "Temp variable x 5 is 10.\n",
      "Temp variable x 2 is 6.\n",
      "Temp variable x 5 is 15.\n",
      "Temp variable x 2 is 8.\n",
      "Temp variable x 5 is 20.\n",
      "Outside the for loop - 40.\n",
      "What is the value of x now? 4.\n"
     ]
    }
   ],
   "source": [
    "list1 = [1,2,3,4] #-----------> Iterable\n",
    "\n",
    "x = 25\n",
    "\n",
    "for x in list1:                                # Here x is the temporary variable and list1 is the iterable to be\n",
    "                                               # iterated over\n",
    "    print(f'Temp variable x 2 is {x * 2}.')    # Lines of code to execute inside the for loop. Note the indentation\n",
    "    print(f'Temp variable x 5 is {x * 5}.')    # inside the for loop to indicate the code to be run repeatedly.\n",
    "\n",
    "    \n",
    "print(f'Outside the for loop - {x * 10}.')     # NOTE - how this print statement is outside the for loop and does not repeat.\n",
    "\n",
    "          \n",
    "print(f'What is the value of x now? {x}.')"
   ]
  },
  {
   "cell_type": "code",
   "execution_count": null,
   "id": "55a8d202",
   "metadata": {},
   "outputs": [],
   "source": [
    "#Observe how x has taken the last value of the temporary variable x used inside the for loop. Be careful while choosing\n",
    "# names for your temporary variables. Ensure no conflict with any global variables (or local variables if running a for\n",
    "# loop in a function. More on Global and Local variables in Functions) in your program."
   ]
  },
  {
   "cell_type": "code",
   "execution_count": 12,
   "id": "c3cd4cee",
   "metadata": {},
   "outputs": [
    {
     "name": "stdout",
     "output_type": "stream",
     "text": [
      "Temp variable x 2 is 2.\n",
      "Temp variable x 5 is 5.\n",
      "Temp variable x 2 is 4.\n",
      "Temp variable x 5 is 10.\n",
      "Temp variable x 2 is 6.\n",
      "Temp variable x 5 is 15.\n",
      "Temp variable x 2 is 8.\n",
      "Temp variable x 5 is 20.\n",
      "Outside the for loop - 40.\n",
      "Example Variable does not change 25.\n"
     ]
    }
   ],
   "source": [
    "list1 = [1,2,3,4] #-----------> Iterable\n",
    "\n",
    "example_var = 25\n",
    "\n",
    "for temp_var in list1:                                # Here x is the temporary variable and list1 is the iterable to be\n",
    "                                               # iterated over\n",
    "    print(f'Temp variable x 2 is {temp_var * 2}.')    # Lines of code to execute inside the for loop. Note the indentation\n",
    "    print(f'Temp variable x 5 is {temp_var * 5}.')    # inside the for loop to indicate the code to be run repeatedly.\n",
    "print(f'Outside the for loop - {temp_var * 10}.')     # NOTE - how this print statement is outside the for loop and does\n",
    "                                                      # not repeat.\n",
    "\n",
    "          \n",
    "print(f'Example Variable does not change {example_var}.')"
   ]
  },
  {
   "cell_type": "code",
   "execution_count": 19,
   "id": "e175b9b0",
   "metadata": {},
   "outputs": [
    {
     "name": "stdout",
     "output_type": "stream",
     "text": [
      "H\n",
      "e\n",
      "l\n",
      "l\n",
      "o\n"
     ]
    }
   ],
   "source": [
    "# Iterating over an iterable using the range function as a proxy for the index numbers. \n",
    "\n",
    "# We have seen while discussing the range and list datatypes, how a range object iterating from 0 to length of an iterable\n",
    "# can be used as a proxy of the index numbers of each element in an iterable. \n",
    "\n",
    "str1 = 'Hello'\n",
    "\n",
    "for temp in str1:\n",
    "    print(temp)\n"
   ]
  },
  {
   "cell_type": "code",
   "execution_count": 20,
   "id": "920e88cc",
   "metadata": {},
   "outputs": [
    {
     "name": "stdout",
     "output_type": "stream",
     "text": [
      "0\n",
      "1\n",
      "2\n",
      "3\n",
      "4\n"
     ]
    }
   ],
   "source": [
    "str1 = 'Hello'\n",
    "\n",
    "for temp in range(len(str1)):\n",
    "    print(temp)"
   ]
  },
  {
   "cell_type": "code",
   "execution_count": 21,
   "id": "ff719562",
   "metadata": {},
   "outputs": [
    {
     "name": "stdout",
     "output_type": "stream",
     "text": [
      "H\n",
      "e\n",
      "l\n",
      "l\n",
      "o\n"
     ]
    }
   ],
   "source": [
    "#Note how - when using the range object as a proxy for the index numbers - the <temp> variable is holding the elements of \n",
    "# str1 in the first example and NUMBERS in the second example. We can easily see that the numbers being held in the second\n",
    "# case are the numbers 0 through 4 - which corresponds exactly to the index numbers of the elements in 'Hello'\n",
    "\n",
    "# H e l l o ------> Elements of str1\n",
    "# 0 1 2 3 4 ------> Index numbers of the elements of str1\n",
    "\n",
    "str1 = 'Hello'\n",
    "\n",
    "for temp in range(len(str1)):\n",
    "    print(str1[temp])\n",
    "    \n",
    "# Along with item indexing which works with most derived datatypes in Python (except Sets) - we can access the elements\n",
    "# of the original iterable or even of another iterable. "
   ]
  },
  {
   "cell_type": "code",
   "execution_count": 22,
   "id": "ac5bbcd5",
   "metadata": {},
   "outputs": [
    {
     "name": "stdout",
     "output_type": "stream",
     "text": [
      "h-H\n",
      "e-E\n",
      "l-L\n",
      "l-L\n",
      "o-O\n"
     ]
    }
   ],
   "source": [
    "str1 = 'hello'\n",
    "str2 = 'HELLO'\n",
    "\n",
    "for temp in range(len(str1)):\n",
    "    print(str1[temp]+\"-\"+str2[temp])"
   ]
  },
  {
   "cell_type": "code",
   "execution_count": 23,
   "id": "167d06ad",
   "metadata": {},
   "outputs": [
    {
     "name": "stdout",
     "output_type": "stream",
     "text": [
      "h-H\n",
      "e-E\n",
      "l-L\n",
      "l-L\n",
      "o-O\n"
     ]
    }
   ],
   "source": [
    "str1 = 'hello'\n",
    "str2 = 'HELLO MR. CHAPLIN'\n",
    "\n",
    "for temp in range(len(str1)):\n",
    "    print(str1[temp]+\"-\"+str2[temp])"
   ]
  },
  {
   "cell_type": "code",
   "execution_count": 24,
   "id": "faa93550",
   "metadata": {},
   "outputs": [
    {
     "name": "stdout",
     "output_type": "stream",
     "text": [
      "h-H\n",
      "e-E\n",
      "l-L\n",
      "l-L\n",
      "o-O\n"
     ]
    },
    {
     "ename": "IndexError",
     "evalue": "string index out of range",
     "output_type": "error",
     "traceback": [
      "\u001b[1;31m---------------------------------------------------------------------------\u001b[0m",
      "\u001b[1;31mIndexError\u001b[0m                                Traceback (most recent call last)",
      "\u001b[1;32m<ipython-input-24-4d4fa41b930e>\u001b[0m in \u001b[0;36m<module>\u001b[1;34m\u001b[0m\n\u001b[0;32m      6\u001b[0m \u001b[1;33m\u001b[0m\u001b[0m\n\u001b[0;32m      7\u001b[0m \u001b[1;32mfor\u001b[0m \u001b[0mtemp\u001b[0m \u001b[1;32min\u001b[0m \u001b[0mrange\u001b[0m\u001b[1;33m(\u001b[0m\u001b[0mlen\u001b[0m\u001b[1;33m(\u001b[0m\u001b[0mstr2\u001b[0m\u001b[1;33m)\u001b[0m\u001b[1;33m)\u001b[0m\u001b[1;33m:\u001b[0m\u001b[1;33m\u001b[0m\u001b[1;33m\u001b[0m\u001b[0m\n\u001b[1;32m----> 8\u001b[1;33m     \u001b[0mprint\u001b[0m\u001b[1;33m(\u001b[0m\u001b[0mstr1\u001b[0m\u001b[1;33m[\u001b[0m\u001b[0mtemp\u001b[0m\u001b[1;33m]\u001b[0m\u001b[1;33m+\u001b[0m\u001b[1;34m\"-\"\u001b[0m\u001b[1;33m+\u001b[0m\u001b[0mstr2\u001b[0m\u001b[1;33m[\u001b[0m\u001b[0mtemp\u001b[0m\u001b[1;33m]\u001b[0m\u001b[1;33m)\u001b[0m\u001b[1;33m\u001b[0m\u001b[1;33m\u001b[0m\u001b[0m\n\u001b[0m",
      "\u001b[1;31mIndexError\u001b[0m: string index out of range"
     ]
    }
   ],
   "source": [
    "#Note above - since we have only specified that the loop should run till the length of str1 - which is till index 4, rest\n",
    "# of the str2 i.e. \" MR. CHAPLIN\" does not get accessed. \n",
    "\n",
    "str1 = 'hello'\n",
    "str2 = 'HELLO MR. CHAPLIN'\n",
    "\n",
    "for temp in range(len(str2)):\n",
    "    print(str1[temp]+\"-\"+str2[temp])"
   ]
  },
  {
   "cell_type": "code",
   "execution_count": null,
   "id": "c78dcd39",
   "metadata": {},
   "outputs": [],
   "source": [
    "# Note how we are thrown an IndexError. In the second example above - we changed the for loop to run through till the length\n",
    "# of the str2 variable - which is longer than str1. So, when reaching number 5 in the for loop and trying to access the \n",
    "# element at index 5 for str1 - it finds that the Index is 'out of range'. When receiving such an error in your programs\n",
    "# take a long hard look at the length of the variables you are calling the range function on. "
   ]
  },
  {
   "cell_type": "code",
   "execution_count": 25,
   "id": "9be992b7",
   "metadata": {},
   "outputs": [
    {
     "name": "stdout",
     "output_type": "stream",
     "text": [
      "\n",
      "*\n",
      "**\n",
      "***\n",
      "****\n",
      "*****\n",
      "******\n",
      "*******\n",
      "********\n",
      "*********\n",
      "**********\n",
      "***********\n",
      "************\n",
      "*************\n",
      "**************\n",
      "***************\n",
      "****************\n",
      "*****************\n",
      "******************\n",
      "*******************\n"
     ]
    }
   ],
   "source": [
    "for x in range(20):\n",
    "    print('*'*x)"
   ]
  },
  {
   "cell_type": "code",
   "execution_count": 26,
   "id": "f5766b69",
   "metadata": {},
   "outputs": [
    {
     "name": "stdout",
     "output_type": "stream",
     "text": [
      "                    \n",
      "         *          \n",
      "         **         \n",
      "        ***         \n",
      "        ****        \n",
      "       *****        \n",
      "       ******       \n",
      "      *******       \n",
      "      ********      \n",
      "     *********      \n",
      "     **********     \n",
      "    ***********     \n",
      "    ************    \n",
      "   *************    \n",
      "   **************   \n",
      "  ***************   \n",
      "  ****************  \n",
      " *****************  \n",
      " ****************** \n",
      "******************* \n"
     ]
    }
   ],
   "source": [
    "y = 20\n",
    "for x in range(y):\n",
    "    print(('*'*x).center(y))\n",
    "    "
   ]
  },
  {
   "cell_type": "code",
   "execution_count": null,
   "id": "a379db77",
   "metadata": {},
   "outputs": [],
   "source": [
    "# Nested loops. We can write loops inside loops - called nested loops. \n",
    "\n",
    "# We can write:\n",
    "# for loops inside for loops, \n",
    "# while loops inside while loops\n",
    "# for loops in while loops and \n",
    "# while loops inside for loops\n",
    "\n",
    "# (be very careful using while loops inside for loops. They can be tricky to ensure your update counter does reach a \n",
    "# satisfying condition to have your while loop not get thrown for an infinite loop).\n",
    "\n",
    "# For now, we shall discuss for loops in for loops. "
   ]
  },
  {
   "cell_type": "code",
   "execution_count": 27,
   "id": "9dddec20",
   "metadata": {},
   "outputs": [
    {
     "name": "stdout",
     "output_type": "stream",
     "text": [
      "Outer Loop Value : 0 \t Inner Loop Value : 0.\n",
      "Outer Loop Value : 0 \t Inner Loop Value : 1.\n",
      "Outer Loop Value : 0 \t Inner Loop Value : 2.\n",
      "====================================================================================================\n",
      "Inner loop reset to 0. Outer loop count increased by 1.\n",
      "====================================================================================================\n",
      "Outer Loop Value : 1 \t Inner Loop Value : 0.\n",
      "Outer Loop Value : 1 \t Inner Loop Value : 1.\n",
      "Outer Loop Value : 1 \t Inner Loop Value : 2.\n",
      "====================================================================================================\n",
      "Inner loop reset to 0. Outer loop count increased by 1.\n",
      "====================================================================================================\n",
      "Outer Loop Value : 2 \t Inner Loop Value : 0.\n",
      "Outer Loop Value : 2 \t Inner Loop Value : 1.\n",
      "Outer Loop Value : 2 \t Inner Loop Value : 2.\n",
      "====================================================================================================\n",
      "Inner loop reset to 0. Outer loop count increased by 1.\n",
      "====================================================================================================\n"
     ]
    }
   ],
   "source": [
    "for outer_l in range(3):\n",
    "    for inner_l in range(3):\n",
    "        print(f'Outer Loop Value : {outer_l} \\t Inner Loop Value : {inner_l}.')\n",
    "#     print('='*100)\n",
    "#     print('Inner loop reset to 0. Outer loop count increased by 1.')\n",
    "#     print('='*100)"
   ]
  },
  {
   "cell_type": "code",
   "execution_count": 28,
   "id": "8d28dc24",
   "metadata": {},
   "outputs": [
    {
     "name": "stdout",
     "output_type": "stream",
     "text": [
      "0\n",
      "0\n",
      "0\n",
      "0\n",
      "1\n",
      "2\n",
      "0\n",
      "2\n",
      "4\n",
      "0\n",
      "3\n",
      "6\n",
      "0\n",
      "4\n",
      "8\n"
     ]
    }
   ],
   "source": [
    "for temp1 in range(5):\n",
    "    for temp2 in range(3):\n",
    "        print(temp1 * temp2)"
   ]
  },
  {
   "cell_type": "code",
   "execution_count": 29,
   "id": "5cffbabd",
   "metadata": {},
   "outputs": [
    {
     "name": "stdout",
     "output_type": "stream",
     "text": [
      "Outer loop on number 0.\n",
      "Inner loop on number 0.\n",
      "---------->  0 x 0 is: 0  <----------\n",
      "Total iterations Count 1.\n",
      "----------------------------------------------------------------------------------------------------\n",
      "Outer loop on number 0.\n",
      "Inner loop on number 1.\n",
      "---------->  0 x 1 is: 0  <----------\n",
      "Total iterations Count 2.\n",
      "----------------------------------------------------------------------------------------------------\n",
      "Outer loop on number 0.\n",
      "Inner loop on number 2.\n",
      "---------->  0 x 2 is: 0  <----------\n",
      "Total iterations Count 3.\n",
      "----------------------------------------------------------------------------------------------------\n",
      "====================================================================================================\n",
      "Inner loop count reset to 0. Outer loop count increased by 1\n",
      "====================================================================================================\n",
      "Outer loop on number 1.\n",
      "Inner loop on number 0.\n",
      "---------->  1 x 0 is: 0  <----------\n",
      "Total iterations Count 4.\n",
      "----------------------------------------------------------------------------------------------------\n",
      "Outer loop on number 1.\n",
      "Inner loop on number 1.\n",
      "---------->  1 x 1 is: 1  <----------\n",
      "Total iterations Count 5.\n",
      "----------------------------------------------------------------------------------------------------\n",
      "Outer loop on number 1.\n",
      "Inner loop on number 2.\n",
      "---------->  1 x 2 is: 2  <----------\n",
      "Total iterations Count 6.\n",
      "----------------------------------------------------------------------------------------------------\n",
      "====================================================================================================\n",
      "Inner loop count reset to 0. Outer loop count increased by 1\n",
      "====================================================================================================\n",
      "Outer loop on number 2.\n",
      "Inner loop on number 0.\n",
      "---------->  2 x 0 is: 0  <----------\n",
      "Total iterations Count 7.\n",
      "----------------------------------------------------------------------------------------------------\n",
      "Outer loop on number 2.\n",
      "Inner loop on number 1.\n",
      "---------->  2 x 1 is: 2  <----------\n",
      "Total iterations Count 8.\n",
      "----------------------------------------------------------------------------------------------------\n",
      "Outer loop on number 2.\n",
      "Inner loop on number 2.\n",
      "---------->  2 x 2 is: 4  <----------\n",
      "Total iterations Count 9.\n",
      "----------------------------------------------------------------------------------------------------\n",
      "====================================================================================================\n",
      "Inner loop count reset to 0. Outer loop count increased by 1\n",
      "====================================================================================================\n",
      "Outer loop on number 3.\n",
      "Inner loop on number 0.\n",
      "---------->  3 x 0 is: 0  <----------\n",
      "Total iterations Count 10.\n",
      "----------------------------------------------------------------------------------------------------\n",
      "Outer loop on number 3.\n",
      "Inner loop on number 1.\n",
      "---------->  3 x 1 is: 3  <----------\n",
      "Total iterations Count 11.\n",
      "----------------------------------------------------------------------------------------------------\n",
      "Outer loop on number 3.\n",
      "Inner loop on number 2.\n",
      "---------->  3 x 2 is: 6  <----------\n",
      "Total iterations Count 12.\n",
      "----------------------------------------------------------------------------------------------------\n",
      "====================================================================================================\n",
      "Inner loop count reset to 0. Outer loop count increased by 1\n",
      "====================================================================================================\n",
      "Outer loop on number 4.\n",
      "Inner loop on number 0.\n",
      "---------->  4 x 0 is: 0  <----------\n",
      "Total iterations Count 13.\n",
      "----------------------------------------------------------------------------------------------------\n",
      "Outer loop on number 4.\n",
      "Inner loop on number 1.\n",
      "---------->  4 x 1 is: 4  <----------\n",
      "Total iterations Count 14.\n",
      "----------------------------------------------------------------------------------------------------\n",
      "Outer loop on number 4.\n",
      "Inner loop on number 2.\n",
      "---------->  4 x 2 is: 8  <----------\n",
      "Total iterations Count 15.\n",
      "----------------------------------------------------------------------------------------------------\n",
      "====================================================================================================\n",
      "Inner loop count reset to 0. Outer loop count increased by 1\n",
      "====================================================================================================\n"
     ]
    }
   ],
   "source": [
    "outer_loop_count = 0\n",
    "inner_loop_count = 0\n",
    "total_count = 1\n",
    "\n",
    "for temp1 in range(5): # ------> The for loop will iterate 5 times - from 0 to 4 with temp1 holding values 0 to 4 sequentially.\n",
    "    inner_loop_count = 0\n",
    "    \n",
    "    for temp2 in range(3): #---> The for loop will iterate 3 times - from 0 to 3 with temp2 holding values 0 to 2 sequentially.\n",
    "        print(f'Outer loop on number {outer_loop_count}.')\n",
    "        print(f'Inner loop on number {inner_loop_count}.')\n",
    "        x = '-'*10 + '>'\n",
    "        y = '<'+'-'*10\n",
    "        print(f'{x}  {temp1} x {temp2} is: {temp1 * temp2}  {y}')\n",
    "        print(f'Total iterations Count {total_count}.')\n",
    "        print('-'*100)\n",
    "        inner_loop_count += 1\n",
    "        total_count += 1\n",
    "    print('='*100)\n",
    "    print(f'Inner loop count reset to 0. Outer loop count increased by 1')\n",
    "    print('='*100)\n",
    "    outer_loop_count += 1"
   ]
  },
  {
   "cell_type": "code",
   "execution_count": 30,
   "id": "37ef5b55",
   "metadata": {},
   "outputs": [
    {
     "name": "stdout",
     "output_type": "stream",
     "text": [
      "\n",
      "*\n",
      "**\n",
      "***\n",
      "****\n",
      "\n",
      "$\n",
      "$$\n",
      "$$$\n",
      "$$$$\n",
      "\n",
      "#\n",
      "##\n",
      "###\n",
      "####\n",
      "\n",
      "!\n",
      "!!\n",
      "!!!\n",
      "!!!!\n"
     ]
    }
   ],
   "source": [
    "str1 = '*$#!'\n",
    "\n",
    "for x in str1:\n",
    "    for y in range(5):\n",
    "        print(x*y)"
   ]
  },
  {
   "cell_type": "code",
   "execution_count": 31,
   "id": "d99ef1d8",
   "metadata": {},
   "outputs": [
    {
     "name": "stdout",
     "output_type": "stream",
     "text": [
      "\n",
      "\n",
      "\n"
     ]
    }
   ],
   "source": [
    "print()\n",
    "print()\n",
    "print()"
   ]
  },
  {
   "cell_type": "code",
   "execution_count": 32,
   "id": "b80b2152",
   "metadata": {},
   "outputs": [
    {
     "name": "stdout",
     "output_type": "stream",
     "text": [
      "*\n",
      "**\n",
      "***\n",
      "****\n",
      "*****\n",
      "******\n",
      "*******\n",
      "********\n",
      "*********\n",
      "**********\n",
      "***********\n",
      "************\n",
      "*************\n",
      "**************\n",
      "***************\n",
      "****************\n",
      "*****************\n",
      "******************\n",
      "*******************\n"
     ]
    }
   ],
   "source": [
    "#Another way to write our cascading stars program shown previously is with a nested for loop. \n",
    "\n",
    "y = 20\n",
    "for i in range(1,20):\n",
    "    for j in range(1,i+1):\n",
    "        print('*',end='')\n",
    "    print()\n",
    "\n",
    "# In the above program - line 6 - end=\"\" in the print statement tells the program not to end with \\n which is the default\n",
    "# print parameter but to instead end with nothing ''. Dont send the program to the next line.\n",
    "\n",
    "#However, in line 7 - after having printed the requisite number of stars - we wish the program to print nothin AND move\n",
    "# to the next line. (since '\\n' is anyway the default end parameter - it will just move to the next line)."
   ]
  },
  {
   "cell_type": "code",
   "execution_count": 33,
   "id": "5641c2dc",
   "metadata": {},
   "outputs": [
    {
     "name": "stdout",
     "output_type": "stream",
     "text": [
      "*|\n",
      "*|*|\n",
      "*|*|*|\n",
      "*|*|*|*|\n",
      "*|*|*|*|*|\n",
      "*|*|*|*|*|*|\n",
      "*|*|*|*|*|*|*|\n",
      "*|*|*|*|*|*|*|*|\n",
      "*|*|*|*|*|*|*|*|*|\n",
      "*|*|*|*|*|*|*|*|*|*|\n",
      "*|*|*|*|*|*|*|*|*|*|*|\n",
      "*|*|*|*|*|*|*|*|*|*|*|*|\n",
      "*|*|*|*|*|*|*|*|*|*|*|*|*|\n",
      "*|*|*|*|*|*|*|*|*|*|*|*|*|*|\n",
      "*|*|*|*|*|*|*|*|*|*|*|*|*|*|*|\n",
      "*|*|*|*|*|*|*|*|*|*|*|*|*|*|*|*|\n",
      "*|*|*|*|*|*|*|*|*|*|*|*|*|*|*|*|*|\n",
      "*|*|*|*|*|*|*|*|*|*|*|*|*|*|*|*|*|*|\n",
      "*|*|*|*|*|*|*|*|*|*|*|*|*|*|*|*|*|*|*|\n"
     ]
    }
   ],
   "source": [
    "y = 20\n",
    "for i in range(1,y):\n",
    "    for j in range(1,i+1):\n",
    "        print('*',end='|')\n",
    "    print(end='\\n')\n",
    "\n",
    "# Above - the program will print a '|' after each star and not go to the next line. print() in previous program is the same\n",
    "# as print(end='\\n') in line 5. \n"
   ]
  },
  {
   "cell_type": "markdown",
   "id": "f5e50246",
   "metadata": {},
   "source": [
    "# While loops"
   ]
  },
  {
   "cell_type": "code",
   "execution_count": null,
   "id": "9bc7baf8",
   "metadata": {},
   "outputs": [],
   "source": [
    "# While loops are useful when we want to run a loop till a certain condition is met. As explained previously, when running\n",
    "# a while loop, it is imperative to give a condition to be met AND to provide an update parameter (there is no compunction\n",
    "# that the update parameter should be inside the while loop - as long as there IS a condition that is updating and gives\n",
    "# indication to the While loop to stop. Usually though the update condition is in the While loop). "
   ]
  },
  {
   "cell_type": "code",
   "execution_count": 34,
   "id": "e819df31",
   "metadata": {},
   "outputs": [
    {
     "name": "stdout",
     "output_type": "stream",
     "text": [
      "Hi there!\n",
      "Hi there!\n",
      "Hi there!\n",
      "Hi there!\n",
      "Hi there!\n"
     ]
    }
   ],
   "source": [
    "count = 0\n",
    "\n",
    "while count < 5:\n",
    "    print('Hi there!')\n",
    "    count += 1"
   ]
  },
  {
   "cell_type": "code",
   "execution_count": 35,
   "id": "a04e03ee",
   "metadata": {},
   "outputs": [
    {
     "name": "stdout",
     "output_type": "stream",
     "text": [
      "*\n",
      "**\n",
      "***\n",
      "****\n",
      "*****\n",
      "******\n",
      "*******\n",
      "********\n",
      "*********\n",
      "**********\n",
      "***********\n",
      "************\n",
      "*************\n",
      "**************\n",
      "***************\n",
      "****************\n",
      "*****************\n",
      "******************\n",
      "*******************\n",
      "********************\n"
     ]
    }
   ],
   "source": [
    "str1 = ''\n",
    "\n",
    "while len(str1) < 20:\n",
    "    str1 += '*'\n",
    "    print(str1)"
   ]
  },
  {
   "cell_type": "code",
   "execution_count": 36,
   "id": "a4c0ef60",
   "metadata": {},
   "outputs": [
    {
     "name": "stdout",
     "output_type": "stream",
     "text": [
      "['Betty', 'bought', 'some', 'butter', 'but', 'the', 'butter', 'was', 'bitter', 'so', 'Betty', 'bought', 'some', 'better', 'butter', 'to', 'make', 'the', 'bitter', 'butter', 'better.']\n"
     ]
    }
   ],
   "source": [
    "str1 = 'Betty bought some butter but the butter was bitter so Betty bought some better butter to make the bitter butter better.'\n",
    "lst1 = str1.split()\n",
    "\n",
    "print(lst1)"
   ]
  },
  {
   "cell_type": "code",
   "execution_count": 37,
   "id": "9ee2eb51",
   "metadata": {},
   "outputs": [
    {
     "name": "stdout",
     "output_type": "stream",
     "text": [
      "better.\n",
      "butter\n",
      "bitter\n",
      "the\n",
      "make\n",
      "to\n",
      "butter\n",
      "better\n",
      "some\n",
      "bought\n",
      "Betty\n",
      "so\n",
      "bitter\n",
      "was\n",
      "['Betty', 'bought', 'some', 'butter', 'but', 'the', 'butter']\n"
     ]
    }
   ],
   "source": [
    "while 'was' in lst1:\n",
    "    print(lst1.pop())\n",
    "print(lst1)"
   ]
  },
  {
   "cell_type": "code",
   "execution_count": null,
   "id": "ceedd292",
   "metadata": {},
   "outputs": [],
   "source": [
    "# Note how we have not specifically updated a parameter inside the while loop, but there IS a condition to be met which is\n",
    "# going to be met due to the execution of our program."
   ]
  },
  {
   "cell_type": "code",
   "execution_count": 39,
   "id": "21c94a2d",
   "metadata": {},
   "outputs": [
    {
     "name": "stdout",
     "output_type": "stream",
     "text": [
      "Stop me if you can!\n",
      "Stop me if you can!\n",
      "Stop me if you can!\n",
      "Stop me if you can!\n",
      "Stop me if you can!\n"
     ]
    }
   ],
   "source": [
    "count = 0\n",
    "\n",
    "while count < 5:\n",
    "    print('Stop me if you can!')\n",
    "    count += 1"
   ]
  },
  {
   "cell_type": "code",
   "execution_count": null,
   "id": "c396352f",
   "metadata": {},
   "outputs": [],
   "source": [
    "# Note the hazardous effects of using the while loop where condition parameter is not updated. "
   ]
  },
  {
   "cell_type": "code",
   "execution_count": 40,
   "id": "3f44da23",
   "metadata": {},
   "outputs": [
    {
     "name": "stdout",
     "output_type": "stream",
     "text": [
      "[0, 1, 1, 2, 3, 5, 8, 13, 21, 34, 55, 89]\n"
     ]
    }
   ],
   "source": [
    "fibo = [0,1]\n",
    "\n",
    "while fibo[-2]+fibo[-1] < 100:\n",
    "    fibo.append(fibo[-1]+fibo[-2])\n",
    "print(fibo)"
   ]
  },
  {
   "cell_type": "code",
   "execution_count": 43,
   "id": "6673623f",
   "metadata": {},
   "outputs": [
    {
     "name": "stdout",
     "output_type": "stream",
     "text": [
      "35\n",
      "Python Python Python Python Python \n",
      "30\n",
      "is is is is is is is is is is \n",
      "30\n",
      "easy easy easy easy easy easy \n",
      "30\n",
      "peasy peasy peasy peasy peasy \n"
     ]
    }
   ],
   "source": [
    "lst1 = ['Python', 'is', 'easy', 'peasy']\n",
    "\n",
    "for i in lst1:\n",
    "    x = ''\n",
    "    while len(x) <30:\n",
    "        x += i + ' '\n",
    "    print(len(x))\n",
    "    print(x)\n",
    "    \n",
    "#Note the use of while loop nested in for loop. "
   ]
  },
  {
   "cell_type": "code",
   "execution_count": 44,
   "id": "ecc9803d",
   "metadata": {},
   "outputs": [
    {
     "name": "stdout",
     "output_type": "stream",
     "text": [
      "Python is easy peasy Python is easy peasy Python is easy peasy Python is easy peasy Python is easy peasy Python is easy peasy \n"
     ]
    }
   ],
   "source": [
    "x = ''\n",
    "while len(x) < 120:\n",
    "    for i in lst1:\n",
    "        x += i + ' '\n",
    "\n",
    "print(x)"
   ]
  },
  {
   "cell_type": "code",
   "execution_count": null,
   "id": "5bc201de",
   "metadata": {},
   "outputs": [],
   "source": [
    "#Note the use of for loop nested in a while loop. "
   ]
  },
  {
   "cell_type": "markdown",
   "id": "d11adfb6",
   "metadata": {},
   "source": [
    "### Break, Continue and Pass statements. "
   ]
  },
  {
   "cell_type": "code",
   "execution_count": null,
   "id": "7ff11729",
   "metadata": {},
   "outputs": [],
   "source": [
    "# The break statement is used in a loop (for or while) to come out of the loop i.e. to break the loop and not continue with\n",
    "# the next iteration. "
   ]
  },
  {
   "cell_type": "code",
   "execution_count": null,
   "id": "a72c481c",
   "metadata": {},
   "outputs": [],
   "source": [
    "legends_NBA = ('Kobe Bryant', 'Michael Jordan', 'LeBron James', 'Kareem Abdul-Jabbar', 'Jerry West', 'Elgin Baylor',\n",
    "               'Earvin \"Magic\" Johnson', 'Larry Bird') \n",
    "               \n",
    "legends_ages = (1978, 1963, 1984, 1947, 1938, 1934,1959, 1956)\n",
    "\n",
    "dict1 = dict(zip(legends_NBA, legends_ages))\n",
    "\n",
    "print(dict1)"
   ]
  },
  {
   "cell_type": "code",
   "execution_count": null,
   "id": "e24c941f",
   "metadata": {},
   "outputs": [],
   "source": [
    "for x in dict1:\n",
    "    print(f'{x} was born in {dict1[x]}.')\n",
    "    if dict1[x] == min(dict1.values()):\n",
    "        print(f'{x} is the oldest of the NBA Legends')\n",
    "        break"
   ]
  },
  {
   "cell_type": "code",
   "execution_count": null,
   "id": "c1e4aaa1",
   "metadata": {},
   "outputs": [],
   "source": [
    "#Note above how the loop did not continue after the break statement. "
   ]
  },
  {
   "cell_type": "code",
   "execution_count": null,
   "id": "d87ed49a",
   "metadata": {},
   "outputs": [],
   "source": [
    "#Continue statement is used in loops to tell the program to go to the next iteration immediately and ignore the rest of \n",
    "# the execution following the continue statement.\n",
    "\n",
    "for x in dict1:\n",
    "    print(f'{x} was born in {dict1[x]}.')\n",
    "    if dict1[x] == min(dict1.values()):\n",
    "        y = x\n",
    "        continue\n",
    "        \n",
    "print((f'{y} is the oldest of the NBA Legends'))"
   ]
  },
  {
   "cell_type": "code",
   "execution_count": null,
   "id": "991941fc",
   "metadata": {},
   "outputs": [],
   "source": [
    "for x in dict1:\n",
    "    if dict1[x] == min(dict1.values()):\n",
    "        z = '-'*10 + '>'\n",
    "        print(f'{z}{x} is the oldest of the NBA Legends and was born in {dict1[x]}')\n",
    "        continue\n",
    "    print(f'{x} was born in {dict1[x]}.')"
   ]
  },
  {
   "cell_type": "code",
   "execution_count": null,
   "id": "cf9cfa50",
   "metadata": {},
   "outputs": [],
   "source": [
    "#Note how in the 2nd example, the print statement in line 5 was not executed for 'Elgin Baylor' since the continue\n",
    "# statement was before the print statement in line 5. So, as soon as the if condition was satisfied, we asked the program\n",
    "# to not run the rest of the code and to go to the next iteration immediately."
   ]
  },
  {
   "cell_type": "code",
   "execution_count": null,
   "id": "96abcc21",
   "metadata": {},
   "outputs": [],
   "source": [
    "# The pass statement - is used in Python when we need a statement syntactically but do not want any execution to be done. \n",
    "# The most likely use for it is as a place holder - for some code to be added later. \n"
   ]
  },
  {
   "cell_type": "code",
   "execution_count": null,
   "id": "8aef8599",
   "metadata": {},
   "outputs": [],
   "source": [
    "for x in dict1:\n",
    "    if dict1[x] == min(dict1.values()):\n",
    "        y = x\n",
    "        pass\n",
    "    print(f'{x} was born in {dict1[x]}.')\n",
    "\n",
    "print(f'{y} is the oldest of the NBA Legends and was born in {dict1[y]}')"
   ]
  },
  {
   "cell_type": "code",
   "execution_count": null,
   "id": "8a65ed4a",
   "metadata": {},
   "outputs": [],
   "source": [
    "# Note how after setting y = x, the pass statement allowed the program to continue as if nothing happened. For e.g. \n",
    "# we could not think of the lines to print (or maybe were waiting for the exact wording from our client) - we put a pass \n",
    "# statement there for adding on code later and continue with our program and testing for the time being. Maybe there is a\n",
    "# file that needs to be incorporated in this step but we do not have the file name yet. Or many other examples in real life\n",
    "# where the pass statement could come in handy."
   ]
  },
  {
   "cell_type": "markdown",
   "id": "acac8d44",
   "metadata": {},
   "source": [
    "### The else suite with loops"
   ]
  },
  {
   "cell_type": "code",
   "execution_count": null,
   "id": "ea54632c",
   "metadata": {},
   "outputs": [],
   "source": [
    "# The else suite. In Python the else condition can be used with for or while loop. This is called an else suite. \n",
    "# It instructs python to run the block of code in the else suite after running the for loop - unless the loop is broken \n",
    "# with the break statement. \n",
    "\n",
    "# If you recall, we could not run the else statement in an if-else conditional statement without the if statement. \n",
    "\n",
    "# Here the else keyword is used with the loop and not as part of an if-elif-else conditional statement."
   ]
  },
  {
   "cell_type": "code",
   "execution_count": null,
   "id": "91792eda",
   "metadata": {},
   "outputs": [],
   "source": [
    "legends_NBA = ('Kobe Bryant', 'Michael Jordan', 'LeBron James', 'Kareem Abdul-Jabbar', 'Jerry West', 'Elgin Baylor',\n",
    "               'Earvin \"Magic\" Johnson', 'Larry Bird') \n",
    "               \n",
    "legends_ages = (1978, 1963, 1984, 1947, 1938, 1934,1959, 1956)\n",
    "\n",
    "dict1 = dict(zip(legends_NBA, legends_ages))\n",
    "\n",
    "print(dict1)"
   ]
  },
  {
   "cell_type": "code",
   "execution_count": null,
   "id": "75d8fec5",
   "metadata": {},
   "outputs": [],
   "source": [
    "y = 1935\n",
    "\n",
    "for x in dict1:\n",
    "    print(f'{x} was born in {dict1[x]}.')\n",
    "    if dict1[x] == y:\n",
    "        print(f'{x} was an NBA player and born in 1934.')\n",
    "        break\n",
    "else:\n",
    "    print(f'There is no NBA Legend born in {y}.')\n"
   ]
  },
  {
   "cell_type": "code",
   "execution_count": null,
   "id": "cd090f39",
   "metadata": {},
   "outputs": [],
   "source": [
    "curr = ['Indian Rupee', 'US Dollar', 'Euro', 'Canadian Dollar', 'British Pound','Singapore Dollar', 'Zimbabwe Dollar',  \n",
    "        'Mexican Peso']\n",
    "\n",
    "invalid_curr = 'Pakistani Rupiah'\n",
    "idx = 0\n",
    "\n",
    "while idx < len(curr):\n",
    "    print(curr[idx])\n",
    "    if curr[idx] == invalid_curr:\n",
    "        print(f'{curr[idx]}?? That is not currency. Thats tissue paper!')\n",
    "        break\n",
    "    idx += 1\n",
    "else:\n",
    "    print(f'All valid currencies. Want to send some to my bank account?')\n",
    "        \n"
   ]
  },
  {
   "cell_type": "code",
   "execution_count": null,
   "id": "14cea4d1",
   "metadata": {},
   "outputs": [],
   "source": []
  }
 ],
 "metadata": {
  "kernelspec": {
   "display_name": "Python 3 (ipykernel)",
   "language": "python",
   "name": "python3"
  },
  "language_info": {
   "codemirror_mode": {
    "name": "ipython",
    "version": 3
   },
   "file_extension": ".py",
   "mimetype": "text/x-python",
   "name": "python",
   "nbconvert_exporter": "python",
   "pygments_lexer": "ipython3",
   "version": "3.9.12"
  }
 },
 "nbformat": 4,
 "nbformat_minor": 5
}
